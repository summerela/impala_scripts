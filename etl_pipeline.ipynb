{
 "worksheets": [
  {
   "cells": [
    {
     "cell_type": "heading",
     "metadata": {},
     "level": 1,
     "source": [
      "Connecting to Impala with Ibis"
     ]
    },
    {
     "cell_type": "heading",
     "metadata": {},
     "level": 2,
     "source": [
      "Creating a connection"
     ]
    },
    {
     "cell_type": "code",
     "execution_count": null,
     "metadata": {},
     "outputs": [],
     "input": [
      "import os\n",
      "import ibis\n",
      "\n",
      "\n",
      "hdfs_port = os.environ.get('glados20', 50070)\n",
      "hdfs = ibis.hdfs_connect(host='glados20', port=hdfs_port)\n",
      "con = ibis.impala.connect(host='glados19', port=21050, timeout=120,hdfs_client=hdfs)\n",
      "\n",
      "# enable interactive mode\n",
      "ibis.options.interactive = True"
     ],
     "language": "python",
     "prompt_number": 1
    },
    {
     "cell_type": "heading",
     "metadata": {},
     "level": 2,
     "source": [
      "Working with tables"
     ]
    },
    {
     "cell_type": "code",
     "execution_count": null,
     "metadata": {},
     "outputs": [
      {
       "output_type": "stream",
       "stream": "stdout",
       "text": [
        "  chrom     pos        rs_id ref alt  qual filter     rs_pos     rv    vp  \\\n0     1  883516  rs267598747   G   A  None   None  267598747  False  None   \n1     1  891344  rs267598748   G   A  None   None  267598748  False  None   \n2     1  906168  rs267598759   G   A  None   None  267598759  False  None   \n3     1  949696  rs672601345   C  CG  None   None  672601345  False  None   \n4     1  949739  rs672601312   G   T  None   None  672601312  False  None   \n\n        ...       clin_allele              clin_src  clin_origin  clin_src_id  \\\n0       ...                 1                     .            2            .   \n1       ...                 1                     .            2            .   \n2       ...                 1                     .            2            .   \n3       ...                 1  OMIM_Allelic_Variant            1  147571.0002   \n4       ...                 1  OMIM_Allelic_Variant            1  147571.0001   \n\n   clin_sig         clin_dsdb      clin_dsdb_id             clin_dbn  \\\n0       255  MedGen:SNOMED_CT  C0025202:2092003   Malignant_melanoma   \n1       255  MedGen:SNOMED_CT  C0025202:2092003   Malignant_melanoma   \n2       255  MedGen:SNOMED_CT  C0025202:2092003   Malignant_melanoma   \n3         5       MedGen:OMIM   CN221808:616126  Immunodeficiency_38   \n4         5       MedGen:OMIM   CN221808:616126  Immunodeficiency_38   \n\n  clin_revstat        clin_acc  \n0          not  RCV000064926.2  \n1          not  RCV000064927.2  \n2          not  RCV000064940.2  \n3       single  RCV000148989.2  \n4       single  RCV000148988.2  \n\n[5 rows x 65 columns]\n"
       ]
      }
     ],
     "input": [
      "# connect to a table\n",
      "clinvar = con.table('clinvar', \n",
      "                     database='p7_ref_grch37')\n",
      "\n",
      "# view first five records\n",
      "print clinvar.limit(5)"
     ],
     "language": "python",
     "prompt_number": 38
    },
    {
     "cell_type": "code",
     "execution_count": null,
     "metadata": {},
     "outputs": [
      {
       "output_type": "stream",
       "stream": "stdout",
       "text": [
        "0     255\n1     255\n2     255\n3       5\n4       5\n5       3\n6       3\n7       2\n8       3\n9       2\n10      3\n11      2\n12      3\n13      2\n14      3\n...\n9985       5\n9986       0\n9987       0\n9988       3\n9989       0\n9990       0\n9991       0\n9992    None\n9993       5\n9994       5\n9995       5\n9996       5\n9997       5\n9998       5\n9999       0\nName: clin_sig, Length: 10000, dtype: object\n"
       ]
      }
     ],
     "input": [
      "# select a column by name\n",
      "clin_sig = clinvar['clin_sig']\n",
      "\n",
      "print clin_sig"
     ],
     "language": "python",
     "prompt_number": 5
    },
    {
     "cell_type": "heading",
     "metadata": {},
     "level": 3,
     "source": [
      "Perform operations on table"
     ]
    },
    {
     "cell_type": "code",
     "execution_count": null,
     "metadata": {},
     "outputs": [
      {
       "output_type": "stream",
       "stream": "stdout",
       "text": [
        "117299\n"
       ]
      }
     ],
     "input": [
      "# how many rows in the table\n",
      "\n",
      "table_length = clinvar.count()\n",
      "print table_length"
     ],
     "language": "python",
     "prompt_number": 7
    },
    {
     "cell_type": "code",
     "execution_count": null,
     "metadata": {},
     "outputs": [
      {
       "output_type": "stream",
       "stream": "stdout",
       "text": [
        "8549\n"
       ]
      }
     ],
     "input": [
      "# how many variants in chromosome 1? \n",
      "print clinvar.filter([clinvar.chrom == '1']).count()"
     ],
     "language": "python",
     "prompt_number": 10
    },
    {
     "cell_type": "code",
     "execution_count": null,
     "metadata": {},
     "outputs": [
      {
       "output_type": "stream",
       "stream": "stdout",
       "text": [
        "  chrom     pos ref alt clin_sig             clin_dbn\n0     1  883516   G   A      255   Malignant_melanoma\n1     1  891344   G   A      255   Malignant_melanoma\n2     1  906168   G   A      255   Malignant_melanoma\n3     1  949696   C  CG        5  Immunodeficiency_38\n4     1  949739   G   T        5  Immunodeficiency_38\n"
       ]
      }
     ],
     "input": [
      "# create a subset \n",
      "clin_subset = clinvar['chrom','pos', 'ref', 'alt', 'clin_sig', 'clin_dbn']\n",
      "\n",
      "print clin_subset.limit(5)"
     ],
     "language": "python",
     "prompt_number": 42
    },
    {
     "cell_type": "code",
     "execution_count": null,
     "metadata": {},
     "outputs": [],
     "input": [
      ""
     ],
     "language": "python"
    },
    {
     "cell_type": "heading",
     "metadata": {},
     "level": 2,
     "source": [
      "Joining Tables"
     ]
    },
    {
     "cell_type": "code",
     "execution_count": null,
     "metadata": {},
     "outputs": [],
     "input": [
      "# select 10 variants to use as test set\n",
      "test_vars = con.table('wgs_illumina_variant', database= 'p7_platform').limit(100)"
     ],
     "language": "python",
     "prompt_number": 11
    },
    {
     "cell_type": "code",
     "execution_count": null,
     "metadata": {},
     "outputs": [],
     "input": [
      "T1 = test_vars\n",
      "T2 = clin_subset\n",
      "cond1 = T1.chr == T2.chrom\n",
      "cond2 = T2.alt == T2.alt\n",
      "cond3 = T1.pos == T2.pos\n",
      "join_cond = [cond1,cond2,cond3]\n",
      "\n",
      "joined = T1.left_join(T2,join_cond)[T1,T2.clin_sig]"
     ],
     "language": "python",
     "prompt_number": 14
    },
    {
     "cell_type": "code",
     "execution_count": null,
     "metadata": {},
     "outputs": [
      {
       "output_type": "stream",
       "stream": "stdout",
       "text": [
        "          pos           id    ref alt    qual               filter  \\\n0   116662407    rs3135506      G   C  245.00                 PASS   \n1   116681243    rs1263174      G   T  188.00                 PASS   \n2   116689063         None     AT   A  188.00                 PASS   \n3   116688817   rs74637035      C   A    2.00  LowGQX;HighDPFRatio   \n4   116672231    rs2542061      A   G  161.00                 PASS   \n5   116692694       rs5100      G   A  546.00                 PASS   \n6   116684767    rs2542063      G   A  185.00                 PASS   \n7   116697321    rs2849173      G   C  148.00                 PASS   \n8   116684744    rs2849167      G   A  216.00                 PASS   \n9   116661826    rs2072560      T   C  493.00                 PASS   \n10  116671824    rs9666150      T   C  264.00                 PASS   \n11  116675294    rs6589570      A   T  490.00                 PASS   \n12  116663707     rs662799      G   A  446.00                 PASS   \n13  116668867    rs7101592      A   T  668.00                 PASS   \n14  116691075  rs113287687      G   A  182.00                 PASS   \n15  116685766    rs6589573      C   G  361.00                 PASS   \n16  116697117    rs2542050      C   A  130.00                 PASS   \n17  116677268  rs147491600      G  GT   62.00           HighREFREP   \n18  116683494    rs2111401      T   C  180.00                 PASS   \n19  116684164    rs7396851      T   C  527.00                 PASS   \n20  116671005    rs4938313      A   G  530.00                 PASS   \n21  116688765    rs9735326      C   A  710.00                 PASS   \n22  116689324  rs113047692      G   A  153.00               LowGQX   \n23  116696887    rs2727789      G   T  134.00                 PASS   \n24  116690712    rs1263177      C   T  442.00                 PASS   \n25  116670738    rs6589568      G   A  683.00                 PASS   \n26  116683171         None     AT   A   70.00                 PASS   \n27  116672013   rs11216140      T   C  431.00                 PASS   \n28  116696921    rs2849176      T   C  180.00                 PASS   \n29  116678413    rs1263170      T   C  158.00                 PASS   \n..        ...          ...    ...  ..     ...                  ...   \n70  116681467         None      C   A   82.00                 PASS   \n71  116690123    rs1263176      T   C  157.00                 PASS   \n72  116680918    rs1263172      G   A  184.00                 PASS   \n73  116695486   rs11823143      A   T   58.00         HighDPFRatio   \n74  116671476    rs6589569      T   C  595.00                 PASS   \n75  116680418    rs6589571      T   C  525.00                 PASS   \n76  116675291    rs1263164      C   A  104.00                 PASS   \n77  116689132  rs143746859      T   A  209.00                 PASS   \n78  116678249   rs11398704      C  CA  281.00           HighREFREP   \n79  116664040   rs10750097      G   A  218.00                 PASS   \n80  116695701         None      G   T    1.00               LowGQX   \n81  116691511   rs35211609  GGACA   G  756.00                 PASS   \n82  116680330    rs1263171      G   A  215.00                 PASS   \n83  116697294  rs146678247      C   T  125.00                 PASS   \n84  116674818    rs1729408      A   G  120.00                 PASS   \n85  116673512    rs1263163      G   A  131.00                 PASS   \n86  116686042   rs71037424      C  CT   77.00    LowGQX;HighREFREP   \n87  116685201    rs2849168      T   C  204.00                 PASS   \n88  116682156    rs7927820      G   A  547.00                 PASS   \n89  116689086         None      A  AT  104.00                 PASS   \n90  116696681    rs7123326      G   A  100.00                 PASS   \n91  116662331   rs12287066      G   T  110.00                 PASS   \n92  116671823    rs9667814      C   G  259.00                 PASS   \n93  116677999    rs1263168      C   T   99.00                 PASS   \n94  116682349   rs35180165    CAG   C  744.00                 PASS   \n95  116686906  rs112743256      C  CT  171.00           HighREFREP   \n96  116683374    rs2727793      C   T  200.00                 PASS   \n97  116685715   rs34020877      C  CT   20.00    LowGQX;HighREFREP   \n98  116667337     rs633389      C   T   58.00                 PASS   \n99  116662473   rs41338746      C   A   59.00                 PASS   \n\n         subject_id chr clin_sig  \n0   102-08-01400-02  11      255  \n1   102-08-01400-02  11     None  \n2   102-08-01400-02  11     None  \n3   102-08-01400-02  11     None  \n4   102-08-01400-02  11     None  \n5   102-08-01400-02  11     None  \n6   102-08-01400-02  11     None  \n7   102-08-01400-02  11     None  \n8   102-08-01400-02  11     None  \n9   102-08-01400-02  11     None  \n10  102-08-01400-02  11     None  \n11  102-08-01400-02  11     None  \n12  102-08-01400-02  11     None  \n13  102-08-01400-02  11     None  \n14  102-08-01400-02  11     None  \n15  102-08-01400-02  11     None  \n16  102-08-01400-02  11     None  \n17  102-08-01400-02  11     None  \n18  102-08-01400-02  11     None  \n19  102-08-01400-02  11     None  \n20  102-08-01400-02  11     None  \n21  102-08-01400-02  11     None  \n22  102-08-01400-02  11     None  \n23  102-08-01400-02  11     None  \n24  102-08-01400-02  11     None  \n25  102-08-01400-02  11     None  \n26  102-08-01400-02  11     None  \n27  102-08-01400-02  11     None  \n28  102-08-01400-02  11     None  \n29  102-08-01400-02  11     None  \n..              ...  ..      ...  \n70  102-08-01400-02  11     None  \n71  102-08-01400-02  11     None  \n72  102-08-01400-02  11     None  \n73  102-08-01400-02  11     None  \n74  102-08-01400-02  11     None  \n75  102-08-01400-02  11     None  \n76  102-08-01400-02  11     None  \n77  102-08-01400-02  11     None  \n78  102-08-01400-02  11     None  \n79  102-08-01400-02  11     None  \n80  102-08-01400-02  11     None  \n81  102-08-01400-02  11     None  \n82  102-08-01400-02  11     None  \n83  102-08-01400-02  11     None  \n84  102-08-01400-02  11     None  \n85  102-08-01400-02  11     None  \n86  102-08-01400-02  11     None  \n87  102-08-01400-02  11     None  \n88  102-08-01400-02  11     None  \n89  102-08-01400-02  11     None  \n90  102-08-01400-02  11     None  \n91  102-08-01400-02  11     None  \n92  102-08-01400-02  11     None  \n93  102-08-01400-02  11     None  \n94  102-08-01400-02  11     None  \n95  102-08-01400-02  11     None  \n96  102-08-01400-02  11     None  \n97  102-08-01400-02  11     None  \n98  102-08-01400-02  11     None  \n99  102-08-01400-02  11     None  \n\n[100 rows x 9 columns]\n"
       ]
      }
     ],
     "input": [
      "print joined"
     ],
     "language": "python",
     "prompt_number": 15
    },
    {
     "cell_type": "code",
     "execution_count": null,
     "metadata": {},
     "outputs": [],
     "input": [
      ""
     ],
     "language": "python"
    }
   ]
  }
 ],
 "cells": [],
 "metadata": {},
 "nbformat": 3,
 "nbformat_minor": 0
}