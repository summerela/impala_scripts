{
 "worksheets": [
  {
   "cells": [
    {
     "cell_type": "heading",
     "metadata": {},
     "level": 1,
     "source": [
      "Find Illumina Variants"
     ]
    },
    {
     "cell_type": "markdown",
     "metadata": {},
     "source": [
      "Use the following script to search for variants in a list of genes/sample-id's of interest."
     ]
    },
    {
     "cell_type": "heading",
     "metadata": {},
     "level": 2,
     "source": [
      "Genes of interest"
     ]
    },
    {
     "cell_type": "markdown",
     "metadata": {},
     "source": [
      "Enter a list of genes to look for variants within. Enter either as a comma separated list with no spaces, with each gene name surrounded by single quotes. Or upload a .txt file containing one gene per line. "
     ]
    },
    {
     "cell_type": "code",
     "execution_count": null,
     "metadata": {},
     "outputs": [],
     "input": [
      "##########################\n",
      "##### type a list ########\n",
      "##########################\n",
      "# to type in a list, uncomment the following line of code\n",
      "gene_list = 'FBN1','FBN2','SKI','SMAD3','TGFBR1','TGFBR2'\n",
      "\n",
      "############################\n",
      "##### upload a file ########\n",
      "############################\n",
      "# to upload a text file, uncomment the following code:\n",
      "# genes = open('query_test.txt', 'r').readlines()\n",
      "# gene_list = \"'\" + \"','\".join(map(str.strip, genes))+ \"'\""
     ],
     "language": "python",
     "prompt_number": 49
    },
    {
     "cell_type": "heading",
     "metadata": {},
     "level": 2,
     "source": [
      "Subjects of interest"
     ]
    },
    {
     "cell_type": "markdown",
     "metadata": {},
     "source": [
      "Enter a list of sample-id's to search in. Enter either as a comma separated list with no spaces, or a .txt file containing one gene per line."
     ]
    },
    {
     "cell_type": "code",
     "execution_count": null,
     "metadata": {},
     "outputs": [],
     "input": [
      "##########################\n",
      "##### type a list ########\n",
      "##########################\n",
      "# to type in a list, uncomment the following line of code\n",
      "subject_list = '103-00118-01','103-00118-02','103-00118-03','103-00118-34'\n",
      "\n",
      "############################\n",
      "##### upload a file ########\n",
      "############################\n",
      "# to upload a text file, uncomment the following code:\n",
      "# subjects = open('list_of_subjects.txt', 'r').readlines()\n",
      "# subject_list = \"'\" + \"','\".join(map(str.strip, subjects)) + \"'\""
     ],
     "language": "python",
     "prompt_number": 50
    },
    {
     "cell_type": "heading",
     "metadata": {},
     "level": 2,
     "source": [
      "Select output format"
     ]
    },
    {
     "cell_type": "markdown",
     "metadata": {},
     "source": [
      "Select whether to save the results as a tsv file, a new table on impala, or both. "
     ]
    },
    {
     "cell_type": "code",
     "execution_count": null,
     "metadata": {},
     "outputs": [],
     "input": [
      "# select tsv, impala table or both as output format\n",
      "ouput = 'both'"
     ],
     "language": "python",
     "prompt_number": 51
    },
    {
     "cell_type": "heading",
     "metadata": {},
     "level": 2,
     "source": [
      "Run the query on impala and save results"
     ]
    },
    {
     "cell_type": "code",
     "execution_count": null,
     "metadata": {},
     "outputs": [
      {
       "output_type": "stream",
       "stream": "stdout",
       "text": [
        "The following query will be run on impala: \n \n SELECT * FROM p7_platform.wgs_illumina_variant as ill, p7_ref_hg19.ensembl_genes as ens WHERE ens.gene_name IN ('FBN1', 'FBN2', 'SKI', 'SMAD3', 'TGFBR1', 'TGFBR2') AND ill.subject_id IN ('103-00118-01', '103-00118-02', '103-00118-03', '103-00118-34') AND ens.chromosome = ill.chrom AND (ill.pos >= ens.start AND ill.pos <= ens.stop)\n"
       ]
      }
     ],
     "input": [
      "# create query\n",
      "query = (\"SELECT * FROM p7_platform.wgs_illumina_variant as ill, p7_ref_hg19.ensembl_genes as ens\"\n",
      "         \" WHERE ens.gene_name IN {}\"\n",
      "         \" AND ill.subject_id IN {} \"\n",
      "         \"AND ens.chromosome = ill.chrom AND (ill.pos >= ens.start AND ill.pos <= ens.stop)\".format(gene_list,\n",
      "                                                                                                  subject_list)\n",
      " )\n",
      "\n",
      "print \"The following query will be run on impala: \\n \\n \" + query"
     ],
     "language": "python",
     "prompt_number": 54
    },
    {
     "cell_type": "code",
     "execution_count": null,
     "metadata": {},
     "outputs": [
      {
       "output_type": "stream",
       "stream": "stdout",
       "text": [
        "Running query and saving results to a tsv file as query_results_20150731.tsv\nSaving results to an impala table called query_results_20150731"
       ]
      },
      {
       "output_type": "stream",
       "stream": "stdout",
       "text": [
        "\nAnalysisException: Table already exists: default.query_results_20150731"
       ]
      },
      {
       "output_type": "stream",
       "stream": "stdout",
       "text": [
        "\n"
       ]
      }
     ],
     "input": [
      "# just run this code block, no user input needed\n",
      "from impala.dbapi import connect\n",
      "from impala.util import as_pandas\n",
      "import os\n",
      "import time\n",
      "\n",
      "# to connect to specific database, use the database argument\n",
      "conn=connect(host='glados19', port=21050)\n",
      "\n",
      "# create a cursor object to interact with the db\n",
      "cur = conn.cursor()\n",
      "\n",
      "# run query and output to either tsv, impala or both\n",
      "try:\n",
      "    if output == 'tsv':\n",
      "        print \"Running query and saving results to a tsv file as {}\".format(\"query_results_{}.tsv\".format(time.strftime(\"%Y%m%d\")))\n",
      "        cur.execute(query)\n",
      "        results = as_pandas(cur)\n",
      "        results.to_csv(\"query_results_{}.tsv\".format(time.strftime(\"%Y%m%d\")), sep='\\t', index=False)\n",
      "    elif output == 'impala_table':\n",
      "        print \"Saving results to an impala table called {}\".format(\"query_results_{}\".format(time.strftime(\"%Y%m%d\")))\n",
      "        cur.execute(\"CREATE TABLE {} AS {}\".format(\"query_results_{}\".format(time.strftime(\"%Y%m%d\")), query))\n",
      "    elif output == 'both':\n",
      "        print \"Running query and saving results to a tsv file as {}\".format(\"query_results_{}.tsv\".format(time.strftime(\n",
      "         \"%Y%m%d\")))\n",
      "        cur.execute(query)\n",
      "        results = as_pandas(cur)\n",
      "        results.to_csv(\"query_results_{}.tsv\".format(time.strftime(\"%Y%m%d\")), sep='\\t', index=False)\n",
      "        print \"Saving results to an impala table called {}\".format(\"query_results_{}\".format(time.strftime(\"%Y%m%d\")))\n",
      "        cur.execute(\"CREATE TABLE {} AS {}\".format(\"query_results_{}\".format(time.strftime(\"%Y%m%d\")), query))\n",
      "    else: \n",
      "        print \"Check your argument(s) for 'output' and try again.\"\n",
      "except Exception,e: print str(e)"
     ],
     "language": "python",
     "prompt_number": 38
    },
    {
     "cell_type": "heading",
     "metadata": {},
     "level": 2,
     "source": [
      "Close database connection"
     ]
    },
    {
     "cell_type": "code",
     "execution_count": null,
     "metadata": {},
     "outputs": [],
     "input": [
      "cur.close()"
     ],
     "language": "python"
    }
   ]
  }
 ],
 "cells": [],
 "metadata": {},
 "nbformat": 3,
 "nbformat_minor": 0
}