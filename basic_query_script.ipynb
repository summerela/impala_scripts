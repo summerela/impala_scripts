{
 "cells": [
  {
   "cell_type": "markdown",
   "metadata": {},
   "source": [
    "Connecting to Impala with Python"
   ]
  },
  {
   "cell_type": "markdown",
   "metadata": {},
   "source": [
    "## Connect"
   ]
  },
  {
   "cell_type": "code",
   "execution_count": null,
   "metadata": {
    "collapsed": true
   },
   "outputs": [],
   "source": [
    "# import needed modules\n",
    "from impala.util import as_pandas\n",
    "import pandas as pd\n",
    "from impala.dbapi import connect\n",
    "\n",
    "# disable extraneous pandas warning\n",
    "pd.options.mode.chained_assignment = None"
   ]
  },
  {
   "cell_type": "code",
   "execution_count": null,
   "metadata": {
    "collapsed": true
   },
   "outputs": [],
   "source": [
    "query = '''\n",
    "SELECT * \n",
    "FROM \n",
    "WHERE\n",
    "'''"
   ]
  },
  {
   "cell_type": "code",
   "execution_count": 1,
   "metadata": {
    "collapsed": true
   },
   "outputs": [],
   "source": [
    "impala_host = 'enter_your_host_name'\n",
    "\n",
    "def run_query(query_name, out_db, out_name):\n",
    "    \"\"\"\n",
    "    opens odbc connection to impala, drops table if exists, runs query\n",
    "     saves results as table, closes connection\n",
    "    :param query_name: name of query statement to run\n",
    "    :param out_db: name of output database\n",
    "    :param out_name: name of output table name\n",
    "    :return: table of results saved on impala in specified output dir\n",
    "    \"\"\"\n",
    "    # create connection object\n",
    "    conn=connect(host= impala_host, port=21050, timeout=120)\n",
    "    # drop table if it exists\n",
    "    cur = conn.cursor()\n",
    "    print 'Removing table if it already exists...'\n",
    "    cur.execute('DROP TABLE IF EXISTS {}.{}'.format(out_db, out_name))\n",
    "    # run query\n",
    "    print 'Running the query on impala....'\n",
    "    cur.execute(query_name)\n",
    "    results_df = as_pandas(cur)\n",
    "    if len(results_df) > 0:\n",
    "        print 'Query finished. Closing connection.'\n",
    "        return results_df\n",
    "    else:\n",
    "        print 'No results found.'\n",
    "    cur.close()\n",
    "    conn.close()"
   ]
  },
  {
   "cell_type": "code",
   "execution_count": null,
   "metadata": {
    "collapsed": true
   },
   "outputs": [],
   "source": [
    "# run query to save result as pandas data frame\n",
    "results_df = run_query(query, 'database', 'table_name')"
   ]
  },
  {
   "cell_type": "code",
   "execution_count": null,
   "metadata": {
    "collapsed": true
   },
   "outputs": [],
   "source": []
  }
 ],
 "metadata": {
  "kernelspec": {
   "display_name": "Python 2",
   "language": "python",
   "name": "python2"
  },
  "language_info": {
   "codemirror_mode": {
    "name": "ipython",
    "version": 2
   },
   "file_extension": ".py",
   "mimetype": "text/x-python",
   "name": "python",
   "nbconvert_exporter": "python",
   "pygments_lexer": "ipython2",
   "version": "2.7.9"
  }
 },
 "nbformat": 4,
 "nbformat_minor": 0
}
