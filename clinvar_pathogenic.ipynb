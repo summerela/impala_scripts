{
 "worksheets": [
  {
   "cells": [
    {
     "cell_type": "heading",
     "metadata": {},
     "level": 1,
     "source": [
      "Finding ClinVar Pathogenic Variants"
     ]
    },
    {
     "cell_type": "markdown",
     "metadata": {},
     "source": [
      "All variants in the Clarity2 dataset were annotated with ClinVar (version 2/5/15) clinical significance ratings and the ISB internal Kaviar (version 150812) for downstream analysis using the following query to output 106039862 rows:"
     ]
    },
    {
     "cell_type": "markdown",
     "metadata": {},
     "source": [
      "        CREATE TABLE users_selasady.clarity_clinKav AS \n",
      "        WITH clins AS (\n",
      "            SELECT DISTINCT cl.sample_id, cl.chrom, cl.pos, cl.id, cl.ref, cl.alt, cl.gt, cl.qual, cl.filter, clin.rs_id, clin.clin_hgvs, clin.clin_sig, clin.clin_dbn\n",
      "            FROM clarity2.wgs_illumina_variant cl\n",
      "        LEFT JOIN p7_ref_grch37.clinvar clin\n",
      "            ON cl.chrom = clin.chrom\n",
      "            AND cl.pos = clin.pos\n",
      "            AND cl.ref = clin.ref\n",
      "            AND cl.alt = clin.alt\n",
      "           )\n",
      "           SELECT clins.*, kav.allele_freq as kav_freq,\n",
      "               CASE\n",
      "                   WHEN clins.gt = '0/1' then 'het'\n",
      "                   WHEN clins.gt = '1/1' then 'hom_ref'\n",
      "                   WHEN clins.gt = '1/2' then 'het'\n",
      "                   ELSE NULL\n",
      "                   END AS 'geno',\n",
      "               CASE\n",
      "                   WHEN clins.sample_id = \"04-01_PG0001691-BLD\" THEN \"NB1\"\n",
      "                   WHEN clins.sample_id = \"04-04_PG0001689-BLD\" THEN \"NB2\"\n",
      "                   WHEN clins.sample_id = \"04-05_PG0001690-BLD\" THEN \"NB3\"\n",
      "                   WHEN clins.sample_id = \"05-01_PG0003524-BLD\" THEN \"NB1\"\n",
      "                   WHEN clins.sample_id = \"05-02_PG0003573-BLD\" THEN \"M\"\n",
      "                   WHEN clins.sample_id = \"05-03_PG0003565-BLD\" THEN \"F\"\n",
      "                   WHEN clins.sample_id = \"05-04_PG0003562-BLD\" THEN \"NB2\"\n",
      "                   WHEN clins.sample_id = \"06-01_PG0001696-BLD\" THEN \"NB1\"\n",
      "                   WHEN clins.sample_id = \"06-02_PG0001697-BLD\" THEN \"M\"\n",
      "                   WHEN clins.sample_id = \"06-03_PG0001698-BLD\" THEN \"F\"\n",
      "                   WHEN clins.sample_id = \"06-04_PG0001695-BLD\" THEN \"NB2\"\n",
      "                   WHEN clins.sample_id = \"07-01_PG0002918-DNA\" THEN \"NB1\"\n",
      "                   WHEN clins.sample_id = \"07-02_PG0001692-BLD\" THEN \"M\"\n",
      "                   WHEN clins.sample_id = \"07-03_PG0001693-BLD\" THEN \"F\"\n",
      "                   WHEN clins.sample_id = \"07-04_PG0001694-DNA\" THEN \"NB2\"\n",
      "                   WHEN clins.sample_id = \"07-05_PG0002917-DNA\" THEN \"NB3\"\n",
      "                   WHEN clins.sample_id = \"08-01_PG0001705-BLD\" THEN \"M\"\n",
      "                   WHEN clins.sample_id = \"08-04_PG0001704-BLD\" THEN \"F\"\n",
      "                   WHEN clins.sample_id = \"08-05_PG0001706-BLD\" THEN \"NB1\"\n",
      "                   WHEN clins.sample_id = \"08-06_PG0001707-BLD\" THEN \"NB2\"                 \n",
      "                   WHEN clins.sample_id = \"08-07_PG0001708-BLD\" THEN \"NB3\"\n",
      "                END as member\n",
      "            FROM clins\n",
      "            LEFT JOIN p7_ref_grch37.kaviar_isb kav\n",
      "                ON clins.chrom = kav.chrom\n",
      "                AND clins.pos = kav.pos\n",
      "                AND clins.ref = kav.ref\n",
      "                AND clins.alt = kav.alt"
     ]
    },
    {
     "cell_type": "markdown",
     "metadata": {},
     "source": [
      "The following query was used to filter the Clarity2 variants for rare variants marked as unconflicted pathogenic in ClinVar  (clinical signifigance rating of 4 or 5, but never 2 or 3) with a Kaviar frequency of less than .01 or not listed in Kaviar.  \n",
      "\n",
      "dbNSFP prediction scores (v v3.0b2a) were added to provide additional information about each variant.    \n",
      "\n",
      "491 rows were returned. "
     ]
    },
    {
     "cell_type": "markdown",
     "metadata": {},
     "source": [
      "        CREATE TABLE users_selasady.clarity_rare AS \n",
      "        SELECT DISTINCT clins.*, ens.gene_id, ens.transcript_id,db.aa_alt, \n",
      "               db.sift_score, db.sift_pred, db.polyphen2_hdiv_score,\n",
      "               db.polyphen2_hdiv_pred, db.polyphen2_hvar_score, db.polyphen2_hvar_pred, \n",
      "               db.fathmm_score, db.fathmm_pred, db.cadd_raw, db.dann_score, db.mutation_taster_pred,\n",
      "               db.mutation_assessor_score, mutation_assessor_pred, db.provean_score, db.provean_pred,\n",
      "               db.interpro_domain, db.exac_af,\n",
      "               CASE\n",
      "                   WHEN (db.sift_pred LIKE '%D%' or db.polyphen2_hdiv_pred LIKE '%D%' \n",
      "                         or db.mutation_taster_pred LIKE '%D%'\n",
      "                         or db.mutation_assessor_pred LIKE '%H%' \n",
      "                         or db.fathmm_pred LIKE '%D%' \n",
      "                         or db.provean_pred LIKE '%D%'\n",
      "                         or db.dann_score >= .96) THEN 'Y'\n",
      "                    ELSE 'N'\n",
      "               END as dbnfsp_predicted\n",
      "    FROM users_selasady.clarity_clinkav clins\n",
      "    LEFT JOIN p7_ref_grch37.ensembl_genes ens\n",
      "        ON clins.chrom = ens.chrom\n",
      "        AND clins.pos BETWEEN ens.start and ens.stop\n",
      "    LEFT JOIN p7_ref_grch37.dbnsfp_variant db \n",
      "        ON clins.chrom = db.chrom\n",
      "        AND clins.pos = db.pos\n",
      "        AND clins.ref = db.ref\n",
      "        AND clins.alt = db.alt\n",
      "    WHERE (clins.clin_sig NOT REGEXP '3|2[^5]|2 (dollar sign)' AND  clins.clin_sig REGEXP '4|[^25]5|^5') \n",
      "    AND (clins.kav_freq < .01 or clins.kav_freq IS NULL)"
     ]
    },
    {
     "cell_type": "markdown",
     "metadata": {},
     "source": [
      "NOTE: the clinvar regular expression was altered above to exclude the dollar sign, as it would not render properly in ipython notebook."
     ]
    },
    {
     "cell_type": "heading",
     "metadata": {},
     "level": 2,
     "source": [
      "Predict coding consequences using SnpEff"
     ]
    },
    {
     "cell_type": "heading",
     "metadata": {},
     "level": 3,
     "source": [
      "Import query results from impala"
     ]
    },
    {
     "cell_type": "code",
     "execution_count": null,
     "metadata": {},
     "outputs": [],
     "input": [
      "# load modules to connect to impala\n",
      "from impala.dbapi import connect\n",
      "from impala.util import as_pandas\n",
      "\n",
      "# query to left join nbs_annotated variants with DANN scores\n",
      "nbs_query = \"\"\"\n",
      "    SELECT * FROM users_selasady.clarity_rare\n",
      "    \"\"\"\n",
      "# run query on impala\n",
      "conn=connect(host='glados19', port=21050, timeout=120)\n",
      "cur = conn.cursor()\n",
      "cur.execute(nbs_query)\n",
      "\n",
      "# store results as pandas data frame\n",
      "clinvar_df = as_pandas(cur)\n",
      "cur.close()\n",
      "conn.close()"
     ],
     "language": "python",
     "prompt_number": 13
    },
    {
     "cell_type": "heading",
     "metadata": {},
     "level": 3,
     "source": [
      "Output variants as vcf format and run through SnpEff to predict coding consequences"
     ]
    },
    {
     "cell_type": "markdown",
     "metadata": {},
     "source": [
      ""
     ]
    },
    {
     "cell_type": "code",
     "execution_count": null,
     "metadata": {},
     "outputs": [],
     "input": [
      "import subprocess as subp\n",
      "import os\n",
      "\n",
      "#snpeff_path = '/Users/selasady/tools/snpEff/snpEff.jar'\n",
      "snpeff_path = 'D:/Documents/tools/snpEff/snpEff.jar'\n",
      "\n",
      "# function to add functional annotation\n",
      "def df_to_snpeff(input_df):\n",
      "    if os.path.exists(snpeff_path):\n",
      "        # these columns are output to vcf file\n",
      "        df = input_df[['chrom', 'pos', 'ref', 'alt', 'qual', 'filter', 'gt']]\n",
      "        # write to file for conversion to vcf\n",
      "        df.to_csv('clarity_clinsig.tsv', header=True, encoding='utf-8', sep=\"\\t\", index=False)\n",
      "        # run tab2vcf and upon success, run snpeff\n",
      "        vcf_process = subp.Popen(['python', './nbs_genes/tab2vcf.py', 'clarity_clinsig.tsv'])\n",
      "        vcf_process.wait()\n",
      "        # command to run snpeff \n",
      "        snpeff_cmd = 'java -Xmx4g -jar {} -v GRCh37.75 clarity_clinsig.vcf > clarity_clinvar_snpeff.vcf'.format(snpeff_path)\n",
      "        # run snpeff on vcf file\n",
      "        snpeff_process = subp.Popen(snpeff_cmd, shell=True)\n",
      "        snpeff_process.wait()\n",
      "    else:\n",
      "        print \"Make sure you entered the correct path to snpEff.jar\"\n",
      "\n",
      "# run function on query results\n",
      "try:\n",
      "    df_to_snpeff(clinvar_df)\n",
      "except Exception, e: \n",
      "    print str(e)"
     ],
     "language": "python",
     "prompt_number": 14
    },
    {
     "cell_type": "markdown",
     "metadata": {},
     "source": [
      "The functional annotations were read back into Python, parsed and matched back up with the variants by transcript id. If a transcript id was not available, variants were matched by chrom,pos,ref and alt allele. "
     ]
    },
    {
     "cell_type": "code",
     "execution_count": null,
     "metadata": {},
     "outputs": [],
     "input": [
      ""
     ],
     "language": "python"
    },
    {
     "cell_type": "code",
     "execution_count": null,
     "metadata": {},
     "outputs": [
      {
       "ename": "IndexError",
       "evalue": "('index out of bounds', u'occurred at index 0')",
       "output_type": "pyerr",
       "traceback": [
        "\u001b[1;31m---------------------------------------------------------------------------\u001b[0m\n\u001b[1;31mIndexError\u001b[0m                                Traceback (most recent call last)",
        "\u001b[1;32m<ipython-input-39-62d749368e98>\u001b[0m in \u001b[0;36m<module>\u001b[1;34m()\u001b[0m\n\u001b[0;32m     33\u001b[0m \u001b[1;33m\u001b[0m\u001b[0m\n\u001b[0;32m     34\u001b[0m \u001b[1;31m# merge nbs_genes with functional annotations\u001b[0m\u001b[1;33m\u001b[0m\u001b[1;33m\u001b[0m\u001b[0m\n\u001b[1;32m---> 35\u001b[1;33m \u001b[0mnbs_annot\u001b[0m \u001b[1;33m=\u001b[0m \u001b[0mparse_snpeff\u001b[0m\u001b[1;33m(\u001b[0m\u001b[0mclinvar_df\u001b[0m\u001b[1;33m,\u001b[0m \u001b[1;34m'clarity_clinvar_snpeff.vcf'\u001b[0m\u001b[1;33m)\u001b[0m\u001b[1;33m\u001b[0m\u001b[0m\n\u001b[0m\u001b[0;32m     36\u001b[0m \u001b[1;33m\u001b[0m\u001b[0m\n\u001b[0;32m     37\u001b[0m \u001b[1;32mprint\u001b[0m \u001b[0mstr\u001b[0m\u001b[1;33m(\u001b[0m\u001b[0mlen\u001b[0m\u001b[1;33m(\u001b[0m\u001b[0mnbs_annot\u001b[0m\u001b[1;33m)\u001b[0m\u001b[1;33m)\u001b[0m \u001b[1;33m+\u001b[0m \u001b[1;34m\" variants annotated for coding consequences.\"\u001b[0m\u001b[1;33m\u001b[0m\u001b[0m\n",
        "\u001b[1;32m<ipython-input-35-07947dff5838>\u001b[0m in \u001b[0;36mparse_snpeff\u001b[1;34m(input_df, input_vcf)\u001b[0m\n\u001b[0;32m     28\u001b[0m     info_df.columns = ['alt', 'effect', 'impact', 'gene_name', 'gene_id', 'feature_type', 'transcript_id', \n\u001b[0;32m     29\u001b[0m                      'tx_biotype', 'rank', 'hgvs_c', 'hgvs_p']\n\u001b[1;32m---> 30\u001b[1;33m     \u001b[0minput_df\u001b[0m\u001b[1;33m[\u001b[0m\u001b[1;33m[\u001b[0m\u001b[1;34m'transcript_id'\u001b[0m\u001b[1;33m]\u001b[0m\u001b[1;33m]\u001b[0m\u001b[1;33m.\u001b[0m\u001b[0mapply\u001b[0m\u001b[1;33m(\u001b[0m\u001b[1;32mlambda\u001b[0m \u001b[0mx\u001b[0m\u001b[1;33m:\u001b[0m \u001b[0mmerge_snpeff\u001b[0m\u001b[1;33m(\u001b[0m\u001b[0mx\u001b[0m\u001b[1;33m)\u001b[0m \u001b[1;32mif\u001b[0m\u001b[1;33m(\u001b[0m\u001b[0mnp\u001b[0m\u001b[1;33m.\u001b[0m\u001b[0mall\u001b[0m\u001b[1;33m(\u001b[0m\u001b[0mpd\u001b[0m\u001b[1;33m.\u001b[0m\u001b[0mnotnull\u001b[0m\u001b[1;33m(\u001b[0m\u001b[0mx\u001b[0m\u001b[1;33m[\u001b[0m\u001b[1;36m1\u001b[0m\u001b[1;33m]\u001b[0m\u001b[1;33m)\u001b[0m\u001b[1;33m)\u001b[0m\u001b[1;33m)\u001b[0m \u001b[1;32melse\u001b[0m \u001b[0mx\u001b[0m\u001b[1;33m,\u001b[0m \u001b[0maxis\u001b[0m \u001b[1;33m=\u001b[0m \u001b[1;36m1\u001b[0m\u001b[1;33m)\u001b[0m\u001b[1;33m\u001b[0m\u001b[0m\n\u001b[0m\u001b[0;32m     31\u001b[0m \u001b[1;33m\u001b[0m\u001b[0m\n\u001b[0;32m     32\u001b[0m \u001b[1;33m\u001b[0m\u001b[0m\n",
        "\u001b[1;32mC:\\WinPython-64bit-2.7.9.3\\python-2.7.9.amd64\\lib\\site-packages\\pandas\\core\\frame.pyc\u001b[0m in \u001b[0;36mapply\u001b[1;34m(self, func, axis, broadcast, raw, reduce, args, **kwds)\u001b[0m\n\u001b[0;32m   3594\u001b[0m                     \u001b[1;32mif\u001b[0m \u001b[0mreduce\u001b[0m \u001b[1;32mis\u001b[0m \u001b[0mNone\u001b[0m\u001b[1;33m:\u001b[0m\u001b[1;33m\u001b[0m\u001b[0m\n\u001b[0;32m   3595\u001b[0m                         \u001b[0mreduce\u001b[0m \u001b[1;33m=\u001b[0m \u001b[0mTrue\u001b[0m\u001b[1;33m\u001b[0m\u001b[0m\n\u001b[1;32m-> 3596\u001b[1;33m                     \u001b[1;32mreturn\u001b[0m \u001b[0mself\u001b[0m\u001b[1;33m.\u001b[0m\u001b[0m_apply_standard\u001b[0m\u001b[1;33m(\u001b[0m\u001b[0mf\u001b[0m\u001b[1;33m,\u001b[0m \u001b[0maxis\u001b[0m\u001b[1;33m,\u001b[0m \u001b[0mreduce\u001b[0m\u001b[1;33m=\u001b[0m\u001b[0mreduce\u001b[0m\u001b[1;33m)\u001b[0m\u001b[1;33m\u001b[0m\u001b[0m\n\u001b[0m\u001b[0;32m   3597\u001b[0m             \u001b[1;32melse\u001b[0m\u001b[1;33m:\u001b[0m\u001b[1;33m\u001b[0m\u001b[0m\n\u001b[0;32m   3598\u001b[0m                 \u001b[1;32mreturn\u001b[0m \u001b[0mself\u001b[0m\u001b[1;33m.\u001b[0m\u001b[0m_apply_broadcast\u001b[0m\u001b[1;33m(\u001b[0m\u001b[0mf\u001b[0m\u001b[1;33m,\u001b[0m \u001b[0maxis\u001b[0m\u001b[1;33m)\u001b[0m\u001b[1;33m\u001b[0m\u001b[0m\n",
        "\u001b[1;32mC:\\WinPython-64bit-2.7.9.3\\python-2.7.9.amd64\\lib\\site-packages\\pandas\\core\\frame.pyc\u001b[0m in \u001b[0;36m_apply_standard\u001b[1;34m(self, func, axis, ignore_failures, reduce)\u001b[0m\n\u001b[0;32m   3684\u001b[0m             \u001b[1;32mtry\u001b[0m\u001b[1;33m:\u001b[0m\u001b[1;33m\u001b[0m\u001b[0m\n\u001b[0;32m   3685\u001b[0m                 \u001b[1;32mfor\u001b[0m \u001b[0mi\u001b[0m\u001b[1;33m,\u001b[0m \u001b[0mv\u001b[0m \u001b[1;32min\u001b[0m \u001b[0menumerate\u001b[0m\u001b[1;33m(\u001b[0m\u001b[0mseries_gen\u001b[0m\u001b[1;33m)\u001b[0m\u001b[1;33m:\u001b[0m\u001b[1;33m\u001b[0m\u001b[0m\n\u001b[1;32m-> 3686\u001b[1;33m                     \u001b[0mresults\u001b[0m\u001b[1;33m[\u001b[0m\u001b[0mi\u001b[0m\u001b[1;33m]\u001b[0m \u001b[1;33m=\u001b[0m \u001b[0mfunc\u001b[0m\u001b[1;33m(\u001b[0m\u001b[0mv\u001b[0m\u001b[1;33m)\u001b[0m\u001b[1;33m\u001b[0m\u001b[0m\n\u001b[0m\u001b[0;32m   3687\u001b[0m                     \u001b[0mkeys\u001b[0m\u001b[1;33m.\u001b[0m\u001b[0mappend\u001b[0m\u001b[1;33m(\u001b[0m\u001b[0mv\u001b[0m\u001b[1;33m.\u001b[0m\u001b[0mname\u001b[0m\u001b[1;33m)\u001b[0m\u001b[1;33m\u001b[0m\u001b[0m\n\u001b[0;32m   3688\u001b[0m             \u001b[1;32mexcept\u001b[0m \u001b[0mException\u001b[0m \u001b[1;32mas\u001b[0m \u001b[0me\u001b[0m\u001b[1;33m:\u001b[0m\u001b[1;33m\u001b[0m\u001b[0m\n",
        "\u001b[1;32m<ipython-input-35-07947dff5838>\u001b[0m in \u001b[0;36m<lambda>\u001b[1;34m(x)\u001b[0m\n\u001b[0;32m     28\u001b[0m     info_df.columns = ['alt', 'effect', 'impact', 'gene_name', 'gene_id', 'feature_type', 'transcript_id', \n\u001b[0;32m     29\u001b[0m                      'tx_biotype', 'rank', 'hgvs_c', 'hgvs_p']\n\u001b[1;32m---> 30\u001b[1;33m     \u001b[0minput_df\u001b[0m\u001b[1;33m[\u001b[0m\u001b[1;33m[\u001b[0m\u001b[1;34m'transcript_id'\u001b[0m\u001b[1;33m]\u001b[0m\u001b[1;33m]\u001b[0m\u001b[1;33m.\u001b[0m\u001b[0mapply\u001b[0m\u001b[1;33m(\u001b[0m\u001b[1;32mlambda\u001b[0m \u001b[0mx\u001b[0m\u001b[1;33m:\u001b[0m \u001b[0mmerge_snpeff\u001b[0m\u001b[1;33m(\u001b[0m\u001b[0mx\u001b[0m\u001b[1;33m)\u001b[0m \u001b[1;32mif\u001b[0m\u001b[1;33m(\u001b[0m\u001b[0mnp\u001b[0m\u001b[1;33m.\u001b[0m\u001b[0mall\u001b[0m\u001b[1;33m(\u001b[0m\u001b[0mpd\u001b[0m\u001b[1;33m.\u001b[0m\u001b[0mnotnull\u001b[0m\u001b[1;33m(\u001b[0m\u001b[0mx\u001b[0m\u001b[1;33m[\u001b[0m\u001b[1;36m1\u001b[0m\u001b[1;33m]\u001b[0m\u001b[1;33m)\u001b[0m\u001b[1;33m)\u001b[0m\u001b[1;33m)\u001b[0m \u001b[1;32melse\u001b[0m \u001b[0mx\u001b[0m\u001b[1;33m,\u001b[0m \u001b[0maxis\u001b[0m \u001b[1;33m=\u001b[0m \u001b[1;36m1\u001b[0m\u001b[1;33m)\u001b[0m\u001b[1;33m\u001b[0m\u001b[0m\n\u001b[0m\u001b[0;32m     31\u001b[0m \u001b[1;33m\u001b[0m\u001b[0m\n\u001b[0;32m     32\u001b[0m \u001b[1;33m\u001b[0m\u001b[0m\n",
        "\u001b[1;32mC:\\WinPython-64bit-2.7.9.3\\python-2.7.9.amd64\\lib\\site-packages\\pandas\\core\\series.pyc\u001b[0m in \u001b[0;36m__getitem__\u001b[1;34m(self, key)\u001b[0m\n\u001b[0;32m    507\u001b[0m     \u001b[1;32mdef\u001b[0m \u001b[0m__getitem__\u001b[0m\u001b[1;33m(\u001b[0m\u001b[0mself\u001b[0m\u001b[1;33m,\u001b[0m \u001b[0mkey\u001b[0m\u001b[1;33m)\u001b[0m\u001b[1;33m:\u001b[0m\u001b[1;33m\u001b[0m\u001b[0m\n\u001b[0;32m    508\u001b[0m         \u001b[1;32mtry\u001b[0m\u001b[1;33m:\u001b[0m\u001b[1;33m\u001b[0m\u001b[0m\n\u001b[1;32m--> 509\u001b[1;33m             \u001b[0mresult\u001b[0m \u001b[1;33m=\u001b[0m \u001b[0mself\u001b[0m\u001b[1;33m.\u001b[0m\u001b[0mindex\u001b[0m\u001b[1;33m.\u001b[0m\u001b[0mget_value\u001b[0m\u001b[1;33m(\u001b[0m\u001b[0mself\u001b[0m\u001b[1;33m,\u001b[0m \u001b[0mkey\u001b[0m\u001b[1;33m)\u001b[0m\u001b[1;33m\u001b[0m\u001b[0m\n\u001b[0m\u001b[0;32m    510\u001b[0m \u001b[1;33m\u001b[0m\u001b[0m\n\u001b[0;32m    511\u001b[0m             \u001b[1;32mif\u001b[0m \u001b[1;32mnot\u001b[0m \u001b[0mnp\u001b[0m\u001b[1;33m.\u001b[0m\u001b[0misscalar\u001b[0m\u001b[1;33m(\u001b[0m\u001b[0mresult\u001b[0m\u001b[1;33m)\u001b[0m\u001b[1;33m:\u001b[0m\u001b[1;33m\u001b[0m\u001b[0m\n",
        "\u001b[1;32mC:\\WinPython-64bit-2.7.9.3\\python-2.7.9.amd64\\lib\\site-packages\\pandas\\core\\index.pyc\u001b[0m in \u001b[0;36mget_value\u001b[1;34m(self, series, key)\u001b[0m\n\u001b[0;32m   1421\u001b[0m \u001b[1;33m\u001b[0m\u001b[0m\n\u001b[0;32m   1422\u001b[0m             \u001b[1;32mtry\u001b[0m\u001b[1;33m:\u001b[0m\u001b[1;33m\u001b[0m\u001b[0m\n\u001b[1;32m-> 1423\u001b[1;33m                 \u001b[1;32mreturn\u001b[0m \u001b[0mtslib\u001b[0m\u001b[1;33m.\u001b[0m\u001b[0mget_value_box\u001b[0m\u001b[1;33m(\u001b[0m\u001b[0ms\u001b[0m\u001b[1;33m,\u001b[0m \u001b[0mkey\u001b[0m\u001b[1;33m)\u001b[0m\u001b[1;33m\u001b[0m\u001b[0m\n\u001b[0m\u001b[0;32m   1424\u001b[0m             \u001b[1;32mexcept\u001b[0m \u001b[0mIndexError\u001b[0m\u001b[1;33m:\u001b[0m\u001b[1;33m\u001b[0m\u001b[0m\n\u001b[0;32m   1425\u001b[0m                 \u001b[1;32mraise\u001b[0m\u001b[1;33m\u001b[0m\u001b[0m\n",
        "\u001b[1;32mC:\\WinPython-64bit-2.7.9.3\\python-2.7.9.amd64\\lib\\site-packages\\pandas\\tslib.pyd\u001b[0m in \u001b[0;36mpandas.tslib.get_value_box (pandas\\tslib.c:14021)\u001b[1;34m()\u001b[0m\n",
        "\u001b[1;32mC:\\WinPython-64bit-2.7.9.3\\python-2.7.9.amd64\\lib\\site-packages\\pandas\\tslib.pyd\u001b[0m in \u001b[0;36mpandas.tslib.get_value_box (pandas\\tslib.c:13788)\u001b[1;34m()\u001b[0m\n",
        "\u001b[1;31mIndexError\u001b[0m: ('index out of bounds', u'occurred at index 0')"
       ]
      }
     ],
     "input": [
      "import numpy as np\n",
      "import pandas as pd\n",
      "\n",
      "# function to drop extra columns ending in _y from df merge\n",
      "def drop_y(df):\n",
      "    for col in df:\n",
      "        if col.endswith('_y'):\n",
      "            df.drop(col, axis=1, inplace=True)\n",
      "            \n",
      "newdf = clinvar_df[clinvar_df['transcript_id'].isnull()]\n",
      "len(newdf)\n",
      "\n",
      "\n",
      "# def parse_snpeff(input_df, input_vcf):\n",
      "#     # read in snpeff vcf file\n",
      "#     annot_vcf = pd.read_csv(input_vcf, sep='\\t', skiprows=8)\n",
      "#     # split info field into separate rows for each transcript\n",
      "#     info_df = pd.Series([j for i in annot_vcf['INFO'].str.split(',') for j in i])\n",
      "#     # split each rown into separate columns by the pipe\n",
      "#     info_df = pd.DataFrame(list(info_df.str.split('|')))\n",
      "#     # drop emtpy/unnecessary columns\n",
      "#     info_df = info_df[list(info_df.columns[0:11])]\n",
      "#     info_df.columns = ['alt', 'effect', 'impact', 'gene_name', 'gene_id', 'feature_type', 'transcript_id', \n",
      "#                      'tx_biotype', 'rank', 'hgvs_c', 'hgvs_p']\n",
      "#     input_df[['transcript_id']].apply(lambda x: my_func(x) if(np.all(pd.notnull(x[1]))) else x, axis = 1)\n",
      "#     #merge annotations with variant table\n",
      "#     df_functional = pd.merge(input_df, info_df, on=['transcript_id'], how='left')  \n",
      "#     drop_y(df_functional)\n",
      "#     # rename columns ending in _x from merge\n",
      "#     df_functional.rename(columns=lambda x: x.replace('_x', ''), inplace=True)\n",
      "#     df_functional.drop_duplicates(inplace=True)\n",
      "#     return df_functional\n",
      "\n",
      "# merge nbs_genes with functional annotations\n",
      "nbs_annot = parse_snpeff(clinvar_df, 'clarity_clinvar_snpeff.vcf')\n",
      "\n",
      "print str(len(nbs_annot)) + \" variants annotated for coding consequences.\""
     ],
     "language": "python",
     "prompt_number": 39
    },
    {
     "cell_type": "code",
     "execution_count": null,
     "metadata": {},
     "outputs": [],
     "input": [
      ""
     ],
     "language": "python",
     "prompt_number": 10
    },
    {
     "cell_type": "heading",
     "metadata": {},
     "level": 2,
     "source": [
      "Save Results"
     ]
    },
    {
     "cell_type": "code",
     "execution_count": null,
     "metadata": {},
     "outputs": [],
     "input": [
      ""
     ],
     "language": "python"
    }
   ]
  }
 ],
 "cells": [],
 "metadata": {},
 "nbformat": 3,
 "nbformat_minor": 0
}