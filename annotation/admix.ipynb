{
 "cells": [
  {
   "cell_type": "markdown",
   "metadata": {
    "collapsed": true
   },
   "source": [
    "# Run ADMIXTURE"
   ]
  },
  {
   "cell_type": "markdown",
   "metadata": {},
   "source": [
    "ADMIXTURE is a software tool for maximum likelihood estimation of individual ancestries from multilocus SNP genotype datasets. It uses the same statistical model as STRUCTURE but calculates estimates much more rapidly using a fast numerical optimization algorithm."
   ]
  },
  {
   "cell_type": "markdown",
   "metadata": {
    "collapsed": true
   },
   "source": [
    "### Convert VCF to PED/MAP Plink format"
   ]
  },
  {
   "cell_type": "markdown",
   "metadata": {},
   "source": [
    "Admixture requires PED/MAP files from Plink format as input. Requires: \n",
    "    - PLINK 1.9: https://www.cog-genomics.org/plink2\n",
    "    - The following Plink arguments are required: \n",
    "        - recode 12 : codes major/minor alleles as 0,1 and 2\n",
    "        - geno 0.1 : ignores entries with missing genotypes (will cause admixture error)\n",
    "    - The following Plink arguments are optional:\n",
    "        --no-fid = No family Id provided\n",
    "        --no-parents  = No parent info provided\n",
    "        --no-sex  = No sex info provided\n",
    "        --no-pheno  = No phenotype info provided\n",
    "        --double-id = Use subject ID as family ID since none is provided\n",
    "    "
   ]
  },
  {
   "cell_type": "code",
   "execution_count": 212,
   "metadata": {
    "collapsed": true
   },
   "outputs": [],
   "source": [
    "# set working directory\n",
    "import os\n",
    "os.chdir('/Users/summerrae/impala_scripts/add_annots/testing')"
   ]
  },
  {
   "cell_type": "markdown",
   "metadata": {},
   "source": [
    "### Run Plink"
   ]
  },
  {
   "cell_type": "code",
   "execution_count": null,
   "metadata": {
    "collapsed": false
   },
   "outputs": [
    {
     "name": "stdout",
     "output_type": "stream",
     "text": [
      "PLINK v1.90b3w 64-bit (3 Sep 2015)         https://www.cog-genomics.org/plink2\n",
      "(C) 2005-2015 Shaun Purcell, Christopher Chang   GNU General Public License v3\n",
      "Logging to LP6005599-DNA_A02_1to15.log.\n",
      "Options in effect:\n",
      "  --chr 1-15\n",
      "  --double-id\n",
      "  --geno 0.1\n",
      "  --memory 15000\n",
      "  --no-fid\n",
      "  --no-parents\n",
      "  --no-pheno\n",
      "  --no-sex\n",
      "  --out LP6005599-DNA_A02_1to15\n",
      "  --recode 12\n",
      "  --threads 4\n",
      "  --vcf LP6005599-DNA_A02.genome.vcf.gz\n",
      "\n",
      "8192 MB RAM detected; reserving 15000 MB for main workspace.\n",
      "--vcf: LP6005599-DNA_A02_1to15-temporary.bed +\n",
      "LP6005599-DNA_A02_1to15-temporary.bim + LP6005599-DNA_A02_1to15-temporary.fam\n",
      "written.\n",
      "(48296973 variants skipped.)\n"
     ]
    }
   ],
   "source": [
    "!for f in *.vcf.gz; do /Users/summerrae/tools/plink --vcf $f -recode 12 --out ${f%%.*} --memory 30000 --threads 8 --no-fid --no-parents --no-sex --no-pheno --double-id --geno 0.1; done"
   ]
  },
  {
   "cell_type": "markdown",
   "metadata": {},
   "source": [
    "### Running Admixture"
   ]
  },
  {
   "cell_type": "markdown",
   "metadata": {},
   "source": [
    "Requires: \n",
    "    - Admixture program: https://www.genetics.ucla.edu/software/admixture/\n",
    "    - 14 = number of admixture populations to use as 'K' value\n",
    "    - -jN = number of cores to use"
   ]
  },
  {
   "cell_type": "code",
   "execution_count": 23,
   "metadata": {
    "collapsed": false
   },
   "outputs": [
    {
     "name": "stdout",
     "output_type": "stream",
     "text": [
      "Parallel execution requested.  Will use 5 threads.\n",
      "Random seed: 43\n",
      "Point estimation method: Block relaxation algorithm\n",
      "Convergence acceleration algorithm: QuasiNewton, 3 secant conditions\n",
      "Point estimation will terminate when objective function delta < 0.0001\n",
      "Estimation of standard errors disabled; will compute point estimates only.\n",
      "****                   ADMIXTURE Version 1.23                   ****\n",
      "****                    Copyright 2008-2013                     ****\n",
      "****          David Alexander, John  Novembre, Ken Lange        ****\n",
      "****                   Please cite our paper!                   ****\n",
      "****   Information at www.genetics.ucla.edu/software/admixture  ****\n",
      "\n",
      "Size of G: 1x3598517\n",
      "Performing five EM steps to prime main algorithm\n",
      "1 (EM) \tElapsed: 1.908\tLoglikelihood: -58826.4\t(delta): 5.08467e+06\n",
      "2 (EM) \tElapsed: 2.193\tLoglikelihood: -58659.3\t(delta): 167.068\n",
      "3 (EM) \tElapsed: 1.767\tLoglikelihood: -58635.3\t(delta): 23.9763\n",
      "4 (EM) \tElapsed: 1.804\tLoglikelihood: -58630.9\t(delta): 4.40029\n",
      "5 (EM) \tElapsed: 1.937\tLoglikelihood: -58629.9\t(delta): 0.976496\n",
      "Initial loglikelihood: -58629.9\n",
      "Starting main algorithm\n",
      "1 (QN/Block) \tElapsed: 24.504\tLoglikelihood: -58629.8\t(delta): 0.0977728\n",
      "2 (QN/Block) \tElapsed: 30.402\tLoglikelihood: -58629.8\t(delta): 0\n",
      "Summary: \n",
      "Converged in 2 iterations (74.923 sec)\n",
      "Loglikelihood: -58629.847792\n",
      "Fst divergences between estimated populations: \n",
      "\tPop0\tPop1\tPop2\tPop3\tPop4\tPop5\tPop6\tPop7\tPop8\tPop9\tPop10\tPop11\tPop12\t\n",
      "Pop0\t\n",
      "Pop1\t0.298\t\n",
      "Pop2\t0.289\t0.293\t\n",
      "Pop3\t0.289\t0.293\t0.286\t\n",
      "Pop4\t0.289\t0.294\t0.287\t0.289\t\n",
      "Pop5\t0.291\t0.296\t0.288\t0.289\t0.290\t\n",
      "Pop6\t0.287\t0.292\t0.285\t0.286\t0.288\t0.289\t\n",
      "Pop7\t0.288\t0.294\t0.287\t0.289\t0.288\t0.290\t0.288\t\n",
      "Pop8\t0.290\t0.295\t0.287\t0.288\t0.287\t0.290\t0.288\t0.288\t\n",
      "Pop9\t0.288\t0.293\t0.285\t0.288\t0.289\t0.288\t0.287\t0.286\t0.287\t\n",
      "Pop10\t0.290\t0.294\t0.287\t0.288\t0.287\t0.290\t0.286\t0.289\t0.287\t0.286\t\n",
      "Pop11\t0.290\t0.296\t0.286\t0.288\t0.290\t0.289\t0.287\t0.287\t0.289\t0.288\t0.289\t\n",
      "Pop12\t0.291\t0.297\t0.289\t0.287\t0.290\t0.291\t0.288\t0.288\t0.288\t0.288\t0.289\t0.290\t\n",
      "Pop13\t0.289\t0.292\t0.287\t0.287\t0.288\t0.287\t0.285\t0.288\t0.287\t0.288\t0.287\t0.287\t0.288\t\n",
      "Writing output files.\n",
      "Parallel execution requested.  Will use 5 threads.\n",
      "Random seed: 43\n",
      "Point estimation method: Block relaxation algorithm\n",
      "Convergence acceleration algorithm: QuasiNewton, 3 secant conditions\n",
      "Point estimation will terminate when objective function delta < 0.0001\n",
      "Estimation of standard errors disabled; will compute point estimates only.\n",
      "****                   ADMIXTURE Version 1.23                   ****\n",
      "****                    Copyright 2008-2013                     ****\n",
      "****          David Alexander, John  Novembre, Ken Lange        ****\n",
      "****                   Please cite our paper!                   ****\n",
      "****   Information at www.genetics.ucla.edu/software/admixture  ****\n",
      "\n",
      "Size of G: 1x3400564\n",
      "Performing five EM steps to prime main algorithm\n",
      "1 (EM) \tElapsed: 2.187\tLoglikelihood: -54461.4\t(delta): 4.80636e+06\n",
      "2 (EM) \tElapsed: 2.4\tLoglikelihood: -54304.7\t(delta): 156.702\n",
      "3 (EM) \tElapsed: 3.011\tLoglikelihood: -54282.2\t(delta): 22.4337\n",
      "4 (EM) \tElapsed: 1.934\tLoglikelihood: -54278.1\t(delta): 4.11093\n",
      "5 (EM) \tElapsed: 2.667\tLoglikelihood: -54277.2\t(delta): 0.908451\n",
      "Initial loglikelihood: -54277.2\n",
      "Starting main algorithm\n",
      "1 (QN/Block) \tElapsed: 20.586\tLoglikelihood: -54277.1\t(delta): 0.0897687\n",
      "2 (QN/Block) \tElapsed: 21.266\tLoglikelihood: -54277.1\t(delta): 0\n",
      "Summary: \n",
      "Converged in 2 iterations (64.773 sec)\n",
      "Loglikelihood: -54277.122936\n",
      "Fst divergences between estimated populations: \n",
      "\tPop0\tPop1\tPop2\tPop3\tPop4\tPop5\tPop6\tPop7\tPop8\tPop9\tPop10\tPop11\tPop12\t\n",
      "Pop0\t\n",
      "Pop1\t0.297\t\n",
      "Pop2\t0.288\t0.292\t\n",
      "Pop3\t0.286\t0.290\t0.285\t\n",
      "Pop4\t0.288\t0.293\t0.287\t0.283\t\n",
      "Pop5\t0.291\t0.296\t0.289\t0.287\t0.288\t\n",
      "Pop6\t0.288\t0.290\t0.286\t0.283\t0.288\t0.289\t\n",
      "Pop7\t0.289\t0.290\t0.287\t0.284\t0.286\t0.289\t0.286\t\n",
      "Pop8\t0.288\t0.294\t0.287\t0.283\t0.288\t0.290\t0.285\t0.286\t\n",
      "Pop9\t0.286\t0.293\t0.286\t0.284\t0.285\t0.290\t0.286\t0.286\t0.287\t\n",
      "Pop10\t0.290\t0.294\t0.290\t0.286\t0.289\t0.292\t0.288\t0.288\t0.289\t0.286\t\n",
      "Pop11\t0.287\t0.294\t0.287\t0.283\t0.286\t0.288\t0.287\t0.287\t0.286\t0.287\t0.290\t\n",
      "Pop12\t0.289\t0.295\t0.290\t0.285\t0.288\t0.290\t0.289\t0.287\t0.287\t0.285\t0.291\t0.287\t\n",
      "Pop13\t0.285\t0.291\t0.286\t0.285\t0.286\t0.291\t0.286\t0.285\t0.287\t0.286\t0.289\t0.286\t0.288\t\n",
      "Writing output files.\n"
     ]
    }
   ],
   "source": [
    "!for f in *.ped; do ~/tools/admixture_macosx-1.23/admixture -j5 $f 14; done"
   ]
  },
  {
   "cell_type": "markdown",
   "metadata": {},
   "source": [
    "### Add Vendor_ID column to each Q file"
   ]
  },
  {
   "cell_type": "markdown",
   "metadata": {},
   "source": [
    "Add column containing vendor id to each .Q file. Requires\n",
    "    - -i.q2 : extension required for mac, even though .i still modifies the file in place. I don't know why. This also creates .q2 files that are identical to the modified original version. Hopefully you are not running this on a mac and can avoid this altogether. "
   ]
  },
  {
   "cell_type": "code",
   "execution_count": 138,
   "metadata": {
    "collapsed": true
   },
   "outputs": [],
   "source": [
    "!for f in *.Q; do sed -i.q2 \"s/$/\\ ${f%%.*}/\" $f; done"
   ]
  },
  {
   "cell_type": "markdown",
   "metadata": {},
   "source": [
    "To Do: \n",
    "    - Find out which population corresponds to which q value \n",
    "    (emailed admixture author for help, waiting for response)"
   ]
  },
  {
   "cell_type": "markdown",
   "metadata": {},
   "source": [
    "### Create merged Q score file "
   ]
  },
  {
   "cell_type": "code",
   "execution_count": 146,
   "metadata": {
    "collapsed": false
   },
   "outputs": [],
   "source": [
    "!cat *.Q | sed 's/ /\\,/g' >> master_admix.csv"
   ]
  },
  {
   "cell_type": "markdown",
   "metadata": {},
   "source": [
    "## Upload Admixture Table to Impala"
   ]
  },
  {
   "cell_type": "code",
   "execution_count": 147,
   "metadata": {
    "collapsed": false
   },
   "outputs": [],
   "source": [
    "# read in master_admix.txt as pandas table\n",
    "master_admix = pd.read_csv('./master_admix.csv')"
   ]
  },
  {
   "cell_type": "markdown",
   "metadata": {},
   "source": [
    "### Connect to Impala "
   ]
  },
  {
   "cell_type": "code",
   "execution_count": 183,
   "metadata": {
    "collapsed": true
   },
   "outputs": [],
   "source": [
    "import ibis\n",
    "import os\n",
    "\n",
    "# connect to impala with ibis\n",
    "hdfs_port = os.environ.get('glados20', 50070)\n",
    "hdfs = ibis.hdfs_connect(host='glados20', port=hdfs_port, user='selasady')\n",
    "con = ibis.impala.connect(host='glados19', port=21050, timeout=120)\n",
    "\n",
    "# enable interactive mode\n",
    "ibis.options.interactive = True"
   ]
  },
  {
   "cell_type": "markdown",
   "metadata": {},
   "source": [
    "### Upload admix tsv file to hdfs"
   ]
  },
  {
   "cell_type": "code",
   "execution_count": 199,
   "metadata": {
    "collapsed": false
   },
   "outputs": [
    {
     "name": "stderr",
     "output_type": "stream",
     "text": [
      "WARNING:requests.packages.urllib3.connectionpool:Connection pool is full, discarding connection: glados18.systemsbiology.net\n"
     ]
    },
    {
     "data": {
      "text/plain": [
       "'/user/selasady/master_admix.csv'"
      ]
     },
     "execution_count": 199,
     "metadata": {},
     "output_type": "execute_result"
    }
   ],
   "source": [
    "path = '/user/selasady/'\n",
    "file_name = 'master_admix.csv'\n",
    "admix_file = path + '/' + file_name\n",
    "\n",
    "# upload admix file\n",
    "hdfs.put(path, file_name, verbose=True)"
   ]
  },
  {
   "cell_type": "markdown",
   "metadata": {},
   "source": [
    "### Download csv as ibis object to add sample id"
   ]
  },
  {
   "cell_type": "code",
   "execution_count": 204,
   "metadata": {
    "collapsed": false
   },
   "outputs": [],
   "source": [
    "# define talbe schema for tsv file\n",
    "schema = ibis.schema([\n",
    "    ('pop1', 'float'), \n",
    "    ('pop2', 'float'),\n",
    "    ('pop3', 'float'),\n",
    "    ('pop4', 'float'),\n",
    "    ('pop5', 'float'),\n",
    "    ('pop6', 'float'),\n",
    "    ('pop7', 'float'),\n",
    "    ('pop8', 'float'),\n",
    "    ('pop9', 'float'),\n",
    "    ('pop10', 'float'),\n",
    "    ('pop11', 'float'),\n",
    "    ('pop12', 'float'),\n",
    "    ('pop13', 'float'),\n",
    "    ('pop14', 'float'),\n",
    "    ('vendor_id', 'string')\n",
    "])\n",
    "\n",
    "# create ibis object from admix tsv\n",
    "admix = con.delimited_file(path, schema)\n",
    "\n",
    "# create ibis object from mapping table\n",
    "map_tbl = con.table('gms_metadata', database='p7_itmi')"
   ]
  },
  {
   "cell_type": "code",
   "execution_count": 207,
   "metadata": {
    "collapsed": true
   },
   "outputs": [],
   "source": [
    "# join tables to get sample_id\n",
    "joined = admix.left_join(map_tbl, admix.vendor_id == map_tbl.genome)[admix,map_tbl.subject_id]"
   ]
  },
  {
   "cell_type": "markdown",
   "metadata": {},
   "source": [
    "### Upload admix table + sample id's as an impala table"
   ]
  },
  {
   "cell_type": "code",
   "execution_count": 209,
   "metadata": {
    "collapsed": false
   },
   "outputs": [],
   "source": [
    "con.create_table('admix_test', joined, database='users_selasady')"
   ]
  }
 ],
 "metadata": {
  "kernelspec": {
   "display_name": "Python 2",
   "language": "python",
   "name": "python2"
  },
  "language_info": {
   "codemirror_mode": {
    "name": "ipython",
    "version": 2
   },
   "file_extension": ".py",
   "mimetype": "text/x-python",
   "name": "python",
   "nbconvert_exporter": "python",
   "pygments_lexer": "ipython2",
   "version": "2.7.9"
  }
 },
 "nbformat": 4,
 "nbformat_minor": 0
}
