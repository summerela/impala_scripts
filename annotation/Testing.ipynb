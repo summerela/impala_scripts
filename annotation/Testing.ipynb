{
 "cells": [
  {
   "cell_type": "code",
   "execution_count": 65,
   "metadata": {
    "collapsed": false
   },
   "outputs": [
    {
     "name": "stdout",
     "output_type": "stream",
     "text": [
      "Parsing snpeff output for chr8_test_vars_intergenic_verified_snpeff.vcf... \n",
      "\n",
      "8,87009444,.,C,T,0,Intron,intron_1_ALTTENATIVE_PROMOMOTER-SKIPPED,ENST00000521564,protein_coding,ATP6V0D2,protein_coding\n",
      "8,87024204,.,ATGTG,ATGTA,0,Upstream,ENST00000493084,processed_pseudogene,RP11-216N21.1,pseudogene\n",
      "8,87025089,.,A,C,0,Upstream,ENST00000493084,processed_pseudogene,RP11-216N21.1,pseudogene\n",
      "8,87028859,rs376790081,C,T,0,Upstream,ENST00000493084,processed_pseudogene,RP11-216N21.1,pseudogene\n",
      "8,87090794,.,ACCCTGTCAT,ACCCCGTCAT,0,Intron,intron_1_ALTTENATIVE_PROMOMOTER-SKIPPED,ENST00000517981,processed_transcript,PSKH2,protein_coding\n",
      "8,87095569,.,A,G,0,Intron,intron_1_ALTTENATIVE_PROMOMOTER-SKIPPED,ENST00000517981,processed_transcript,PSKH2,protein_coding\n",
      "8,87103686,.,G,A,0,Upstream,ENST00000517981,processed_transcript,PSKH2,protein_coding\n",
      "8,87219655,rs113383225,G,A,0,Intron,intron_4_RETAINED-RETAINED,ENST00000523112,antisense,CTD-3118D11.3,antisense\n",
      "8,87270718,.,TC,T,0,Intron,intron_2_SKIPPED-RETAINED,ENST00000520624,processed_transcript,SLC7A13,protein_coding\n",
      "8,87285014,.,G,A,0,Intron,intron_2_SKIPPED-RETAINED,ENST00000520624,processed_transcript,SLC7A13,protein_coding\n",
      "8,87326846,.,TGA,GAT,0,Intron,intron_1_ALTTENATIVE_PROMOMOTER-SKIPPED,ENST00000520624,processed_transcript,SLC7A13,protein_coding\n",
      "8,87334973,.,C,A,0,Upstream,ENST00000520624,processed_transcript,SLC7A13,protein_coding\n",
      "8,87354845,.,GCGCGCGCTTAGGGCGCGGCGCCGGCGACGCG,GCGCGCGCTTAGGGCGCGGCGCCGGCGCCGCG,0,Upstream,ENST00000517970,protein_coding,WWP1,protein_coding\n",
      "8,87359185,.,T,C,0,Upstream,ENST00000521326,lincRNA,CTD-2284J15.1,processed_transcript\n",
      "8,87408666,rs143953971,C,T,0,Intron,intron_5_SKIPPED-SKIPPED,ENST00000517970,protein_coding,WWP1,protein_coding\n",
      "8,87430144,.,G,T,0,NextProt,ENST00000265428,protein_coding,WWP1,protein_coding\n",
      "8,87431132,rs191040148,A,G,0,NextProt,ENST00000265428,protein_coding,WWP1,protein_coding\n",
      "8,87435613,.,T,G,0,NextProt,ENST00000265428,protein_coding,WWP1,protein_coding\n",
      "8,87436917,.,G,T,0,NextProt,ENST00000265428,protein_coding,WWP1,protein_coding\n",
      "8,87464381,rs754100633,G,T,0,Downstream,ENST00000518683,retained_intron,WWP1,protein_coding\n",
      "8,87469788,.,TTAGATATAAAT,CTAGATATAAAT,0,Upstream,ENST00000520798,protein_coding,WWP1,protein_coding\n",
      "8,87525618,.,T,AA,0,Upstream,ENST00000521045,protein_coding,RMDN1,protein_coding\n",
      "8,87556771,.,TA,T,0,Upstream,ENST00000517354,retained_intron,CPNE3,protein_coding\n",
      "8,87604119,.,T,C,0,Downstream,ENST00000521205,processed_pseudogene,RP11-298P6.5,pseudogene\n",
      "8,87609554,.,CCG,CCA,0,Upstream,ENST00000521205,processed_pseudogene,RP11-298P6.5,pseudogene\n",
      "8,87648591,.,G,A,0,NextProt,ENST00000320005,protein_coding,CNGB3,protein_coding\n",
      "8,87653822,rs796486412,C,CT,0,NextProt,ENST00000320005,protein_coding,CNGB3,protein_coding\n",
      "8,87654201,.,G,A,0,NextProt,ENST00000320005,protein_coding,CNGB3,protein_coding\n",
      "8,87660705,.,G,T,0,NextProt,ENST00000320005,protein_coding,CNGB3,protein_coding\n",
      "8,87665252,.,C,A,0,Downstream,ENST00000408210,miRNA,AC013751.1,miRNA\n",
      "8,87684983,.,G,C,0,NextProt,ENST00000320005,protein_coding,CNGB3,protein_coding\n",
      "8,87710983,.,G,C,0,NextProt,ENST00000320005,protein_coding,CNGB3,protein_coding\n",
      "8,87715080,.,CT,A,0,Downstream,ENST00000519777,processed_transcript,CNGB3,protein_coding\n",
      "8,87717316,.,CACAC,CGCAC,0,Upstream,ENST00000519041,antisense,RP11-386D6.1,antisense\n",
      "8,87749838,.,AGG,AGC,0,NextProt,ENST00000320005,protein_coding,CNGB3,protein_coding\n",
      "8,87806901,.,C,A,0,Intron,intron_3_RETAINED-RETAINED,ENST00000520649,lincRNA,RP11-386D6.2,lincRNA\n",
      "8,87816463,.,A,C,0,Intron,intron_3_RETAINED-RETAINED,ENST00000520649,lincRNA,RP11-386D6.2,lincRNA\n",
      "8,87824364,rs11989632,C,T,0,Intron,intron_3_RETAINED-RETAINED,ENST00000520649,lincRNA,RP11-386D6.2,lincRNA\n",
      "8,87850734,rs767422049,A,G,14948,Downstream,ENST00000520649,lincRNA,RP11-386D6.2,lincRNA\n",
      "8,87903687,.,ACCAGCATCATACTCTTTTGATTATACTAGCTGTATAA,ACCAGCATCATACTCTTTTGATTATACTAGGTGTATAA,0,Intron,intron_2_SKIPPED-SKIPPED,ENST00000518476,protein_coding,CNBD1,protein_coding\n",
      "8,87921020,.,T,TC,0,Intron,intron_3_SKIPPED-ALTTENATIVE_5SS,ENST00000518476,protein_coding,CNBD1,protein_coding\n",
      "8,87992506,.,CT,AG,0,Intron,intron_4_ALTTENATIVE_5SS-ALTTENATIVE_3SS,ENST00000518476,protein_coding,CNBD1,protein_coding\n"
     ]
    }
   ],
   "source": [
    "import os\n",
    "import copy\n",
    "import pandas as pd\n",
    "import csv\n",
    "\n",
    "for file in os.listdir(os.getcwd()):\n",
    "    if file.endswith('intergenic_verified_snpeff.vcf'):\n",
    "        print \"Parsing snpeff output for {}... \\n\".format(file)\n",
    "        # create command to parse snpeff\n",
    "        df = pd.read_csv(file, sep='\\t', skiprows=3, usecols=['#CHROM', 'POS', 'ID', 'REF', 'ALT', 'INFO'])      \n",
    "        \n",
    "        for row in df.itertuples(index=False):\n",
    "            fixed_cols = list(row[:-1])\n",
    "            parts = row[-1].split('|')\n",
    "            \n",
    "            # add distance column first\n",
    "            fixed_cols.append(parts.pop(0))\n",
    "            \n",
    "            for el in parts:\n",
    "                my_row = copy.deepcopy(fixed_cols)\n",
    "                my_row.extend(el.split(','))\n",
    "                \n",
    "            out = ','.join(map(str, my_row))           \n",
    "            out = out.replace('CLOSEST=', '')  \n",
    "            \n",
    "            print out\n",
    "\n",
    "            with open('./test.csv','a') as outfile:\n",
    "                writer = csv.writer(outfile)\n",
    "                writer.writerow([out])"
   ]
  },
  {
   "cell_type": "code",
   "execution_count": 99,
   "metadata": {
    "collapsed": false
   },
   "outputs": [
    {
     "name": "stdout",
     "output_type": "stream",
     "text": [
      "          1    2      3      4              5                6  \\\n",
      "0  87009444  NaN      C      T       ATP6V0D2  ENSG00000147614   \n",
      "1  87024204  NaN  ATGTG  ATGTA  RP11-216N21.1  ENSG00000227753   \n",
      "2  87024204  NaN  ATGTG  ATGTA       ATP6V0D2  ENSG00000147614   \n",
      "3  87025089  NaN      A      C  RP11-216N21.1  ENSG00000227753   \n",
      "4  87025089  NaN      A      C       ATP6V0D2  ENSG00000147614   \n",
      "\n",
      "                       7         8           9               10  \\\n",
      "0         intron_variant  MODIFIER  transcript  ENST00000521564   \n",
      "1  upstream_gene_variant  MODIFIER  transcript  ENST00000493084   \n",
      "2         intron_variant  MODIFIER  transcript  ENST00000521564   \n",
      "3  upstream_gene_variant  MODIFIER  transcript  ENST00000493084   \n",
      "4         intron_variant  MODIFIER  transcript  ENST00000521564   \n",
      "\n",
      "                     11  12  0  pos_block  \n",
      "0        protein_coding   1  8  87.009444  \n",
      "1  processed_pseudogene  -1  8  87.024204  \n",
      "2        protein_coding   1  8  87.024204  \n",
      "3  processed_pseudogene  -1  8  87.025089  \n",
      "4        protein_coding   1  8  87.025089  \n"
     ]
    }
   ],
   "source": [
    "for file in os.listdir(os.getcwd()):\n",
    "    if file.endswith('_parsed.tsv'):\n",
    "        final_df = pd.read_csv(file, sep='\\t', skiprows=1, header=None)\n",
    "        final_df= final_df[[1, 2,3,4,5,6,7,8,9,10,11,12,0]]\n",
    "        final_df['pos_block'] = final_df[1].div(1000000)\n",
    "        print final_df.head()"
   ]
  },
  {
   "cell_type": "code",
   "execution_count": 6,
   "metadata": {
    "collapsed": false
   },
   "outputs": [],
   "source": [
    "for num in range(1,101):\n",
    "    if (num % 5 == 0) and (num % 3 == 0):\n",
    "        print 'FizzBuzz'\n",
    "    elif (num % 3 == 0):\n",
    "        print 'Fizz'\n",
    "    elif (num % 5 == 0):\n",
    "        print 'Buzz'\n",
    "    else: \n",
    "        print num"
   ]
  },
  {
   "cell_type": "code",
   "execution_count": 18,
   "metadata": {
    "collapsed": false
   },
   "outputs": [
    {
     "name": "stdout",
     "output_type": "stream",
     "text": [
      "13\n"
     ]
    }
   ],
   "source": [
    "def fibonacci(n):\n",
    "    if n == 0:\n",
    "        return 0\n",
    "    elif n == 1:\n",
    "        return 1\n",
    "    else:\n",
    "        return fibonacci(n-2) + fibonacci(n-1)\n",
    "        \n",
    "print fibonacci(7)"
   ]
  },
  {
   "cell_type": "code",
   "execution_count": 23,
   "metadata": {
    "collapsed": false
   },
   "outputs": [
    {
     "name": "stdout",
     "output_type": "stream",
     "text": [
      "ghequickbrownfoxjumpedoverthelazydot\n"
     ]
    }
   ],
   "source": [
    "my_string = \"thequickbrownfoxjumpedoverthelazydog\"\n",
    "\n",
    "# switch first and last letters in a string\n",
    "print my_string[-1] + my_string[1:-1] + my_string[:1]"
   ]
  },
  {
   "cell_type": "code",
   "execution_count": 26,
   "metadata": {
    "collapsed": false
   },
   "outputs": [
    {
     "name": "stdout",
     "output_type": "stream",
     "text": [
      "teucbonojmeoeteayo\n"
     ]
    }
   ],
   "source": [
    "# remove every other letter\n",
    "print my_string[::2]"
   ]
  },
  {
   "cell_type": "code",
   "execution_count": 27,
   "metadata": {
    "collapsed": false
   },
   "outputs": [
    {
     "name": "stdout",
     "output_type": "stream",
     "text": [
      "quickbrownfoxjumpedoverthelazy\n"
     ]
    }
   ],
   "source": [
    "# remove first and last four items\n",
    "print my_string[3:-3]"
   ]
  },
  {
   "cell_type": "code",
   "execution_count": 28,
   "metadata": {
    "collapsed": false
   },
   "outputs": [
    {
     "name": "stdout",
     "output_type": "stream",
     "text": [
      "godyzalehtrevodepmujxofnworbkciuqeht\n"
     ]
    }
   ],
   "source": [
    "# reverse string\n",
    "print my_string[::-1]"
   ]
  },
  {
   "cell_type": "code",
   "execution_count": 33,
   "metadata": {
    "collapsed": false
   },
   "outputs": [
    {
     "name": "stdout",
     "output_type": "stream",
     "text": [
      "thequickbrow\n"
     ]
    }
   ],
   "source": [
    "print my_string[len(my_string)/3:] my_string[0:len(my_string)/3]"
   ]
  },
  {
   "cell_type": "code",
   "execution_count": null,
   "metadata": {
    "collapsed": true
   },
   "outputs": [],
   "source": []
  }
 ],
 "metadata": {
  "kernelspec": {
   "display_name": "Python 2",
   "language": "python",
   "name": "python2"
  },
  "language_info": {
   "codemirror_mode": {
    "name": "ipython",
    "version": 2
   },
   "file_extension": ".py",
   "mimetype": "text/x-python",
   "name": "python",
   "nbconvert_exporter": "python",
   "pygments_lexer": "ipython2",
   "version": "2.7.10"
  }
 },
 "nbformat": 4,
 "nbformat_minor": 0
}
