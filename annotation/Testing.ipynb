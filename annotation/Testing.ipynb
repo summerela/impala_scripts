{
 "cells": [
  {
   "cell_type": "code",
   "execution_count": 28,
   "metadata": {
    "collapsed": false
   },
   "outputs": [
    {
     "name": "stdout",
     "output_type": "stream",
     "text": [
      "Parsing snpeff output for chr8_test_vars_intergenic_verifiedintergenic_snpeff.vcf... \n",
      "\n"
     ]
    }
   ],
   "source": [
    "import os\n",
    "import copy\n",
    "import pandas as pd\n",
    "import csv\n",
    "\n",
    "for file in os.listdir(os.getcwd()):\n",
    "    if file.endswith('intergenic_snpeff.vcf'):\n",
    "        print \"Parsing snpeff output for {}... \\n\".format(file)\n",
    "        # create command to parse snpeff\n",
    "        df = pd.read_csv(file, sep='\\t', skiprows=3, usecols=['#CHROM', 'POS', 'ID', 'REF', 'ALT', 'INFO'])\n",
    "        \n",
    "        for row in df.itertuples():\n",
    "            fixed_cols = list(row[:-1])\n",
    "            parts = row[-1].split('|')\n",
    "            \n",
    "            # the first one is CLOSEST=0 or something\n",
    "            fixed_cols.append(parts.pop(0))\n",
    "            \n",
    "            for el in parts:\n",
    "                my_row = copy.deepcopy(fixed_cols)\n",
    "                my_row.extend(el.split(','))\n",
    "                \n",
    "                out = ','.join(map(str, my_row))            \n",
    "\n",
    "                with open('./test.csv','a') as outfile:\n",
    "                    writer = csv.writer(outfile)\n",
    "                    writer.writerow([out ])"
   ]
  },
  {
   "cell_type": "code",
   "execution_count": null,
   "metadata": {
    "collapsed": true
   },
   "outputs": [],
   "source": [
    "import subprocess\n",
    "\n",
    "snpeff_oneperline_perl = os.path.join('D:\\\\', 'Documents', 'tools', 'snpEff', 'scripts', 'vcfEffOnePerLine_intergenic.pl')\n",
    "java_path = 'java'\n",
    "snpsift_jar = os.path.join('D:\\\\', 'Documents', 'tools', 'snpEff', 'SnpSift.jar')\n",
    "\n",
    "for file in os.listdir(os.getcwd()):\n",
    "    if file.endswith('intergenic_snpeff.vcf'):\n",
    "        print \"Parsing snpeff output for {}... \\n\".format(file)\n",
    "        tsv_out = str('.'.join(file.split('.')[:-1]) if '.' in file else file) + '_parsed.tsv'\n",
    "        # create command to parse snpeff\n",
    "        snpout_cmd = 'cat {} | {} | {} -jar {} extractFields \\\n",
    "        - CHROM POS ID REF ALT \"ANN[*].GENE\" \"ANN[*].GENEID\" \"ANN[*].EFFECT\" \"ANN[*].IMPACT\" \\\n",
    "        \"ANN[*].FEATURE\" \"ANN[*].FEATUREID\" \"ANN[*].BIOTYPE\" \"ANN[*].RANK\" \\\n",
    "        \"ANN[*].HGVS_C\" \"ANN[*].HGVS_P\" > {}'.format(file, snpeff_oneperline_perl, \\\n",
    "        java_path, snpsift_jar,tsv_out)\n",
    "        # call subprocess and communicate to pipe output between commands\n",
    "        ps = subprocess.Popen(snpout_cmd,shell=True,stdout=subprocess.PIPE,stderr=subprocess.STDOUT)\n",
    "        print ps.communicate()[0]"
   ]
  },
  {
   "cell_type": "code",
   "execution_count": null,
   "metadata": {
    "collapsed": true
   },
   "outputs": [],
   "source": []
  }
 ],
 "metadata": {
  "kernelspec": {
   "display_name": "Python 2",
   "language": "python",
   "name": "python2"
  },
  "language_info": {
   "codemirror_mode": {
    "name": "ipython",
    "version": 2
   },
   "file_extension": ".py",
   "mimetype": "text/x-python",
   "name": "python",
   "nbconvert_exporter": "python",
   "pygments_lexer": "ipython2",
   "version": "2.7.10"
  }
 },
 "nbformat": 4,
 "nbformat_minor": 0
}
