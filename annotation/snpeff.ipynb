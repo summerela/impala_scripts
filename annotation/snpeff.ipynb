{
 "cells": [
  {
   "cell_type": "markdown",
   "metadata": {},
   "source": [
    "# Run SnpEff"
   ]
  },
  {
   "cell_type": "markdown",
   "metadata": {},
   "source": [
    "Genetic variant annotation and effect prediction toolbox. It annotates and predicts the effects of variants on genes (such as amino acid changes). "
   ]
  },
  {
   "cell_type": "markdown",
   "metadata": {
    "collapsed": true
   },
   "source": [
    "### Run VCF Through SnpEff"
   ]
  },
  {
   "cell_type": "markdown",
   "metadata": {},
   "source": [
    "Requires: \n",
    "- SnpEff: http://snpeff.sourceforge.net/\n",
    "- Reference (downloaded automoatically) GRCh37.74 to match vcf files"
   ]
  },
  {
   "cell_type": "markdown",
   "metadata": {},
   "source": [
    "### Create VCF from distinct kaviar variants"
   ]
  },
  {
   "cell_type": "markdown",
   "metadata": {},
   "source": [
    "For each distinct variant found in ISB's Kaivar table, a vcf file will be created and run through SnpEff. "
   ]
  },
  {
   "cell_type": "markdown",
   "metadata": {},
   "source": [
    "### Connect to Impala"
   ]
  },
  {
   "cell_type": "code",
   "execution_count": 1,
   "metadata": {
    "collapsed": true
   },
   "outputs": [],
   "source": [
    "import ibis\n",
    "import os\n",
    "\n",
    "# connect to impala with ibis\n",
    "hdfs_port = os.environ.get('glados20', 50070)\n",
    "hdfs = ibis.hdfs_connect(host='glados20', port=hdfs_port, user='selasady')\n",
    "con = ibis.impala.connect(host='glados19', port=21050, timeout=120)\n",
    "\n",
    "# enable interactive mode\n",
    "ibis.options.interactive = True"
   ]
  },
  {
   "cell_type": "markdown",
   "metadata": {},
   "source": [
    "### Download Distinct Variant Table"
   ]
  },
  {
   "cell_type": "code",
   "execution_count": null,
   "metadata": {
    "collapsed": false
   },
   "outputs": [],
   "source": [
    "# create ibis object from distinct vars table\n",
    "#distinct_vars = con.table('global_distinct', database='p7_ref_grch37') \n",
    "##using temp table until this table is ready\n",
    "distinct_vars = con.table('distinct_test', database='users_selasady') "
   ]
  },
  {
   "cell_type": "code",
   "execution_count": null,
   "metadata": {
    "collapsed": false
   },
   "outputs": [],
   "source": [
    "# limit table to just the selected columns\n",
    "distinct_df = distinct_vars['chrom', 'pos', 'ref', 'alt']"
   ]
  },
  {
   "cell_type": "code",
   "execution_count": null,
   "metadata": {
    "collapsed": true
   },
   "outputs": [],
   "source": [
    "# download table from ibis table connection object\n",
    "distinct_df = distinct_df.execute()"
   ]
  },
  {
   "cell_type": "code",
   "execution_count": null,
   "metadata": {
    "collapsed": false
   },
   "outputs": [],
   "source": [
    "# add varaint ID field\n",
    "distinct_df['ID'] = distinct_df[['chrom', 'pos', 'ref', 'alt']].apply(lambda row: ':'.join(map(str, row)), axis=1)"
   ]
  },
  {
   "cell_type": "markdown",
   "metadata": {},
   "source": [
    "### Output Distinct Variants as VCF File"
   ]
  },
  {
   "cell_type": "code",
   "execution_count": null,
   "metadata": {
    "collapsed": false
   },
   "outputs": [],
   "source": [
    "import time\n",
    "import pandas as pd\n",
    "\n",
    "# disable extraneous pandas warning\n",
    "pd.options.mode.chained_assignment = None\n",
    "\n",
    "vcf_out = 'distinct_vars.vcf'\n",
    "\n",
    "# create vcf header\n",
    "def create_header(outfile_name):\n",
    "   # create vcf header\n",
    "    lines=[]\n",
    "    lines.append('##fileformat=VCFv4.0')\n",
    "    lines.append('##fileDate='+ time.strftime(\"%y%m%d\"))\n",
    "    lines.append('##reference=grch37 v.74 \\n')\n",
    "    header = '\\n'.join(lines)\n",
    "    out = open(outfile_name, 'wb')\n",
    "    out.write(header)\n",
    "    out.close()\n",
    "               \n",
    "# create vcf and append to file with header\n",
    "def impala_to_vcf(input_df, outfile_name):\n",
    "    # these columns are output to vcf file\n",
    "    df = input_df[['chrom', 'pos', 'ID', 'ref', 'alt']]\n",
    "    # add blank columns for vcf format and format col names\n",
    "    df['QUAL'] = '30'\n",
    "    df['FILTER'] = 'PASS'\n",
    "    df['INFO'] = '.'\n",
    "    df['FORMAT'] = 'GT'\n",
    "    df['GT'] = '0/1'\n",
    "    df.columns = [x.upper() for x in df.columns]\n",
    "    df=df.rename(columns = {'CHROM':'#CHROM'})\n",
    "    # order chromosomes to match ref fastas\n",
    "    chroms = ['1', '2', '3', '4', '5', '6', '7', '8', '9', '10', '11', '12', '13', '14', '15', '16', '17', '18', '19', '20', '21', '22', 'X', 'Y', 'M', 'MT']\n",
    "    df['#CHROM'] = df['#CHROM'].astype(\"category\")\n",
    "    df['#CHROM'].cat.set_categories(chroms, inplace=True)\n",
    "    # sort file by chrom then pos\n",
    "    df = df.sort(['#CHROM', 'POS'])\n",
    "    # write to file for conversion to vcf\n",
    "    df.to_csv(outfile_name, header=True, encoding='utf-8', sep=\"\\t\", index=False, mode='a')\n",
    "              \n",
    "create_header(vcf_out)\n",
    "impala_to_vcf(distinct_df, vcf_out)"
   ]
  },
  {
   "cell_type": "code",
   "execution_count": null,
   "metadata": {
    "collapsed": false
   },
   "outputs": [],
   "source": [
    "# command to run snpeff\n",
    "!java -Xmx16g -jar /Users/summerrae/tools/snpEff/snpEff.jar -t -v -noStats GRCh37.74 distinct_vars.vcf > distinct_snpeff.vcf"
   ]
  },
  {
   "cell_type": "markdown",
   "metadata": {},
   "source": [
    "### Output SnpEff effects as tsv file, one effect per line"
   ]
  },
  {
   "cell_type": "code",
   "execution_count": null,
   "metadata": {
    "collapsed": false
   },
   "outputs": [],
   "source": [
    "cat distinct_snpeff.vcf \\\n",
    "    | /Users/summerrae/tools/snpEff/scripts/vcfEffOnePerLine.pl \\\n",
    "    | java -jar /Users/summerrae/tools/snpEff/SnpSift.jar extractFields \\\n",
    "    - CHROM POS REF ALT \"ANN[*].EFFECT\" \"ANN[*].IMPACT\" \\\n",
    "    \"ANN[*].FEATURE\" \"ANN[*].FEATUREID\" \"ANN[*].BIOTYPE\" \"ANN[*].RANK\" \\\n",
    "    \"ANN[*].HGVS_C\" \"ANN[*].HGVS_P\" > distinct.tsv "
   ]
  },
  {
   "cell_type": "markdown",
   "metadata": {},
   "source": [
    "### Remove Header and convert to CSV"
   ]
  },
  {
   "cell_type": "code",
   "execution_count": null,
   "metadata": {
    "collapsed": false
   },
   "outputs": [],
   "source": [
    "!sed '1d' distinct.tsv | tr '\\t' ','  > distinct_snpeff.csv"
   ]
  },
  {
   "cell_type": "markdown",
   "metadata": {},
   "source": [
    "## Save Results as an Impala Table"
   ]
  },
  {
   "cell_type": "markdown",
   "metadata": {},
   "source": [
    "### Upload Results to HDFS"
   ]
  },
  {
   "cell_type": "code",
   "execution_count": 5,
   "metadata": {
    "collapsed": false
   },
   "outputs": [
    {
     "name": "stderr",
     "output_type": "stream",
     "text": [
      "WARNING:requests.packages.urllib3.connectionpool:Connection pool is full, discarding connection: glados18.systemsbiology.net\n"
     ]
    },
    {
     "data": {
      "text/plain": [
       "'/user/selasady/distinct_snpeff.csv'"
      ]
     },
     "execution_count": 5,
     "metadata": {},
     "output_type": "execute_result"
    }
   ],
   "source": [
    "path = '/user/selasady/'\n",
    "file_name = 'distinct_snpeff.csv'\n",
    "admix_file = path + '/' + file_name\n",
    "\n",
    "# upload admix file\n",
    "hdfs.put(path, file_name, verbose=True)"
   ]
  },
  {
   "cell_type": "markdown",
   "metadata": {},
   "source": [
    "### Convert TSV into Ibis Object"
   ]
  },
  {
   "cell_type": "code",
   "execution_count": 6,
   "metadata": {
    "collapsed": false
   },
   "outputs": [],
   "source": [
    "# define talbe schema for tsv file\n",
    "schema = ibis.schema([\n",
    "    ('chrom', 'string'), \n",
    "    ('pos', 'int32'),\n",
    "    ('ref', 'string'),\n",
    "    ('alt', 'string'),\n",
    "    ('effect', 'string'),\n",
    "    ('impact', 'string'),\n",
    "    ('feature', 'string'),\n",
    "    ('feature_id', 'string'),\n",
    "    ('biotype', 'string'),\n",
    "    ('rank', 'int32'),\n",
    "    ('hgvs_c', 'string'),\n",
    "    ('hgvs_p', 'string')\n",
    "])\n",
    "\n",
    "# create ibis object from  tsv\n",
    "snpeff = con.delimited_file(path, schema)"
   ]
  },
  {
   "cell_type": "code",
   "execution_count": 7,
   "metadata": {
    "collapsed": false
   },
   "outputs": [
    {
     "name": "stdout",
     "output_type": "stream",
     "text": [
      "  chrom     pos ref alt                   effect    impact            feature  \\\n",
      "0     1   64548   A   C    upstream_gene_variant  MODIFIER         transcript   \n",
      "1     1   64548   A   C  downstream_gene_variant  MODIFIER         transcript   \n",
      "2     1   64548   A   C        intergenic_region  MODIFIER  intergenic_region   \n",
      "3     1  149954   G   C    upstream_gene_variant  MODIFIER         transcript   \n",
      "4     1  149954   G   C    upstream_gene_variant  MODIFIER         transcript   \n",
      "\n",
      "                        feature_id                 biotype  rank      hgvs_c  \\\n",
      "0                  ENST00000335137          protein_coding    -1  c.-4543A>C   \n",
      "1                  ENST00000492842  unprocessed_pseudogene    -1   n.*661A>C   \n",
      "2  ENSG00000240361-ENSG00000186092                            -1  n.64548A>C   \n",
      "3                  ENST00000484859               antisense    -1   n.-247C>G   \n",
      "4                  ENST00000490997               antisense    -1  n.-3123C>G   \n",
      "\n",
      "  hgvs_p  \n",
      "0         \n",
      "1         \n",
      "2         \n",
      "3         \n",
      "4         \n"
     ]
    }
   ],
   "source": [
    "print snpeff.limit(5)"
   ]
  },
  {
   "cell_type": "markdown",
   "metadata": {},
   "source": [
    "### Create impala table"
   ]
  },
  {
   "cell_type": "code",
   "execution_count": 8,
   "metadata": {
    "collapsed": true
   },
   "outputs": [],
   "source": [
    "con.create_table('coding_consequences', snpeff, database='users_selasady')"
   ]
  }
 ],
 "metadata": {
  "kernelspec": {
   "display_name": "Python 2",
   "language": "python",
   "name": "python2"
  },
  "language_info": {
   "codemirror_mode": {
    "name": "ipython",
    "version": 2
   },
   "file_extension": ".py",
   "mimetype": "text/x-python",
   "name": "python",
   "nbconvert_exporter": "python",
   "pygments_lexer": "ipython2",
   "version": "2.7.10"
  }
 },
 "nbformat": 4,
 "nbformat_minor": 0
}
