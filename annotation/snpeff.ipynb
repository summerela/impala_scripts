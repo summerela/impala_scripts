{
 "cells": [
  {
   "cell_type": "markdown",
   "metadata": {},
   "source": [
    "# Run SnpEff"
   ]
  },
  {
   "cell_type": "markdown",
   "metadata": {},
   "source": [
    "Genetic variant annotation and effect prediction toolbox. It annotates and predicts the effects of variants on genes (such as amino acid changes). "
   ]
  },
  {
   "cell_type": "markdown",
   "metadata": {
    "collapsed": true
   },
   "source": [
    "### Run VCF Through SnpEff"
   ]
  },
  {
   "cell_type": "markdown",
   "metadata": {},
   "source": [
    "Requires: \n",
    "- SnpEff: http://snpeff.sourceforge.net/\n",
    "- Reference (downloaded automoatically) GRCh37.74 to match vcf files"
   ]
  },
  {
   "cell_type": "markdown",
   "metadata": {},
   "source": [
    "### Create VCF from distinct kaviar variants"
   ]
  },
  {
   "cell_type": "markdown",
   "metadata": {},
   "source": [
    "For each distinct variant found in ISB's Kaivar table, a vcf file will be created and run through SnpEff. "
   ]
  },
  {
   "cell_type": "markdown",
   "metadata": {},
   "source": [
    "### Connect to Impala"
   ]
  },
  {
   "cell_type": "markdown",
   "metadata": {},
   "source": [
    "For HDFS connection, update user argument. "
   ]
  },
  {
   "cell_type": "code",
   "execution_count": 1,
   "metadata": {
    "collapsed": true
   },
   "outputs": [],
   "source": [
    "import ibis\n",
    "import os\n",
    "\n",
    "# connect to impala with ibis\n",
    "hdfs_port = os.environ.get('glados20', 50070)\n",
    "hdfs = ibis.hdfs_connect(host='glados20', port=hdfs_port, user='selasady')\n",
    "con = ibis.impala.connect(host='glados19', port=21050, timeout=120)\n",
    "\n",
    "# enable interactive mode\n",
    "ibis.options.interactive = True"
   ]
  },
  {
   "cell_type": "markdown",
   "metadata": {},
   "source": [
    "### Download Distinct Variant Table"
   ]
  },
  {
   "cell_type": "markdown",
   "metadata": {},
   "source": [
    "This pipeline begins with the table of global distcint variants in impala. Here we are downloading them into an ibis table object to output to vcf and run through snpeff for predicting coding consequences. "
   ]
  },
  {
   "cell_type": "code",
   "execution_count": 2,
   "metadata": {
    "collapsed": false
   },
   "outputs": [],
   "source": [
    "# create ibis object from distinct vars table\n",
    "#distinct_vars = con.table('global_distinct', database='p7_ref_grch37') \n",
    "\n",
    "## ATTN: \n",
    "##  using temp table until this table is ready\n",
    "distinct_vars = con.table('distinct_test', database='users_selasady') "
   ]
  },
  {
   "cell_type": "code",
   "execution_count": 3,
   "metadata": {
    "collapsed": false
   },
   "outputs": [],
   "source": [
    "# limit table to just the columns we need to output to vcf\n",
    "distinct_df = distinct_vars['chrom', 'pos', 'ref', 'alt']"
   ]
  },
  {
   "cell_type": "code",
   "execution_count": 4,
   "metadata": {
    "collapsed": true
   },
   "outputs": [],
   "source": [
    "# download table from ibis table connection object to local memory\n",
    "distinct_df = distinct_df.execute()"
   ]
  },
  {
   "cell_type": "code",
   "execution_count": 5,
   "metadata": {
    "collapsed": false
   },
   "outputs": [],
   "source": [
    "# add varaint ID field for vcf format and downstream matching\n",
    "distinct_df['ID'] = distinct_df[['chrom', 'pos', 'ref', 'alt']].apply(lambda row: ':'.join(map(str, row)), axis=1)"
   ]
  },
  {
   "cell_type": "markdown",
   "metadata": {},
   "source": [
    "### Output Distinct Variants as VCF File"
   ]
  },
  {
   "cell_type": "code",
   "execution_count": 6,
   "metadata": {
    "collapsed": false
   },
   "outputs": [],
   "source": [
    "import time\n",
    "import pandas as pd\n",
    "\n",
    "# disable extraneous pandas warning\n",
    "pd.options.mode.chained_assignment = None\n",
    "\n",
    "# enter desired outfile name\n",
    "vcf_out = 'distinct_vars.vcf'\n",
    "\n",
    "# create vcf header\n",
    "def create_header(outfile_name):\n",
    "   # create vcf header\n",
    "    lines=[]\n",
    "    lines.append('##fileformat=VCFv4.0')\n",
    "    lines.append('##fileDate='+ time.strftime(\"%y%m%d\"))\n",
    "    lines.append('##reference=grch37 v.74 \\n')\n",
    "    header = '\\n'.join(lines)\n",
    "    out = open(outfile_name, 'wb')\n",
    "    out.write(header)\n",
    "    out.close()\n",
    "               \n",
    "# create vcf body and append to file with header\n",
    "def impala_to_vcf(input_df, outfile_name):\n",
    "    # these columns are output to vcf file\n",
    "    df = input_df[['chrom', 'pos', 'ID', 'ref', 'alt']]\n",
    "    # add blank columns for vcf format and format col names\n",
    "    df['QUAL'] = '30'\n",
    "    df['FILTER'] = 'PASS'\n",
    "    df['INFO'] = '.'\n",
    "    df['FORMAT'] = 'GT'\n",
    "    df['GT'] = '0/1'\n",
    "    df.columns = [x.upper() for x in df.columns]\n",
    "    df=df.rename(columns = {'CHROM':'#CHROM'})\n",
    "    # order chromosomes to match ref fastas\n",
    "    chroms = ['1', '2', '3', '4', '5', '6', '7', '8', '9', '10', '11', '12', '13', '14', '15', '16', '17', '18', '19', '20', '21', '22', 'X', 'Y', 'M', 'MT']\n",
    "    df['#CHROM'] = df['#CHROM'].astype(\"category\")\n",
    "    df['#CHROM'].cat.set_categories(chroms, inplace=True)\n",
    "    # sort file by chrom then pos\n",
    "    df = df.sort(['#CHROM', 'POS'])\n",
    "    # write to file for conversion to vcf\n",
    "    df.to_csv(outfile_name, header=True, encoding='utf-8', sep=\"\\t\", index=False, mode='a')\n",
    "              \n",
    "create_header(vcf_out)\n",
    "impala_to_vcf(distinct_df, vcf_out)"
   ]
  },
  {
   "cell_type": "markdown",
   "metadata": {},
   "source": [
    "### Run VCF File through SnpEff to predict coding consequences"
   ]
  },
  {
   "cell_type": "markdown",
   "metadata": {},
   "source": [
    "Running SnpEff on output vcf file: \n",
    "    - -Xmx16g : specify amount of java memory \n",
    "    - -t : multi-threaded mode, cannot spedify threads, determines automatically\n",
    "    - -v : verbose mode\n",
    "    - GRCh37.74 : specifies reference database to use, matched with VCF files"
   ]
  },
  {
   "cell_type": "code",
   "execution_count": 8,
   "metadata": {
    "collapsed": false
   },
   "outputs": [
    {
     "name": "stdout",
     "output_type": "stream",
     "text": [
      "00:00:00.000\tSnpEff version SnpEff 4.1a (build 2015-01-14), by Pablo Cingolani\n",
      "00:00:00.013\tCommand: 'ann'\n",
      "00:00:00.028\tReading configuration file 'snpEff.config'. Genome: 'GRCh37.74'\n",
      "00:00:00.317\tdone\n",
      "00:00:00.317\tReading database for genome version 'GRCh37.74' from file '/Users/selasady/tools/snpEff/./data/GRCh37.74/snpEffectPredictor.bin' (this might take a while)\n",
      "00:00:20.904\tdone\n",
      "00:00:20.937\tReading NextProt database from file '/Users/selasady/tools/snpEff/./data/GRCh37.74/nextProt.bin'\n",
      "00:00:22.067\tNextProt database: 550248 markers loaded.\n",
      "00:00:22.067\tAdding transcript info to NextProt markers.\n",
      "00:00:22.580\tNextProt database: 742952 markers added.\n",
      "00:00:22.580\t\tLoading PWMs from : /Users/selasady/tools/snpEff/./data/GRCh37.74/pwms.bin\n",
      "00:00:22.603\t\tLoading Motifs from file '/Users/selasady/tools/snpEff/./data/GRCh37.74/motif.bin'\n",
      "00:00:23.246\t\tMotif database: 284122 markers loaded.\n",
      "00:00:23.247\tBuilding interval forest\n",
      "00:00:35.300\tdone.\n",
      "00:00:35.300\tGenome stats :\n",
      "#-----------------------------------------------\n",
      "# Genome name                : 'Homo_sapiens'\n",
      "# Genome version             : 'GRCh37.74'\n",
      "# Has protein coding info    : true\n",
      "# Genes                      : 63677\n",
      "# Protein coding genes       : 23172\n",
      "#-----------------------------------------------\n",
      "# Transcripts                : 215170\n",
      "# Avg. transcripts per gene  : 3.38\n",
      "#-----------------------------------------------\n",
      "# Checked transcripts        : \n",
      "#               AA sequences : 104267 ( 114.81% )\n",
      "#              DNA sequences : 179360 ( 83.36% )\n",
      "#-----------------------------------------------\n",
      "# Protein coding transcripts : 90818\n",
      "#              Length errors :  14374 ( 15.83% )\n",
      "#  STOP codons in CDS errors :     27 ( 0.03% )\n",
      "#         START codon errors :   8717 ( 9.60% )\n",
      "#        STOP codon warnings :  21812 ( 24.02% )\n",
      "#              UTR sequences :  87726 ( 40.77% )\n",
      "#               Total Errors :  21325 ( 23.48% )\n",
      "#-----------------------------------------------\n",
      "# Cds                        : 791977\n",
      "# Exons                      : 1306656\n",
      "# Exons with sequence        : 1306656\n",
      "# Exons without sequence     : 0\n",
      "# Avg. exons per transcript  : 6.07\n",
      "#-----------------------------------------------\n",
      "# Number of chromosomes      : 297\n",
      "# Chromosomes names [sizes]  :\n",
      "#\t\t'HG1292_PATCH' [250051446]\n",
      "#\t\t'HG1287_PATCH' [249964560]\n",
      "#\t\t'HG1473_PATCH' [249272860]\n",
      "#\t\t'HG1471_PATCH' [249269426]\n",
      "#\t\t'HSCHR1_1_CTG31' [249267852]\n",
      "#\t\t'HSCHR1_2_CTG31' [249266025]\n",
      "#\t\t'HSCHR1_3_CTG31' [249262108]\n",
      "#\t\t'HG999_2_PATCH' [249259300]\n",
      "#\t\t'HG989_PATCH' [249257867]\n",
      "#\t\t'HG999_1_PATCH' [249257505]\n",
      "#\t\t'HG1472_PATCH' [249251918]\n",
      "#\t\t'1' [249250621]\n",
      "#\t\t'HG1293_PATCH' [249140837]\n",
      "#\t\t'HG686_PATCH' [243297375]\n",
      "#\t\t'HSCHR2_1_CTG12' [243216362]\n",
      "#\t\t'HSCHR2_2_CTG12' [243205453]\n",
      "#\t\t'HSCHR2_1_CTG1' [243205406]\n",
      "#\t\t'HG953_PATCH' [243199374]\n",
      "#\t\t'2' [243199373]\n",
      "#\t\t'HG1007_PATCH' [243135680]\n",
      "#\t\t'HG280_PATCH' [198070731]\n",
      "#\t\t'HG991_PATCH' [198049698]\n",
      "#\t\t'HSCHR3_1_CTG2_1' [198032968]\n",
      "#\t\t'HG186_PATCH' [198025845]\n",
      "#\t\t'HSCHR3_1_CTG1' [198024351]\n",
      "#\t\t'HG1091_PATCH' [198022491]\n",
      "#\t\t'HG325_PATCH' [198022431]\n",
      "#\t\t'3' [198022430]\n",
      "#\t\t'HG957_PATCH' [198022419]\n",
      "#\t\t'HG1032_PATCH' [191235710]\n",
      "#\t\t'HSCHR4_2_CTG9' [191176053]\n",
      "#\t\t'HSCHR4_1_CTG12' [191166925]\n",
      "#\t\t'HSCHR4_1_CTG6' [191164559]\n",
      "#\t\t'HG174_HG254_PATCH' [191160487]\n",
      "#\t\t'4' [191154276]\n",
      "#\t\t'HG706_PATCH' [191094783]\n",
      "#\t\t'HSCHR4_1' [191036603]\n",
      "#\t\t'HSCHR5_2_CTG1' [180935403]\n",
      "#\t\t'HSCHR5_1_CTG2' [180931866]\n",
      "#\t\t'HSCHR5_3_CTG1' [180924140]\n",
      "#\t\t'HSCHR5_1_CTG5' [180920737]\n",
      "#\t\t'HG1082_HG167_PATCH' [180915278]\n",
      "#\t\t'HG1063_PATCH' [180915263]\n",
      "#\t\t'5' [180915260]\n",
      "#\t\t'HSCHR5_1_CTG1' [180130563]\n",
      "#\t\t'HSCHR6_MHC_MCF' [171285426]\n",
      "#\t\t'HSCHR6_MHC_MANN' [171268956]\n",
      "#\t\t'HSCHR6_MHC_SSTO' [171254422]\n",
      "#\t\t'HG357_PATCH' [171241738]\n",
      "#\t\t'HG27_PATCH' [171147516]\n",
      "#\t\t'HSCHR6_2_CTG5' [171145319]\n",
      "#\t\t'HSCHR6_1_CTG5' [171142899]\n",
      "#\t\t'6' [171115067]\n",
      "#\t\t'HG1304_PATCH' [171115067]\n",
      "#\t\t'HG1322_PATCH' [171106913]\n",
      "#\t\t'HSCHR6_MHC_APD' [171098467]\n",
      "#\t\t'HSCHR6_MHC_DBB' [171092990]\n",
      "#\t\t'HSCHR6_MHC_QBL' [171043904]\n",
      "#\t\t'HSCHR6_MHC_COX' [171036692]\n",
      "#\t\t'HG193_PATCH' [171015169]\n",
      "#\t\t'HG7_PATCH' [159202172]\n",
      "#\t\t'HG946_PATCH' [159170352]\n",
      "#\t\t'HG14_PATCH' [159146664]\n",
      "#\t\t'HSCHR7_1_CTG6' [159144671]\n",
      "#\t\t'HG115_PATCH' [159141496]\n",
      "#\t\t'7' [159138663]\n",
      "#\t\t'HG736_PATCH' [159138649]\n",
      "#\t\t'HG444_PATCH' [159138589]\n",
      "#\t\t'HG1308_PATCH' [159117558]\n",
      "#\t\t'HG1257_PATCH' [158974302]\n",
      "#\t\t'HG1436_HG1432_PATCH' [155334750]\n",
      "#\t\t'HG1443_HG1444_PATCH' [155322430]\n",
      "#\t\t'HG1441_PATCH' [155280808]\n",
      "#\t\t'HG1425_PATCH' [155278471]\n",
      "#\t\t'HG1434_PATCH' [155277317]\n",
      "#\t\t'HG1458_PATCH' [155276628]\n",
      "#\t\t'HG1426_PATCH' [155276017]\n",
      "#\t\t'HG1423_PATCH' [155273746]\n",
      "#\t\t'HG1462_PATCH' [155272710]\n",
      "#\t\t'HG1424_PATCH' [155271369]\n",
      "#\t\t'HG1442_PATCH' [155270668]\n",
      "#\t\t'HG1440_PATCH' [155270604]\n",
      "#\t\t'HG29_PATCH' [155270596]\n",
      "#\t\t'HG1439_PATCH' [155270575]\n",
      "#\t\t'HG1438_PATCH' [155270574]\n",
      "#\t\t'HG1490_PATCH' [155270560]\n",
      "#\t\t'X' [155270560]\n",
      "#\t\t'HG375_PATCH' [155270558]\n",
      "#\t\t'HG1435_PATCH' [155270370]\n",
      "#\t\t'HG1437_PATCH' [155270150]\n",
      "#\t\t'HG1453_PATCH' [155264939]\n",
      "#\t\t'HG1463_PATCH' [155256818]\n",
      "#\t\t'HG1497_PATCH' [155209367]\n",
      "#\t\t'HG1459_PATCH' [155183809]\n",
      "#\t\t'HG480_HG481_PATCH' [155131142]\n",
      "#\t\t'HG1433_PATCH' [154987127]\n",
      "#\t\t'HG19_PATCH' [146439382]\n",
      "#\t\t'HG104_HG975_PATCH' [146391291]\n",
      "#\t\t'HG1699_PATCH' [146364052]\n",
      "#\t\t'8' [146364022]\n",
      "#\t\t'HG418_PATCH' [146363965]\n",
      "#\t\t'HG243_PATCH' [146193542]\n",
      "#\t\t'HG998_1_PATCH' [141245758]\n",
      "#\t\t'HG1502_PATCH' [141244527]\n",
      "#\t\t'HSCHR9_1_CTG1' [141228243]\n",
      "#\t\t'HG998_2_PATCH' [141226881]\n",
      "#\t\t'HG1501_PATCH' [141226402]\n",
      "#\t\t'HSCHR9_3_CTG35' [141224529]\n",
      "#\t\t'HG79_PATCH' [141223844]\n",
      "#\t\t'HSCHR9_1_CTG35' [141221627]\n",
      "#\t\t'HG1500_PATCH' [141220264]\n",
      "#\t\t'HSCHR9_2_CTG35' [141219511]\n",
      "#\t\t'9' [141213431]\n",
      "#\t\t'HG962_PATCH' [141213431]\n",
      "#\t\t'HG50_PATCH' [141126899]\n",
      "#\t\t'HSCHR10_1_CTG2' [135582047]\n",
      "#\t\t'HG1479_PATCH' [135573846]\n",
      "#\t\t'HSCHR10_1_CTG5' [135550810]\n",
      "#\t\t'HG995_PATCH' [135540039]\n",
      "#\t\t'HG905_PATCH' [135538807]\n",
      "#\t\t'HG979_PATCH' [135534996]\n",
      "#\t\t'HG871_PATCH' [135534976]\n",
      "#\t\t'HG311_PATCH' [135534748]\n",
      "#\t\t'HG339_PATCH' [135534748]\n",
      "#\t\t'10' [135534747]\n",
      "#\t\t'HG544_PATCH' [135287817]\n",
      "#\t\t'HG865_PATCH' [135091575]\n",
      "#\t\t'HG281_PATCH' [135068883]\n",
      "#\t\t'HG151_NOVEL_TEST' [135017590]\n",
      "#\t\t'HG142_HG150_NOVEL_TEST' [135014122]\n",
      "#\t\t'HSCHR11_1_CTG1_1' [135012249]\n",
      "#\t\t'HG122_PATCH' [135006522]\n",
      "#\t\t'HG348_PATCH' [135006518]\n",
      "#\t\t'HG256_PATCH' [135006517]\n",
      "#\t\t'HG305_PATCH' [135006517]\n",
      "#\t\t'11' [135006516]\n",
      "#\t\t'HG306_PATCH' [135006516]\n",
      "#\t\t'HG873_PATCH' [135006516]\n",
      "#\t\t'HG299_PATCH' [135006515]\n",
      "#\t\t'HG388_HG400_PATCH' [135006515]\n",
      "#\t\t'HG414_PATCH' [135006513]\n",
      "#\t\t'HG1074_PATCH' [134983033]\n",
      "#\t\t'HG536_PATCH' [134975178]\n",
      "#\t\t'HSCHR12_2_CTG2' [133883843]\n",
      "#\t\t'HSCHR12_1_CTG2_1' [133861054]\n",
      "#\t\t'HSCHR12_2_CTG2_1' [133858944]\n",
      "#\t\t'HSCHR12_3_CTG2_1' [133858072]\n",
      "#\t\t'HSCHR12_1_CTG2' [133857954]\n",
      "#\t\t'HSCHR12_1_CTG5' [133857937]\n",
      "#\t\t'HG996_PATCH' [133856340]\n",
      "#\t\t'HG344_PATCH' [133853754]\n",
      "#\t\t'12' [133851895]\n",
      "#\t\t'HG1595_PATCH' [133851793]\n",
      "#\t\t'HG1133_PATCH' [133848181]\n",
      "#\t\t'HSCHR12_1_CTG1' [133796744]\n",
      "#\t\t'HG858_PATCH' [133792729]\n",
      "#\t\t'HG1211_PATCH' [132375896]\n",
      "#\t\t'HG531_PATCH' [115179803]\n",
      "#\t\t'13' [115169878]\n",
      "#\t\t'HG1592_PATCH' [107407662]\n",
      "#\t\t'14' [107349540]\n",
      "#\t\t'HSCHR15_1_CTG8' [102543529]\n",
      "#\t\t'HSCHR15_1_CTG4' [102543012]\n",
      "#\t\t'HG971_PATCH' [102534416]\n",
      "#\t\t'15' [102531392]\n",
      "#\t\t'HSCHR16_1_CTG3_1' [90367188]\n",
      "#\t\t'HSCHR16_2_CTG3_1' [90359885]\n",
      "#\t\t'HG1208_PATCH' [90354761]\n",
      "#\t\t'16' [90354753]\n",
      "#\t\t'HG987_PATCH' [81523974]\n",
      "#\t\t'HG1591_PATCH' [81448030]\n",
      "#\t\t'HSCHR17_1' [81347270]\n",
      "#\t\t'HG417_PATCH' [81285417]\n",
      "#\t\t'HG183_PATCH' [81276452]\n",
      "#\t\t'HG748_PATCH' [81217493]\n",
      "#\t\t'HSCHR17_1_CTG1' [81213043]\n",
      "#\t\t'HSCHR17_3_CTG4' [81206832]\n",
      "#\t\t'HSCHR17_1_CTG4' [81202535]\n",
      "#\t\t'HG271_PATCH' [81201984]\n",
      "#\t\t'HSCHR17_2_CTG4' [81201263]\n",
      "#\t\t'HG185_PATCH' [81199444]\n",
      "#\t\t'HG990_PATCH' [81196563]\n",
      "#\t\t'HSCHR17_4_CTG4' [81195665]\n",
      "#\t\t'HG385_PATCH' [81195225]\n",
      "#\t\t'HG745_PATCH' [81195211]\n",
      "#\t\t'HG883_PATCH' [81195211]\n",
      "#\t\t'17' [81195210]\n",
      "#\t\t'HG747_PATCH' [81195185]\n",
      "#\t\t'HSCHR17_5_CTG4' [81184888]\n",
      "#\t\t'HSCHR17_6_CTG4' [81183840]\n",
      "#\t\t'HG75_PATCH' [81166739]\n",
      "#\t\t'HG1146_PATCH' [80683135]\n",
      "#\t\t'HSCHR18_2_CTG2' [78146697]\n",
      "#\t\t'HSCHR18_1_CTG2' [78090140]\n",
      "#\t\t'HSCHR18_1_CTG2_1' [78086634]\n",
      "#\t\t'HSCHR18_1_CTG1_1' [78084480]\n",
      "#\t\t'HSCHR18_2_CTG1_1' [78083330]\n",
      "#\t\t'HSCHR18_2_CTG2_1' [78082683]\n",
      "#\t\t'18' [78077248]\n",
      "#\t\t'HG944_PATCH' [63067000]\n",
      "#\t\t'HSCHR20_1_CTG1' [63031536]\n",
      "#\t\t'20' [63025520]\n",
      "#\t\t'HG144_PATCH' [62985039]\n",
      "#\t\t'HG506_HG507_HG1000_PATCH' [62969224]\n",
      "#\t\t'Y' [59373566]\n",
      "#\t\t'HSCHR19LRC_LRC_J_CTG1' [59154024]\n",
      "#\t\t'HSCHR19_2_CTG3' [59138462]\n",
      "#\t\t'HSCHR19_3_CTG3' [59137190]\n",
      "#\t\t'HSCHR19_1_CTG3_1' [59136156]\n",
      "#\t\t'HSCHR19_1_CTG3' [59135399]\n",
      "#\t\t'HG1350_HG959_PATCH' [59130736]\n",
      "#\t\t'19' [59128983]\n",
      "#\t\t'HSCHR19LRC_LRC_S_CTG1' [59128573]\n",
      "#\t\t'HSCHR19LRC_LRC_I_CTG1' [59126487]\n",
      "#\t\t'HG1079_PATCH' [59120870]\n",
      "#\t\t'HG729_PATCH' [59083191]\n",
      "#\t\t'HSCHR19LRC_LRC_T_CTG1' [59064866]\n",
      "#\t\t'HG730_PATCH' [59056986]\n",
      "#\t\t'HSCHR19LRC_COX1_CTG1' [59049900]\n",
      "#\t\t'HSCHR19LRC_PGF1_CTG1' [59049284]\n",
      "#\t\t'HSCHR19LRC_PGF2_CTG1' [58858662]\n",
      "#\t\t'HSCHR19LRC_COX2_CTG1' [58791703]\n",
      "#\t\t'HG1486_PATCH' [51430360]\n",
      "#\t\t'HG1488_PATCH' [51341116]\n",
      "#\t\t'HG1487_PATCH' [51337749]\n",
      "#\t\t'HSCHR22_2_CTG1' [51316694]\n",
      "#\t\t'HG497_PATCH' [51306896]\n",
      "#\t\t'22' [51304566]\n",
      "#\t\t'HG329_PATCH' [51304556]\n",
      "#\t\t'HSCHR22_1_CTG1' [51292468]\n",
      "#\t\t'HSCHR22_1_CTG2' [51274623]\n",
      "#\t\t'HSCHR21_1_CTG1_1' [48142481]\n",
      "#\t\t'HSCHR21_4_CTG1_1' [48139453]\n",
      "#\t\t'HSCHR21_2_CTG1_1' [48136597]\n",
      "#\t\t'HSCHR21_3_CTG1_1' [48135689]\n",
      "#\t\t'21' [48129895]\n",
      "#\t\t'HG237_PATCH' [48129861]\n",
      "#\t\t'GL000192.1' [547496]\n",
      "#\t\t'GL000225.1' [211173]\n",
      "#\t\t'GL000194.1' [191469]\n",
      "#\t\t'GL000193.1' [189789]\n",
      "#\t\t'GL000200.1' [187035]\n",
      "#\t\t'GL000222.1' [186861]\n",
      "#\t\t'GL000212.1' [186858]\n",
      "#\t\t'GL000195.1' [182896]\n",
      "#\t\t'GL000223.1' [180455]\n",
      "#\t\t'GL000224.1' [179693]\n",
      "#\t\t'GL000219.1' [179198]\n",
      "#\t\t'GL000205.1' [174588]\n",
      "#\t\t'GL000215.1' [172545]\n",
      "#\t\t'GL000216.1' [172294]\n",
      "#\t\t'GL000217.1' [172149]\n",
      "#\t\t'GL000199.1' [169874]\n",
      "#\t\t'GL000211.1' [166566]\n",
      "#\t\t'GL000213.1' [164239]\n",
      "#\t\t'GL000220.1' [161802]\n",
      "#\t\t'GL000218.1' [161147]\n",
      "#\t\t'GL000209.1' [159169]\n",
      "#\t\t'GL000221.1' [155397]\n",
      "#\t\t'GL000214.1' [137718]\n",
      "#\t\t'GL000228.1' [129120]\n",
      "#\t\t'GL000227.1' [128374]\n",
      "#\t\t'GL000191.1' [106433]\n",
      "#\t\t'GL000208.1' [92689]\n",
      "#\t\t'GL000198.1' [90085]\n",
      "#\t\t'GL000204.1' [81310]\n",
      "#\t\t'GL000233.1' [45941]\n",
      "#\t\t'GL000237.1' [45867]\n",
      "#\t\t'GL000230.1' [43691]\n",
      "#\t\t'GL000242.1' [43523]\n",
      "#\t\t'GL000243.1' [43341]\n",
      "#\t\t'GL000241.1' [42152]\n",
      "#\t\t'GL000236.1' [41934]\n",
      "#\t\t'GL000240.1' [41933]\n",
      "#\t\t'GL000206.1' [41001]\n",
      "#\t\t'GL000232.1' [40652]\n",
      "#\t\t'GL000234.1' [40531]\n",
      "#\t\t'GL000202.1' [40103]\n",
      "#\t\t'GL000238.1' [39939]\n",
      "#\t\t'GL000244.1' [39929]\n",
      "#\t\t'GL000248.1' [39786]\n",
      "#\t\t'GL000196.1' [38914]\n",
      "#\t\t'GL000249.1' [38502]\n",
      "#\t\t'GL000246.1' [38154]\n",
      "#\t\t'GL000203.1' [37498]\n",
      "#\t\t'GL000197.1' [37175]\n",
      "#\t\t'GL000245.1' [36651]\n",
      "#\t\t'GL000247.1' [36422]\n",
      "#\t\t'GL000201.1' [36148]\n",
      "#\t\t'GL000235.1' [34474]\n",
      "#\t\t'GL000239.1' [33824]\n",
      "#\t\t'GL000210.1' [27682]\n",
      "#\t\t'GL000231.1' [27386]\n",
      "#\t\t'GL000229.1' [19913]\n",
      "#\t\t'MT' [16569]\n",
      "#\t\t'GL000226.1' [15008]\n",
      "#\t\t'GL000207.1' [4262]\n",
      "#-----------------------------------------------\n",
      "\n",
      "00:00:42.859\tPredicting variants\n",
      "00:00:42.880\tRunning multi-threaded mode (numThreads=4).\n",
      "00:00:43.531\tLoading sequences for chromosome '1' from file '/Users/selasady/tools/snpEff/./data/GRCh37.74/sequence.1.bin'\n",
      "00:00:43.532\tLoading sequences for chromosome '1' from file '/Users/selasady/tools/snpEff/./data/GRCh37.74/sequence.1.bin'\n",
      "00:00:45.572\tBuilding sequence tree for chromosome '1'\n",
      "00:00:45.573\tBuilding sequence tree for chromosome '1'\n",
      "00:00:45.607\tDone. Loaded 4433 sequences.\n",
      "00:00:45.608\tDone. Loaded 4433 sequences.\n",
      "00:00:45.785\tLoading sequences for chromosome '2' from file '/Users/selasady/tools/snpEff/./data/GRCh37.74/sequence.2.bin'\n",
      "00:00:47.797\tBuilding sequence tree for chromosome '2'\n",
      "00:00:47.812\tDone. Loaded 3341 sequences.\n",
      "00:00:47.816\tLoading sequences for chromosome '2' from file '/Users/selasady/tools/snpEff/./data/GRCh37.74/sequence.2.bin'\n",
      "00:00:49.840\tBuilding sequence tree for chromosome '2'\n",
      "00:00:49.845\tDone. Loaded 3341 sequences.\n",
      "00:00:49.992\tLoading sequences for chromosome '3' from file '/Users/selasady/tools/snpEff/./data/GRCh37.74/sequence.3.bin'\n",
      "00:00:51.961\tBuilding sequence tree for chromosome '3'\n",
      "00:00:51.964\tDone. Loaded 2508 sequences.\n",
      "00:00:51.964\tLoading sequences for chromosome '3' from file '/Users/selasady/tools/snpEff/./data/GRCh37.74/sequence.3.bin'\n",
      "00:00:53.746\tBuilding sequence tree for chromosome '3'\n",
      "00:00:53.750\tDone. Loaded 2508 sequences.\n",
      "00:00:53.998\tLoading sequences for chromosome '4' from file '/Users/selasady/tools/snpEff/./data/GRCh37.74/sequence.4.bin'\n",
      "00:00:55.264\tBuilding sequence tree for chromosome '4'\n",
      "00:00:55.267\tDone. Loaded 2317 sequences.\n",
      "00:00:55.269\tLoading sequences for chromosome '4' from file '/Users/selasady/tools/snpEff/./data/GRCh37.74/sequence.4.bin'\n",
      "00:00:56.516\tBuilding sequence tree for chromosome '4'\n",
      "00:00:56.519\tDone. Loaded 2317 sequences.\n",
      "00:00:56.573\tLoading sequences for chromosome '5' from file '/Users/selasady/tools/snpEff/./data/GRCh37.74/sequence.5.bin'\n",
      "00:00:56.578\tLoading sequences for chromosome '5' from file '/Users/selasady/tools/snpEff/./data/GRCh37.74/sequence.5.bin'\n",
      "00:00:57.974\tBuilding sequence tree for chromosome '5'\n",
      "00:00:57.974\tBuilding sequence tree for chromosome '5'\n",
      "00:00:57.977\tDone. Loaded 2479 sequences.\n",
      "00:00:57.978\tDone. Loaded 2479 sequences.\n",
      "00:00:58.081\tLoading sequences for chromosome '6' from file '/Users/selasady/tools/snpEff/./data/GRCh37.74/sequence.6.bin'\n",
      "00:00:58.098\tLoading sequences for chromosome '6' from file '/Users/selasady/tools/snpEff/./data/GRCh37.74/sequence.6.bin'\n",
      "00:00:59.376\tBuilding sequence tree for chromosome '6'\n",
      "00:00:59.376\tBuilding sequence tree for chromosome '6'\n",
      "00:00:59.380\tDone. Loaded 2610 sequences.\n",
      "00:00:59.381\tDone. Loaded 2610 sequences.\n",
      "00:00:59.456\tLoading sequences for chromosome '7' from file '/Users/selasady/tools/snpEff/./data/GRCh37.74/sequence.7.bin'\n",
      "00:01:00.815\tBuilding sequence tree for chromosome '7'\n",
      "00:01:00.818\tDone. Loaded 2492 sequences.\n",
      "00:01:00.821\tLoading sequences for chromosome '7' from file '/Users/selasady/tools/snpEff/./data/GRCh37.74/sequence.7.bin'\n",
      "00:01:02.206\tBuilding sequence tree for chromosome '7'\n",
      "00:01:02.210\tDone. Loaded 2492 sequences.\n",
      "00:01:02.340\tLoading sequences for chromosome '8' from file '/Users/selasady/tools/snpEff/./data/GRCh37.74/sequence.8.bin'\n",
      "00:01:03.509\tBuilding sequence tree for chromosome '8'\n",
      "00:01:03.511\tDone. Loaded 2114 sequences.\n",
      "00:01:03.512\tLoading sequences for chromosome '8' from file '/Users/selasady/tools/snpEff/./data/GRCh37.74/sequence.8.bin'\n",
      "00:01:04.694\tBuilding sequence tree for chromosome '8'\n",
      "00:01:04.697\tDone. Loaded 2114 sequences.\n",
      "00:01:04.773\tLoading sequences for chromosome '9' from file '/Users/selasady/tools/snpEff/./data/GRCh37.74/sequence.9.bin'\n",
      "00:01:04.777\tLoading sequences for chromosome '9' from file '/Users/selasady/tools/snpEff/./data/GRCh37.74/sequence.9.bin'\n",
      "00:01:05.642\tBuilding sequence tree for chromosome '9'\n",
      "00:01:05.642\tBuilding sequence tree for chromosome '9'\n",
      "00:01:05.644\tDone. Loaded 2157 sequences.\n",
      "00:01:05.644\tDone. Loaded 2157 sequences.\n",
      "00:01:05.682\tLoading sequences for chromosome '10' from file '/Users/selasady/tools/snpEff/./data/GRCh37.74/sequence.10.bin'\n",
      "00:01:06.751\tBuilding sequence tree for chromosome '10'\n",
      "00:01:06.754\tDone. Loaded 2034 sequences.\n",
      "00:01:06.756\tLoading sequences for chromosome '10' from file '/Users/selasady/tools/snpEff/./data/GRCh37.74/sequence.10.bin'\n",
      "00:01:07.862\tBuilding sequence tree for chromosome '10'\n",
      "00:01:07.865\tDone. Loaded 2034 sequences.\n",
      "00:01:07.979\tLoading sequences for chromosome '11' from file '/Users/selasady/tools/snpEff/./data/GRCh37.74/sequence.11.bin'\n",
      "00:01:09.130\tBuilding sequence tree for chromosome '11'\n",
      "00:01:09.133\tDone. Loaded 2670 sequences.\n",
      "00:01:09.134\tLoading sequences for chromosome '11' from file '/Users/selasady/tools/snpEff/./data/GRCh37.74/sequence.11.bin'\n",
      "00:01:10.351\tBuilding sequence tree for chromosome '11'\n",
      "00:01:10.355\tDone. Loaded 2670 sequences.\n",
      "00:01:10.385\tLoading sequences for chromosome '12' from file '/Users/selasady/tools/snpEff/./data/GRCh37.74/sequence.12.bin'\n",
      "00:01:10.386\tLoading sequences for chromosome '12' from file '/Users/selasady/tools/snpEff/./data/GRCh37.74/sequence.12.bin'\n",
      "00:01:11.665\tBuilding sequence tree for chromosome '12'\n",
      "00:01:11.665\tBuilding sequence tree for chromosome '12'\n",
      "00:01:11.668\tDone. Loaded 2365 sequences.\n",
      "00:01:11.669\tDone. Loaded 2365 sequences.\n",
      "00:01:11.732\tLoading sequences for chromosome '13' from file '/Users/selasady/tools/snpEff/./data/GRCh37.74/sequence.13.bin'\n",
      "00:01:11.776\tLoading sequences for chromosome '13' from file '/Users/selasady/tools/snpEff/./data/GRCh37.74/sequence.13.bin'\n",
      "00:01:12.380\tBuilding sequence tree for chromosome '13'\n",
      "00:01:12.382\tDone. Loaded 1271 sequences.\n",
      "00:01:12.382\tBuilding sequence tree for chromosome '13'\n",
      "00:01:12.384\tDone. Loaded 1271 sequences.\n",
      "00:01:12.409\tLoading sequences for chromosome '14' from file '/Users/selasady/tools/snpEff/./data/GRCh37.74/sequence.14.bin'\n",
      "00:01:13.150\tBuilding sequence tree for chromosome '14'\n",
      "00:01:13.152\tDone. Loaded 2015 sequences.\n",
      "00:01:13.154\tLoading sequences for chromosome '14' from file '/Users/selasady/tools/snpEff/./data/GRCh37.74/sequence.14.bin'\n",
      "00:01:13.860\tBuilding sequence tree for chromosome '14'\n",
      "00:01:13.863\tDone. Loaded 2015 sequences.\n",
      "00:01:13.886\tLoading sequences for chromosome '15' from file '/Users/selasady/tools/snpEff/./data/GRCh37.74/sequence.15.bin'\n",
      "00:01:13.886\tLoading sequences for chromosome '15' from file '/Users/selasady/tools/snpEff/./data/GRCh37.74/sequence.15.bin'\n",
      "00:01:14.796\tBuilding sequence tree for chromosome '15'\n",
      "00:01:14.796\tBuilding sequence tree for chromosome '15'\n",
      "00:01:14.798\tDone. Loaded 1677 sequences.\n",
      "00:01:14.798\tDone. Loaded 1677 sequences.\n",
      "00:01:14.831\tLoading sequences for chromosome '16' from file '/Users/selasady/tools/snpEff/./data/GRCh37.74/sequence.16.bin'\n",
      "00:01:15.662\tBuilding sequence tree for chromosome '16'\n",
      "00:01:15.664\tDone. Loaded 1988 sequences.\n",
      "00:01:15.665\tLoading sequences for chromosome '16' from file '/Users/selasady/tools/snpEff/./data/GRCh37.74/sequence.16.bin'\n",
      "00:01:16.357\tBuilding sequence tree for chromosome '16'\n",
      "00:01:16.359\tDone. Loaded 1988 sequences.\n",
      "00:01:16.381\tLoading sequences for chromosome '17' from file '/Users/selasady/tools/snpEff/./data/GRCh37.74/sequence.17.bin'\n",
      "00:01:17.216\tBuilding sequence tree for chromosome '17'\n",
      "00:01:17.219\tDone. Loaded 2313 sequences.\n",
      "00:01:17.220\tLoading sequences for chromosome '17' from file '/Users/selasady/tools/snpEff/./data/GRCh37.74/sequence.17.bin'\n",
      "00:01:18.020\tBuilding sequence tree for chromosome '17'\n",
      "00:01:18.023\tDone. Loaded 2313 sequences.\n",
      "00:01:18.045\tLoading sequences for chromosome '18' from file '/Users/selasady/tools/snpEff/./data/GRCh37.74/sequence.18.bin'\n",
      "00:01:18.046\tLoading sequences for chromosome '18' from file '/Users/selasady/tools/snpEff/./data/GRCh37.74/sequence.18.bin'\n",
      "00:01:18.761\tBuilding sequence tree for chromosome '18'\n",
      "00:01:18.762\tBuilding sequence tree for chromosome '18'\n",
      "00:01:18.763\tDone. Loaded 1117 sequences.\n",
      "00:01:18.763\tDone. Loaded 1117 sequences.\n",
      "00:01:18.800\tLoading sequences for chromosome '19' from file '/Users/selasady/tools/snpEff/./data/GRCh37.74/sequence.19.bin'\n",
      "00:01:19.296\tBuilding sequence tree for chromosome '19'\n",
      "00:01:19.299\tDone. Loaded 2460 sequences.\n",
      "00:01:19.300\tLoading sequences for chromosome '19' from file '/Users/selasady/tools/snpEff/./data/GRCh37.74/sequence.19.bin'\n",
      "00:01:19.777\tBuilding sequence tree for chromosome '19'\n",
      "00:01:19.780\tDone. Loaded 2460 sequences.\n",
      "00:01:19.788\tLoading sequences for chromosome '20' from file '/Users/selasady/tools/snpEff/./data/GRCh37.74/sequence.20.bin'\n",
      "00:01:20.183\tBuilding sequence tree for chromosome '20'\n",
      "00:01:20.185\tDone. Loaded 1344 sequences.\n",
      "00:01:20.185\tLoading sequences for chromosome '20' from file '/Users/selasady/tools/snpEff/./data/GRCh37.74/sequence.20.bin'\n",
      "00:01:20.565\tBuilding sequence tree for chromosome '20'\n",
      "00:01:20.566\tDone. Loaded 1344 sequences.\n",
      "00:01:20.571\tLoading sequences for chromosome '21' from file '/Users/selasady/tools/snpEff/./data/GRCh37.74/sequence.21.bin'\n",
      "00:01:20.571\tLoading sequences for chromosome '21' from file '/Users/selasady/tools/snpEff/./data/GRCh37.74/sequence.21.bin'\n",
      "00:01:20.845\tBuilding sequence tree for chromosome '21'\n",
      "00:01:20.845\tBuilding sequence tree for chromosome '21'\n",
      "00:01:20.846\tDone. Loaded 864 sequences.\n",
      "00:01:20.846\tDone. Loaded 864 sequences.\n",
      "00:01:20.855\tLoading sequences for chromosome '22' from file '/Users/selasady/tools/snpEff/./data/GRCh37.74/sequence.22.bin'\n",
      "00:01:20.859\tLoading sequences for chromosome '22' from file '/Users/selasady/tools/snpEff/./data/GRCh37.74/sequence.22.bin'\n",
      "00:01:21.197\tBuilding sequence tree for chromosome '22'\n",
      "00:01:21.197\tBuilding sequence tree for chromosome '22'\n",
      "00:01:21.198\tDone. Loaded 1276 sequences.\n",
      "00:01:21.198\tDone. Loaded 1276 sequences.\n",
      "00:01:21.212\tLoading sequences for chromosome 'X' from file '/Users/selasady/tools/snpEff/./data/GRCh37.74/sequence.X.bin'\n",
      "00:01:21.983\tBuilding sequence tree for chromosome 'X'\n",
      "00:01:21.986\tDone. Loaded 2359 sequences.\n",
      "00:01:21.990\tLoading sequences for chromosome 'X' from file '/Users/selasady/tools/snpEff/./data/GRCh37.74/sequence.X.bin'\n",
      "00:01:22.600\tBuilding sequence tree for chromosome 'X'\n",
      "00:01:22.603\tDone. Loaded 2359 sequences.\n",
      "00:01:22.698\tdone.\n",
      "00:01:22.700\tLogging\n",
      "00:01:23.711\tChecking for updates...\n"
     ]
    }
   ],
   "source": [
    "# command to run snpeff\n",
    "!java -Xmx16g -jar /Users/selasady/tools/snpEff/snpEff.jar -t -v -noStats GRCh37.74 distinct_vars.vcf > distinct_snpeff.vcf"
   ]
  },
  {
   "cell_type": "markdown",
   "metadata": {},
   "source": [
    "### Output SnpEff effects as tsv file, one effect per line"
   ]
  },
  {
   "cell_type": "markdown",
   "metadata": {},
   "source": [
    "Convert the snpeff from vcf format to tsv, with one line per effect, instead of grouped with multiple effects for each position. \n",
    "\n",
    "NOTE: vcfEffOnePerLine.pl does not work properly in older verions of SnpEff, make sure you have downloaded the latest version. The perl script is containted within the /snpeff/scripts directory that comes with snpeff. "
   ]
  },
  {
   "cell_type": "code",
   "execution_count": 15,
   "metadata": {
    "collapsed": false
   },
   "outputs": [],
   "source": [
    "cat distinct_snpeff.vcf \\\n",
    "    | /Users/selasady/tools/snpEff/scripts/vcfEffOnePerLine.pl \\\n",
    "    | java -jar /Users/selasady/tools/snpEff/SnpSift.jar extractFields \\\n",
    "    - CHROM POS REF ALT \"ANN[*].GENE\" \"ANN[*].GENEID\" \"ANN[*].EFFECT\" \"ANN[*].IMPACT\" \\\n",
    "    \"ANN[*].FEATURE\" \"ANN[*].FEATUREID\" \"ANN[*].BIOTYPE\" \"ANN[*].RANK\" \\\n",
    "    \"ANN[*].HGVS_C\" \"ANN[*].HGVS_P\" > distinct.tsv "
   ]
  },
  {
   "cell_type": "markdown",
   "metadata": {},
   "source": [
    "### Remove Header and convert to CSV"
   ]
  },
  {
   "cell_type": "markdown",
   "metadata": {},
   "source": [
    "To prepare for upload to HDFS and conversion into impala table, the header will be removed so we can specify our own column names in the schema below and parse. "
   ]
  },
  {
   "cell_type": "code",
   "execution_count": 18,
   "metadata": {
    "collapsed": false
   },
   "outputs": [],
   "source": [
    "!sed '1d' distinct.tsv | tr '\\t' ',' > distinct_snpeff.csv"
   ]
  },
  {
   "cell_type": "markdown",
   "metadata": {},
   "source": [
    "## Save Results as an Impala Table"
   ]
  },
  {
   "cell_type": "markdown",
   "metadata": {},
   "source": [
    "### Upload Results to HDFS"
   ]
  },
  {
   "cell_type": "markdown",
   "metadata": {},
   "source": [
    "The CSV file is uploaded to HDFS, in a directory called 'snpeff'. "
   ]
  },
  {
   "cell_type": "code",
   "execution_count": 34,
   "metadata": {
    "collapsed": false
   },
   "outputs": [
    {
     "name": "stderr",
     "output_type": "stream",
     "text": [
      "WARNING:requests.packages.urllib3.connectionpool:Connection pool is full, discarding connection: glados19.systemsbiology.net\n"
     ]
    },
    {
     "data": {
      "text/plain": [
       "'/user/selasady/snpeff/distinct_snpeff.csv'"
      ]
     },
     "execution_count": 34,
     "metadata": {},
     "output_type": "execute_result"
    }
   ],
   "source": [
    "# create directory\n",
    "hdfs.mkdir('/user/selasady/snpeff')\n",
    "\n",
    "# upload file\n",
    "path = '/user/selasady/snpeff'\n",
    "file_name = 'distinct_snpeff.csv'\n",
    "admix_file = path + '/' + file_name\n",
    "\n",
    "# upload admix file\n",
    "hdfs.put(path, file_name, verbose=True)"
   ]
  },
  {
   "cell_type": "markdown",
   "metadata": {},
   "source": [
    "### Convert TSV into Ibis Object"
   ]
  },
  {
   "cell_type": "markdown",
   "metadata": {},
   "source": [
    "Once the TSV file is in HDFS, we can use ibis to convert it into an impala table by pairing the file with a schema. "
   ]
  },
  {
   "cell_type": "code",
   "execution_count": 35,
   "metadata": {
    "collapsed": false
   },
   "outputs": [],
   "source": [
    "# define table schema for tsv file\n",
    "schema = ibis.schema([\n",
    "    ('chrom', 'string'), \n",
    "    ('pos', 'int32'),\n",
    "    ('ref', 'string'),\n",
    "    ('alt', 'string'),\n",
    "    ('gene', 'string'),\n",
    "    ('gene_id', 'string'),\n",
    "    ('effect', 'string'),\n",
    "    ('impact', 'string'),\n",
    "    ('feature', 'string'),\n",
    "    ('feature_id', 'string'),\n",
    "    ('biotype', 'string'),\n",
    "    ('rank', 'int32'),\n",
    "    ('hgvs_c', 'string'),\n",
    "    ('hgvs_p', 'string')\n",
    "])\n",
    "\n",
    "# create ibis object from  tsv\n",
    "snpeff = con.delimited_file(path, schema)"
   ]
  },
  {
   "cell_type": "code",
   "execution_count": 36,
   "metadata": {
    "collapsed": false
   },
   "outputs": [
    {
     "name": "stdout",
     "output_type": "stream",
     "text": [
      "  chrom     pos ref alt           gene                          gene_id  \\\n",
      "0     1   64548   A   C          OR4F5                  ENSG00000186092   \n",
      "1     1   64548   A   C        OR4G11P                  ENSG00000240361   \n",
      "2     1   64548   A   C  OR4G11P-OR4F5  ENSG00000240361-ENSG00000186092   \n",
      "3     1  149954   G   C  RP11-34P13.13                  ENSG00000241860   \n",
      "4     1  149954   G   C  RP11-34P13.13                  ENSG00000241860   \n",
      "\n",
      "                    effect    impact            feature  \\\n",
      "0    upstream_gene_variant  MODIFIER         transcript   \n",
      "1  downstream_gene_variant  MODIFIER         transcript   \n",
      "2        intergenic_region  MODIFIER  intergenic_region   \n",
      "3    upstream_gene_variant  MODIFIER         transcript   \n",
      "4    upstream_gene_variant  MODIFIER         transcript   \n",
      "\n",
      "                        feature_id                 biotype  rank     hgvs_c  \\\n",
      "0                  ENST00000335137          protein_coding    -1    c.-1A>C   \n",
      "1                  ENST00000492842  unprocessed_pseudogene    -1  n.*940A>C   \n",
      "2  ENSG00000240361-ENSG00000186092                            -1              \n",
      "3                  ENST00000484859               antisense    -1    n.-1C>G   \n",
      "4                  ENST00000490997               antisense    -1    n.-1C>G   \n",
      "\n",
      "  hgvs_p  \n",
      "0         \n",
      "1         \n",
      "2         \n",
      "3         \n",
      "4         \n"
     ]
    }
   ],
   "source": [
    "print snpeff.limit(5)"
   ]
  },
  {
   "cell_type": "markdown",
   "metadata": {},
   "source": [
    "### Create impala table"
   ]
  },
  {
   "cell_type": "markdown",
   "metadata": {},
   "source": [
    "Once the TSV file is paired with a schema, we can save it as a table in impala. "
   ]
  },
  {
   "cell_type": "code",
   "execution_count": 38,
   "metadata": {
    "collapsed": false
   },
   "outputs": [],
   "source": [
    "con.create_table('coding_consequences', snpeff, database='p7_ref_grch37')"
   ]
  }
 ],
 "metadata": {
  "kernelspec": {
   "display_name": "Python 2",
   "language": "python",
   "name": "python2"
  },
  "language_info": {
   "codemirror_mode": {
    "name": "ipython",
    "version": 2
   },
   "file_extension": ".py",
   "mimetype": "text/x-python",
   "name": "python",
   "nbconvert_exporter": "python",
   "pygments_lexer": "ipython2",
   "version": "2.7.9"
  }
 },
 "nbformat": 4,
 "nbformat_minor": 0
}
