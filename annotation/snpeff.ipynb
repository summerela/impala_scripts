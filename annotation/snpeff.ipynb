{
 "cells": [
  {
   "cell_type": "markdown",
   "metadata": {},
   "source": [
    "# Run SnpEff"
   ]
  },
  {
   "cell_type": "markdown",
   "metadata": {},
   "source": [
    "Genetic variant annotation and effect prediction toolbox. It annotates and predicts the effects of variants on genes (such as amino acid changes). "
   ]
  },
  {
   "cell_type": "markdown",
   "metadata": {
    "collapsed": true
   },
   "source": [
    "### Run VCF Through SnpEff"
   ]
  },
  {
   "cell_type": "markdown",
   "metadata": {},
   "source": [
    "Requires: \n",
    "- SnpEff: http://snpeff.sourceforge.net/\n",
    "- Reference (downloaded automoatically) GRCh37.74 to match vcf files"
   ]
  },
  {
   "cell_type": "code",
   "execution_count": 1,
   "metadata": {
    "collapsed": true
   },
   "outputs": [],
   "source": [
    "# set working directory\n",
    "import os\n",
    "os.chdir('/Users/selasady/impala_scripts/annotation/')"
   ]
  },
  {
   "cell_type": "markdown",
   "metadata": {},
   "source": [
    "### Create VCF from distinct kaviar variants"
   ]
  },
  {
   "cell_type": "markdown",
   "metadata": {},
   "source": [
    "For each distinct variant found in ISB's Kaivar table, a vcf file will be created and run through SnpEff. "
   ]
  },
  {
   "cell_type": "markdown",
   "metadata": {},
   "source": [
    "### Connect to Impala"
   ]
  },
  {
   "cell_type": "code",
   "execution_count": 4,
   "metadata": {
    "collapsed": true
   },
   "outputs": [],
   "source": [
    "import ibis\n",
    "import os\n",
    "\n",
    "# connect to impala with ibis\n",
    "hdfs_port = os.environ.get('glados20', 50070)\n",
    "hdfs = ibis.hdfs_connect(host='glados20', port=hdfs_port, user='selasady')\n",
    "con = ibis.impala.connect(host='glados19', port=21050, timeout=120)\n",
    "\n",
    "# enable interactive mode\n",
    "ibis.options.interactive = True"
   ]
  },
  {
   "cell_type": "markdown",
   "metadata": {},
   "source": [
    "### Download Distinct Variant Table"
   ]
  },
  {
   "cell_type": "code",
   "execution_count": 6,
   "metadata": {
    "collapsed": false
   },
   "outputs": [],
   "source": [
    "# create ibis object from distinct vars table\n",
    "distinct_vars = con.table('global_distinct', database='p7_ref_grch37')"
   ]
  },
  {
   "cell_type": "code",
   "execution_count": 50,
   "metadata": {
    "collapsed": false
   },
   "outputs": [
    {
     "name": "stdout",
     "output_type": "stream",
     "text": [
      "  chrom        pos     ref     alt  kav_freq\n",
      "0     3  119260529       T       C  0.000115\n",
      "1     5  143305490       A       T  0.000115\n",
      "2     4   13473108       A      AG  0.000038\n",
      "3     3  148798712  ATGCAT  ATGTAT  0.000038\n",
      "4     5   26187494       T       C  0.000077\n"
     ]
    }
   ],
   "source": [
    "print distinct_vars.limit(5)"
   ]
  },
  {
   "cell_type": "code",
   "execution_count": 22,
   "metadata": {
    "collapsed": true
   },
   "outputs": [],
   "source": [
    "# download table from ibis table connection object\n",
    "distinct_df = distinct_vars.execute()"
   ]
  },
  {
   "cell_type": "code",
   "execution_count": 40,
   "metadata": {
    "collapsed": false
   },
   "outputs": [],
   "source": [
    "# add varaint ID field\n",
    "distinct_df['ID'] = distinct_df[['chrom', 'pos', 'ref', 'alt']].apply(lambda row: ':'.join(map(str, row)), axis=1)"
   ]
  },
  {
   "cell_type": "markdown",
   "metadata": {},
   "source": [
    "### Output Distinct Variants as VCF File"
   ]
  },
  {
   "cell_type": "code",
   "execution_count": 53,
   "metadata": {
    "collapsed": false
   },
   "outputs": [],
   "source": [
    "import time\n",
    "import pandas as pd\n",
    "\n",
    "# disable extraneous pandas warning\n",
    "pd.options.mode.chained_assignment = None\n",
    "\n",
    "vcf_out = 'distinct_vars.vcf'\n",
    "\n",
    "# create vcf header\n",
    "def create_header(outfile_name):\n",
    "   # create vcf header\n",
    "    lines=[]\n",
    "    lines.append('##fileformat=VCFv4.0')\n",
    "    lines.append('##fileDate='+ time.strftime(\"%y%m%d\"))\n",
    "    lines.append('##reference=grch37 v.74 \\n')\n",
    "    header = '\\n'.join(lines)\n",
    "    out = open(outfile_name, 'wb')\n",
    "    out.write(header)\n",
    "    out.close()\n",
    "               \n",
    "# create vcf and append to file with header\n",
    "def impala_to_vcf(input_df, outfile_name):\n",
    "    # these columns are output to vcf file\n",
    "    df = input_df[['chrom', 'pos', 'ID', 'ref', 'alt']]\n",
    "    # add blank columns for vcf format and format col names\n",
    "    df['QUAL'] = '30'\n",
    "    df['FILTER'] = 'PASS'\n",
    "    df['INFO'] = '.'\n",
    "    df['FORMAT'] = 'GT'\n",
    "    df['GT'] = '0/1'\n",
    "    df.columns = [x.upper() for x in df.columns]\n",
    "    df=df.rename(columns = {'CHROM':'#CHROM'})\n",
    "    # order chromosomes to match ref fastas\n",
    "    chroms = ['1', '2', '3', '4', '5', '6', '7', '8', '9', '10', '11', '12', '13', '14', '15', '16', '17', '18', '19', '20', '21', '22', 'X', 'Y', 'M', 'MT']\n",
    "    df['#CHROM'] = df['#CHROM'].astype(\"category\")\n",
    "    df['#CHROM'].cat.set_categories(chroms, inplace=True)\n",
    "    # sort file by chrom then pos\n",
    "    df = df.sort(['#CHROM', 'POS'])\n",
    "    # write to file for conversion to vcf\n",
    "    df.to_csv(outfile_name, header=True, encoding='utf-8', sep=\"\\t\", index=False, mode='a')\n",
    "              \n",
    "create_header(vcf_out)\n",
    "impala_to_vcf(distinct_df, vcf_out)"
   ]
  },
  {
   "cell_type": "code",
   "execution_count": 54,
   "metadata": {
    "collapsed": false
   },
   "outputs": [
    {
     "name": "stdout",
     "output_type": "stream",
     "text": [
      "00:00:00.000\tSnpEff version SnpEff 4.1a (build 2015-01-14), by Pablo Cingolani\n",
      "00:00:00.003\tCommand: 'ann'\n",
      "00:00:00.012\tReading configuration file 'snpEff.config'. Genome: 'GRCh37.74'\n",
      "00:00:00.299\tdone\n",
      "00:00:00.300\tReading database for genome version 'GRCh37.74' from file '/Users/selasady/tools/snpEff/./data/GRCh37.74/snpEffectPredictor.bin' (this might take a while)\n",
      "00:00:20.061\tdone\n",
      "00:00:20.091\tReading NextProt database from file '/Users/selasady/tools/snpEff/./data/GRCh37.74/nextProt.bin'\n",
      "00:00:21.020\tNextProt database: 550248 markers loaded.\n",
      "00:00:21.021\tAdding transcript info to NextProt markers.\n",
      "00:00:21.458\tNextProt database: 742952 markers added.\n",
      "00:00:21.458\t\tLoading PWMs from : /Users/selasady/tools/snpEff/./data/GRCh37.74/pwms.bin\n",
      "00:00:21.476\t\tLoading Motifs from file '/Users/selasady/tools/snpEff/./data/GRCh37.74/motif.bin'\n",
      "00:00:22.011\t\tMotif database: 284122 markers loaded.\n",
      "00:00:22.011\tBuilding interval forest\n",
      "00:00:35.881\tdone.\n",
      "00:00:35.882\tGenome stats :\n",
      "#-----------------------------------------------\n",
      "# Genome name                : 'Homo_sapiens'\n",
      "# Genome version             : 'GRCh37.74'\n",
      "# Has protein coding info    : true\n",
      "# Genes                      : 63677\n",
      "# Protein coding genes       : 23172\n",
      "#-----------------------------------------------\n",
      "# Transcripts                : 215170\n",
      "# Avg. transcripts per gene  : 3.38\n",
      "#-----------------------------------------------\n",
      "# Checked transcripts        : \n",
      "#               AA sequences : 104267 ( 114.81% )\n",
      "#              DNA sequences : 179360 ( 83.36% )\n",
      "#-----------------------------------------------\n",
      "# Protein coding transcripts : 90818\n",
      "#              Length errors :  14374 ( 15.83% )\n",
      "#  STOP codons in CDS errors :     27 ( 0.03% )\n",
      "#         START codon errors :   8717 ( 9.60% )\n",
      "#        STOP codon warnings :  21812 ( 24.02% )\n",
      "#              UTR sequences :  87726 ( 40.77% )\n",
      "#               Total Errors :  21325 ( 23.48% )\n",
      "#-----------------------------------------------\n",
      "# Cds                        : 791977\n",
      "# Exons                      : 1306656\n",
      "# Exons with sequence        : 1306656\n",
      "# Exons without sequence     : 0\n",
      "# Avg. exons per transcript  : 6.07\n",
      "#-----------------------------------------------\n",
      "# Number of chromosomes      : 297\n",
      "# Chromosomes names [sizes]  :\n",
      "#\t\t'HG1292_PATCH' [250051446]\n",
      "#\t\t'HG1287_PATCH' [249964560]\n",
      "#\t\t'HG1473_PATCH' [249272860]\n",
      "#\t\t'HG1471_PATCH' [249269426]\n",
      "#\t\t'HSCHR1_1_CTG31' [249267852]\n",
      "#\t\t'HSCHR1_2_CTG31' [249266025]\n",
      "#\t\t'HSCHR1_3_CTG31' [249262108]\n",
      "#\t\t'HG999_2_PATCH' [249259300]\n",
      "#\t\t'HG989_PATCH' [249257867]\n",
      "#\t\t'HG999_1_PATCH' [249257505]\n",
      "#\t\t'HG1472_PATCH' [249251918]\n",
      "#\t\t'1' [249250621]\n",
      "#\t\t'HG1293_PATCH' [249140837]\n",
      "#\t\t'HG686_PATCH' [243297375]\n",
      "#\t\t'HSCHR2_1_CTG12' [243216362]\n",
      "#\t\t'HSCHR2_2_CTG12' [243205453]\n",
      "#\t\t'HSCHR2_1_CTG1' [243205406]\n",
      "#\t\t'HG953_PATCH' [243199374]\n",
      "#\t\t'2' [243199373]\n",
      "#\t\t'HG1007_PATCH' [243135680]\n",
      "#\t\t'HG280_PATCH' [198070731]\n",
      "#\t\t'HG991_PATCH' [198049698]\n",
      "#\t\t'HSCHR3_1_CTG2_1' [198032968]\n",
      "#\t\t'HG186_PATCH' [198025845]\n",
      "#\t\t'HSCHR3_1_CTG1' [198024351]\n",
      "#\t\t'HG1091_PATCH' [198022491]\n",
      "#\t\t'HG325_PATCH' [198022431]\n",
      "#\t\t'3' [198022430]\n",
      "#\t\t'HG957_PATCH' [198022419]\n",
      "#\t\t'HG1032_PATCH' [191235710]\n",
      "#\t\t'HSCHR4_2_CTG9' [191176053]\n",
      "#\t\t'HSCHR4_1_CTG12' [191166925]\n",
      "#\t\t'HSCHR4_1_CTG6' [191164559]\n",
      "#\t\t'HG174_HG254_PATCH' [191160487]\n",
      "#\t\t'4' [191154276]\n",
      "#\t\t'HG706_PATCH' [191094783]\n",
      "#\t\t'HSCHR4_1' [191036603]\n",
      "#\t\t'HSCHR5_2_CTG1' [180935403]\n",
      "#\t\t'HSCHR5_1_CTG2' [180931866]\n",
      "#\t\t'HSCHR5_3_CTG1' [180924140]\n",
      "#\t\t'HSCHR5_1_CTG5' [180920737]\n",
      "#\t\t'HG1082_HG167_PATCH' [180915278]\n",
      "#\t\t'HG1063_PATCH' [180915263]\n",
      "#\t\t'5' [180915260]\n",
      "#\t\t'HSCHR5_1_CTG1' [180130563]\n",
      "#\t\t'HSCHR6_MHC_MCF' [171285426]\n",
      "#\t\t'HSCHR6_MHC_MANN' [171268956]\n",
      "#\t\t'HSCHR6_MHC_SSTO' [171254422]\n",
      "#\t\t'HG357_PATCH' [171241738]\n",
      "#\t\t'HG27_PATCH' [171147516]\n",
      "#\t\t'HSCHR6_2_CTG5' [171145319]\n",
      "#\t\t'HSCHR6_1_CTG5' [171142899]\n",
      "#\t\t'6' [171115067]\n",
      "#\t\t'HG1304_PATCH' [171115067]\n",
      "#\t\t'HG1322_PATCH' [171106913]\n",
      "#\t\t'HSCHR6_MHC_APD' [171098467]\n",
      "#\t\t'HSCHR6_MHC_DBB' [171092990]\n",
      "#\t\t'HSCHR6_MHC_QBL' [171043904]\n",
      "#\t\t'HSCHR6_MHC_COX' [171036692]\n",
      "#\t\t'HG193_PATCH' [171015169]\n",
      "#\t\t'HG7_PATCH' [159202172]\n",
      "#\t\t'HG946_PATCH' [159170352]\n",
      "#\t\t'HG14_PATCH' [159146664]\n",
      "#\t\t'HSCHR7_1_CTG6' [159144671]\n",
      "#\t\t'HG115_PATCH' [159141496]\n",
      "#\t\t'7' [159138663]\n",
      "#\t\t'HG736_PATCH' [159138649]\n",
      "#\t\t'HG444_PATCH' [159138589]\n",
      "#\t\t'HG1308_PATCH' [159117558]\n",
      "#\t\t'HG1257_PATCH' [158974302]\n",
      "#\t\t'HG1436_HG1432_PATCH' [155334750]\n",
      "#\t\t'HG1443_HG1444_PATCH' [155322430]\n",
      "#\t\t'HG1441_PATCH' [155280808]\n",
      "#\t\t'HG1425_PATCH' [155278471]\n",
      "#\t\t'HG1434_PATCH' [155277317]\n",
      "#\t\t'HG1458_PATCH' [155276628]\n",
      "#\t\t'HG1426_PATCH' [155276017]\n",
      "#\t\t'HG1423_PATCH' [155273746]\n",
      "#\t\t'HG1462_PATCH' [155272710]\n",
      "#\t\t'HG1424_PATCH' [155271369]\n",
      "#\t\t'HG1442_PATCH' [155270668]\n",
      "#\t\t'HG1440_PATCH' [155270604]\n",
      "#\t\t'HG29_PATCH' [155270596]\n",
      "#\t\t'HG1439_PATCH' [155270575]\n",
      "#\t\t'HG1438_PATCH' [155270574]\n",
      "#\t\t'HG1490_PATCH' [155270560]\n",
      "#\t\t'X' [155270560]\n",
      "#\t\t'HG375_PATCH' [155270558]\n",
      "#\t\t'HG1435_PATCH' [155270370]\n",
      "#\t\t'HG1437_PATCH' [155270150]\n",
      "#\t\t'HG1453_PATCH' [155264939]\n",
      "#\t\t'HG1463_PATCH' [155256818]\n",
      "#\t\t'HG1497_PATCH' [155209367]\n",
      "#\t\t'HG1459_PATCH' [155183809]\n",
      "#\t\t'HG480_HG481_PATCH' [155131142]\n",
      "#\t\t'HG1433_PATCH' [154987127]\n",
      "#\t\t'HG19_PATCH' [146439382]\n",
      "#\t\t'HG104_HG975_PATCH' [146391291]\n",
      "#\t\t'HG1699_PATCH' [146364052]\n",
      "#\t\t'8' [146364022]\n",
      "#\t\t'HG418_PATCH' [146363965]\n",
      "#\t\t'HG243_PATCH' [146193542]\n",
      "#\t\t'HG998_1_PATCH' [141245758]\n",
      "#\t\t'HG1502_PATCH' [141244527]\n",
      "#\t\t'HSCHR9_1_CTG1' [141228243]\n",
      "#\t\t'HG998_2_PATCH' [141226881]\n",
      "#\t\t'HG1501_PATCH' [141226402]\n",
      "#\t\t'HSCHR9_3_CTG35' [141224529]\n",
      "#\t\t'HG79_PATCH' [141223844]\n",
      "#\t\t'HSCHR9_1_CTG35' [141221627]\n",
      "#\t\t'HG1500_PATCH' [141220264]\n",
      "#\t\t'HSCHR9_2_CTG35' [141219511]\n",
      "#\t\t'9' [141213431]\n",
      "#\t\t'HG962_PATCH' [141213431]\n",
      "#\t\t'HG50_PATCH' [141126899]\n",
      "#\t\t'HSCHR10_1_CTG2' [135582047]\n",
      "#\t\t'HG1479_PATCH' [135573846]\n",
      "#\t\t'HSCHR10_1_CTG5' [135550810]\n",
      "#\t\t'HG995_PATCH' [135540039]\n",
      "#\t\t'HG905_PATCH' [135538807]\n",
      "#\t\t'HG979_PATCH' [135534996]\n",
      "#\t\t'HG871_PATCH' [135534976]\n",
      "#\t\t'HG311_PATCH' [135534748]\n",
      "#\t\t'HG339_PATCH' [135534748]\n",
      "#\t\t'10' [135534747]\n",
      "#\t\t'HG544_PATCH' [135287817]\n",
      "#\t\t'HG865_PATCH' [135091575]\n",
      "#\t\t'HG281_PATCH' [135068883]\n",
      "#\t\t'HG151_NOVEL_TEST' [135017590]\n",
      "#\t\t'HG142_HG150_NOVEL_TEST' [135014122]\n",
      "#\t\t'HSCHR11_1_CTG1_1' [135012249]\n",
      "#\t\t'HG122_PATCH' [135006522]\n",
      "#\t\t'HG348_PATCH' [135006518]\n",
      "#\t\t'HG256_PATCH' [135006517]\n",
      "#\t\t'HG305_PATCH' [135006517]\n",
      "#\t\t'11' [135006516]\n",
      "#\t\t'HG306_PATCH' [135006516]\n",
      "#\t\t'HG873_PATCH' [135006516]\n",
      "#\t\t'HG299_PATCH' [135006515]\n",
      "#\t\t'HG388_HG400_PATCH' [135006515]\n",
      "#\t\t'HG414_PATCH' [135006513]\n",
      "#\t\t'HG1074_PATCH' [134983033]\n",
      "#\t\t'HG536_PATCH' [134975178]\n",
      "#\t\t'HSCHR12_2_CTG2' [133883843]\n",
      "#\t\t'HSCHR12_1_CTG2_1' [133861054]\n",
      "#\t\t'HSCHR12_2_CTG2_1' [133858944]\n",
      "#\t\t'HSCHR12_3_CTG2_1' [133858072]\n",
      "#\t\t'HSCHR12_1_CTG2' [133857954]\n",
      "#\t\t'HSCHR12_1_CTG5' [133857937]\n",
      "#\t\t'HG996_PATCH' [133856340]\n",
      "#\t\t'HG344_PATCH' [133853754]\n",
      "#\t\t'12' [133851895]\n",
      "#\t\t'HG1595_PATCH' [133851793]\n",
      "#\t\t'HG1133_PATCH' [133848181]\n",
      "#\t\t'HSCHR12_1_CTG1' [133796744]\n",
      "#\t\t'HG858_PATCH' [133792729]\n",
      "#\t\t'HG1211_PATCH' [132375896]\n",
      "#\t\t'HG531_PATCH' [115179803]\n",
      "#\t\t'13' [115169878]\n",
      "#\t\t'HG1592_PATCH' [107407662]\n",
      "#\t\t'14' [107349540]\n",
      "#\t\t'HSCHR15_1_CTG8' [102543529]\n",
      "#\t\t'HSCHR15_1_CTG4' [102543012]\n",
      "#\t\t'HG971_PATCH' [102534416]\n",
      "#\t\t'15' [102531392]\n",
      "#\t\t'HSCHR16_1_CTG3_1' [90367188]\n",
      "#\t\t'HSCHR16_2_CTG3_1' [90359885]\n",
      "#\t\t'HG1208_PATCH' [90354761]\n",
      "#\t\t'16' [90354753]\n",
      "#\t\t'HG987_PATCH' [81523974]\n",
      "#\t\t'HG1591_PATCH' [81448030]\n",
      "#\t\t'HSCHR17_1' [81347270]\n",
      "#\t\t'HG417_PATCH' [81285417]\n",
      "#\t\t'HG183_PATCH' [81276452]\n",
      "#\t\t'HG748_PATCH' [81217493]\n",
      "#\t\t'HSCHR17_1_CTG1' [81213043]\n",
      "#\t\t'HSCHR17_3_CTG4' [81206832]\n",
      "#\t\t'HSCHR17_1_CTG4' [81202535]\n",
      "#\t\t'HG271_PATCH' [81201984]\n",
      "#\t\t'HSCHR17_2_CTG4' [81201263]\n",
      "#\t\t'HG185_PATCH' [81199444]\n",
      "#\t\t'HG990_PATCH' [81196563]\n",
      "#\t\t'HSCHR17_4_CTG4' [81195665]\n",
      "#\t\t'HG385_PATCH' [81195225]\n",
      "#\t\t'HG745_PATCH' [81195211]\n",
      "#\t\t'HG883_PATCH' [81195211]\n",
      "#\t\t'17' [81195210]\n",
      "#\t\t'HG747_PATCH' [81195185]\n",
      "#\t\t'HSCHR17_5_CTG4' [81184888]\n",
      "#\t\t'HSCHR17_6_CTG4' [81183840]\n",
      "#\t\t'HG75_PATCH' [81166739]\n",
      "#\t\t'HG1146_PATCH' [80683135]\n",
      "#\t\t'HSCHR18_2_CTG2' [78146697]\n",
      "#\t\t'HSCHR18_1_CTG2' [78090140]\n",
      "#\t\t'HSCHR18_1_CTG2_1' [78086634]\n",
      "#\t\t'HSCHR18_1_CTG1_1' [78084480]\n",
      "#\t\t'HSCHR18_2_CTG1_1' [78083330]\n",
      "#\t\t'HSCHR18_2_CTG2_1' [78082683]\n",
      "#\t\t'18' [78077248]\n",
      "#\t\t'HG944_PATCH' [63067000]\n",
      "#\t\t'HSCHR20_1_CTG1' [63031536]\n",
      "#\t\t'20' [63025520]\n",
      "#\t\t'HG144_PATCH' [62985039]\n",
      "#\t\t'HG506_HG507_HG1000_PATCH' [62969224]\n",
      "#\t\t'Y' [59373566]\n",
      "#\t\t'HSCHR19LRC_LRC_J_CTG1' [59154024]\n",
      "#\t\t'HSCHR19_2_CTG3' [59138462]\n",
      "#\t\t'HSCHR19_3_CTG3' [59137190]\n",
      "#\t\t'HSCHR19_1_CTG3_1' [59136156]\n",
      "#\t\t'HSCHR19_1_CTG3' [59135399]\n",
      "#\t\t'HG1350_HG959_PATCH' [59130736]\n",
      "#\t\t'19' [59128983]\n",
      "#\t\t'HSCHR19LRC_LRC_S_CTG1' [59128573]\n",
      "#\t\t'HSCHR19LRC_LRC_I_CTG1' [59126487]\n",
      "#\t\t'HG1079_PATCH' [59120870]\n",
      "#\t\t'HG729_PATCH' [59083191]\n",
      "#\t\t'HSCHR19LRC_LRC_T_CTG1' [59064866]\n",
      "#\t\t'HG730_PATCH' [59056986]\n",
      "#\t\t'HSCHR19LRC_COX1_CTG1' [59049900]\n",
      "#\t\t'HSCHR19LRC_PGF1_CTG1' [59049284]\n",
      "#\t\t'HSCHR19LRC_PGF2_CTG1' [58858662]\n",
      "#\t\t'HSCHR19LRC_COX2_CTG1' [58791703]\n",
      "#\t\t'HG1486_PATCH' [51430360]\n",
      "#\t\t'HG1488_PATCH' [51341116]\n",
      "#\t\t'HG1487_PATCH' [51337749]\n",
      "#\t\t'HSCHR22_2_CTG1' [51316694]\n",
      "#\t\t'HG497_PATCH' [51306896]\n",
      "#\t\t'22' [51304566]\n",
      "#\t\t'HG329_PATCH' [51304556]\n",
      "#\t\t'HSCHR22_1_CTG1' [51292468]\n",
      "#\t\t'HSCHR22_1_CTG2' [51274623]\n",
      "#\t\t'HSCHR21_1_CTG1_1' [48142481]\n",
      "#\t\t'HSCHR21_4_CTG1_1' [48139453]\n",
      "#\t\t'HSCHR21_2_CTG1_1' [48136597]\n",
      "#\t\t'HSCHR21_3_CTG1_1' [48135689]\n",
      "#\t\t'21' [48129895]\n",
      "#\t\t'HG237_PATCH' [48129861]\n",
      "#\t\t'GL000192.1' [547496]\n",
      "#\t\t'GL000225.1' [211173]\n",
      "#\t\t'GL000194.1' [191469]\n",
      "#\t\t'GL000193.1' [189789]\n",
      "#\t\t'GL000200.1' [187035]\n",
      "#\t\t'GL000222.1' [186861]\n",
      "#\t\t'GL000212.1' [186858]\n",
      "#\t\t'GL000195.1' [182896]\n",
      "#\t\t'GL000223.1' [180455]\n",
      "#\t\t'GL000224.1' [179693]\n",
      "#\t\t'GL000219.1' [179198]\n",
      "#\t\t'GL000205.1' [174588]\n",
      "#\t\t'GL000215.1' [172545]\n",
      "#\t\t'GL000216.1' [172294]\n",
      "#\t\t'GL000217.1' [172149]\n",
      "#\t\t'GL000199.1' [169874]\n",
      "#\t\t'GL000211.1' [166566]\n",
      "#\t\t'GL000213.1' [164239]\n",
      "#\t\t'GL000220.1' [161802]\n",
      "#\t\t'GL000218.1' [161147]\n",
      "#\t\t'GL000209.1' [159169]\n",
      "#\t\t'GL000221.1' [155397]\n",
      "#\t\t'GL000214.1' [137718]\n",
      "#\t\t'GL000228.1' [129120]\n",
      "#\t\t'GL000227.1' [128374]\n",
      "#\t\t'GL000191.1' [106433]\n",
      "#\t\t'GL000208.1' [92689]\n",
      "#\t\t'GL000198.1' [90085]\n",
      "#\t\t'GL000204.1' [81310]\n",
      "#\t\t'GL000233.1' [45941]\n",
      "#\t\t'GL000237.1' [45867]\n",
      "#\t\t'GL000230.1' [43691]\n",
      "#\t\t'GL000242.1' [43523]\n",
      "#\t\t'GL000243.1' [43341]\n",
      "#\t\t'GL000241.1' [42152]\n",
      "#\t\t'GL000236.1' [41934]\n",
      "#\t\t'GL000240.1' [41933]\n",
      "#\t\t'GL000206.1' [41001]\n",
      "#\t\t'GL000232.1' [40652]\n",
      "#\t\t'GL000234.1' [40531]\n",
      "#\t\t'GL000202.1' [40103]\n",
      "#\t\t'GL000238.1' [39939]\n",
      "#\t\t'GL000244.1' [39929]\n",
      "#\t\t'GL000248.1' [39786]\n",
      "#\t\t'GL000196.1' [38914]\n",
      "#\t\t'GL000249.1' [38502]\n",
      "#\t\t'GL000246.1' [38154]\n",
      "#\t\t'GL000203.1' [37498]\n",
      "#\t\t'GL000197.1' [37175]\n",
      "#\t\t'GL000245.1' [36651]\n",
      "#\t\t'GL000247.1' [36422]\n",
      "#\t\t'GL000201.1' [36148]\n",
      "#\t\t'GL000235.1' [34474]\n",
      "#\t\t'GL000239.1' [33824]\n",
      "#\t\t'GL000210.1' [27682]\n",
      "#\t\t'GL000231.1' [27386]\n",
      "#\t\t'GL000229.1' [19913]\n",
      "#\t\t'MT' [16569]\n",
      "#\t\t'GL000226.1' [15008]\n",
      "#\t\t'GL000207.1' [4262]\n",
      "#-----------------------------------------------\n",
      "\n",
      "00:00:42.009\tPredicting variants\n",
      "00:00:42.019\tRunning multi-threaded mode (numThreads=4).\n",
      "00:00:42.402\tLoading sequences for chromosome '1' from file '/Users/selasady/tools/snpEff/./data/GRCh37.74/sequence.1.bin'\n",
      "00:00:42.406\tLoading sequences for chromosome '1' from file '/Users/selasady/tools/snpEff/./data/GRCh37.74/sequence.1.bin'\n",
      "00:00:44.162\tBuilding sequence tree for chromosome '1'\n",
      "00:00:44.167\tBuilding sequence tree for chromosome '1'\n",
      "00:00:44.199\tDone. Loaded 4433 sequences.\n",
      "00:00:44.203\tDone. Loaded 4433 sequences.\n",
      "00:00:44.356\tLoading sequences for chromosome '2' from file '/Users/selasady/tools/snpEff/./data/GRCh37.74/sequence.2.bin'\n",
      "00:00:46.298\tBuilding sequence tree for chromosome '2'\n",
      "00:00:46.314\tDone. Loaded 3341 sequences.\n",
      "00:00:46.315\tLoading sequences for chromosome '2' from file '/Users/selasady/tools/snpEff/./data/GRCh37.74/sequence.2.bin'\n",
      "00:00:48.193\tBuilding sequence tree for chromosome '2'\n",
      "00:00:48.202\tDone. Loaded 3341 sequences.\n",
      "00:00:48.676\tLoading sequences for chromosome '3' from file '/Users/selasady/tools/snpEff/./data/GRCh37.74/sequence.3.bin'\n",
      "00:00:50.513\tBuilding sequence tree for chromosome '3'\n",
      "00:00:50.518\tDone. Loaded 2508 sequences.\n",
      "00:00:50.521\tLoading sequences for chromosome '3' from file '/Users/selasady/tools/snpEff/./data/GRCh37.74/sequence.3.bin'\n",
      "00:00:52.241\tBuilding sequence tree for chromosome '3'\n",
      "00:00:52.247\tDone. Loaded 2508 sequences.\n",
      "00:00:52.440\tLoading sequences for chromosome '4' from file '/Users/selasady/tools/snpEff/./data/GRCh37.74/sequence.4.bin'\n",
      "00:00:53.610\tBuilding sequence tree for chromosome '4'\n",
      "00:00:53.614\tDone. Loaded 2317 sequences.\n",
      "00:00:53.621\tLoading sequences for chromosome '4' from file '/Users/selasady/tools/snpEff/./data/GRCh37.74/sequence.4.bin'\n",
      "00:00:54.748\tBuilding sequence tree for chromosome '4'\n",
      "00:00:54.753\tDone. Loaded 2317 sequences.\n",
      "00:00:54.810\tLoading sequences for chromosome '4' from file '/Users/selasady/tools/snpEff/./data/GRCh37.74/sequence.4.bin'\n",
      "00:00:54.855\tLoading sequences for chromosome '5' from file '/Users/selasady/tools/snpEff/./data/GRCh37.74/sequence.5.bin'\n",
      "00:00:54.857\tLoading sequences for chromosome '5' from file '/Users/selasady/tools/snpEff/./data/GRCh37.74/sequence.5.bin'\n",
      "00:00:56.213\tBuilding sequence tree for chromosome '4'\n",
      "00:00:56.218\tDone. Loaded 2317 sequences.\n",
      "00:00:56.323\tBuilding sequence tree for chromosome '5'\n",
      "00:00:56.329\tDone. Loaded 2479 sequences.\n",
      "00:00:56.335\tBuilding sequence tree for chromosome '5'\n",
      "00:00:56.340\tDone. Loaded 2479 sequences.\n",
      "00:00:56.452\tLoading sequences for chromosome '6' from file '/Users/selasady/tools/snpEff/./data/GRCh37.74/sequence.6.bin'\n",
      "00:00:57.552\tBuilding sequence tree for chromosome '6'\n",
      "00:00:57.556\tDone. Loaded 2610 sequences.\n",
      "00:00:57.557\tLoading sequences for chromosome '6' from file '/Users/selasady/tools/snpEff/./data/GRCh37.74/sequence.6.bin'\n",
      "00:00:58.612\tBuilding sequence tree for chromosome '6'\n",
      "00:00:58.617\tDone. Loaded 2610 sequences.\n",
      "00:00:58.708\tLoading sequences for chromosome '7' from file '/Users/selasady/tools/snpEff/./data/GRCh37.74/sequence.7.bin'\n",
      "00:01:00.001\tBuilding sequence tree for chromosome '7'\n",
      "00:01:00.006\tDone. Loaded 2492 sequences.\n",
      "00:01:00.007\tLoading sequences for chromosome '7' from file '/Users/selasady/tools/snpEff/./data/GRCh37.74/sequence.7.bin'\n",
      "00:01:01.391\tBuilding sequence tree for chromosome '7'\n",
      "00:01:01.396\tDone. Loaded 2492 sequences.\n",
      "00:01:01.472\tLoading sequences for chromosome '8' from file '/Users/selasady/tools/snpEff/./data/GRCh37.74/sequence.8.bin'\n",
      "00:01:02.603\tBuilding sequence tree for chromosome '8'\n",
      "00:01:02.607\tDone. Loaded 2114 sequences.\n",
      "00:01:02.634\tLoading sequences for chromosome '8' from file '/Users/selasady/tools/snpEff/./data/GRCh37.74/sequence.8.bin'\n",
      "00:01:03.837\tBuilding sequence tree for chromosome '8'\n",
      "00:01:03.841\tDone. Loaded 2114 sequences.\n",
      "00:01:03.926\tLoading sequences for chromosome '9' from file '/Users/selasady/tools/snpEff/./data/GRCh37.74/sequence.9.bin'\n",
      "00:01:03.929\tLoading sequences for chromosome '9' from file '/Users/selasady/tools/snpEff/./data/GRCh37.74/sequence.9.bin'\n",
      "00:01:04.809\tBuilding sequence tree for chromosome '9'\n",
      "00:01:04.810\tBuilding sequence tree for chromosome '9'\n",
      "00:01:04.813\tDone. Loaded 2157 sequences.\n",
      "00:01:04.828\tDone. Loaded 2157 sequences.\n",
      "00:01:04.888\tLoading sequences for chromosome '10' from file '/Users/selasady/tools/snpEff/./data/GRCh37.74/sequence.10.bin'\n",
      "00:01:05.866\tBuilding sequence tree for chromosome '10'\n",
      "00:01:05.870\tDone. Loaded 2034 sequences.\n",
      "00:01:05.983\tLoading sequences for chromosome '10' from file '/Users/selasady/tools/snpEff/./data/GRCh37.74/sequence.10.bin'\n",
      "00:01:06.945\tBuilding sequence tree for chromosome '10'\n",
      "00:01:06.949\tDone. Loaded 2034 sequences.\n",
      "00:01:07.087\tLoading sequences for chromosome '11' from file '/Users/selasady/tools/snpEff/./data/GRCh37.74/sequence.11.bin'\n",
      "00:01:07.099\tLoading sequences for chromosome '11' from file '/Users/selasady/tools/snpEff/./data/GRCh37.74/sequence.11.bin'\n",
      "00:01:08.299\tBuilding sequence tree for chromosome '11'\n",
      "00:01:08.304\tDone. Loaded 2670 sequences.\n",
      "00:01:08.311\tBuilding sequence tree for chromosome '11'\n",
      "00:01:08.315\tDone. Loaded 2670 sequences.\n",
      "00:01:08.450\tLoading sequences for chromosome '12' from file '/Users/selasady/tools/snpEff/./data/GRCh37.74/sequence.12.bin'\n",
      "00:01:09.553\tBuilding sequence tree for chromosome '12'\n",
      "00:01:09.557\tDone. Loaded 2365 sequences.\n",
      "00:01:09.557\tLoading sequences for chromosome '12' from file '/Users/selasady/tools/snpEff/./data/GRCh37.74/sequence.12.bin'\n",
      "00:01:10.644\tBuilding sequence tree for chromosome '12'\n",
      "00:01:10.648\tDone. Loaded 2365 sequences.\n",
      "00:01:10.689\tLoading sequences for chromosome '13' from file '/Users/selasady/tools/snpEff/./data/GRCh37.74/sequence.13.bin'\n",
      "00:01:11.250\tBuilding sequence tree for chromosome '13'\n",
      "00:01:11.252\tDone. Loaded 1271 sequences.\n",
      "00:01:11.253\tLoading sequences for chromosome '13' from file '/Users/selasady/tools/snpEff/./data/GRCh37.74/sequence.13.bin'\n",
      "00:01:11.690\tBuilding sequence tree for chromosome '13'\n",
      "00:01:11.692\tDone. Loaded 1271 sequences.\n",
      "00:01:11.704\tLoading sequences for chromosome '14' from file '/Users/selasady/tools/snpEff/./data/GRCh37.74/sequence.14.bin'\n",
      "00:01:12.414\tBuilding sequence tree for chromosome '14'\n",
      "00:01:12.418\tDone. Loaded 2015 sequences.\n",
      "00:01:12.418\tLoading sequences for chromosome '14' from file '/Users/selasady/tools/snpEff/./data/GRCh37.74/sequence.14.bin'\n",
      "00:01:13.153\tBuilding sequence tree for chromosome '14'\n",
      "00:01:13.157\tDone. Loaded 2015 sequences.\n",
      "00:01:13.200\tLoading sequences for chromosome '15' from file '/Users/selasady/tools/snpEff/./data/GRCh37.74/sequence.15.bin'\n",
      "00:01:14.024\tBuilding sequence tree for chromosome '15'\n",
      "00:01:14.028\tDone. Loaded 1677 sequences.\n",
      "00:01:14.035\tLoading sequences for chromosome '15' from file '/Users/selasady/tools/snpEff/./data/GRCh37.74/sequence.15.bin'\n",
      "00:01:15.038\tBuilding sequence tree for chromosome '15'\n",
      "00:01:15.041\tDone. Loaded 1677 sequences.\n",
      "00:01:15.060\tLoading sequences for chromosome '16' from file '/Users/selasady/tools/snpEff/./data/GRCh37.74/sequence.16.bin'\n",
      "00:01:15.721\tBuilding sequence tree for chromosome '16'\n",
      "00:01:15.725\tDone. Loaded 1988 sequences.\n",
      "00:01:15.725\tLoading sequences for chromosome '16' from file '/Users/selasady/tools/snpEff/./data/GRCh37.74/sequence.16.bin'\n",
      "00:01:16.396\tBuilding sequence tree for chromosome '16'\n",
      "00:01:16.399\tDone. Loaded 1988 sequences.\n",
      "00:01:16.430\tLoading sequences for chromosome '17' from file '/Users/selasady/tools/snpEff/./data/GRCh37.74/sequence.17.bin'\n",
      "00:01:17.252\tBuilding sequence tree for chromosome '17'\n",
      "00:01:17.257\tDone. Loaded 2313 sequences.\n",
      "00:01:17.262\tLoading sequences for chromosome '17' from file '/Users/selasady/tools/snpEff/./data/GRCh37.74/sequence.17.bin'\n",
      "00:01:18.082\tBuilding sequence tree for chromosome '17'\n",
      "00:01:18.088\tDone. Loaded 2313 sequences.\n",
      "00:01:18.120\tLoading sequences for chromosome '18' from file '/Users/selasady/tools/snpEff/./data/GRCh37.74/sequence.18.bin'\n",
      "00:01:18.816\tBuilding sequence tree for chromosome '18'\n",
      "00:01:18.818\tDone. Loaded 1117 sequences.\n",
      "00:01:18.821\tLoading sequences for chromosome '18' from file '/Users/selasady/tools/snpEff/./data/GRCh37.74/sequence.18.bin'\n",
      "00:01:19.386\tBuilding sequence tree for chromosome '18'\n",
      "00:01:19.387\tDone. Loaded 1117 sequences.\n",
      "00:01:19.397\tLoading sequences for chromosome '19' from file '/Users/selasady/tools/snpEff/./data/GRCh37.74/sequence.19.bin'\n",
      "00:01:19.908\tBuilding sequence tree for chromosome '19'\n",
      "00:01:19.914\tDone. Loaded 2460 sequences.\n",
      "00:01:19.917\tLoading sequences for chromosome '19' from file '/Users/selasady/tools/snpEff/./data/GRCh37.74/sequence.19.bin'\n",
      "00:01:20.419\tBuilding sequence tree for chromosome '19'\n",
      "00:01:20.424\tDone. Loaded 2460 sequences.\n",
      "00:01:20.440\tLoading sequences for chromosome '20' from file '/Users/selasady/tools/snpEff/./data/GRCh37.74/sequence.20.bin'\n",
      "00:01:20.440\tLoading sequences for chromosome '20' from file '/Users/selasady/tools/snpEff/./data/GRCh37.74/sequence.20.bin'\n",
      "00:01:20.862\tBuilding sequence tree for chromosome '20'\n",
      "00:01:20.862\tBuilding sequence tree for chromosome '20'\n",
      "00:01:20.864\tDone. Loaded 1344 sequences.\n",
      "00:01:20.864\tDone. Loaded 1344 sequences.\n",
      "00:01:20.875\tLoading sequences for chromosome '21' from file '/Users/selasady/tools/snpEff/./data/GRCh37.74/sequence.21.bin'\n",
      "00:01:21.109\tBuilding sequence tree for chromosome '21'\n",
      "00:01:21.110\tDone. Loaded 864 sequences.\n",
      "00:01:21.110\tLoading sequences for chromosome '21' from file '/Users/selasady/tools/snpEff/./data/GRCh37.74/sequence.21.bin'\n",
      "00:01:21.346\tBuilding sequence tree for chromosome '21'\n",
      "00:01:21.348\tDone. Loaded 864 sequences.\n",
      "00:01:21.364\tLoading sequences for chromosome '22' from file '/Users/selasady/tools/snpEff/./data/GRCh37.74/sequence.22.bin'\n",
      "00:01:21.679\tBuilding sequence tree for chromosome '22'\n",
      "00:01:21.681\tDone. Loaded 1276 sequences.\n",
      "00:01:21.683\tLoading sequences for chromosome '22' from file '/Users/selasady/tools/snpEff/./data/GRCh37.74/sequence.22.bin'\n",
      "00:01:22.090\tBuilding sequence tree for chromosome '22'\n",
      "00:01:22.093\tDone. Loaded 1276 sequences.\n",
      "00:01:22.101\tLoading sequences for chromosome 'X' from file '/Users/selasady/tools/snpEff/./data/GRCh37.74/sequence.X.bin'\n",
      "00:01:22.716\tBuilding sequence tree for chromosome 'X'\n",
      "00:01:22.720\tDone. Loaded 2359 sequences.\n",
      "00:01:22.721\tLoading sequences for chromosome 'X' from file '/Users/selasady/tools/snpEff/./data/GRCh37.74/sequence.X.bin'\n",
      "00:01:23.334\tBuilding sequence tree for chromosome 'X'\n",
      "00:01:23.339\tDone. Loaded 2359 sequences.\n",
      "00:01:23.360\tLoading sequences for chromosome 'Y' from file '/Users/selasady/tools/snpEff/./data/GRCh37.74/sequence.Y.bin'\n",
      "00:01:23.396\tBuilding sequence tree for chromosome 'Y'\n",
      "00:01:23.397\tDone. Loaded 762 sequences.\n",
      "00:01:23.439\tdone.\n",
      "00:01:23.441\tLogging\n",
      "00:01:24.443\tChecking for updates...\n"
     ]
    }
   ],
   "source": [
    "# command to run snpeff\n",
    "!java -Xmx16g -jar /Users/selasady/tools/snpEff/snpEff.jar -t -v -noStats GRCh37.74 distinct_vars.vcf > distinct_snpeff.vcf"
   ]
  },
  {
   "cell_type": "markdown",
   "metadata": {},
   "source": [
    "### Match SnpEff annotations with Variants"
   ]
  },
  {
   "cell_type": "code",
   "execution_count": null,
   "metadata": {
    "collapsed": false
   },
   "outputs": [],
   "source": [
    "# this function could really use some optimization\n",
    "def parse_snpeff(input_df, input_vcf):\n",
    "    \"\"\"\n",
    "    match snpeff annotations back to data frame\n",
    "    :param input_df:dataframe of variants to match with snpeff annotations\n",
    "    :param input_vcf:snpeff vcf file of annotations to match with dataframe\n",
    "    :return: df_functional a pandas dataframe with snpeff annotations\n",
    "    \"\"\"\n",
    "    # read in snpeff vcf file\n",
    "    annot_vcf = pd.read_csv(input_vcf, sep='\\t', skiprows=8)\n",
    "    # split info field into separate rows for each consequence\n",
    "    temp = pd.concat([pd.Series(row['ID'], row['INFO'].split(','))\n",
    "                    for _, row in annot_vcf.iterrows()]).reset_index()\n",
    "    # split each row into separate columns by the pipe\n",
    "    info_df = pd.DataFrame(list(temp['index'].str.split('|')))\n",
    "    # add variant id to beginning of data frame\n",
    "    info_df.insert(0, 'var_id', temp[0])\n",
    "    # # drop emtpy/unnecessary columns\n",
    "    info_df = info_df[list(info_df.columns[0:12])]\n",
    "    info_df.columns = ['var_id', 'alt', 'effect', 'impact', 'gene_name', 'gene_id', 'feature_type', 'transcript_id',\n",
    "                       'tx_biotype', 'rank', 'hgvs_c', 'hgvs_p']\n",
    "    # remove the annotation header 'ANN=' from the alt field\n",
    "    info_df['alt'] = info_df['alt'].str.replace('ANN=', '')\n",
    "    # keep only transcript level feature types\n",
    "    info_df = info_df[(info_df['feature_type'] == 'transcript')]\n",
    "    # drop extraneous columns\n",
    "    info_df.drop(info_df.columns[[1,4,6]], axis=1, inplace=True)\n",
    "    # recombine info_df with annot_df\n",
    "    snp_df = pd.merge(annot_vcf, info_df, left_on=['ID'], right_on=['var_id'])\n",
    "    # drop extraneous snp_df columns\n",
    "    snp_df.drop(snp_df.columns[[2, 7]], axis=1, inplace=True)\n",
    "    # edit col names to lower case for matching\n",
    "    snp_df.columns = map(str.lower, snp_df.columns)\n",
    "    snp_df.columns = snp_df.columns.str.replace('#','')\n",
    "    # drop duplicates from each df before merge\n",
    "    snp_df.drop_duplicates(inplace=True)\n",
    "    info_df.drop_duplicates(inplace=True)\n",
    "    # merge annotations with variant table\n",
    "    annot_vars = pd.merge(input_df, snp_df, on=['var_id'], how='left')\n",
    "    # # remove all duplicated columns from merge ending in _y\n",
    "    cols = [c for c in annot_vars.columns if not c.endswith('_y')]\n",
    "    annotated_df =annot_vars[cols]\n",
    "    # rename columns ending in _x from merge\n",
    "    annotated_df.rename(columns=lambda x: x.replace('_x', ''), inplace=True)\n",
    "    # drop duplicate rows\n",
    "    annotated_df.drop_duplicates(inplace=True)\n",
    "    # add family id\n",
    "    annotated_df['family_id'] = annotated_df['sample_id'].apply(lambda x: x.split('-')[1])\n",
    "    return annotated_df\n",
    "\n",
    "annotated_df = parse_snpeff(distinct_df, 'distinct_snpeff.vcf')"
   ]
  },
  {
   "cell_type": "code",
   "execution_count": null,
   "metadata": {
    "collapsed": true
   },
   "outputs": [],
   "source": []
  },
  {
   "cell_type": "code",
   "execution_count": null,
   "metadata": {
    "collapsed": true
   },
   "outputs": [],
   "source": []
  },
  {
   "cell_type": "code",
   "execution_count": 138,
   "metadata": {
    "collapsed": true
   },
   "outputs": [],
   "source": [
    "!for f in *.Q; do sed -i.q2 \"s/$/\\ ${f%%.*}/\" $f; done"
   ]
  },
  {
   "cell_type": "markdown",
   "metadata": {},
   "source": [
    "To Do: \n",
    "    - Find out which population corresponds to which q value \n",
    "    (emailed admixture author for help, waiting for response)"
   ]
  },
  {
   "cell_type": "markdown",
   "metadata": {},
   "source": [
    "### Create merged Q score file "
   ]
  },
  {
   "cell_type": "code",
   "execution_count": 146,
   "metadata": {
    "collapsed": false
   },
   "outputs": [],
   "source": [
    "!cat *.Q | sed 's/ /\\,/g' >> master_admix.csv"
   ]
  },
  {
   "cell_type": "markdown",
   "metadata": {},
   "source": [
    "## Upload Admixture Table to Impala"
   ]
  },
  {
   "cell_type": "code",
   "execution_count": 147,
   "metadata": {
    "collapsed": false
   },
   "outputs": [],
   "source": [
    "# read in master_admix.txt as pandas table\n",
    "master_admix = pd.read_csv('./master_admix.csv')"
   ]
  },
  {
   "cell_type": "markdown",
   "metadata": {},
   "source": [
    "### Connect to Impala "
   ]
  },
  {
   "cell_type": "code",
   "execution_count": 183,
   "metadata": {
    "collapsed": true
   },
   "outputs": [],
   "source": [
    "import ibis\n",
    "import os\n",
    "\n",
    "# connect to impala with ibis\n",
    "hdfs_port = os.environ.get('glados20', 50070)\n",
    "hdfs = ibis.hdfs_connect(host='glados20', port=hdfs_port, user='selasady')\n",
    "con = ibis.impala.connect(host='glados19', port=21050, timeout=120)\n",
    "\n",
    "# enable interactive mode\n",
    "ibis.options.interactive = True"
   ]
  },
  {
   "cell_type": "markdown",
   "metadata": {},
   "source": [
    "### Upload admix tsv file to hdfs"
   ]
  },
  {
   "cell_type": "code",
   "execution_count": 199,
   "metadata": {
    "collapsed": false
   },
   "outputs": [
    {
     "name": "stderr",
     "output_type": "stream",
     "text": [
      "WARNING:requests.packages.urllib3.connectionpool:Connection pool is full, discarding connection: glados18.systemsbiology.net\n"
     ]
    },
    {
     "data": {
      "text/plain": [
       "'/user/selasady/master_admix.csv'"
      ]
     },
     "execution_count": 199,
     "metadata": {},
     "output_type": "execute_result"
    }
   ],
   "source": [
    "path = '/user/selasady/'\n",
    "file_name = 'master_admix.csv'\n",
    "admix_file = path + '/' + file_name\n",
    "\n",
    "# upload admix file\n",
    "hdfs.put(path, file_name, verbose=True)"
   ]
  },
  {
   "cell_type": "markdown",
   "metadata": {},
   "source": [
    "### Download csv as ibis object to add sample id"
   ]
  },
  {
   "cell_type": "code",
   "execution_count": 204,
   "metadata": {
    "collapsed": false
   },
   "outputs": [],
   "source": [
    "# define talbe schema for tsv file\n",
    "schema = ibis.schema([\n",
    "    ('pop1', 'float'), \n",
    "    ('pop2', 'float'),\n",
    "    ('pop3', 'float'),\n",
    "    ('pop4', 'float'),\n",
    "    ('pop5', 'float'),\n",
    "    ('pop6', 'float'),\n",
    "    ('pop7', 'float'),\n",
    "    ('pop8', 'float'),\n",
    "    ('pop9', 'float'),\n",
    "    ('pop10', 'float'),\n",
    "    ('pop11', 'float'),\n",
    "    ('pop12', 'float'),\n",
    "    ('pop13', 'float'),\n",
    "    ('pop14', 'float'),\n",
    "    ('vendor_id', 'string')\n",
    "])\n",
    "\n",
    "# create ibis object from admix tsv\n",
    "admix = con.delimited_file(path, schema)\n",
    "\n",
    "# create ibis object from mapping table\n",
    "map_tbl = con.table('gms_metadata', database='p7_itmi')"
   ]
  },
  {
   "cell_type": "code",
   "execution_count": 207,
   "metadata": {
    "collapsed": true
   },
   "outputs": [],
   "source": [
    "# join tables to get sample_id\n",
    "joined = admix.left_join(map_tbl, admix.vendor_id == map_tbl.genome)[admix,map_tbl.subject_id]"
   ]
  },
  {
   "cell_type": "markdown",
   "metadata": {},
   "source": [
    "### Upload admix table + sample id's as an impala table"
   ]
  },
  {
   "cell_type": "code",
   "execution_count": 209,
   "metadata": {
    "collapsed": false
   },
   "outputs": [],
   "source": [
    "con.create_table('admix_test', joined, database='users_selasady')"
   ]
  }
 ],
 "metadata": {
  "kernelspec": {
   "display_name": "Python 2",
   "language": "python",
   "name": "python2"
  },
  "language_info": {
   "codemirror_mode": {
    "name": "ipython",
    "version": 2
   },
   "file_extension": ".py",
   "mimetype": "text/x-python",
   "name": "python",
   "nbconvert_exporter": "python",
   "pygments_lexer": "ipython2",
   "version": "2.7.9"
  }
 },
 "nbformat": 4,
 "nbformat_minor": 0
}
