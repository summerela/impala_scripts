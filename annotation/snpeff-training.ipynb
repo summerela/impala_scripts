{
 "cells": [
  {
   "cell_type": "markdown",
   "metadata": {},
   "source": [
    "# Run SnpEff"
   ]
  },
  {
   "cell_type": "markdown",
   "metadata": {},
   "source": [
    "Genetic variant annotation and effect prediction toolbox. It annotates and predicts the effects of variants on genes (such as amino acid changes). "
   ]
  },
  {
   "cell_type": "markdown",
   "metadata": {
    "collapsed": true
   },
   "source": [
    "### Run VCF Through SnpEff"
   ]
  },
  {
   "cell_type": "markdown",
   "metadata": {},
   "source": [
    "Requires: \n",
    "- SnpEff: http://snpeff.sourceforge.net/\n",
    "- Reference (downloaded automoatically) GRCh37.74 to match vcf files"
   ]
  },
  {
   "cell_type": "markdown",
   "metadata": {},
   "source": [
    "### Create VCF from distinct kaviar variants"
   ]
  },
  {
   "cell_type": "markdown",
   "metadata": {},
   "source": [
    "For each distinct variant found in ISB's Kaivar table, a vcf file will be created and run through SnpEff. "
   ]
  },
  {
   "cell_type": "markdown",
   "metadata": {},
   "source": [
    "### Connect to Impala"
   ]
  },
  {
   "cell_type": "markdown",
   "metadata": {},
   "source": [
    "For HDFS connection, update user argument. "
   ]
  },
  {
   "cell_type": "code",
   "execution_count": 1,
   "metadata": {
    "collapsed": true
   },
   "outputs": [],
   "source": [
    "import ibis\n",
    "import os\n",
    "\n",
    "# connect to impala with ibis\n",
    "hdfs_port = os.environ.get('glados20', 50070)\n",
    "hdfs = ibis.hdfs_connect(host='glados20', port=hdfs_port, user='selasady')\n",
    "con = ibis.impala.connect(host='glados19', port=21050, timeout=120)\n",
    "\n",
    "# enable interactive mode\n",
    "ibis.options.interactive = True"
   ]
  },
  {
   "cell_type": "markdown",
   "metadata": {},
   "source": [
    "### Download Distinct Variant Table"
   ]
  },
  {
   "cell_type": "markdown",
   "metadata": {},
   "source": [
    "This pipeline begins with the table of global distcint variants in impala. Here we are downloading them into an ibis table object to output to vcf and run through snpeff for predicting coding consequences. "
   ]
  },
  {
   "cell_type": "code",
   "execution_count": 76,
   "metadata": {
    "collapsed": false
   },
   "outputs": [],
   "source": [
    "def create_vcf(tbl_name, db_name):\n",
    "    # create ibis object from distinct vars table\n",
    "    distinct_vars = con.table(tbl_name, database=db_name) \n",
    "    # limit table to just the columns we need to output to vcf\n",
    "    distinct_df = distinct_vars['chrom', 'pos', 'ref', 'alt']\n",
    "    # download table from ibis table connection object to local memory\n",
    "    distinct_df = distinct_df.execute(limit=100000000000)\n",
    "    # add blank fields for vcf format\n",
    "    distinct_df['id'] = '.'\n",
    "    distinct_df['QUAL'] = '30'\n",
    "    distinct_df['FILTER'] = 'PASS'\n",
    "    distinct_df['INFO'] = '.'\n",
    "    distinct_df['FORMAT'] = 'GT:'\n",
    "    distinct_df['subject'] = './.'\n",
    "    # remove duplicated rows\n",
    "    distinct_df.drop_duplicates(inplace=True)\n",
    "    return distinct_df"
   ]
  },
  {
   "cell_type": "code",
   "execution_count": 77,
   "metadata": {
    "collapsed": false
   },
   "outputs": [],
   "source": [
    "# download table from ibis table connection object to local memory\n",
    "distinct_df = create_vcf('global_vars', 'training')"
   ]
  },
  {
   "cell_type": "code",
   "execution_count": 78,
   "metadata": {
    "collapsed": false
   },
   "outputs": [
    {
     "name": "stdout",
     "output_type": "stream",
     "text": [
      "  chrom        pos ref alt id QUAL FILTER INFO FORMAT subject\n",
      "0     X  133511649   T   C  .   30   PASS    .    GT:     ./.\n",
      "3     X  133607483   T   C  .   30   PASS    .    GT:     ./.\n",
      "5     X  133607495   G   A  .   30   PASS    .    GT:     ./.\n",
      "7     X  133609388   C   A  .   30   PASS    .    GT:     ./.\n",
      "8     X  133620505   C   T  .   30   PASS    .    GT:     ./.\n",
      "\n",
      " Distinct rows = 22862\n"
     ]
    }
   ],
   "source": [
    "print distinct_df.head(5) \n",
    "print \"\\n Distinct rows = \" + str(len(distinct_df))"
   ]
  },
  {
   "cell_type": "markdown",
   "metadata": {},
   "source": [
    "### Output Distinct Variants as VCF File"
   ]
  },
  {
   "cell_type": "code",
   "execution_count": 79,
   "metadata": {
    "collapsed": false
   },
   "outputs": [],
   "source": [
    "import time\n",
    "import pandas as pd\n",
    "\n",
    "# disable extraneous pandas warning\n",
    "pd.options.mode.chained_assignment = None"
   ]
  },
  {
   "cell_type": "code",
   "execution_count": 80,
   "metadata": {
    "collapsed": true
   },
   "outputs": [],
   "source": [
    "# create vcf header\n",
    "def create_header(outfile_name):\n",
    "   # create vcf header\n",
    "    lines=[]\n",
    "    lines.append('##fileformat=VCFv4.0')\n",
    "    lines.append('##fileDate='+ time.strftime(\"%y%m%d\"))\n",
    "    lines.append('##reference=grch37 v.74 \\n')\n",
    "    header = '\\n'.join(lines)\n",
    "    out = open(outfile_name, 'wb')\n",
    "    out.write(header)\n",
    "    out.close()\n",
    "    \n",
    "# create vcf body and append to file with header\n",
    "def impala_to_vcf(input_df, outfile_name):\n",
    "    # add blank columns for vcf format and format col names\n",
    "    input_df.columns = [x.upper() for x in input_df.columns]\n",
    "    input_df= input_df.rename(columns = {'CHROM':'#CHROM'})    \n",
    "    # order chromosomes to match ref fastas\n",
    "    chroms = ['1', '2', '3', '4', '5', '6', '7', '8', '9', '10', '11', '12', '13', '14', '15', '16', '17', '18', '19', '20', '21', '22', 'X', 'Y', 'M', 'MT']\n",
    "    input_df['#CHROM'] = input_df['#CHROM'].astype(\"category\")\n",
    "    input_df['#CHROM'].cat.set_categories(chroms, inplace=True)\n",
    "    # sort file by chrom then pos\n",
    "    input_df = input_df.sort(['#CHROM', 'POS'])\n",
    "    # write to file for conversion to vcf\n",
    "    input_df.to_csv(outfile_name, header=True, encoding='utf-8', sep=\"\\t\", index=False, mode='a')"
   ]
  },
  {
   "cell_type": "code",
   "execution_count": 81,
   "metadata": {
    "collapsed": false
   },
   "outputs": [],
   "source": [
    "vcf_out = 'distinct_vars.vcf'\n",
    "\n",
    "create_header(vcf_out)\n",
    "impala_to_vcf(distinct_df, vcf_out)"
   ]
  },
  {
   "cell_type": "markdown",
   "metadata": {},
   "source": [
    "### Run VCF File through SnpEff to predict coding consequences"
   ]
  },
  {
   "cell_type": "markdown",
   "metadata": {},
   "source": [
    "Running SnpEff on output vcf file: \n",
    "    - -Xmx16g : specify amount of java memory \n",
    "    - -t : multi-threaded mode, cannot spedify threads, determines automatically\n",
    "    - -v : verbose mode\n",
    "    - -noStats : save time by not calculating stats on the variants found\n",
    "    - GRCh37.74 : specifies reference database to use, matched with VCF files"
   ]
  },
  {
   "cell_type": "code",
   "execution_count": 82,
   "metadata": {
    "collapsed": false
   },
   "outputs": [
    {
     "name": "stdout",
     "output_type": "stream",
     "text": [
      "00:00:00\tSnpEff version SnpEff 4.1l (build 2015-10-03), by Pablo Cingolani\n",
      "00:00:00\tCommand: 'ann'\n",
      "00:00:00\tReading configuration file 'snpEff.config'. Genome: 'GRCh37.74'\n",
      "00:00:00\tReading config file: /Users/selasady/impala_scripts/annotation/snpEff.config\n",
      "00:00:00\tReading config file: /Users/selasady/tools/snpEff/snpEff.config\n",
      "00:00:00\tdone\n",
      "00:00:00\tReading database for genome version 'GRCh37.74' from file '/Users/selasady/tools/snpEff/./data/GRCh37.74/snpEffectPredictor.bin' (this might take a while)\n",
      "00:00:20\tdone\n",
      "00:00:20\tReading NextProt database from file '/Users/selasady/tools/snpEff/./data/GRCh37.74/nextProt.bin'\n",
      "00:00:21\tNextProt database: 550248 markers loaded.\n",
      "00:00:21\tAdding transcript info to NextProt markers.\n",
      "00:00:21\tNextProt database: 550248 markers added.\n",
      "00:00:21\t\tLoading PWMs from : /Users/selasady/tools/snpEff/./data/GRCh37.74/pwms.bin\n",
      "00:00:21\t\tLoading Motifs from file '/Users/selasady/tools/snpEff/./data/GRCh37.74/motif.bin'\n",
      "00:00:21\t\tMotif database: 284122 markers loaded.\n",
      "00:00:21\tBuilding interval forest\n",
      "00:00:35\tdone.\n",
      "00:00:35\tGenome stats :\n",
      "#-----------------------------------------------\n",
      "# Genome name                : 'Homo_sapiens'\n",
      "# Genome version             : 'GRCh37.74'\n",
      "# Has protein coding info    : true\n",
      "# Genes                      : 63677\n",
      "# Protein coding genes       : 23172\n",
      "#-----------------------------------------------\n",
      "# Transcripts                : 215170\n",
      "# Avg. transcripts per gene  : 3.38\n",
      "#-----------------------------------------------\n",
      "# Checked transcripts        : \n",
      "#               AA sequences : 104267 ( 114.81% )\n",
      "#              DNA sequences : 179360 ( 83.36% )\n",
      "#-----------------------------------------------\n",
      "# Protein coding transcripts : 90818\n",
      "#              Length errors :  14374 ( 15.83% )\n",
      "#  STOP codons in CDS errors :     27 ( 0.03% )\n",
      "#         START codon errors :   8717 ( 9.60% )\n",
      "#        STOP codon warnings :  21812 ( 24.02% )\n",
      "#              UTR sequences :  87726 ( 40.77% )\n",
      "#               Total Errors :  21325 ( 23.48% )\n",
      "#-----------------------------------------------\n",
      "# Cds                        : 791977\n",
      "# Exons                      : 1306656\n",
      "# Exons with sequence        : 1306656\n",
      "# Exons without sequence     : 0\n",
      "# Avg. exons per transcript  : 6.07\n",
      "#-----------------------------------------------\n",
      "# Number of chromosomes      : 297\n",
      "# Chromosomes                : Format 'chromo_name size codon_table'\n",
      "#\t\t'HG1292_PATCH'\t250051446\tStandard\n",
      "#\t\t'HG1287_PATCH'\t249964560\tStandard\n",
      "#\t\t'HG1473_PATCH'\t249272860\tStandard\n",
      "#\t\t'HG1471_PATCH'\t249269426\tStandard\n",
      "#\t\t'HSCHR1_1_CTG31'\t249267852\tStandard\n",
      "#\t\t'HSCHR1_2_CTG31'\t249266025\tStandard\n",
      "#\t\t'HSCHR1_3_CTG31'\t249262108\tStandard\n",
      "#\t\t'HG999_2_PATCH'\t249259300\tStandard\n",
      "#\t\t'HG989_PATCH'\t249257867\tStandard\n",
      "#\t\t'HG999_1_PATCH'\t249257505\tStandard\n",
      "#\t\t'HG1472_PATCH'\t249251918\tStandard\n",
      "#\t\t'1'\t249250621\tStandard\n",
      "#\t\t'HG1293_PATCH'\t249140837\tStandard\n",
      "#\t\t'HG686_PATCH'\t243297375\tStandard\n",
      "#\t\t'HSCHR2_1_CTG12'\t243216362\tStandard\n",
      "#\t\t'HSCHR2_2_CTG12'\t243205453\tStandard\n",
      "#\t\t'HSCHR2_1_CTG1'\t243205406\tStandard\n",
      "#\t\t'HG953_PATCH'\t243199374\tStandard\n",
      "#\t\t'2'\t243199373\tStandard\n",
      "#\t\t'HG1007_PATCH'\t243135680\tStandard\n",
      "#\t\t'HG280_PATCH'\t198070731\tStandard\n",
      "#\t\t'HG991_PATCH'\t198049698\tStandard\n",
      "#\t\t'HSCHR3_1_CTG2_1'\t198032968\tStandard\n",
      "#\t\t'HG186_PATCH'\t198025845\tStandard\n",
      "#\t\t'HSCHR3_1_CTG1'\t198024351\tStandard\n",
      "#\t\t'HG1091_PATCH'\t198022491\tStandard\n",
      "#\t\t'HG325_PATCH'\t198022431\tStandard\n",
      "#\t\t'3'\t198022430\tStandard\n",
      "#\t\t'HG957_PATCH'\t198022419\tStandard\n",
      "#\t\t'HG1032_PATCH'\t191235710\tStandard\n",
      "#\t\t'HSCHR4_2_CTG9'\t191176053\tStandard\n",
      "#\t\t'HSCHR4_1_CTG12'\t191166925\tStandard\n",
      "#\t\t'HSCHR4_1_CTG6'\t191164559\tStandard\n",
      "#\t\t'HG174_HG254_PATCH'\t191160487\tStandard\n",
      "#\t\t'4'\t191154276\tStandard\n",
      "#\t\t'HG706_PATCH'\t191094783\tStandard\n",
      "#\t\t'HSCHR4_1'\t191036603\tStandard\n",
      "#\t\t'HSCHR5_2_CTG1'\t180935403\tStandard\n",
      "#\t\t'HSCHR5_1_CTG2'\t180931866\tStandard\n",
      "#\t\t'HSCHR5_3_CTG1'\t180924140\tStandard\n",
      "#\t\t'HSCHR5_1_CTG5'\t180920737\tStandard\n",
      "#\t\t'HG1082_HG167_PATCH'\t180915278\tStandard\n",
      "#\t\t'HG1063_PATCH'\t180915263\tStandard\n",
      "#\t\t'5'\t180915260\tStandard\n",
      "#\t\t'HSCHR5_1_CTG1'\t180130563\tStandard\n",
      "#\t\t'HSCHR6_MHC_MCF'\t171285426\tStandard\n",
      "#\t\t'HSCHR6_MHC_MANN'\t171268956\tStandard\n",
      "#\t\t'HSCHR6_MHC_SSTO'\t171254422\tStandard\n",
      "#\t\t'HG357_PATCH'\t171241738\tStandard\n",
      "#\t\t'HG27_PATCH'\t171147516\tStandard\n",
      "#\t\t'HSCHR6_2_CTG5'\t171145319\tStandard\n",
      "#\t\t'HSCHR6_1_CTG5'\t171142899\tStandard\n",
      "#\t\t'6'\t171115067\tStandard\n",
      "#\t\t'HG1304_PATCH'\t171115067\tStandard\n",
      "#\t\t'HG1322_PATCH'\t171106913\tStandard\n",
      "#\t\t'HSCHR6_MHC_APD'\t171098467\tStandard\n",
      "#\t\t'HSCHR6_MHC_DBB'\t171092990\tStandard\n",
      "#\t\t'HSCHR6_MHC_QBL'\t171043904\tStandard\n",
      "#\t\t'HSCHR6_MHC_COX'\t171036692\tStandard\n",
      "#\t\t'HG193_PATCH'\t171015169\tStandard\n",
      "#\t\t'HG7_PATCH'\t159202172\tStandard\n",
      "#\t\t'HG946_PATCH'\t159170352\tStandard\n",
      "#\t\t'HG14_PATCH'\t159146664\tStandard\n",
      "#\t\t'HSCHR7_1_CTG6'\t159144671\tStandard\n",
      "#\t\t'HG115_PATCH'\t159141496\tStandard\n",
      "#\t\t'7'\t159138663\tStandard\n",
      "#\t\t'HG736_PATCH'\t159138649\tStandard\n",
      "#\t\t'HG444_PATCH'\t159138589\tStandard\n",
      "#\t\t'HG1308_PATCH'\t159117558\tStandard\n",
      "#\t\t'HG1257_PATCH'\t158974302\tStandard\n",
      "#\t\t'HG1436_HG1432_PATCH'\t155334750\tStandard\n",
      "#\t\t'HG1443_HG1444_PATCH'\t155322430\tStandard\n",
      "#\t\t'HG1441_PATCH'\t155280808\tStandard\n",
      "#\t\t'HG1425_PATCH'\t155278471\tStandard\n",
      "#\t\t'HG1434_PATCH'\t155277317\tStandard\n",
      "#\t\t'HG1458_PATCH'\t155276628\tStandard\n",
      "#\t\t'HG1426_PATCH'\t155276017\tStandard\n",
      "#\t\t'HG1423_PATCH'\t155273746\tStandard\n",
      "#\t\t'HG1462_PATCH'\t155272710\tStandard\n",
      "#\t\t'HG1424_PATCH'\t155271369\tStandard\n",
      "#\t\t'HG1442_PATCH'\t155270668\tStandard\n",
      "#\t\t'HG1440_PATCH'\t155270604\tStandard\n",
      "#\t\t'HG29_PATCH'\t155270596\tStandard\n",
      "#\t\t'HG1439_PATCH'\t155270575\tStandard\n",
      "#\t\t'HG1438_PATCH'\t155270574\tStandard\n",
      "#\t\t'HG1490_PATCH'\t155270560\tStandard\n",
      "#\t\t'X'\t155270560\tStandard\n",
      "#\t\t'HG375_PATCH'\t155270558\tStandard\n",
      "#\t\t'HG1435_PATCH'\t155270370\tStandard\n",
      "#\t\t'HG1437_PATCH'\t155270150\tStandard\n",
      "#\t\t'HG1453_PATCH'\t155264939\tStandard\n",
      "#\t\t'HG1463_PATCH'\t155256818\tStandard\n",
      "#\t\t'HG1497_PATCH'\t155209367\tStandard\n",
      "#\t\t'HG1459_PATCH'\t155183809\tStandard\n",
      "#\t\t'HG480_HG481_PATCH'\t155131142\tStandard\n",
      "#\t\t'HG1433_PATCH'\t154987127\tStandard\n",
      "#\t\t'HG19_PATCH'\t146439382\tStandard\n",
      "#\t\t'HG104_HG975_PATCH'\t146391291\tStandard\n",
      "#\t\t'HG1699_PATCH'\t146364052\tStandard\n",
      "#\t\t'8'\t146364022\tStandard\n",
      "#\t\t'HG418_PATCH'\t146363965\tStandard\n",
      "#\t\t'HG243_PATCH'\t146193542\tStandard\n",
      "#\t\t'HG998_1_PATCH'\t141245758\tStandard\n",
      "#\t\t'HG1502_PATCH'\t141244527\tStandard\n",
      "#\t\t'HSCHR9_1_CTG1'\t141228243\tStandard\n",
      "#\t\t'HG998_2_PATCH'\t141226881\tStandard\n",
      "#\t\t'HG1501_PATCH'\t141226402\tStandard\n",
      "#\t\t'HSCHR9_3_CTG35'\t141224529\tStandard\n",
      "#\t\t'HG79_PATCH'\t141223844\tStandard\n",
      "#\t\t'HSCHR9_1_CTG35'\t141221627\tStandard\n",
      "#\t\t'HG1500_PATCH'\t141220264\tStandard\n",
      "#\t\t'HSCHR9_2_CTG35'\t141219511\tStandard\n",
      "#\t\t'9'\t141213431\tStandard\n",
      "#\t\t'HG962_PATCH'\t141213431\tStandard\n",
      "#\t\t'HG50_PATCH'\t141126899\tStandard\n",
      "#\t\t'HSCHR10_1_CTG2'\t135582047\tStandard\n",
      "#\t\t'HG1479_PATCH'\t135573846\tStandard\n",
      "#\t\t'HSCHR10_1_CTG5'\t135550810\tStandard\n",
      "#\t\t'HG995_PATCH'\t135540039\tStandard\n",
      "#\t\t'HG905_PATCH'\t135538807\tStandard\n",
      "#\t\t'HG979_PATCH'\t135534996\tStandard\n",
      "#\t\t'HG871_PATCH'\t135534976\tStandard\n",
      "#\t\t'HG311_PATCH'\t135534748\tStandard\n",
      "#\t\t'HG339_PATCH'\t135534748\tStandard\n",
      "#\t\t'10'\t135534747\tStandard\n",
      "#\t\t'HG544_PATCH'\t135287817\tStandard\n",
      "#\t\t'HG865_PATCH'\t135091575\tStandard\n",
      "#\t\t'HG281_PATCH'\t135068883\tStandard\n",
      "#\t\t'HG151_NOVEL_TEST'\t135017590\tStandard\n",
      "#\t\t'HG142_HG150_NOVEL_TEST'\t135014122\tStandard\n",
      "#\t\t'HSCHR11_1_CTG1_1'\t135012249\tStandard\n",
      "#\t\t'HG122_PATCH'\t135006522\tStandard\n",
      "#\t\t'HG348_PATCH'\t135006518\tStandard\n",
      "#\t\t'HG256_PATCH'\t135006517\tStandard\n",
      "#\t\t'HG305_PATCH'\t135006517\tStandard\n",
      "#\t\t'11'\t135006516\tStandard\n",
      "#\t\t'HG306_PATCH'\t135006516\tStandard\n",
      "#\t\t'HG873_PATCH'\t135006516\tStandard\n",
      "#\t\t'HG299_PATCH'\t135006515\tStandard\n",
      "#\t\t'HG388_HG400_PATCH'\t135006515\tStandard\n",
      "#\t\t'HG414_PATCH'\t135006513\tStandard\n",
      "#\t\t'HG1074_PATCH'\t134983033\tStandard\n",
      "#\t\t'HG536_PATCH'\t134975178\tStandard\n",
      "#\t\t'HSCHR12_2_CTG2'\t133883843\tStandard\n",
      "#\t\t'HSCHR12_1_CTG2_1'\t133861054\tStandard\n",
      "#\t\t'HSCHR12_2_CTG2_1'\t133858944\tStandard\n",
      "#\t\t'HSCHR12_3_CTG2_1'\t133858072\tStandard\n",
      "#\t\t'HSCHR12_1_CTG2'\t133857954\tStandard\n",
      "#\t\t'HSCHR12_1_CTG5'\t133857937\tStandard\n",
      "#\t\t'HG996_PATCH'\t133856340\tStandard\n",
      "#\t\t'HG344_PATCH'\t133853754\tStandard\n",
      "#\t\t'12'\t133851895\tStandard\n",
      "#\t\t'HG1595_PATCH'\t133851793\tStandard\n",
      "#\t\t'HG1133_PATCH'\t133848181\tStandard\n",
      "#\t\t'HSCHR12_1_CTG1'\t133796744\tStandard\n",
      "#\t\t'HG858_PATCH'\t133792729\tStandard\n",
      "#\t\t'HG1211_PATCH'\t132375896\tStandard\n",
      "#\t\t'HG531_PATCH'\t115179803\tStandard\n",
      "#\t\t'13'\t115169878\tStandard\n",
      "#\t\t'HG1592_PATCH'\t107407662\tStandard\n",
      "#\t\t'14'\t107349540\tStandard\n",
      "#\t\t'HSCHR15_1_CTG8'\t102543529\tStandard\n",
      "#\t\t'HSCHR15_1_CTG4'\t102543012\tStandard\n",
      "#\t\t'HG971_PATCH'\t102534416\tStandard\n",
      "#\t\t'15'\t102531392\tStandard\n",
      "#\t\t'HSCHR16_1_CTG3_1'\t90367188\tStandard\n",
      "#\t\t'HSCHR16_2_CTG3_1'\t90359885\tStandard\n",
      "#\t\t'HG1208_PATCH'\t90354761\tStandard\n",
      "#\t\t'16'\t90354753\tStandard\n",
      "#\t\t'HG987_PATCH'\t81523974\tStandard\n",
      "#\t\t'HG1591_PATCH'\t81448030\tStandard\n",
      "#\t\t'HSCHR17_1'\t81347270\tStandard\n",
      "#\t\t'HG417_PATCH'\t81285417\tStandard\n",
      "#\t\t'HG183_PATCH'\t81276452\tStandard\n",
      "#\t\t'HG748_PATCH'\t81217493\tStandard\n",
      "#\t\t'HSCHR17_1_CTG1'\t81213043\tStandard\n",
      "#\t\t'HSCHR17_3_CTG4'\t81206832\tStandard\n",
      "#\t\t'HSCHR17_1_CTG4'\t81202535\tStandard\n",
      "#\t\t'HG271_PATCH'\t81201984\tStandard\n",
      "#\t\t'HSCHR17_2_CTG4'\t81201263\tStandard\n",
      "#\t\t'HG185_PATCH'\t81199444\tStandard\n",
      "#\t\t'HG990_PATCH'\t81196563\tStandard\n",
      "#\t\t'HSCHR17_4_CTG4'\t81195665\tStandard\n",
      "#\t\t'HG385_PATCH'\t81195225\tStandard\n",
      "#\t\t'HG745_PATCH'\t81195211\tStandard\n",
      "#\t\t'HG883_PATCH'\t81195211\tStandard\n",
      "#\t\t'17'\t81195210\tStandard\n",
      "#\t\t'HG747_PATCH'\t81195185\tStandard\n",
      "#\t\t'HSCHR17_5_CTG4'\t81184888\tStandard\n",
      "#\t\t'HSCHR17_6_CTG4'\t81183840\tStandard\n",
      "#\t\t'HG75_PATCH'\t81166739\tStandard\n",
      "#\t\t'HG1146_PATCH'\t80683135\tStandard\n",
      "#\t\t'HSCHR18_2_CTG2'\t78146697\tStandard\n",
      "#\t\t'HSCHR18_1_CTG2'\t78090140\tStandard\n",
      "#\t\t'HSCHR18_1_CTG2_1'\t78086634\tStandard\n",
      "#\t\t'HSCHR18_1_CTG1_1'\t78084480\tStandard\n",
      "#\t\t'HSCHR18_2_CTG1_1'\t78083330\tStandard\n",
      "#\t\t'HSCHR18_2_CTG2_1'\t78082683\tStandard\n",
      "#\t\t'18'\t78077248\tStandard\n",
      "#\t\t'HG944_PATCH'\t63067000\tStandard\n",
      "#\t\t'HSCHR20_1_CTG1'\t63031536\tStandard\n",
      "#\t\t'20'\t63025520\tStandard\n",
      "#\t\t'HG144_PATCH'\t62985039\tStandard\n",
      "#\t\t'HG506_HG507_HG1000_PATCH'\t62969224\tStandard\n",
      "#\t\t'Y'\t59373566\tStandard\n",
      "#\t\t'HSCHR19LRC_LRC_J_CTG1'\t59154024\tStandard\n",
      "#\t\t'HSCHR19_2_CTG3'\t59138462\tStandard\n",
      "#\t\t'HSCHR19_3_CTG3'\t59137190\tStandard\n",
      "#\t\t'HSCHR19_1_CTG3_1'\t59136156\tStandard\n",
      "#\t\t'HSCHR19_1_CTG3'\t59135399\tStandard\n",
      "#\t\t'HG1350_HG959_PATCH'\t59130736\tStandard\n",
      "#\t\t'19'\t59128983\tStandard\n",
      "#\t\t'HSCHR19LRC_LRC_S_CTG1'\t59128573\tStandard\n",
      "#\t\t'HSCHR19LRC_LRC_I_CTG1'\t59126487\tStandard\n",
      "#\t\t'HG1079_PATCH'\t59120870\tStandard\n",
      "#\t\t'HG729_PATCH'\t59083191\tStandard\n",
      "#\t\t'HSCHR19LRC_LRC_T_CTG1'\t59064866\tStandard\n",
      "#\t\t'HG730_PATCH'\t59056986\tStandard\n",
      "#\t\t'HSCHR19LRC_COX1_CTG1'\t59049900\tStandard\n",
      "#\t\t'HSCHR19LRC_PGF1_CTG1'\t59049284\tStandard\n",
      "#\t\t'HSCHR19LRC_PGF2_CTG1'\t58858662\tStandard\n",
      "#\t\t'HSCHR19LRC_COX2_CTG1'\t58791703\tStandard\n",
      "#\t\t'HG1486_PATCH'\t51430360\tStandard\n",
      "#\t\t'HG1488_PATCH'\t51341116\tStandard\n",
      "#\t\t'HG1487_PATCH'\t51337749\tStandard\n",
      "#\t\t'HSCHR22_2_CTG1'\t51316694\tStandard\n",
      "#\t\t'HG497_PATCH'\t51306896\tStandard\n",
      "#\t\t'22'\t51304566\tStandard\n",
      "#\t\t'HG329_PATCH'\t51304556\tStandard\n",
      "#\t\t'HSCHR22_1_CTG1'\t51292468\tStandard\n",
      "#\t\t'HSCHR22_1_CTG2'\t51274623\tStandard\n",
      "#\t\t'HSCHR21_1_CTG1_1'\t48142481\tStandard\n",
      "#\t\t'HSCHR21_4_CTG1_1'\t48139453\tStandard\n",
      "#\t\t'HSCHR21_2_CTG1_1'\t48136597\tStandard\n",
      "#\t\t'HSCHR21_3_CTG1_1'\t48135689\tStandard\n",
      "#\t\t'21'\t48129895\tStandard\n",
      "#\t\t'HG237_PATCH'\t48129861\tStandard\n",
      "#\t\t'GL000192.1'\t547496\tStandard\n",
      "#\t\t'GL000225.1'\t211173\tStandard\n",
      "#\t\t'GL000194.1'\t191469\tStandard\n",
      "#\t\t'GL000193.1'\t189789\tStandard\n",
      "#\t\t'GL000200.1'\t187035\tStandard\n",
      "#\t\t'GL000222.1'\t186861\tStandard\n",
      "#\t\t'GL000212.1'\t186858\tStandard\n",
      "#\t\t'GL000195.1'\t182896\tStandard\n",
      "#\t\t'GL000223.1'\t180455\tStandard\n",
      "#\t\t'GL000224.1'\t179693\tStandard\n",
      "#\t\t'GL000219.1'\t179198\tStandard\n",
      "#\t\t'GL000205.1'\t174588\tStandard\n",
      "#\t\t'GL000215.1'\t172545\tStandard\n",
      "#\t\t'GL000216.1'\t172294\tStandard\n",
      "#\t\t'GL000217.1'\t172149\tStandard\n",
      "#\t\t'GL000199.1'\t169874\tStandard\n",
      "#\t\t'GL000211.1'\t166566\tStandard\n",
      "#\t\t'GL000213.1'\t164239\tStandard\n",
      "#\t\t'GL000220.1'\t161802\tStandard\n",
      "#\t\t'GL000218.1'\t161147\tStandard\n",
      "#\t\t'GL000209.1'\t159169\tStandard\n",
      "#\t\t'GL000221.1'\t155397\tStandard\n",
      "#\t\t'GL000214.1'\t137718\tStandard\n",
      "#\t\t'GL000228.1'\t129120\tStandard\n",
      "#\t\t'GL000227.1'\t128374\tStandard\n",
      "#\t\t'GL000191.1'\t106433\tStandard\n",
      "#\t\t'GL000208.1'\t92689\tStandard\n",
      "#\t\t'GL000198.1'\t90085\tStandard\n",
      "#\t\t'GL000204.1'\t81310\tStandard\n",
      "#\t\t'GL000233.1'\t45941\tStandard\n",
      "#\t\t'GL000237.1'\t45867\tStandard\n",
      "#\t\t'GL000230.1'\t43691\tStandard\n",
      "#\t\t'GL000242.1'\t43523\tStandard\n",
      "#\t\t'GL000243.1'\t43341\tStandard\n",
      "#\t\t'GL000241.1'\t42152\tStandard\n",
      "#\t\t'GL000236.1'\t41934\tStandard\n",
      "#\t\t'GL000240.1'\t41933\tStandard\n",
      "#\t\t'GL000206.1'\t41001\tStandard\n",
      "#\t\t'GL000232.1'\t40652\tStandard\n",
      "#\t\t'GL000234.1'\t40531\tStandard\n",
      "#\t\t'GL000202.1'\t40103\tStandard\n",
      "#\t\t'GL000238.1'\t39939\tStandard\n",
      "#\t\t'GL000244.1'\t39929\tStandard\n",
      "#\t\t'GL000248.1'\t39786\tStandard\n",
      "#\t\t'GL000196.1'\t38914\tStandard\n",
      "#\t\t'GL000249.1'\t38502\tStandard\n",
      "#\t\t'GL000246.1'\t38154\tStandard\n",
      "#\t\t'GL000203.1'\t37498\tStandard\n",
      "#\t\t'GL000197.1'\t37175\tStandard\n",
      "#\t\t'GL000245.1'\t36651\tStandard\n",
      "#\t\t'GL000247.1'\t36422\tStandard\n",
      "#\t\t'GL000201.1'\t36148\tStandard\n",
      "#\t\t'GL000235.1'\t34474\tStandard\n",
      "#\t\t'GL000239.1'\t33824\tStandard\n",
      "#\t\t'GL000210.1'\t27682\tStandard\n",
      "#\t\t'GL000231.1'\t27386\tStandard\n",
      "#\t\t'GL000229.1'\t19913\tStandard\n",
      "#\t\t'MT'\t16569\tVertebrate_Mitochondrial\n",
      "#\t\t'GL000226.1'\t15008\tStandard\n",
      "#\t\t'GL000207.1'\t4262\tStandard\n",
      "#-----------------------------------------------\n",
      "\n",
      "00:00:40\tPredicting variants\n",
      "00:00:40\tRunning multi-threaded mode (numThreads=4).\n",
      "00:00:41\tdone.\n",
      "00:00:41\tLogging\n",
      "00:00:42\tChecking for updates...\n"
     ]
    }
   ],
   "source": [
    "# command to run snpeff\n",
    "!java -Xmx16g -jar /Users/selasady/tools/snpEff/snpEff.jar -t -v -noStats GRCh37.74 distinct_vars.vcf > distinct_snpeff.vcf"
   ]
  },
  {
   "cell_type": "markdown",
   "metadata": {},
   "source": [
    "### Output SnpEff effects as tsv file, one effect per line"
   ]
  },
  {
   "cell_type": "markdown",
   "metadata": {},
   "source": [
    "Convert the snpeff from vcf format to tsv, with one line per effect, instead of grouped with multiple effects for each position. \n",
    "\n",
    "NOTE: vcfEffOnePerLine.pl does not work properly in older verions of SnpEff, make sure you have downloaded the latest version. The perl script is containted within the /snpeff/scripts directory that comes with snpeff. "
   ]
  },
  {
   "cell_type": "code",
   "execution_count": 83,
   "metadata": {
    "collapsed": false
   },
   "outputs": [],
   "source": [
    "cat distinct_snpeff.vcf \\\n",
    "    | /Users/selasady/tools/snpEff/scripts/vcfEffOnePerLine.pl \\\n",
    "    | java -jar /Users/selasady/tools/snpEff/SnpSift.jar extractFields \\\n",
    "    - CHROM POS REF ALT \"ANN[*].GENE\" \"ANN[*].GENEID\" \"ANN[*].EFFECT\" \"ANN[*].IMPACT\" \\\n",
    "    \"ANN[*].FEATURE\" \"ANN[*].FEATUREID\" \"ANN[*].BIOTYPE\" \"ANN[*].RANK\" \\\n",
    "    \"ANN[*].HGVS_C\" \"ANN[*].HGVS_P\" > distinct.tsv "
   ]
  },
  {
   "cell_type": "markdown",
   "metadata": {},
   "source": [
    "### Remove Header and convert to CSV"
   ]
  },
  {
   "cell_type": "markdown",
   "metadata": {},
   "source": [
    "To prepare for upload to HDFS and conversion into impala table, the header will be removed so we can specify our own column names in the schema below and parse. "
   ]
  },
  {
   "cell_type": "code",
   "execution_count": 27,
   "metadata": {
    "collapsed": false
   },
   "outputs": [],
   "source": [
    "!sed '1d' distinct.tsv | tr '\\t' ',' > distinct_snpeff.csv"
   ]
  },
  {
   "cell_type": "markdown",
   "metadata": {},
   "source": [
    "## Save Results as an Impala Table"
   ]
  },
  {
   "cell_type": "markdown",
   "metadata": {},
   "source": [
    "### Upload Results to HDFS"
   ]
  },
  {
   "cell_type": "markdown",
   "metadata": {},
   "source": [
    "The CSV file is uploaded to HDFS, in a directory called 'snpeff'. "
   ]
  },
  {
   "cell_type": "code",
   "execution_count": 28,
   "metadata": {
    "collapsed": false
   },
   "outputs": [
    {
     "name": "stderr",
     "output_type": "stream",
     "text": [
      "WARNING:requests.packages.urllib3.connectionpool:Connection pool is full, discarding connection: glados13.systemsbiology.net\n"
     ]
    },
    {
     "data": {
      "text/plain": [
       "'/user/selasady/training/distinct_snpeff.csv'"
      ]
     },
     "execution_count": 28,
     "metadata": {},
     "output_type": "execute_result"
    }
   ],
   "source": [
    "path = '/user/selasady/training/'\n",
    "\n",
    "# create directory\n",
    "hdfs.mkdir(path)\n",
    "\n",
    "# upload file\n",
    "file_name = 'distinct_snpeff.csv'\n",
    "admix_file = path + '/' + file_name\n",
    "\n",
    "# upload admix file\n",
    "hdfs.put(path, file_name, verbose=True)"
   ]
  },
  {
   "cell_type": "markdown",
   "metadata": {},
   "source": [
    "### Convert TSV into Ibis Object"
   ]
  },
  {
   "cell_type": "markdown",
   "metadata": {},
   "source": [
    "Once the TSV file is in HDFS, we can use ibis to convert it into an impala table by pairing the file with a schema. "
   ]
  },
  {
   "cell_type": "code",
   "execution_count": 29,
   "metadata": {
    "collapsed": false
   },
   "outputs": [],
   "source": [
    "# define table schema for tsv file\n",
    "schema = ibis.schema([\n",
    "    ('chrom', 'string'), \n",
    "    ('pos', 'int32'),\n",
    "    ('ref', 'string'),\n",
    "    ('alt', 'string'),\n",
    "    ('gene', 'string'),\n",
    "    ('gene_id', 'string'),\n",
    "    ('effect', 'string'),\n",
    "    ('impact', 'string'),\n",
    "    ('feature', 'string'),\n",
    "    ('feature_id', 'string'),\n",
    "    ('biotype', 'string'),\n",
    "    ('rank', 'int32'),\n",
    "    ('hgvs_c', 'string'),\n",
    "    ('hgvs_p', 'string')\n",
    "])\n",
    "\n",
    "# create ibis object from  tsv\n",
    "snpeff = con.delimited_file(path, schema)"
   ]
  },
  {
   "cell_type": "code",
   "execution_count": 36,
   "metadata": {
    "collapsed": false
   },
   "outputs": [
    {
     "name": "stdout",
     "output_type": "stream",
     "text": [
      "  chrom     pos ref alt gene gene_id effect impact feature feature_id biotype  \\\n",
      "0     1  949696  CG   .                                                         \n",
      "1     1  949696  CG   .                                                         \n",
      "2     1  949739   T   .                                                         \n",
      "3     1  949739   T   .                                                         \n",
      "4     1  985955   C   .                                                         \n",
      "\n",
      "   rank hgvs_c hgvs_p  \n",
      "0  None                \n",
      "1  None                \n",
      "2  None                \n",
      "3  None                \n",
      "4  None                \n"
     ]
    }
   ],
   "source": [
    "print snpeff.limit(5)"
   ]
  },
  {
   "cell_type": "markdown",
   "metadata": {},
   "source": [
    "### Create impala table"
   ]
  },
  {
   "cell_type": "markdown",
   "metadata": {},
   "source": [
    "Once the TSV file is paired with a schema, we can save it as a table in impala. "
   ]
  },
  {
   "cell_type": "code",
   "execution_count": 38,
   "metadata": {
    "collapsed": false
   },
   "outputs": [],
   "source": [
    "con.create_table('coding_consequences', snpeff, database='p7_ref_grch37')"
   ]
  }
 ],
 "metadata": {
  "kernelspec": {
   "display_name": "Python 2",
   "language": "python",
   "name": "python2"
  },
  "language_info": {
   "codemirror_mode": {
    "name": "ipython",
    "version": 2
   },
   "file_extension": ".py",
   "mimetype": "text/x-python",
   "name": "python",
   "nbconvert_exporter": "python",
   "pygments_lexer": "ipython2",
   "version": "2.7.9"
  }
 },
 "nbformat": 4,
 "nbformat_minor": 0
}
