{
 "cells": [
  {
   "cell_type": "markdown",
   "metadata": {},
   "source": [
    "# Creating Annotated Table of Global Distinct Variants"
   ]
  },
  {
   "cell_type": "markdown",
   "metadata": {},
   "source": [
    "All tables containing variants in impala will be used to create a global table of disctinct variants. There variants will be given the following annotations: \n",
    "\n",
    "    - SnpEff coding consequence preditions  \n",
    "    - DANN scores  \n",
    "    - Ensembl gene annotations  \n",
    "    - dbSNP rsid  \n",
    "    - Clinvar clinical significance rating  \n",
    "    - Kaviar allele frequency  \n",
    "    \n",
    "To be added when available:   \n",
    "    - PFAM  \n",
    "    - CADD  "
   ]
  },
  {
   "cell_type": "markdown",
   "metadata": {},
   "source": [
    "### Script Requirements"
   ]
  },
  {
   "cell_type": "markdown",
   "metadata": {},
   "source": [
    "- Ibis: install Ibis from git master https://github.com/cloudera/ibis\n",
    "- Impyla: install impyla from git master https://github.com/cloudera/impyla\n",
    "- SnpEff: http://snpeff.sourceforge.net/\n",
    "- Reference (downloaded automoatically) GRCh37.74 to match vcf files"
   ]
  },
  {
   "cell_type": "markdown",
   "metadata": {},
   "source": [
    "### Connect to Impala with Ibis"
   ]
  },
  {
   "cell_type": "markdown",
   "metadata": {},
   "source": [
    "hdfs: update 'user' argument. "
   ]
  },
  {
   "cell_type": "code",
   "execution_count": 60,
   "metadata": {
    "collapsed": false
   },
   "outputs": [],
   "source": [
    "import ibis\n",
    "import os\n",
    "\n",
    "# connect to impala with ibis\n",
    "hdfs_port = os.environ.get('glados20', 50070)\n",
    "hdfs = ibis.hdfs_connect(host='glados20', port=hdfs_port, user='selasady')\n",
    "con = ibis.impala.connect(host='glados19', port=21050, timeout=120)\n",
    "\n",
    "# enable interactive mode\n",
    "ibis.options.interactive = True"
   ]
  },
  {
   "cell_type": "markdown",
   "metadata": {},
   "source": [
    "## Add All Variants and Annotations from Reference Tables"
   ]
  },
  {
   "cell_type": "markdown",
   "metadata": {},
   "source": [
    "All reference sources containing variants were outer joined to compile a list of all variants found on impala. \n",
    "\n",
    "TODO: Variants from CGI and Illumina will be added after normalized files are available. "
   ]
  },
  {
   "cell_type": "markdown",
   "metadata": {},
   "source": [
    "### Create connections to each needed table"
   ]
  },
  {
   "cell_type": "code",
   "execution_count": 61,
   "metadata": {
    "collapsed": false
   },
   "outputs": [],
   "source": [
    "db = 'p7_ref_grch37'\n",
    "\n",
    "# connect to variant tables\n",
    "kaviar = con.table('kaviar_isb', database=db)\n",
    "clinvar = con.table('clinvar', database=db) \n",
    "dbsnp = con.table('dbsnp', database=db)"
   ]
  },
  {
   "cell_type": "markdown",
   "metadata": {},
   "source": [
    "### Create Views with Distinct Subsets of each table"
   ]
  },
  {
   "cell_type": "code",
   "execution_count": 62,
   "metadata": {
    "collapsed": false
   },
   "outputs": [],
   "source": [
    "# limit dbsnp to build 142\n",
    "dbsnp = dbsnp[dbsnp.dbsnpbuildid == '142']\n",
    "\n",
    "# subset the data for distinct elements from the needed columns\n",
    "kav_sub = kaviar['chrom', 'pos', 'ref', 'alt', 'allele_freq', 'sources'].distinct()\n",
    "clin_sub = clinvar['chrom', 'pos', 'ref', 'alt', 'clin_sig', 'clin_dbn'].distinct()\n",
    "dbsnp_sub = dbsnp['chrom', 'pos', 'ref', 'alt', 'rs_id'].distinct()"
   ]
  },
  {
   "cell_type": "code",
   "execution_count": 33,
   "metadata": {
    "collapsed": true
   },
   "outputs": [],
   "source": [
    "# create views on impala\n",
    "con.create_view('kav_distinct', kav_sub, database='training')\n",
    "con.create_view('clin_distinct', clin_sub, database='training')\n",
    "con.create_view('dbsnp_distinct', dbsnp_sub, database='training')"
   ]
  },
  {
   "cell_type": "code",
   "execution_count": 63,
   "metadata": {
    "collapsed": false
   },
   "outputs": [],
   "source": [
    "# create an object for each view\n",
    "kav = con.table('kav_distinct', database='training')\n",
    "clin = con.table('clin_distinct', database='training')\n",
    "dbsnp = con.table('dbsnp_distinct', database='training')"
   ]
  },
  {
   "cell_type": "markdown",
   "metadata": {},
   "source": [
    "### Outer Join between Kaviar_ISB and ClinVar"
   ]
  },
  {
   "cell_type": "markdown",
   "metadata": {},
   "source": [
    " The Kaviar_ISB file and ClinVar files were joined, keeping all variants found in both tables, and Clinvar significance rating and phenotype name. \n",
    " \n",
    " Kaviar was parsed separately for SNP's and for indels. "
   ]
  },
  {
   "cell_type": "code",
   "execution_count": 65,
   "metadata": {
    "collapsed": false
   },
   "outputs": [
    {
     "ename": "NotImplementedError",
     "evalue": "",
     "output_type": "error",
     "traceback": [
      "\u001b[1;31m---------------------------------------------------------------------------\u001b[0m",
      "\u001b[1;31mNotImplementedError\u001b[0m                       Traceback (most recent call last)",
      "\u001b[1;32m<ipython-input-65-5d8040769dbd>\u001b[0m in \u001b[0;36m<module>\u001b[1;34m()\u001b[0m\n\u001b[0;32m      5\u001b[0m \u001b[1;33m\u001b[0m\u001b[0m\n\u001b[0;32m      6\u001b[0m \u001b[1;31m#outer join clinvar with kaviar_isb\u001b[0m\u001b[1;33m\u001b[0m\u001b[1;33m\u001b[0m\u001b[0m\n\u001b[1;32m----> 7\u001b[1;33m \u001b[0mclin_kav_snp\u001b[0m \u001b[1;33m=\u001b[0m \u001b[0mkav\u001b[0m\u001b[1;33m.\u001b[0m\u001b[0mouter_join\u001b[0m\u001b[1;33m(\u001b[0m\u001b[0mclin\u001b[0m\u001b[1;33m,\u001b[0m \u001b[0mclin_expr\u001b[0m\u001b[1;33m)\u001b[0m\u001b[1;33m[\u001b[0m\u001b[0mkav\u001b[0m\u001b[1;33m.\u001b[0m\u001b[0mchrom\u001b[0m\u001b[1;33m,\u001b[0m \u001b[0mkav\u001b[0m\u001b[1;33m.\u001b[0m\u001b[0mpos\u001b[0m\u001b[1;33m,\u001b[0m            \u001b[0mkav\u001b[0m\u001b[1;33m.\u001b[0m\u001b[0mref\u001b[0m\u001b[1;33m,\u001b[0m \u001b[0mkav\u001b[0m\u001b[1;33m.\u001b[0m\u001b[0malt\u001b[0m\u001b[1;33m,\u001b[0m \u001b[0mkav\u001b[0m\u001b[1;33m.\u001b[0m\u001b[0mallele_freq\u001b[0m\u001b[1;33m.\u001b[0m\u001b[0mname\u001b[0m\u001b[1;33m(\u001b[0m\u001b[1;34m'kav_freq'\u001b[0m\u001b[1;33m)\u001b[0m\u001b[1;33m,\u001b[0m            \u001b[0mkav\u001b[0m\u001b[1;33m.\u001b[0m\u001b[0msources\u001b[0m\u001b[1;33m.\u001b[0m\u001b[0mname\u001b[0m\u001b[1;33m(\u001b[0m\u001b[1;34m'kav_source'\u001b[0m\u001b[1;33m)\u001b[0m\u001b[1;33m,\u001b[0m \u001b[0mclin\u001b[0m\u001b[1;33m.\u001b[0m\u001b[0mclin_sig\u001b[0m\u001b[1;33m,\u001b[0m \u001b[0mclin\u001b[0m\u001b[1;33m.\u001b[0m\u001b[0mclin_dbn\u001b[0m\u001b[1;33m]\u001b[0m\u001b[1;33m\u001b[0m\u001b[0m\n\u001b[0m",
      "\u001b[1;32mC:\\Anaconda\\lib\\site-packages\\ibis\\expr\\api.pyc\u001b[0m in \u001b[0;36mf\u001b[1;34m(self, other, predicates)\u001b[0m\n\u001b[0;32m   1780\u001b[0m \u001b[1;32mdef\u001b[0m \u001b[0m_regular_join_method\u001b[0m\u001b[1;33m(\u001b[0m\u001b[0mname\u001b[0m\u001b[1;33m,\u001b[0m \u001b[0mhow\u001b[0m\u001b[1;33m,\u001b[0m \u001b[0mdoc\u001b[0m\u001b[1;33m=\u001b[0m\u001b[0mNone\u001b[0m\u001b[1;33m)\u001b[0m\u001b[1;33m:\u001b[0m\u001b[1;33m\u001b[0m\u001b[0m\n\u001b[0;32m   1781\u001b[0m     \u001b[1;32mdef\u001b[0m \u001b[0mf\u001b[0m\u001b[1;33m(\u001b[0m\u001b[0mself\u001b[0m\u001b[1;33m,\u001b[0m \u001b[0mother\u001b[0m\u001b[1;33m,\u001b[0m \u001b[0mpredicates\u001b[0m\u001b[1;33m=\u001b[0m\u001b[1;33m(\u001b[0m\u001b[1;33m)\u001b[0m\u001b[1;33m)\u001b[0m\u001b[1;33m:\u001b[0m\u001b[1;33m\u001b[0m\u001b[0m\n\u001b[1;32m-> 1782\u001b[1;33m         \u001b[1;32mreturn\u001b[0m \u001b[0mself\u001b[0m\u001b[1;33m.\u001b[0m\u001b[0mjoin\u001b[0m\u001b[1;33m(\u001b[0m\u001b[0mother\u001b[0m\u001b[1;33m,\u001b[0m \u001b[0mpredicates\u001b[0m\u001b[1;33m,\u001b[0m \u001b[0mhow\u001b[0m\u001b[1;33m=\u001b[0m\u001b[0mhow\u001b[0m\u001b[1;33m)\u001b[0m\u001b[1;33m\u001b[0m\u001b[0m\n\u001b[0m\u001b[0;32m   1783\u001b[0m     \u001b[1;32mif\u001b[0m \u001b[0mdoc\u001b[0m\u001b[1;33m:\u001b[0m\u001b[1;33m\u001b[0m\u001b[0m\n\u001b[0;32m   1784\u001b[0m         \u001b[0mf\u001b[0m\u001b[1;33m.\u001b[0m\u001b[0m__doc__\u001b[0m \u001b[1;33m=\u001b[0m \u001b[0mdoc\u001b[0m\u001b[1;33m\u001b[0m\u001b[0m\n",
      "\u001b[1;32mC:\\Anaconda\\lib\\site-packages\\ibis\\expr\\api.pyc\u001b[0m in \u001b[0;36mjoin\u001b[1;34m(left, right, predicates, how)\u001b[0m\n\u001b[0;32m   1676\u001b[0m         \u001b[0mpredicates\u001b[0m \u001b[1;33m=\u001b[0m \u001b[0m_L\u001b[0m\u001b[1;33m.\u001b[0m\u001b[0munwrap_ands\u001b[0m\u001b[1;33m(\u001b[0m\u001b[0mpredicates\u001b[0m\u001b[1;33m)\u001b[0m\u001b[1;33m\u001b[0m\u001b[0m\n\u001b[0;32m   1677\u001b[0m \u001b[1;33m\u001b[0m\u001b[0m\n\u001b[1;32m-> 1678\u001b[1;33m     \u001b[0mop\u001b[0m \u001b[1;33m=\u001b[0m \u001b[0mklass\u001b[0m\u001b[1;33m(\u001b[0m\u001b[0mleft\u001b[0m\u001b[1;33m,\u001b[0m \u001b[0mright\u001b[0m\u001b[1;33m,\u001b[0m \u001b[0mpredicates\u001b[0m\u001b[1;33m)\u001b[0m\u001b[1;33m\u001b[0m\u001b[0m\n\u001b[0m\u001b[0;32m   1679\u001b[0m     \u001b[1;32mreturn\u001b[0m \u001b[0mTableExpr\u001b[0m\u001b[1;33m(\u001b[0m\u001b[0mop\u001b[0m\u001b[1;33m)\u001b[0m\u001b[1;33m\u001b[0m\u001b[0m\n\u001b[0;32m   1680\u001b[0m \u001b[1;33m\u001b[0m\u001b[0m\n",
      "\u001b[1;32mC:\\Anaconda\\lib\\site-packages\\ibis\\expr\\operations.pyc\u001b[0m in \u001b[0;36m__init__\u001b[1;34m(self, left, right, predicates)\u001b[0m\n\u001b[0;32m   1316\u001b[0m         (self.left,\n\u001b[0;32m   1317\u001b[0m          \u001b[0mself\u001b[0m\u001b[1;33m.\u001b[0m\u001b[0mright\u001b[0m\u001b[1;33m,\u001b[0m\u001b[1;33m\u001b[0m\u001b[0m\n\u001b[1;32m-> 1318\u001b[1;33m          self.predicates) = self._make_distinct(left, right, predicates)\n\u001b[0m\u001b[0;32m   1319\u001b[0m \u001b[1;33m\u001b[0m\u001b[0m\n\u001b[0;32m   1320\u001b[0m         \u001b[1;31m# Validate join predicates. Each predicate must be valid jointly when\u001b[0m\u001b[1;33m\u001b[0m\u001b[1;33m\u001b[0m\u001b[0m\n",
      "\u001b[1;32mC:\\Anaconda\\lib\\site-packages\\ibis\\expr\\operations.pyc\u001b[0m in \u001b[0;36m_make_distinct\u001b[1;34m(self, left, right, predicates)\u001b[0m\n\u001b[0;32m   1336\u001b[0m             \u001b[0mright\u001b[0m \u001b[1;33m=\u001b[0m \u001b[0mright\u001b[0m\u001b[1;33m.\u001b[0m\u001b[0mview\u001b[0m\u001b[1;33m(\u001b[0m\u001b[1;33m)\u001b[0m\u001b[1;33m\u001b[0m\u001b[0m\n\u001b[0;32m   1337\u001b[0m \u001b[1;33m\u001b[0m\u001b[0m\n\u001b[1;32m-> 1338\u001b[1;33m         \u001b[0mpredicates\u001b[0m \u001b[1;33m=\u001b[0m \u001b[0mself\u001b[0m\u001b[1;33m.\u001b[0m\u001b[0m_clean_predicates\u001b[0m\u001b[1;33m(\u001b[0m\u001b[0mleft\u001b[0m\u001b[1;33m,\u001b[0m \u001b[0mright\u001b[0m\u001b[1;33m,\u001b[0m \u001b[0mpredicates\u001b[0m\u001b[1;33m)\u001b[0m\u001b[1;33m\u001b[0m\u001b[0m\n\u001b[0m\u001b[0;32m   1339\u001b[0m         \u001b[1;32mreturn\u001b[0m \u001b[0mleft\u001b[0m\u001b[1;33m,\u001b[0m \u001b[0mright\u001b[0m\u001b[1;33m,\u001b[0m \u001b[0mpredicates\u001b[0m\u001b[1;33m\u001b[0m\u001b[0m\n\u001b[0;32m   1340\u001b[0m \u001b[1;33m\u001b[0m\u001b[0m\n",
      "\u001b[1;32mC:\\Anaconda\\lib\\site-packages\\ibis\\expr\\operations.pyc\u001b[0m in \u001b[0;36m_clean_predicates\u001b[1;34m(self, left, right, predicates)\u001b[0m\n\u001b[0;32m   1359\u001b[0m                 \u001b[0mpred\u001b[0m \u001b[1;33m=\u001b[0m \u001b[0mgetattr\u001b[0m\u001b[1;33m(\u001b[0m\u001b[0mleft\u001b[0m\u001b[1;33m,\u001b[0m \u001b[0mpred\u001b[0m\u001b[1;33m)\u001b[0m \u001b[1;33m==\u001b[0m \u001b[0mgetattr\u001b[0m\u001b[1;33m(\u001b[0m\u001b[0mright\u001b[0m\u001b[1;33m,\u001b[0m \u001b[0mpred\u001b[0m\u001b[1;33m)\u001b[0m\u001b[1;33m\u001b[0m\u001b[0m\n\u001b[0;32m   1360\u001b[0m             \u001b[1;32melif\u001b[0m \u001b[1;32mnot\u001b[0m \u001b[0misinstance\u001b[0m\u001b[1;33m(\u001b[0m\u001b[0mpred\u001b[0m\u001b[1;33m,\u001b[0m \u001b[0mir\u001b[0m\u001b[1;33m.\u001b[0m\u001b[0mExpr\u001b[0m\u001b[1;33m)\u001b[0m\u001b[1;33m:\u001b[0m\u001b[1;33m\u001b[0m\u001b[0m\n\u001b[1;32m-> 1361\u001b[1;33m                 \u001b[1;32mraise\u001b[0m \u001b[0mNotImplementedError\u001b[0m\u001b[1;33m\u001b[0m\u001b[0m\n\u001b[0m\u001b[0;32m   1362\u001b[0m \u001b[1;33m\u001b[0m\u001b[0m\n\u001b[0;32m   1363\u001b[0m             \u001b[1;32mif\u001b[0m \u001b[1;32mnot\u001b[0m \u001b[0misinstance\u001b[0m\u001b[1;33m(\u001b[0m\u001b[0mpred\u001b[0m\u001b[1;33m,\u001b[0m \u001b[0mir\u001b[0m\u001b[1;33m.\u001b[0m\u001b[0mBooleanArray\u001b[0m\u001b[1;33m)\u001b[0m\u001b[1;33m:\u001b[0m\u001b[1;33m\u001b[0m\u001b[0m\n",
      "\u001b[1;31mNotImplementedError\u001b[0m: "
     ]
    }
   ],
   "source": [
    "# join clinvar and kaviar for SNP's\n",
    "\n",
    "# create statements to join clinvar and kaviar\n",
    "clin_expr = [kav.chrom == clin.chrom, kav.pos == clin.pos, kav.ref == clin.ref,\\\n",
    "               kav.alt == clin.alt, len(str(kav.alt)) == 1]\n",
    "\n",
    "#outer join clinvar with kaviar_isb\n",
    "clin_kav_snp = kav.outer_join(clin, clin_expr)[kav.chrom, kav.pos, \\\n",
    "           kav.ref, kav.alt, kav.allele_freq.name('kav_freq'), \\\n",
    "           kav.sources.name('kav_source'), clin.clin_sig, clin.clin_dbn]"
   ]
  },
  {
   "cell_type": "code",
   "execution_count": null,
   "metadata": {
    "collapsed": true
   },
   "outputs": [],
   "source": [
    "# join clinvar and kaviar for indels\n",
    "\n",
    "# create statements to join clinvar and kaviar\n",
    "clin_expr = [kav.chrom == clin.chrom, kav.pos == clin.pos, kav.ref == clin.ref,\\\n",
    "               kav.alt == clin.alt, len(str(kav.alt)) == 1]\n",
    "\n",
    "#outer join clinvar with kaviar_isb\n",
    "clin_kav_snp = kav.outer_join(clin, clin_expr)[kav.chrom, kav.pos, \\\n",
    "           kav.ref, kav.alt, kav.allele_freq.name('kav_freq'), \\\n",
    "           kav.sources.name('kav_source'), clin.clin_sig, clin.clin_dbn]"
   ]
  },
  {
   "cell_type": "code",
   "execution_count": 6,
   "metadata": {
    "collapsed": false
   },
   "outputs": [],
   "source": [
    "# create statements to join the clin_kav table with dbsnp\n",
    "dbsnp_exprs = [clin_kav.chrom == dbsnp.chrom, clin_kav.pos == dbsnp.pos, \\\n",
    "               clin_kav.ref == dbsnp.ref, clin_kav.alt == dbsnp.alt]\n",
    "\n",
    "# outer join clin_kav with dbsnp\n",
    "all_vars = clin_kav.outer_join(dbsnp, dbsnp_exprs)[clin_kav, dbsnp.rs_id]"
   ]
  },
  {
   "cell_type": "code",
   "execution_count": 87,
   "metadata": {
    "collapsed": false
   },
   "outputs": [],
   "source": [
    "# reduce all_vars to distinct entries and save as a table on impala for downstream analysis\n",
    "con.create_table('all_vars', all_vars.distinct(), database='training')"
   ]
  },
  {
   "cell_type": "code",
   "execution_count": 2,
   "metadata": {
    "collapsed": false
   },
   "outputs": [
    {
     "name": "stdout",
     "output_type": "stream",
     "text": [
      "  chrom        pos ref alt  kav_freq  \\\n",
      "0     5  174017416  TG  TT  0.002075   \n",
      "1     1  106839757   A   G  0.001153   \n",
      "2     X    9421656  AG   A  0.000038   \n",
      "3     7  101028028   A   G  0.000038   \n",
      "4    20   14800837   A   G  0.000038   \n",
      "\n",
      "                                          kav_source clin_sig clin_dbn  \\\n",
      "0  Inova_Illumina_founders|SS6004468|UK10K|phase3...      NaN      NaN   \n",
      "1  ADNI|ISB_founders|Inova_CGI_founders|Inova_Ill...      NaN      NaN   \n",
      "2                                              UK10K      NaN      NaN   \n",
      "3                                 Inova_CGI_founders      NaN      NaN   \n",
      "4                                        GS000016338      NaN      NaN   \n",
      "\n",
      "         rs_id  \n",
      "0          NaN  \n",
      "1  rs538323235  \n",
      "2          NaN  \n",
      "3          NaN  \n",
      "4          NaN  \n"
     ]
    }
   ],
   "source": [
    "# create a connection to the all_vars table and preview\n",
    "all_vars = con.table('all_vars', database='training')\n",
    "print all_vars.limit(5)"
   ]
  },
  {
   "cell_type": "markdown",
   "metadata": {},
   "source": [
    "## Add Regional Annotations"
   ]
  },
  {
   "cell_type": "markdown",
   "metadata": {},
   "source": [
    "Region-based annotations will be added to speed up downstream analysis and lookups. \n",
    "\n",
    "TODO: Add CADD and PFAM annotations when available. "
   ]
  },
  {
   "cell_type": "code",
   "execution_count": 5,
   "metadata": {
    "collapsed": false
   },
   "outputs": [],
   "source": [
    "# connect to regional annotation tables\n",
    "dann = con.table('dann', database='p7_ref_grch37')\n",
    "ensembl = con.table('ensembl_genes', database='p7_ref_grch37')\n",
    "dbnsfp = con.table('dbnsfp_variant', database='p7_ref_grch37')"
   ]
  },
  {
   "cell_type": "markdown",
   "metadata": {},
   "source": [
    "### Create a subset from each table"
   ]
  },
  {
   "cell_type": "code",
   "execution_count": 6,
   "metadata": {
    "collapsed": false
   },
   "outputs": [],
   "source": [
    "# subset tables for only required columns and distinct rows\n",
    "ensembl_sub = ensembl['chrom', 'start', 'stop', 'strand', 'gene_name', 'gene_id'].distinct()\n",
    "dbnsfp_sub = dbnsfp['chrom', 'pos', 'ref', 'alt', 'sift_score', 'sift_pred', 'polyphen2_hdiv_score', \\\n",
    "             'polyphen2_hvar_score', 'cadd_raw', 'interpro_domain'].distinct()"
   ]
  },
  {
   "cell_type": "code",
   "execution_count": 8,
   "metadata": {
    "collapsed": false
   },
   "outputs": [],
   "source": [
    "# create views on impala\n",
    "con.create_view('ens_distinct', ensembl_sub, database='training')\n",
    "con.create_view('dbnsfp_distinct', dbnsfp_sub, database='training')"
   ]
  },
  {
   "cell_type": "code",
   "execution_count": 9,
   "metadata": {
    "collapsed": false
   },
   "outputs": [],
   "source": [
    "# create a connection to each view\n",
    "ens = con.table('ens_distinct', database='training')\n",
    "dbnsfp_dist = con.table('dbnsfp_distinct', database='training')"
   ]
  },
  {
   "cell_type": "markdown",
   "metadata": {},
   "source": [
    "### Add Regional Annotations"
   ]
  },
  {
   "cell_type": "markdown",
   "metadata": {},
   "source": [
    "The following annotations will be broken out into chromosome as these tables are getting very large. "
   ]
  },
  {
   "cell_type": "code",
   "execution_count": 45,
   "metadata": {
    "collapsed": false
   },
   "outputs": [],
   "source": [
    "# create case statement to add DANN score depending on reference\n",
    "dann_case = (ibis.case()\n",
    "            .when(all_vars.alt == 'A', dann.score_a)\n",
    "            .when(all_vars.alt == 'T', dann.score_t)\n",
    "            .when(all_vars.alt == 'C', dann.score_c)\n",
    "            .when(all_vars.alt == 'G', dann.score_g)\n",
    "            .else_(ibis.NA)\n",
    "            .end())    \n",
    "\n",
    "# create table with variants and dann score annnoations\n",
    "dann_exp = [all_vars.chrom == '1', dann.chrom == all_vars.chrom, all_vars.pos == dann.pos]\n",
    "con.create_table('vars_dann', all_vars.join(dann, dann_exp)[all_vars, dann_case.name('dann_score')].distinct(), \\\n",
    "                 database='training')"
   ]
  },
  {
   "cell_type": "code",
   "execution_count": 55,
   "metadata": {
    "collapsed": false
   },
   "outputs": [
    {
     "name": "stdout",
     "output_type": "stream",
     "text": [
      "0      14\n",
      "1       6\n",
      "2      21\n",
      "3       X\n",
      "4       1\n",
      "5     NaN\n",
      "6       2\n",
      "7       7\n",
      "8      11\n",
      "9      12\n",
      "10     16\n",
      "11      9\n",
      "12     13\n",
      "13      5\n",
      "14     18\n",
      "15      Y\n",
      "16      4\n",
      "17     20\n",
      "18     17\n",
      "19     22\n",
      "20      3\n",
      "21      8\n",
      "22     19\n",
      "23     10\n",
      "24     15\n",
      "Name: chrom, dtype: object\n"
     ]
    }
   ],
   "source": [
    "# create string of chromosomes in the data set\n",
    "chroms = str(all_vars.chrom.distinct())\n",
    "# remove chromosome 1\n",
    "chroms = chroms.translate(None, '1')\n",
    "\n",
    "print all_vars.chrom.distinct()\n",
    "\n",
    "# append each chromosome to vars_dann table\n",
    "#for this_chrom in chroms:\n",
    "#     # create table with variants and dann score annnoations\n",
    "#     dann_exp = [all_vars.chrom == this_chrom, dann.chrom == all_vars.chrom, all_vars.pos == dann.pos]\n",
    "#     con.insert('vars_dann', all_vars.join(dann, dann_exp)[all_vars, dann_case.name('dann_score')].distinct(), \\\n",
    "#                  database='training')\n"
   ]
  },
  {
   "cell_type": "code",
   "execution_count": 36,
   "metadata": {
    "collapsed": false
   },
   "outputs": [],
   "source": [
    "# connect to vars_dann table and run compute stats\n",
    "vars_dann = con.table('vars_dann', database='training')\n",
    "vars_dann.compute_stats()\n",
    "\n",
    "# create table with ensembl gene annotations\n",
    "ensembl_exp = [vars_dann.chrom == ens.chrom, vars_dann.pos >= ens.start, \\\n",
    "               vars_dann.pos <= ens.stop]\n",
    "vars_dann_ens = vars_dann.join(ens, ensembl_exp)[vars_dann, ens.gene_name.name('ens_gene')].distinct()\n",
    "\n",
    "# create a table with variants, dann and ensembl annotations\n",
    "con.create_table('vars_dann_ens', vars_dann_ens, database= 'training')"
   ]
  },
  {
   "cell_type": "code",
   "execution_count": 17,
   "metadata": {
    "collapsed": false
   },
   "outputs": [],
   "source": [
    "#  create a connection to variants with dann and ensembl annotations view \n",
    "add_dbnsfp = con.table('vars_dann_ens', database = 'training')\n",
    "add_dbnsfp.compute_stats()\n",
    "\n",
    "# add CADD and PFAM scores from dbNSFP table\n",
    "dbnsfp_exp = [add_dbnsfp.chrom == dbnsfp_dist.chrom, add_dbnsfp.pos == dbnsfp_dist.pos, \\\n",
    "              add_dbnsfp.ref == dbnsfp_dist.ref, add_dbnsfp.alt == dbnsfp_dist.alt]\n",
    "\n",
    "global_vars = add_dbnsfp.join(dbnsfp_dist, dbnsfp_exp)[add_dbnsfp, dbnsfp_dist.sift_score,  \\\n",
    "                         dbnsfp_dist.polyphen2_hdiv_score, dbnsfp_dist.polyphen2_hvar_score, \\\n",
    "                         dbnsfp_dist.cadd_raw, dbnsfp_dist.interpro_domain].distinct()"
   ]
  },
  {
   "cell_type": "markdown",
   "metadata": {},
   "source": [
    "## Save global variants as impala table"
   ]
  },
  {
   "cell_type": "markdown",
   "metadata": {},
   "source": [
    "The table is too large to add snpeff annotations without first saving the table to impala. "
   ]
  },
  {
   "cell_type": "code",
   "execution_count": 19,
   "metadata": {
    "collapsed": false
   },
   "outputs": [
    {
     "ename": "OperationalError",
     "evalue": "Operation is in ERROR_STATE",
     "output_type": "error",
     "traceback": [
      "\u001b[1;31m---------------------------------------------------------------------------\u001b[0m",
      "\u001b[1;31mOperationalError\u001b[0m                          Traceback (most recent call last)",
      "\u001b[1;32m<ipython-input-19-e3030f6ef2e8>\u001b[0m in \u001b[0;36m<module>\u001b[1;34m()\u001b[0m\n\u001b[1;32m----> 1\u001b[1;33m \u001b[0mcon\u001b[0m\u001b[1;33m.\u001b[0m\u001b[0mcreate_table\u001b[0m\u001b[1;33m(\u001b[0m\u001b[1;34m'global_vars'\u001b[0m\u001b[1;33m,\u001b[0m \u001b[0mglobal_vars\u001b[0m\u001b[1;33m.\u001b[0m\u001b[0mdistinct\u001b[0m\u001b[1;33m(\u001b[0m\u001b[1;33m)\u001b[0m\u001b[1;33m,\u001b[0m \u001b[0mdatabase\u001b[0m\u001b[1;33m=\u001b[0m\u001b[1;34m'training'\u001b[0m\u001b[1;33m)\u001b[0m\u001b[1;33m\u001b[0m\u001b[0m\n\u001b[0m",
      "\u001b[1;32mC:\\Anaconda\\lib\\site-packages\\ibis\\impala\\client.pyc\u001b[0m in \u001b[0;36mcreate_table\u001b[1;34m(self, table_name, obj, schema, database, format, force, external, path, partition, like_parquet)\u001b[0m\n\u001b[0;32m    798\u001b[0m             \u001b[1;32mraise\u001b[0m \u001b[0mcom\u001b[0m\u001b[1;33m.\u001b[0m\u001b[0mIbisError\u001b[0m\u001b[1;33m(\u001b[0m\u001b[1;34m'Must pass expr or schema'\u001b[0m\u001b[1;33m)\u001b[0m\u001b[1;33m\u001b[0m\u001b[0m\n\u001b[0;32m    799\u001b[0m \u001b[1;33m\u001b[0m\u001b[0m\n\u001b[1;32m--> 800\u001b[1;33m         \u001b[0mself\u001b[0m\u001b[1;33m.\u001b[0m\u001b[0m_execute\u001b[0m\u001b[1;33m(\u001b[0m\u001b[0mstatement\u001b[0m\u001b[1;33m)\u001b[0m\u001b[1;33m\u001b[0m\u001b[0m\n\u001b[0m\u001b[0;32m    801\u001b[0m \u001b[1;33m\u001b[0m\u001b[0m\n\u001b[0;32m    802\u001b[0m     \u001b[1;32mdef\u001b[0m \u001b[0m_write_dataframe\u001b[0m\u001b[1;33m(\u001b[0m\u001b[0mself\u001b[0m\u001b[1;33m,\u001b[0m \u001b[0mdf\u001b[0m\u001b[1;33m)\u001b[0m\u001b[1;33m:\u001b[0m\u001b[1;33m\u001b[0m\u001b[0m\n",
      "\u001b[1;32mC:\\Anaconda\\lib\\site-packages\\ibis\\client.pyc\u001b[0m in \u001b[0;36m_execute\u001b[1;34m(self, query, results)\u001b[0m\n\u001b[0;32m    152\u001b[0m \u001b[1;33m\u001b[0m\u001b[0m\n\u001b[0;32m    153\u001b[0m     \u001b[1;32mdef\u001b[0m \u001b[0m_execute\u001b[0m\u001b[1;33m(\u001b[0m\u001b[0mself\u001b[0m\u001b[1;33m,\u001b[0m \u001b[0mquery\u001b[0m\u001b[1;33m,\u001b[0m \u001b[0mresults\u001b[0m\u001b[1;33m=\u001b[0m\u001b[0mFalse\u001b[0m\u001b[1;33m)\u001b[0m\u001b[1;33m:\u001b[0m\u001b[1;33m\u001b[0m\u001b[0m\n\u001b[1;32m--> 154\u001b[1;33m         \u001b[0mcur\u001b[0m \u001b[1;33m=\u001b[0m \u001b[0mself\u001b[0m\u001b[1;33m.\u001b[0m\u001b[0mcon\u001b[0m\u001b[1;33m.\u001b[0m\u001b[0mexecute\u001b[0m\u001b[1;33m(\u001b[0m\u001b[0mquery\u001b[0m\u001b[1;33m)\u001b[0m\u001b[1;33m\u001b[0m\u001b[0m\n\u001b[0m\u001b[0;32m    155\u001b[0m         \u001b[1;32mif\u001b[0m \u001b[0mresults\u001b[0m\u001b[1;33m:\u001b[0m\u001b[1;33m\u001b[0m\u001b[0m\n\u001b[0;32m    156\u001b[0m             \u001b[1;32mreturn\u001b[0m \u001b[0mcur\u001b[0m\u001b[1;33m\u001b[0m\u001b[0m\n",
      "\u001b[1;32mC:\\Anaconda\\lib\\site-packages\\ibis\\impala\\client.pyc\u001b[0m in \u001b[0;36mexecute\u001b[1;34m(self, query, async)\u001b[0m\n\u001b[0;32m    114\u001b[0m \u001b[1;33m\u001b[0m\u001b[0m\n\u001b[0;32m    115\u001b[0m         \u001b[1;32mtry\u001b[0m\u001b[1;33m:\u001b[0m\u001b[1;33m\u001b[0m\u001b[0m\n\u001b[1;32m--> 116\u001b[1;33m             \u001b[0mcursor\u001b[0m\u001b[1;33m.\u001b[0m\u001b[0mexecute\u001b[0m\u001b[1;33m(\u001b[0m\u001b[0mquery\u001b[0m\u001b[1;33m,\u001b[0m \u001b[0masync\u001b[0m\u001b[1;33m=\u001b[0m\u001b[0masync\u001b[0m\u001b[1;33m)\u001b[0m\u001b[1;33m\u001b[0m\u001b[0m\n\u001b[0m\u001b[0;32m    117\u001b[0m         \u001b[1;32mexcept\u001b[0m\u001b[1;33m:\u001b[0m\u001b[1;33m\u001b[0m\u001b[0m\n\u001b[0;32m    118\u001b[0m             \u001b[0mcursor\u001b[0m\u001b[1;33m.\u001b[0m\u001b[0mrelease\u001b[0m\u001b[1;33m(\u001b[0m\u001b[1;33m)\u001b[0m\u001b[1;33m\u001b[0m\u001b[0m\n",
      "\u001b[1;32mC:\\Anaconda\\lib\\site-packages\\ibis\\impala\\client.pyc\u001b[0m in \u001b[0;36mexecute\u001b[1;34m(self, stmt, async)\u001b[0m\n\u001b[0;32m    220\u001b[0m             \u001b[1;32mreturn\u001b[0m\u001b[1;33m\u001b[0m\u001b[0m\n\u001b[0;32m    221\u001b[0m         \u001b[1;32melse\u001b[0m\u001b[1;33m:\u001b[0m\u001b[1;33m\u001b[0m\u001b[0m\n\u001b[1;32m--> 222\u001b[1;33m             \u001b[0mself\u001b[0m\u001b[1;33m.\u001b[0m\u001b[0m_wait_synchronous\u001b[0m\u001b[1;33m(\u001b[0m\u001b[1;33m)\u001b[0m\u001b[1;33m\u001b[0m\u001b[0m\n\u001b[0m\u001b[0;32m    223\u001b[0m \u001b[1;33m\u001b[0m\u001b[0m\n\u001b[0;32m    224\u001b[0m     \u001b[1;32mdef\u001b[0m \u001b[0m_wait_synchronous\u001b[0m\u001b[1;33m(\u001b[0m\u001b[0mself\u001b[0m\u001b[1;33m)\u001b[0m\u001b[1;33m:\u001b[0m\u001b[1;33m\u001b[0m\u001b[0m\n",
      "\u001b[1;32mC:\\Anaconda\\lib\\site-packages\\ibis\\impala\\client.pyc\u001b[0m in \u001b[0;36m_wait_synchronous\u001b[1;34m(self)\u001b[0m\n\u001b[0;32m    244\u001b[0m                 \u001b[0mstate\u001b[0m \u001b[1;33m=\u001b[0m \u001b[0mhs2_cursor_status\u001b[0m\u001b[1;33m(\u001b[0m\u001b[0mcur\u001b[0m\u001b[1;33m)\u001b[0m\u001b[1;33m\u001b[0m\u001b[0m\n\u001b[0;32m    245\u001b[0m                 \u001b[1;32mif\u001b[0m \u001b[0mself\u001b[0m\u001b[1;33m.\u001b[0m\u001b[0mcursor\u001b[0m\u001b[1;33m.\u001b[0m\u001b[0m_op_state_is_error\u001b[0m\u001b[1;33m(\u001b[0m\u001b[0mstate\u001b[0m\u001b[1;33m)\u001b[0m\u001b[1;33m:\u001b[0m\u001b[1;33m\u001b[0m\u001b[0m\n\u001b[1;32m--> 246\u001b[1;33m                     \u001b[1;32mraise\u001b[0m \u001b[0mOperationalError\u001b[0m\u001b[1;33m(\u001b[0m\u001b[1;34m\"Operation is in ERROR_STATE\"\u001b[0m\u001b[1;33m)\u001b[0m\u001b[1;33m\u001b[0m\u001b[0m\n\u001b[0m\u001b[0;32m    247\u001b[0m                 \u001b[1;32mif\u001b[0m \u001b[1;32mnot\u001b[0m \u001b[0mcur\u001b[0m\u001b[1;33m.\u001b[0m\u001b[0m_op_state_is_executing\u001b[0m\u001b[1;33m(\u001b[0m\u001b[0mstate\u001b[0m\u001b[1;33m)\u001b[0m\u001b[1;33m:\u001b[0m\u001b[1;33m\u001b[0m\u001b[0m\n\u001b[0;32m    248\u001b[0m                     \u001b[1;32mbreak\u001b[0m\u001b[1;33m\u001b[0m\u001b[0m\n",
      "\u001b[1;31mOperationalError\u001b[0m: Operation is in ERROR_STATE"
     ]
    }
   ],
   "source": [
    "con.create_table('global_vars', global_vars.distinct(), database='training')"
   ]
  },
  {
   "cell_type": "markdown",
   "metadata": {},
   "source": [
    "### Clean up temp tables"
   ]
  },
  {
   "cell_type": "code",
   "execution_count": null,
   "metadata": {
    "collapsed": true
   },
   "outputs": [],
   "source": []
  },
  {
   "cell_type": "markdown",
   "metadata": {},
   "source": [
    "TODO: \n",
    "    - Add normalized variants from illumina and cgi\n",
    "    - Add PFAM domains\n",
    "    - Add snpeff annotations"
   ]
  },
  {
   "cell_type": "code",
   "execution_count": null,
   "metadata": {
    "collapsed": true
   },
   "outputs": [],
   "source": []
  }
 ],
 "metadata": {
  "kernelspec": {
   "display_name": "Python 2",
   "language": "python",
   "name": "python2"
  },
  "language_info": {
   "codemirror_mode": {
    "name": "ipython",
    "version": 2
   },
   "file_extension": ".py",
   "mimetype": "text/x-python",
   "name": "python",
   "nbconvert_exporter": "python",
   "pygments_lexer": "ipython2",
   "version": "2.7.10"
  }
 },
 "nbformat": 4,
 "nbformat_minor": 0
}
