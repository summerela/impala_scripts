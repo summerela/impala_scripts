{
 "worksheets": [
  {
   "cells": [
    {
     "cell_type": "heading",
     "metadata": {},
     "level": 1,
     "source": [
      "ACMG Gene Annotation"
     ]
    },
    {
     "cell_type": "heading",
     "metadata": {},
     "level": 2,
     "source": [
      "Purpose"
     ]
    },
    {
     "cell_type": "markdown",
     "metadata": {},
     "source": [
      "Variants were annotated with the ACMG actionable gene table. Variants located in ACMG gene regions were annotated with Kaviar frequency, ClinVar clinical significance ratings, DANN predicted pathogenicity scores for SNV's, and coding consequence predictions using SnpEff. \n",
      "\n",
      "Variants were filtered for appropriate mode of inheritance and then labeled as predictive when meeting the following conditions:   \n",
      "- Presence of mutation(s) with appropriate inheritance (eg, 2 bi-allelic pathogenic mutations for a recessive disorder).  \n",
      "\n",
      "Mutations defined strictly as either:   \n",
      "    - Annotated in ClinVar with a clinical significance of 4 or 5, but never 2 or 3 or labeled pathogenic in HGMD (to be added later)  \n",
      "    OR    \n",
      "    - Novel (in Kaviar with frequency less than .03 or not in Kaviar) but either predicted to be disease-causing with a SnpEff impact score of 'high' or a DANN score higher than specified cutoff below"
     ]
    },
    {
     "cell_type": "heading",
     "metadata": {},
     "level": 2,
     "source": [
      "User Specified Parameters"
     ]
    },
    {
     "cell_type": "markdown",
     "metadata": {},
     "source": [
      "The analysis was performed using the parameters specified below: "
     ]
    },
    {
     "cell_type": "code",
     "execution_count": null,
     "metadata": {},
     "outputs": [],
     "input": [
      "#############\n",
      "## kaviar ##\n",
      "############\n",
      "# enter kaviar frequency threshold\n",
      "kav_freq = '.03'\n",
      "\n",
      "###############\n",
      "## family id ##\n",
      "###############\n",
      "# uncomment for list \n",
      "sample_list = '08-01_PG0001705-BLD','08-04_PG0001704-BLD','08-05_PG0001706-BLD',\\\n",
      "              '05-02_PG0003573-BLD','05-03_PG0003565-BLD','05-01_PG0003524-BLD',\\\n",
      "              '07-02_PG0001692-BLD','07-03_PG0001693-BLD','07-01_PG0002918-DNA',\\\n",
      "              '06-02_PG0001697-BLD','06-03_PG0001698-BLD','06-01_PG0001696-BLD'\n",
      "\n",
      "####################\n",
      "## trio member(s) ##\n",
      "####################\n",
      "trio_member = 'all'\n",
      "\n",
      "################\n",
      "## dann_score ##\n",
      "################\n",
      "# enter minimum dann score for predicted NBS\n",
      "dann_score = '0.96'\n",
      "\n",
      "########################\n",
      "## database locations ##\n",
      "########################\n",
      "# enter user database to output tables\n",
      "out_db = 'users_selasady'\n",
      "# enter database.name for variant table\n",
      "variant_table = 'clarity2.wgs_illumina_variant'\n",
      "# enter database.name of kaviar table\n",
      "kaviar_table = 'p7_ref_grch37.kaviar'\n",
      "# enter database.name of clinvar table\n",
      "clinvar_table = 'p7_ref_grch37.clinvar'\n",
      "# enter database.name of dann table\n",
      "dbnfsp_table = 'p7_ref_grch37.dbnsfp_variant'\n",
      "\n",
      "#################\n",
      "## system info ##\n",
      "#################\n",
      "# enter path to snpEff.jar on your computer\n",
      "snpeff_path = '/Users/selasady/tools/snpEff/snpEff.jar'\n",
      "\n",
      "# enter desired basename for output files\n",
      "out_name = 'clarity_acmg_genes'"
     ],
     "language": "python",
     "prompt_number": 12
    },
    {
     "cell_type": "heading",
     "metadata": {},
     "level": 2,
     "source": [
      "Adding positional information to the ACMG gene list"
     ]
    },
    {
     "cell_type": "markdown",
     "metadata": {},
     "source": [
      "Chromosome, start and stop positions were added to the ACMG Gene list by joining it with the \n",
      "ucsc_genes table using gene name. \n",
      "\n",
      "        CREATE TABLE acmg_ucsc AS (\n",
      "            SELECT acmg.*, ucsc.chrom, ucsc.txstart, ucsc.txstop\n",
      "            FROM acmg_genes as acmg, ucsc_genes as ucsc\n",
      "            WHERE acmg.gene = ucsc.gene_name\n",
      "         )\n",
      "\n",
      "The results were saved as users _ selasady.acmg_ ucsc containing 57 rows. "
     ]
    },
    {
     "cell_type": "heading",
     "metadata": {},
     "level": 2,
     "source": [
      "Finding rare variants with Kaviar"
     ]
    },
    {
     "cell_type": "markdown",
     "metadata": {},
     "source": [
      "For all specified trio members, variants were annotated with Kaviar, labeling variants under the Kaviar frequency threshold, or not listed in Kaviar, as rare. Variants were then joined with the nbs_ucsc table to retain only variants falling in ACMG gene regions.  "
     ]
    },
    {
     "cell_type": "code",
     "execution_count": null,
     "metadata": {},
     "outputs": [],
     "input": [
      "# format trio argument\n",
      "member_list = []\n",
      "for member in trio_member:\n",
      "    if member == 'NB':\n",
      "        member_list.append(\"bv.sample_id LIKE '%03'\")\n",
      "    if member == 'M':\n",
      "        member_list.append(\"bv.sample_id LIKE '%01'\")\n",
      "    if member == 'F':\n",
      "        member_list.append(\"bv.sample_id LIKE '%02'\")\n",
      "    if member_list == 'all':\n",
      "        member_list =''\n",
      "        \n",
      "# if the member argument is not empty create statement\n",
      "if len(member_list) > 0:\n",
      "    member_arg = 'AND (' + ' OR '.join(member_list) + ')'\n",
      "# otherwise statment is empty\n",
      "else: member_arg = ''\n",
      "\n",
      "# format sample id argument\n",
      "sample_arg = []\n",
      "if sample_list != 'all':\n",
      "    sample_arg.append(\"AND bv.sample_id IN \" + str(sample_list))\n",
      "    subject_list = \", \".join(str(i) for i in sample_arg)\n",
      "else: \n",
      "    subject_list = ''\n",
      "\n",
      "# list of user args to join \n",
      "arg_list = [subject_list, member_arg]\n",
      "\n",
      "# if there's an argument, format\n",
      "if len(arg_list) > 0:\n",
      "    subject_statement = ' '.join(arg_list)\n",
      "# otherwise return empty string\n",
      "else:\n",
      "    subject_statement = ''"
     ],
     "language": "python",
     "prompt_number": 13
    },
    {
     "cell_type": "code",
     "execution_count": null,
     "metadata": {},
     "outputs": [],
     "input": [
      "# connect to impala\n",
      "from impala.dbapi import connect\n",
      "from impala.util import as_pandas\n",
      "\n",
      "# to connect to specific database, use the database argument\n",
      "conn=connect(host='glados19', port=21050)"
     ],
     "language": "python",
     "prompt_number": 14
    },
    {
     "cell_type": "code",
     "execution_count": null,
     "metadata": {},
     "outputs": [
      {
       "stream": "stdout",
       "output_type": "stream",
       "text": [
        "Running the following query on impala: \n\n\n    CREATE TABLE users_selasady.acmg_kaviar AS         \n          WITH bv as (\n              SELECT bv.sample_id, bv.chrom, bv.pos, bv.id, bv.ref, \n                  bv.alt, bv.qual, bv.filter, regexp_replace(gt, '1/2', '0/1') as geno, k.allele_freq,  \n                  CASE WHEN k.allele_freq < .03 then 'Y'\n                  WHEN (k.allele_freq IS NULL AND (length(bv.alt) = 1)) then 'Y'\n                  ELSE 'N'\n                  END as kaviar_rare\n             FROM clarity2.wgs_illumina_variant bv\n             LEFT JOIN /* +SHUFFLE */ p7_ref_grch37.kaviar k\n                  ON bv.chrom = k.chrom\n                  AND bv.pos = k.pos\n                  AND bv.alt = k.alt\n            WHERE (bv.chrom <> 'X' AND bv.chrom <> 'Y')\n            AND bv.sample_id IN ('08-01_PG0001705-BLD', '08-04_PG0001704-BLD', '08-05_PG0001706-BLD', '05-02_PG0003573-BLD', '05-03_PG0003565-BLD', '05-01_PG0003524-BLD', '07-02_PG0001692-BLD', '07-03_PG0001693-BLD', '07-01_PG0002918-DNA', '06-02_PG0001697-BLD', '06-03_PG0001698-BLD', '06-01_PG0001696-BLD') \n         )\n        SELECT DISTINCT bv.*, acmg.gene, acmg.ucsc_id, acmg.phenotype, acmg.mim_disorder, \n            acmg.age_onset, acmg.inheritance, acmg.variants_to_report                             \n       FROM bv, users_selasady.acmg_ucsc acmg\n       WHERE bv.chrom = acmg.chrom\n       AND bv.pos BETWEEN acmg.txstart and acmg.txend\n       \nQuery finished. Please note that the 1/2 genotype was converted to 0/1 for downstream compatibility. \n Closing connection."
       ]
      },
      {
       "stream": "stdout",
       "output_type": "stream",
       "text": [
        "\n"
       ]
      }
     ],
     "input": [
      "# create kaviar query\n",
      "kaviar_query = '''\n",
      "\n",
      "    CREATE TABLE {}.acmg_kaviar AS         \n",
      "          WITH bv as (\n",
      "              SELECT bv.sample_id, bv.chrom, bv.pos, bv.id, bv.ref, \n",
      "                  bv.alt, bv.qual, bv.filter, regexp_replace(gt, '1/2', '0/1') as geno, k.allele_freq,  \n",
      "                  CASE WHEN (k.allele_freq < {} OR k.allele_freq IS NULL )then 'Y'\n",
      "                  ELSE 'N'\n",
      "                  END as kaviar_rare\n",
      "             FROM {} bv\n",
      "             LEFT JOIN /* +SHUFFLE */ {} k\n",
      "                  ON bv.chrom = k.chrom\n",
      "                  AND bv.pos = k.pos\n",
      "                  AND bv.ref = k.ref\n",
      "                  AND bv.alt = k.alt\n",
      "            WHERE (bv.chrom <> 'X' AND bv.chrom <> 'Y')\n",
      "            {}\n",
      "         )\n",
      "        SELECT DISTINCT bv.*, acmg.gene, acmg.ucsc_id, acmg.phenotype, acmg.mim_disorder, \n",
      "            acmg.age_onset, acmg.inheritance, acmg.variants_to_report                             \n",
      "       FROM bv, {}.acmg_ucsc acmg\n",
      "       WHERE bv.chrom = acmg.chrom\n",
      "       AND bv.pos BETWEEN acmg.txstart and acmg.txend\n",
      "       '''.format(out_db, kav_freq, variant_table, kaviar_table, subject_statement, out_db)\n",
      "\n",
      "# open connection, run query, close connection \n",
      "def run_query(query_name, db_name):\n",
      "    # drop table if it exists\n",
      "    cur = conn.cursor()\n",
      "    cur.execute('DROP TABLE IF EXISTS {}.{}'.format(out_db,db_name))\n",
      "    cur.close()\n",
      "    # run query \n",
      "    print 'Running the following query on impala: \\n' + query_name\n",
      "    cur = conn.cursor()\n",
      "    cur.execute(query_name)\n",
      "    print 'Query finished. Please note that the 1/2 genotype was converted to 0/1 for downstream compatibility. \\n Closing connection.'\n",
      "    cur.close()\n",
      "\n",
      "# run kaviar annotation query\n",
      "run_query(kaviar_query, 'acmg_kaviar')"
     ],
     "language": "python",
     "prompt_number": 15
    },
    {
     "cell_type": "heading",
     "metadata": {},
     "level": 2,
     "source": [
      "Annotating with ClinVar and DANN scores "
     ]
    },
    {
     "cell_type": "markdown",
     "metadata": {},
     "source": [
      "Variants in NBS gene regions were then annotated with the ClinVar table by genomic position. Variants with a ClinVar significance rating of 4 or 5, but never 2 or 3, were marked with a 'Y' in the clin_patho column to denote non-conflicted pathogenically significant ratings.\n",
      "\n",
      "DANN scores are provided for SNV's and range between 0 and 1. The closer a score is to 1, the more pathogenic the variant. The DANN table was matched to variants on genomic position and alternate allele. "
     ]
    },
    {
     "cell_type": "code",
     "execution_count": null,
     "metadata": {},
     "outputs": [
      {
       "stream": "stdout",
       "output_type": "stream",
       "text": [
        "Running the following query on impala: \n\n        CREATE TABLE IF NOT EXISTS users_selasady.acmg_annotated AS \n        WITH acmg as (\n             SELECT DISTINCT acmg.*, clin.clin_hgvs, clin.clin_sig, clin.clin_dbn,\n                 CASE WHEN (clin.clin_sig NOT REGEXP '3|2[^5]|2$'  \n                     AND  clin.clin_sig REGEXP '4|[^25]5|^5') THEN 'Y'\n                     ELSE 'N'\n                 END AS clin_patho\n             FROM users_selasady.acmg_kaviar acmg\n             LEFT JOIN p7_ref_grch37.clinvar clin\n                 ON acmg.chrom = clin.chrom\n                 AND acmg.pos = clin.pos\n                 AND acmg.alt = clin.alt\n          )\n\n        SELECT DISTINCT acmg.*, db.aa_alt, db.sift_score, db.sift_pred, db.polyphen2_hdiv_score,\n            db.polyphen2_hdiv_pred, db.polyphen2_hvar_score, db.polyphen2_hvar_pred, \n            db.fathmm_score, db.fathmm_pred, db.cadd_raw, db.dann_score, db.mutation_taster_pred,\n            db.mutation_assessor_score, mutation_assessor_pred, db.provean_score, db.provean_pred,\n            db.clinvar_clnsig, db.interpro_domain, db.exac_af,\n            CASE\n                WHEN acmg.sample_id = '08-01_PG0001705-BLD' THEN 'M'\n                WHEN acmg.sample_id = '08-04_PG0001704-BLD' THEN 'F'\n                WHEN acmg.sample_id = '08-05_PG0001706-BLD' THEN 'NB'\n                WHEN acmg.sample_id = '05-02_PG0003573-BLD' THEN 'M'\n                WHEN acmg.sample_id = '05-03_PG0003565-BLD' THEN 'F'\n                WHEN acmg.sample_id = '05-01_PG0003524-BLD' THEN 'NB'\n                WHEN acmg.sample_id = '07-02_PG0001692-BLD' THEN 'M'\n                WHEN acmg.sample_id = '07-03_PG0001693-BLD' THEN 'F'\n                WHEN acmg.sample_id = '07-01_PG0002918-DNA' THEN 'NB'\n                WHEN acmg.sample_id = '06-02_PG0001697-BLD' THEN 'M'\n                WHEN acmg.sample_id = '06-03_PG0001698-BLD' THEN 'F'\n                WHEN acmg.sample_id = '06-01_PG0001696-BLD' THEN 'NB'\n                END as member,\n             CASE\n                WHEN (db.sift_pred LIKE '%D%' or db.polyphen2_hdiv_pred LIKE '%D%' or db.mutation_taster_pred LIKE '%D%'\n                     or db.mutation_assessor_pred LIKE '%H%' or db.fathmm_pred LIKE '%D%' or db.provean_pred LIKE '%D%') THEN 'Y'\n                ELSE 'N'\n                END as dbnfsp_predicted,\n            SUBSTRING(acmg.sample_id, 7) as family_id,\n            CONCAT(acmg.chrom, ':', CAST(acmg.pos AS STRING), ':', acmg.ref, ':', acmg.alt) as var_id \n        FROM acmg, p7_ref_grch37.dbnsfp_variant db\n            WHERE acmg.chrom = db.chrom\n            AND acmg.pos = db.pos\n            AND acmg.alt = db.alt\n            \nQuery finished. Please note that the 1/2 genotype was converted to 0/1 for downstream compatibility. \n Closing connection."
       ]
      },
      {
       "stream": "stdout",
       "output_type": "stream",
       "text": [
        "\n"
       ]
      }
     ],
     "input": [
      "dbnsfp_query = '''\n",
      "        CREATE TABLE IF NOT EXISTS {}.acmg_annotated AS \n",
      "        WITH acmg as (\n",
      "             SELECT DISTINCT acmg.*, clin.clin_hgvs, clin.clin_sig, clin.clin_dbn,\n",
      "                 CASE WHEN (clin.clin_sig NOT REGEXP '3|2[^5]|2$'  \n",
      "                     AND  clin.clin_sig REGEXP '4|[^25]5|^5') THEN 'Y'\n",
      "                     ELSE 'N'\n",
      "                 END AS clin_patho\n",
      "             FROM {}.acmg_kaviar acmg\n",
      "             LEFT JOIN {} clin\n",
      "                 ON acmg.chrom = clin.chrom\n",
      "                 AND acmg.pos = clin.pos\n",
      "                 AND acmg.alt = clin.alt\n",
      "          )\n",
      "\n",
      "        SELECT DISTINCT acmg.*, db.aa_alt, db.sift_score, db.sift_pred, db.polyphen2_hdiv_score,\n",
      "            db.polyphen2_hdiv_pred, db.polyphen2_hvar_score, db.polyphen2_hvar_pred, \n",
      "            db.fathmm_score, db.fathmm_pred, db.cadd_raw, db.dann_score, db.mutation_taster_pred,\n",
      "            db.mutation_assessor_score, mutation_assessor_pred, db.provean_score, db.provean_pred,\n",
      "            db.clinvar_clnsig, db.interpro_domain, db.exac_af,\n",
      "            CASE\n",
      "                WHEN acmg.sample_id = '08-01_PG0001705-BLD' THEN 'M'\n",
      "                WHEN acmg.sample_id = '08-04_PG0001704-BLD' THEN 'F'\n",
      "                WHEN acmg.sample_id = '08-05_PG0001706-BLD' THEN 'NB'\n",
      "                WHEN acmg.sample_id = '05-02_PG0003573-BLD' THEN 'M'\n",
      "                WHEN acmg.sample_id = '05-03_PG0003565-BLD' THEN 'F'\n",
      "                WHEN acmg.sample_id = '05-01_PG0003524-BLD' THEN 'NB'\n",
      "                WHEN acmg.sample_id = '07-02_PG0001692-BLD' THEN 'M'\n",
      "                WHEN acmg.sample_id = '07-03_PG0001693-BLD' THEN 'F'\n",
      "                WHEN acmg.sample_id = '07-01_PG0002918-DNA' THEN 'NB'\n",
      "                WHEN acmg.sample_id = '06-02_PG0001697-BLD' THEN 'M'\n",
      "                WHEN acmg.sample_id = '06-03_PG0001698-BLD' THEN 'F'\n",
      "                WHEN acmg.sample_id = '06-01_PG0001696-BLD' THEN 'NB'\n",
      "                END as member,\n",
      "             CASE\n",
      "                WHEN (db.sift_pred LIKE '%D%' or db.polyphen2_hdiv_pred LIKE '%D%' or db.mutation_taster_pred LIKE '%D%'\n",
      "                     or db.mutation_assessor_pred LIKE '%H%' or db.fathmm_pred LIKE '%D%' or db.provean_pred LIKE '%D%') THEN 'Y'\n",
      "                ELSE 'N'\n",
      "                END as dbnfsp_predicted,\n",
      "            SUBSTRING(acmg.sample_id, 7) as family_id,\n",
      "            CONCAT(acmg.chrom, ':', CAST(acmg.pos AS STRING), ':', acmg.ref, ':', acmg.alt) as var_id \n",
      "        FROM acmg, {} db\n",
      "            WHERE acmg.chrom = db.chrom\n",
      "            AND acmg.pos = db.pos\n",
      "            AND acmg.alt = db.alt\n",
      "            '''.format(out_db, out_db, clinvar_table, dbnfsp_table)\n",
      "\n",
      "# run dbNFSP query on impala\n",
      "run_query(dbnsfp_query, 'acmg_annotated')"
     ],
     "language": "python",
     "prompt_number": 17
    },
    {
     "cell_type": "heading",
     "metadata": {},
     "level": 2,
     "source": [
      "Reading the impala results into python"
     ]
    },
    {
     "cell_type": "code",
     "execution_count": null,
     "metadata": {},
     "outputs": [],
     "input": [
      "#################\n",
      "# load modules  #\n",
      "#################\n",
      "from impala.util import as_pandas\n",
      "\n",
      "# query to left join acmg_annotated variants with DANN scores\n",
      "acmg_query = \"\"\"\n",
      "    SELECT * FROM {}.acmg_annotated\n",
      "    \"\"\".format(out_db)\n",
      "# run query on impala\n",
      "cur = conn.cursor()\n",
      "cur.execute(acmg_query)\n",
      "\n",
      "# store results as pandas data frame\n",
      "acmg_df = as_pandas(cur)\n",
      "cur.close()"
     ],
     "language": "python",
     "prompt_number": 18
    },
    {
     "cell_type": "code",
     "execution_count": null,
     "metadata": {},
     "outputs": [
      {
       "stream": "stdout",
       "output_type": "stream",
       "text": [
        "2238 variants located in ACMG regions.\n"
       ]
      }
     ],
     "input": [
      "if len(acmg_df) > 0:\n",
      "    print str(len(acmg_df)) + ' variants located in ACMG regions.'\n",
      "else: \n",
      "    print \"No variants located in ACMG regions.\""
     ],
     "language": "python",
     "prompt_number": 19
    },
    {
     "cell_type": "heading",
     "metadata": {},
     "level": 2,
     "source": [
      "Adding Functional Annotation"
     ]
    },
    {
     "cell_type": "markdown",
     "metadata": {},
     "source": [
      "The newborn set was output to a modified version of Plink's tab2vcf script to create a VCF file for use with SnpEff. The newborn variants in the VCF file were annotated with coding consequences using SnpEFf. "
     ]
    },
    {
     "cell_type": "code",
     "execution_count": null,
     "metadata": {},
     "outputs": [],
     "input": [
      "import subprocess as subp\n",
      "import os\n",
      "\n",
      "# rename 'geno' to 'gt' for vcf output\n",
      "acmg_df = acmg_df.rename(columns = {'geno':'gt'})\n",
      "\n",
      "# function to add functional annotation\n",
      "def df_to_snpeff(input_df):\n",
      "    if os.path.exists(snpeff_path):\n",
      "        # setup file names\n",
      "        tsv_outname = '{}.tsv'.format(os.path.join(os.getcwd(), out_name))\n",
      "        vcf_outname = '{}.vcf'.format(os.path.join(os.getcwd(), out_name))\n",
      "        # these columns are output to vcf file\n",
      "        df = input_df[['chrom', 'pos', 'ref', 'alt', 'qual', 'filter', 'gt']]\n",
      "        # write to file for conversion to vcf\n",
      "        df.to_csv(tsv_outname, header=True, encoding='utf-8', sep=\"\\t\", index=False)\n",
      "        # run tab2vcf and upon success, run snpeff\n",
      "        vcf_process = subp.Popen(['python', 'tab2vcf.py', tsv_outname])\n",
      "        vcf_process.wait()\n",
      "        # command to run snpeff \n",
      "        snpeff_cmd = 'java -Xmx4g -jar {} -v GRCh37.75 {} > acmg_snpeff.vcf'.format(snpeff_path, vcf_outname)\n",
      "        # run snpeff on vcf file\n",
      "        snpeff_process = subp.Popen(snpeff_cmd, shell=True)\n",
      "        snpeff_process.wait()\n",
      "    else:\n",
      "        print \"Make sure you entered the correct path to snpEff.jar\"\n",
      "\n",
      "# run function on query results\n",
      "try:\n",
      "    df_to_snpeff(acmg_df)\n",
      "except Exception, e: \n",
      "    print str(e)"
     ],
     "language": "python",
     "prompt_number": 22
    },
    {
     "cell_type": "markdown",
     "metadata": {},
     "source": [
      "The functional annotations were read back into Python, parsed and matched with the each respective variant data frame. "
     ]
    },
    {
     "cell_type": "code",
     "execution_count": null,
     "metadata": {},
     "outputs": [
      {
       "stream": "stdout",
       "output_type": "stream",
       "text": [
        "2238 potential variants functionally annotated.\n"
       ]
      }
     ],
     "input": [
      "import numpy as np\n",
      "import pandas as pd\n",
      "\n",
      "# function to drop extra columns ending in _y from df merge\n",
      "def drop_y(df):\n",
      "    for col in df:\n",
      "        if col.endswith('_y'):\n",
      "            df.drop(col, axis=1, inplace=True)\n",
      "\n",
      "# add snpeff annotations back to dataframe\n",
      "def parse_snpeff(input_df):\n",
      "    # merge snpeff annotated vcf file with dataframe , skipping header\n",
      "    annot_vcf = pd.read_csv('acmg_snpeff.vcf', sep='\\t', skiprows=8)\n",
      "    # split info columns by \"|\" \n",
      "    info_df = pd.DataFrame(list(annot_vcf['INFO'].str.split('|')))\n",
      "    # keep only first (most detrimental) consequence listed\n",
      "    info_df = info_df[list(info_df.columns[1:11])]\n",
      "    # merge truncated info field with annot_vcf\n",
      "    annot_vcf = annot_vcf[np.r_[0,1,2, 3:7, 9]]\n",
      "    annot_df = pd.concat([annot_vcf, info_df], axis=1)\n",
      "    # rename columns\n",
      "    annot_df.columns =['chrom', 'pos', 'id', 'ref', 'alt', 'qual', 'filter', 'gt', 'effect', 'impact', 'gene_name', \n",
      "    'gene_id', 'feature_type', 'feature_id', 'tx_biotype', 'rank', 'hgvs_c', 'hgvs_p']\n",
      "    # drop unnecessary columns before merging\n",
      "    annot_df.drop(['qual', 'filter', 'gene_name', 'gene_id', 'feature_id', 'feature_type', 'rank'], axis=1, inplace=True)\n",
      "    # merge annotations with variant table\n",
      "    df_functional = pd.merge(input_df, annot_df, left_on=['var_id'], right_on=['id'])\n",
      "    drop_y(df_functional)\n",
      "    # rename columns ending in _x from merge\n",
      "    df_functional.rename(columns=lambda x: x.replace('_x', ''), inplace=True)\n",
      "    df_functional.drop_duplicates(inplace=True)\n",
      "    return df_functional\n",
      "    \n",
      "# merge acmg_genes with functional annotations\n",
      "acmg_annot = parse_snpeff(acmg_df)\n",
      "\n",
      "print str(len(acmg_annot)) + \" potential variants functionally annotated.\""
     ],
     "language": "python",
     "prompt_number": 23
    },
    {
     "cell_type": "heading",
     "metadata": {},
     "level": 2,
     "source": [
      "Labeling potentially pathogenic mutations"
     ]
    },
    {
     "cell_type": "markdown",
     "metadata": {},
     "source": [
      "dbNFSP variant table was used to add the following additional measures of possible pathogenicity. \n",
      "\n",
      "If a variant was labeled as pathogenic in ClinVar, or was considered rare with a Kaviar frequency less than .03 and contained any of the following parameters, it was marked as pathogenic.  \n",
      "\n",
      "- SnpEff effect = High  \n",
      "- sift_pred = D  \n",
      "- polyphen2_hdiv_pred = D  \n",
      "- polyphen2_hvar_pred= D  \n",
      "- mutation_taster_pred= D  \n",
      "- mutation_assessor_pred = H  \n",
      "- fathmm_pred = D  \n",
      "- provean_pred = D  \n",
      "- cadd_raw = provided for reference only  \n",
      "- dann_score = above user-specified cutoff \n",
      "- exac_af = provided for reference only"
     ]
    },
    {
     "cell_type": "code",
     "execution_count": null,
     "metadata": {},
     "outputs": [
      {
       "stream": "stdout",
       "output_type": "stream",
       "text": [
        "310 variants labeled as predictive.\n"
       ]
      }
     ],
     "input": [
      "# label variants considered pathogenic \n",
      "acmg_annot['predictive'] =  ((acmg_annot['kaviar_rare'] == 'Y') & ((acmg_annot['impact'] == 'HIGH') | (acmg_annot['dbnfsp_predicted'] == 'Y') | (acmg_annot['kaviar_rare'] == 'Y') | (acmg_annot['dann_score'] >= float(dann_score))))\n",
      " \n",
      "print str(len(acmg_annot[(acmg_annot['predictive'] == True)]   )) + \" variants labeled as predictive.\""
     ],
     "language": "python",
     "prompt_number": 24
    },
    {
     "cell_type": "heading",
     "metadata": {},
     "level": 1,
     "source": [
      "Finding newborns predicted to have NBS conditions"
     ]
    },
    {
     "cell_type": "markdown",
     "metadata": {},
     "source": [
      "The dataframe was separated into mother, father and newborn for downstream analysis. "
     ]
    },
    {
     "cell_type": "code",
     "execution_count": null,
     "metadata": {},
     "outputs": [
      {
       "stream": "stdout",
       "output_type": "stream",
       "text": [
        "Number of newborn variants: 759\nNumber of mother variants: 739\nNumber of father variants: 740\n"
       ]
      }
     ],
     "input": [
      "# subset data frame by trio member\n",
      "newborns = acmg_annot[acmg_annot['member'] == 'NB']\n",
      "mothers = acmg_annot[acmg_annot['member'] == 'M']\n",
      "fathers = acmg_annot[acmg_annot['member'] == 'F']\n",
      "\n",
      "print \"Number of newborn variants: \" + str(len(newborns)) \n",
      "print \"Number of mother variants: \" + str(len(mothers)) \n",
      "print \"Number of father variants: \" + str(len(fathers))"
     ],
     "language": "python",
     "prompt_number": 25
    },
    {
     "cell_type": "markdown",
     "metadata": {},
     "source": [
      "The newborn subset was split to report predictive variants for:   \n",
      "- All variants in regions of dominant disorders   \n",
      "- All homozygous recessive variants in regions of autosomal recessive disorders    \n",
      "- All heterozygous variants in autosomal recessive regions for downstream analysis of compound heterozygosity  "
     ]
    },
    {
     "cell_type": "code",
     "execution_count": null,
     "metadata": {},
     "outputs": [],
     "input": [
      "# disable erroneous pandas warning\n",
      "pd.options.mode.chained_assignment = None\n",
      "\n",
      "# subset variants by variant MOI and/or zygosity\n",
      "nb_dominant = newborns[((newborns['inheritance'] == 'AD') & (newborns['predictive'] == True))]\n",
      "nb_dominant.name = 'dominant'\n",
      "\n",
      "nb_hom_recessive = newborns[((newborns['inheritance'] == 'AR') & (newborns['gt'] == '1/1') & (newborns['predictive'] == True))]\n",
      "nb_hom_recessive.name = 'hom_recessive'\n",
      "\n",
      "nb_het = newborns[((newborns['inheritance'] == 'AR') & (newborns['gt'] == '0/1') & (newborns['predictive'] == True))]"
     ],
     "language": "python",
     "prompt_number": 26
    },
    {
     "cell_type": "heading",
     "metadata": {},
     "level": 2,
     "source": [
      "Reporting compound heterozygous recessive variants"
     ]
    },
    {
     "cell_type": "markdown",
     "metadata": {},
     "source": [
      "Newborn het predictive variants were subset for variants inherited from het parents, and then grouped by gene and family: \n",
      "    "
     ]
    },
    {
     "cell_type": "code",
     "execution_count": null,
     "metadata": {},
     "outputs": [],
     "input": [
      "# keep only heterozygous parent variants, as homozygous parents are not of interest\n",
      "mom_het = mothers.loc[mothers['gt'] == '0/1']\n",
      "dad_het = fathers.loc[fathers['gt'] == '0/1']\n",
      "           \n",
      "# function to find matching parent variants\n",
      "def find_parent_vars(nb_df, parent_df):\n",
      "    # merge dataframes on variant id\n",
      "    merged_df = pd.merge(nb_df, parent_df, on=['var_id'], how='inner')\n",
      "    # rename parent sample_id column to avoid dropping when removing '_y' cols\n",
      "    merged_df.rename(columns = {'member_y':'from_parent'}, inplace=True)\n",
      "    # drop extra y columns from merge with fathers\n",
      "    drop_y(merged_df)\n",
      "    #remove _x from colnames\n",
      "    merged_df.rename(columns=lambda x: x.replace('_x', ''), inplace=True)\n",
      "    return merged_df\n",
      "    \n",
      "# run function for each parent set\n",
      "if (len(mom_het) > 0) and (len(dad_het) > 0):\n",
      "    nb_and_mom = find_parent_vars(nb_het, mom_het)\n",
      "    nb_and_dad = find_parent_vars(nb_het, dad_het)\n",
      "    # merge variants found in either mother or father\n",
      "    het_cands = pd.concat([nb_and_mom,nb_and_dad]).drop_duplicates().reset_index(drop=True)\n",
      "    # group variants by gene name\n",
      "    by_gene = het_cands.groupby(['gene', 'family_id'])\n",
      "else:\n",
      "    print \"No compound het variants\""
     ],
     "language": "python",
     "prompt_number": 27
    },
    {
     "cell_type": "markdown",
     "metadata": {},
     "source": [
      "After grouping the variants by gene and family, the variants will be filtered to keep only variants with at least one different variant coming from the mother and one from the father.  "
     ]
    },
    {
     "cell_type": "code",
     "execution_count": null,
     "metadata": {},
     "outputs": [
      {
       "stream": "stdout",
       "output_type": "stream",
       "text": [
        "No compound het variants found.\n"
       ]
      }
     ],
     "input": [
      "# function to find compound hets\n",
      "def find_comphets(gene_group, comphet_list_name):\n",
      "    for name, group in gene_group:\n",
      "        # if there is a variant in more than one position\n",
      "        if group.pos.nunique() > 1:\n",
      "            # and there are more than one variants from both parents\n",
      "            if len(group[group['from_parent'] == 'M'] > 1) and len(group[group['from_parent'] == 'F'] > 1):\n",
      "                comphet_list_name.append(group)\n",
      "            # or if there is only one variant from each parent\n",
      "            elif len(group[group['from_parent'] == 'M'] == 1) and len(group[group['from_parent'] == 'F'] == 1):\n",
      "                # and those variants are different\n",
      "                if len(group[group['from_parent'] == 'M'].pos - group[group['from_parent'] == 'F']) > 0:\n",
      "                        comphet_list_name.append(group)\n",
      "\n",
      "# create empty list to store comp_hets\n",
      "comp_hets = []\n",
      "\n",
      "if len(by_gene) > 0:\n",
      "    # run function on by_gene\n",
      "    find_comphets(by_gene, comp_hets)\n",
      "    # combine results into dataframe\n",
      "    comphet_df = pd.concat(comp_hets)\n",
      "    comphet_df.name = 'comp_het'\n",
      "else:\n",
      "    print 'No compound het variants found.'\n",
      "    comphet_df = pd.DataFrame()\n",
      "    comphet_df.name = 'comp_het'"
     ],
     "language": "python",
     "prompt_number": 28
    },
    {
     "cell_type": "heading",
     "metadata": {},
     "level": 2,
     "source": [
      "Results"
     ]
    },
    {
     "cell_type": "code",
     "execution_count": null,
     "metadata": {},
     "outputs": [
      {
       "stream": "stdout",
       "output_type": "stream",
       "text": [
        "Index([u'sample_id', u'chrom', u'pos', u'id', u'ref', u'alt', u'qual', u'filter', u'gt', u'allele_freq', u'kaviar_rare', u'gene', u'ucsc_id', u'phenotype', u'mim_disorder', u'age_onset', u'inheritance', u'variants_to_report', u'clin_hgvs', u'clin_sig', u'clin_dbn', u'clin_patho', u'aa_alt', u'sift_score', u'sift_pred', u'polyphen2_hdiv_score', u'polyphen2_hdiv_pred', u'polyphen2_hvar_score', u'polyphen2_hvar_pred', u'fathmm_score', u'fathmm_pred', u'cadd_raw', u'dann_score', u'mutation_taster_pred', u'mutation_assessor_score', u'mutation_assessor_pred', u'provean_score', u'provean_pred', u'clinvar_clnsig', u'interpro_domain', u'exac_af', u'member', u'dbnfsp_predicted', u'family_id', u'var_id', u'effect', u'impact', u'tx_biotype', u'hgvs_c', u'hgvs_p', u'predictive'], dtype='object')\n"
       ]
      }
     ],
     "input": [
      "print nb_dominant.columns"
     ],
     "language": "python",
     "prompt_number": 31
    },
    {
     "cell_type": "code",
     "execution_count": null,
     "metadata": {},
     "outputs": [
      {
       "stream": "stdout",
       "output_type": "stream",
       "text": [
        "Variants found:\n104 dominant variants found. \n\nPhenotype: \nLong QT syndrome 3:Brugada syndrome 1                           28\nBreast-ovarian cancer: familial 1                               20\nMalignant hyperthermia susceptibility                           11\nArrhythmogenic right ventricular cardiomyopathy: type 9          9\nAortic aneurysm: familial thoracic 7                             7\nBreast-ovarian cancer: familial 2                                6\nFamilial adenomatous polyposis                                   5\nFamilial hypertrophic cardiomyopathy 4                           3\nFamilial Medullary Thyroid Cancer (FMTC):Multiple Endocrine Neoplasia Type 2a:Multiple Endocrine Neoplasia Type 2b     3\nFamilial hypertrophic cardiomyopathy 1                           2\nLong QT syndrome 1                                               2\nFamilial hypertrophic cardiomyopathy 7                           2\nArrhythmogenic right ventricular cardiomyopathy: type 10         2\nLoeys-Dietz Syndrome 1b:Loeys-Dietz Syndrome 2b                  2\nArrhythmogenic right ventricular cardiomyopathy: type 5          1\nCatecholaminergic polymorphic ventricular tachycardia            1\ndtype: int64 \n\nAffected gene(s): \n['PKP2' 'BRCA1' 'SCN5A' 'MYBPC3' 'RET' 'MYLK' 'RYR1' 'CACNA1S' 'APC' 'DSG2'\n 'KCNQ1' 'MYH7' 'TNNI3' 'TGFBR2' 'BRCA2' 'TMEM43' 'RYR2'] \n\nNo hom_recessive variants found. \n\nNo comp_het variants found. \n\n\n\n"
       ]
      }
     ],
     "input": [
      "# report variant counts\n",
      "def report_result_counts(results_df):\n",
      "    if len(results_df) > 0:\n",
      "        print str(len(results_df)) + ' {} variants found. \\n'.format(results_df.name)\n",
      "        phenotype = results_df['phenotype'].value_counts()\n",
      "        genes = results_df['gene'].unique()\n",
      "        print 'Phenotype: \\n', phenotype, '\\n'\n",
      "        print 'Affected gene(s): \\n', genes, '\\n'\n",
      "    else:\n",
      "         print \"No {} variants found. \\n\".format(results_df.name)\n",
      "        \n",
      "print \"Variants found:\"\n",
      "report_result_counts(nb_dominant)\n",
      "report_result_counts(nb_hom_recessive)\n",
      "report_result_counts(comphet_df)\n",
      "print \"\\n\""
     ],
     "language": "python",
     "prompt_number": 35
    },
    {
     "cell_type": "heading",
     "metadata": {},
     "level": 2,
     "source": [
      "Saving Output"
     ]
    },
    {
     "cell_type": "code",
     "execution_count": null,
     "metadata": {},
     "outputs": [
      {
       "stream": "stdout",
       "output_type": "stream",
       "text": [
        "Saving 16 dominant variants to current working directory\nSaving 7 hom_recessive variants to current working directory\nSaving 50 comp_het variants to current working directory\n"
       ]
      }
     ],
     "input": [
      "# add from_parent column to dom and hom_rec so we can keep info for comp_het\n",
      "nb_dominant['from_parent'] = 'NA'\n",
      "nb_hom_recessive['from_parent'] = 'NA'\n",
      "\n",
      "# merge and mark predicted variants\n",
      "def merge_predictors(df, out_list):\n",
      "    if len(df) > 0:\n",
      "        df['var_type'] = df.name\n",
      "        out_list.append(df)\n",
      "        print \"Saving {} {} variants to current working directory\".format(len(df), df.name)\n",
      "    else:\n",
      "        print \"No {} variants to save.\".format(df.name)\n",
      "\n",
      "# list to store patho output\n",
      "predict_list = []            \n",
      "\n",
      "merge_predictors(nb_dominant, predict_list)\n",
      "merge_predictors(nb_hom_recessive, predict_list)\n",
      "merge_predictors(comphet_df, predict_list)\n",
      "\n",
      "# merge results\n",
      "merged_patho = pd.concat(predict_list, axis=0)\n",
      "\n",
      "# remove unnecessary columns\n",
      "merge_df = merged_patho[np.r_[0:41, 43, 44, 46, 49:53, 55, 56]]\n",
      "\n",
      "# save to file\n",
      "merge_df.to_csv('predicted_ACMG.csv', header=True, encoding='utf-8', index=False)"
     ],
     "language": "python",
     "prompt_number": 195
    },
    {
     "cell_type": "heading",
     "metadata": {},
     "level": 2,
     "source": [
      "Resources"
     ]
    },
    {
     "cell_type": "markdown",
     "metadata": {},
     "source": [
      "- dbNSFP: 3.0a  \n",
      "- SnpEff: 4.1h (build 2015-08-03) with GRCh37.75  \n",
      "- ClinVar: 2/5/15 build  \n",
      "- Kaviar: 141127 -Public  \n",
      "- genomes: brady_variant table as of September 2, 2015"
     ]
    },
    {
     "cell_type": "code",
     "execution_count": null,
     "metadata": {},
     "outputs": [],
     "input": [
      ""
     ],
     "language": "python"
    }
   ]
  }
 ],
 "cells": [],
 "metadata": {},
 "nbformat": 4,
 "nbformat_minor": 0
}