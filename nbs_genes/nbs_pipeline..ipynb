{
 "cells": [
  {
   "cell_type": "markdown",
   "metadata": {},
   "source": [
    "# Locating Variants in NBS Gene Regions"
   ]
  },
  {
   "cell_type": "markdown",
   "metadata": {},
   "source": [
    "Variants were annotated with the NBS gene table provided by Ben Solomon at ITMI. Variants located in NBS gene regions were annotated with Kaviar frequency, ClinVar clinical significance ratings, DANN predicted pathogenicity scores for SNV's, and coding consequence predictions using SnpEff.\n",
    "\n",
    "Variants were filtered for appropriate mode of inheritance and then labeled as predictive when they contain the presence of mutation(s) with appropriate inheritance (eg, 2 bi-allelic pathogenic mutations for a recessive disorder).  \n",
    "\n",
    "Mutations defined strictly as either:  \n",
    "- Annotated in ClinVar with a clinical significance of 4 or 5, but never 2 or 3 or labeled pathogenic in HGMD (to be added later)  \n",
    "\n",
    "OR  \n",
    "- Novel (in Kaviar with frequency lower than specified below, or not listed in Kaviar) but predicted to be disease-causing with a SnpEff impact score of 'high'"
   ]
  },
  {
   "cell_type": "markdown",
   "metadata": {},
   "source": [
    "## User Specified Parameters"
   ]
  },
  {
   "cell_type": "code",
   "execution_count": 12,
   "metadata": {
    "collapsed": true
   },
   "outputs": [],
   "source": [
    "import time\n",
    "# enter kaviar frequency threshold\n",
    "kav_freq = '.03'\n",
    "\n",
    "# enter dictionary of samples to examine in format 'sample_id':['family_id','member_id']\n",
    "sample_list = 'all'\n",
    "\n",
    "# enter as NB, M, and/or F, or 'all' to include extended family if available\n",
    "trio_member = 'NB','M','F'\n",
    "\n",
    "# enter minimum dann score for predicted NBS\n",
    "dann_score = '0.96'\n",
    "\n",
    "# enter user database to output tables\n",
    "out_db = 'users_selasady'\n",
    "# enter database.name for variant table\n",
    "variant_table = 'p7_platform.brady_variant'\n",
    "# enter database.name of kaviar table\n",
    "kaviar_table = 'p7_ref_grch37.kaviar'\n",
    "# enter database.name of clinvar table\n",
    "clinvar_table = 'p7_ref_grch37.clinvar'\n",
    "# enter database.name of dann table\n",
    "dbnfsp_table = 'p7_ref_grch37.dbnsfp_variant'\n",
    "\n",
    "# enter path to snpEff.jar on your computer\n",
    "snpeff_path = '/Users/summerrae/tools/snpEff/snpEff.jar'\n",
    "#snpeff_path = 'D:/Documents/tools/snpEff/snpEff.jar'\n",
    "# enter desired basename for output files\n",
    "out_name = 'nbs_' + time.strftime(\"%y%m%d\")"
   ]
  },
  {
   "cell_type": "markdown",
   "metadata": {},
   "source": [
    "## Transform of NBS Gene Table"
   ]
  },
  {
   "cell_type": "markdown",
   "metadata": {},
   "source": [
    "The NBS Gene Table provided by ITMI was transformed as follows and uploaded to impala:   \n",
    "\n",
    "- A 'level' column was added to represent the color coding found in the file, with the following options: red, yellow, null  \n",
    "- All commas were replaced with colons to prevent errors while importing csv file  \n",
    "- All semicolons were replaced with colons for consistency of data  \n",
    "- Spaces in column names were replaced with underscores  \n",
    "- Special characters were removed from column names"
   ]
  },
  {
   "cell_type": "markdown",
   "metadata": {},
   "source": [
    "## Adding positional information to the NBS gene list"
   ]
  },
  {
   "cell_type": "markdown",
   "metadata": {},
   "source": [
    "Genomic position, gene and transcript information and strand were added to the NBS Gene list by joining it with the ensembl_genes table by gene name. \n",
    "\n",
    "        CREATE TABLE users_selasady.nbs_ensembl AS (\n",
    "             SELECT DISTINCT nbs.*, ens.chrom, ens.start, ens.stop, ens.gene_id, \n",
    "             ens.transcript_id, ens.strand\n",
    "             FROM users_selasady.nbs_genes nbs, p7_ref_grch37.ensembl_genes ens\n",
    "             WHERE nbs.gene = ens.gene_name\n",
    "           )\n",
    "\n",
    "The results were saved as users _ selasady.nbs _ ensembl containing 14839 rows due to multiple transcripts per gene name. "
   ]
  },
  {
   "cell_type": "markdown",
   "metadata": {},
   "source": [
    "## Finding rare variants with Kaviar"
   ]
  },
  {
   "cell_type": "markdown",
   "metadata": {},
   "source": [
    "For all specified trio members, variants were annotated with Kaviar, labeling variants under the Kaviar frequency threshold, or not listed in Kaviar, as rare. Variants were then joined with the nbs_ensembl table to retain only variants falling in NBS gene regions"
   ]
  },
  {
   "cell_type": "code",
   "execution_count": 53,
   "metadata": {
    "collapsed": true
   },
   "outputs": [],
   "source": [
    "# import needed modules\n",
    "from impala.util import as_pandas\n",
    "import pandas as pd\n",
    "from parse_impala import parse_impala as pimp\n",
    "from impala.dbapi import connect\n",
    "# disable extraneous pandas warning\n",
    "pd.options.mode.chained_assignment = None"
   ]
  },
  {
   "cell_type": "code",
   "execution_count": 9,
   "metadata": {
    "collapsed": true
   },
   "outputs": [],
   "source": [
    "# parse trio arg\n",
    "member_arg = pimp.label_member('bv', trio_member)\n",
    "\n",
    "# parse sample id argument\n",
    "subject_list = pimp.select_samples('bv', sample_list)\n",
    "\n",
    "# list of user args to join\n",
    "arg_list = [subject_list, member_arg]\n",
    "sample_args = pimp.join_args(arg_list)\n",
    "\n",
    "print 'The following argument will be added to the query: \\n'\n",
    "print sample_args"
   ]
  },
  {
   "cell_type": "code",
   "execution_count": 50,
   "metadata": {
    "collapsed": false
   },
   "outputs": [
    {
     "name": "stdout",
     "output_type": "stream",
     "text": [
      "Removing table if it already exists...\n",
      "Running the following query on impala: \n",
      " \n",
      "CREATE TABLE users_selasady.nbs_150924_annot AS \n",
      "    WITH bv as (\n",
      "       SELECT bv.sample_id, bv.chrom, bv.pos, bv.ref, bv.alt, bv.id as rs_id, bv.qual, bv.filter,\n",
      "                regexp_replace(bv.gt, '1/2', '0/1') as geno,nbs.gene, nbs.transcript_id,\n",
      "                nbs.gene_id, nbs.strand, nbs.condition, nbs.omim_phenotype, nbs.va_name, nbs.inheritance,\n",
      "                nbs.allelic_conditions, nbs.comments, nbs.level, nbs.in_pbg\n",
      "                FROM users_selasady.nbs_ensembl nbs, p7_platform.brady_variant bv\n",
      "                WHERE nbs.chrom = bv.chrom\n",
      "                AND (bv.pos BETWEEN nbs.start and nbs.stop)\n",
      "                 AND (bv.sample_id LIKE '%03' OR bv.sample_id LIKE '%01' OR bv.sample_id LIKE '%02')\n",
      "                )\n",
      "        SELECT DISTINCT bv.*, k.allele_freq,  \n",
      "                  CASE WHEN (k.allele_freq < .03 OR k.allele_freq IS NULL )then 'Y'\n",
      "                  ELSE 'N'\n",
      "                  END as kaviar_rare\n",
      "             FROM bv\n",
      "             LEFT JOIN /* +SHUFFLE */ p7_ref_grch37.kaviar k\n",
      "                  ON bv.chrom = k.chrom\n",
      "                  AND bv.pos = k.pos\n",
      "                  AND bv.ref = k.ref\n",
      "                  AND bv.alt = k.alt\n",
      "            WHERE (bv.chrom <> 'X' AND bv.chrom <> 'Y')\n",
      "\n",
      "Query finished. Closing connection.\n"
     ]
    }
   ],
   "source": [
    "nbs_query = ''' \n",
    "CREATE TABLE {}.{}_annot AS \n",
    "    WITH bv as (\n",
    "       SELECT bv.sample_id, bv.chrom, bv.pos, bv.ref, bv.alt, bv.id as rs_id, bv.qual, bv.filter,\n",
    "                regexp_replace(bv.gt, '1/2', '0/1') as geno,nbs.gene, nbs.transcript_id,\n",
    "                nbs.gene_id, nbs.strand, nbs.condition, nbs.omim_phenotype, nbs.va_name, nbs.inheritance,\n",
    "                nbs.allelic_conditions, nbs.comments, nbs.level, nbs.in_pbg\n",
    "                FROM {}.nbs_ensembl nbs, {} bv\n",
    "                WHERE nbs.chrom = bv.chrom\n",
    "                AND (bv.pos BETWEEN nbs.start and nbs.stop)\n",
    "                {}\n",
    "                )\n",
    "        SELECT DISTINCT bv.*, k.allele_freq,  \n",
    "                  CASE WHEN (k.allele_freq < {} OR k.allele_freq IS NULL )then 'Y'\n",
    "                  ELSE 'N'\n",
    "                  END as kaviar_rare\n",
    "             FROM bv\n",
    "             LEFT JOIN /* +SHUFFLE */ {} k\n",
    "                  ON bv.chrom = k.chrom\n",
    "                  AND bv.pos = k.pos\n",
    "                  AND bv.ref = k.ref\n",
    "                  AND bv.alt = k.alt\n",
    "            WHERE (bv.chrom <> 'X' AND bv.chrom <> 'Y')\n",
    "'''.format(out_db,out_name, out_db, variant_table, sample_args, kav_freq, kaviar_table)\n",
    "\n",
    "# run kaviar annotation query\n",
    "pimp.run_query(nbs_query, 'annot', out_db, out_name)"
   ]
  },
  {
   "cell_type": "markdown",
   "metadata": {},
   "source": [
    "Please note that the 1/2 genotype was converted to 0/1 for downstream compatibility with snpeff, and only used for determining compound heterozygosity."
   ]
  },
  {
   "cell_type": "markdown",
   "metadata": {},
   "source": [
    "## Annotating with ClinVar pathogenicity and pathogenicity ratings from dbNFSP"
   ]
  },
  {
   "cell_type": "markdown",
   "metadata": {},
   "source": [
    "Variants in NBS gene regions were then annotated with the ClinVar table by genomic position. Variants with a ClinVar significance rating of 4 or 5, but never 2 or 3, were marked with a 'Y' in the clin_patho column to denote non-conflicted pathogenically significant ratings.\n",
    "\n",
    "DANN scores are provided for SNV's and range between 0 and 1. The closer a score is to 1, the more pathogenic the variant. The DANN table was matched to variants on genomic position and alternate allele. "
   ]
  },
  {
   "cell_type": "code",
   "execution_count": 51,
   "metadata": {
    "collapsed": false
   },
   "outputs": [
    {
     "name": "stdout",
     "output_type": "stream",
     "text": [
      "Removing table if it already exists...\n",
      "Running the following query on impala: \n",
      "\n",
      "        CREATE TABLE IF NOT EXISTS users_selasady.nbs_150924_annotated AS \n",
      "        WITH nbs as (\n",
      "             SELECT DISTINCT nbs.*, clin.clin_hgvs, clin.clin_sig, clin.clin_dbn,\n",
      "                 CASE WHEN (clin.clin_sig NOT REGEXP '3|2[^5]|2$'  \n",
      "                     AND  clin.clin_sig REGEXP '4|[^25]5|^5') THEN 'Y'\n",
      "                     ELSE 'N'\n",
      "                 END AS clin_patho\n",
      "             FROM users_selasady.nbs_150924_annot nbs\n",
      "             LEFT JOIN p7_ref_grch37.clinvar clin\n",
      "                 ON nbs.chrom = clin.chrom\n",
      "                 AND nbs.pos = clin.pos\n",
      "                 AND nbs.alt = clin.alt\n",
      "          )\n",
      "\n",
      "        SELECT DISTINCT nbs.*, db.aa_alt, db.sift_score, db.sift_pred, db.polyphen2_hdiv_score,\n",
      "            db.polyphen2_hdiv_pred, db.polyphen2_hvar_score, db.polyphen2_hvar_pred, \n",
      "            db.fathmm_score, db.fathmm_pred, db.cadd_raw, db.dann_score, db.mutation_taster_pred,\n",
      "            db.mutation_assessor_score, mutation_assessor_pred, db.provean_score, db.provean_pred,\n",
      "            db.clinvar_clnsig, db.interpro_domain, db.exac_af,\n",
      "            CASE\n",
      "                WHEN SUBSTRING(nbs.sample_id, -2) = '01'THEN 'M'\n",
      "                WHEN SUBSTRING(nbs.sample_id, -2) = '02' THEN 'F'\n",
      "                WHEN SUBSTRING(nbs.sample_id, -2) = '03'THEN 'NB'\n",
      "                END as member,\n",
      "             CASE\n",
      "                WHEN (db.sift_pred LIKE '%D%' or db.polyphen2_hdiv_pred LIKE '%D%' or db.mutation_taster_pred LIKE '%D%'\n",
      "                     or db.mutation_assessor_pred LIKE '%H%' or db.fathmm_pred LIKE '%D%' or db.provean_pred LIKE '%D%'\n",
      "                     or db.dann_score >= 0.96) THEN 'Y'\n",
      "                ELSE 'N'\n",
      "                END as dbnfsp_predicted,\n",
      "            SUBSTRING(nbs.sample_id, 1, (length(nbs.sample_id)-3)) as family_id,\n",
      "            CONCAT(nbs.chrom, ':', CAST(nbs.pos AS STRING), ':', nbs.ref, ':', nbs.alt) as var_id \n",
      "        FROM nbs, p7_ref_grch37.dbnsfp_variant db\n",
      "            WHERE nbs.chrom = db.chrom\n",
      "            AND nbs.pos = db.pos\n",
      "            AND nbs.alt = db.alt\n",
      "            \n",
      "Query finished. Closing connection.\n"
     ]
    }
   ],
   "source": [
    "dbnsfp_query = '''\n",
    "        CREATE TABLE IF NOT EXISTS {}.{}_annotated AS \n",
    "        WITH nbs as (\n",
    "             SELECT DISTINCT nbs.*, clin.clin_hgvs, clin.clin_sig, clin.clin_dbn,\n",
    "                 CASE WHEN (clin.clin_sig NOT REGEXP '3|2[^5]|2$'  \n",
    "                     AND  clin.clin_sig REGEXP '4|[^25]5|^5') THEN 'Y'\n",
    "                     ELSE 'N'\n",
    "                 END AS clin_patho\n",
    "             FROM {}.{}_annot nbs\n",
    "             LEFT JOIN {} clin\n",
    "                 ON nbs.chrom = clin.chrom\n",
    "                 AND nbs.pos = clin.pos\n",
    "                 AND nbs.alt = clin.alt\n",
    "          )\n",
    "\n",
    "        SELECT DISTINCT nbs.*, db.aa_alt, db.sift_score, db.sift_pred, db.polyphen2_hdiv_score,\n",
    "            db.polyphen2_hdiv_pred, db.polyphen2_hvar_score, db.polyphen2_hvar_pred, \n",
    "            db.fathmm_score, db.fathmm_pred, db.cadd_raw, db.dann_score, db.mutation_taster_pred,\n",
    "            db.mutation_assessor_score, mutation_assessor_pred, db.provean_score, db.provean_pred,\n",
    "            db.clinvar_clnsig, db.interpro_domain, db.exac_af,\n",
    "            CASE\n",
    "                WHEN SUBSTRING(nbs.sample_id, -2) = '01'THEN 'M'\n",
    "                WHEN SUBSTRING(nbs.sample_id, -2) = '02' THEN 'F'\n",
    "                WHEN SUBSTRING(nbs.sample_id, -2) = '03'THEN 'NB'\n",
    "                END as member,\n",
    "             CASE\n",
    "                WHEN (db.sift_pred LIKE '%D%' or db.polyphen2_hdiv_pred LIKE '%D%' or db.mutation_taster_pred LIKE '%D%'\n",
    "                     or db.mutation_assessor_pred LIKE '%H%' or db.fathmm_pred LIKE '%D%' or db.provean_pred LIKE '%D%'\n",
    "                     or db.dann_score >= {}) THEN 'Y'\n",
    "                ELSE 'N'\n",
    "                END as dbnfsp_predicted,\n",
    "            SUBSTRING(nbs.sample_id, 1, (length(nbs.sample_id)-3)) as family_id,\n",
    "            CONCAT(nbs.chrom, ':', CAST(nbs.pos AS STRING), ':', nbs.ref, ':', nbs.alt) as var_id \n",
    "        FROM nbs, {} db\n",
    "            WHERE nbs.chrom = db.chrom\n",
    "            AND nbs.pos = db.pos\n",
    "            AND nbs.alt = db.alt\n",
    "            '''.format(out_db, out_name, out_db, out_name, clinvar_table, dann_score, dbnfsp_table)\n",
    "\n",
    "# run dbNFSP query on impala\n",
    "pimp.run_query(dbnsfp_query, 'annotated', out_db, out_name)"
   ]
  },
  {
   "cell_type": "markdown",
   "metadata": {},
   "source": [
    "### Reading the impala results into python"
   ]
  },
  {
   "cell_type": "code",
   "execution_count": 56,
   "metadata": {
    "collapsed": true
   },
   "outputs": [],
   "source": [
    "# query to left join nbs_annotated variants with DANN scores\n",
    "nbs_query = \"\"\"\n",
    "    SELECT * FROM \n",
    "    {}.{}_annotated\n",
    "    \"\"\".format(out_db, out_name)\n",
    "\n",
    "# run query on impala\n",
    "conn=connect(host='glados19', port=21050, timeout=120)\n",
    "cur = conn.cursor()\n",
    "cur.execute(nbs_query)\n",
    "\n",
    "# store results as pandas data frame\n",
    "nbs_df = as_pandas(cur)\n",
    "cur.close()\n",
    "conn.close()"
   ]
  },
  {
   "cell_type": "code",
   "execution_count": 57,
   "metadata": {
    "collapsed": false
   },
   "outputs": [
    {
     "name": "stdout",
     "output_type": "stream",
     "text": [
      "13719 variants located in NBS regions.\n"
     ]
    }
   ],
   "source": [
    "if len(nbs_df) > 0:\n",
    "    print str(len(nbs_df)) + ' variants located in NBS regions.'\n",
    "else: \n",
    "    print \"No variants located in NBS regions.\""
   ]
  },
  {
   "cell_type": "markdown",
   "metadata": {},
   "source": [
    "## Predicting Coding Consequences"
   ]
  },
  {
   "cell_type": "markdown",
   "metadata": {},
   "source": [
    "Coding consequences were predicted using SnpEff. "
   ]
  },
  {
   "cell_type": "code",
   "execution_count": 47,
   "metadata": {
    "collapsed": false
   },
   "outputs": [
    {
     "data": {
      "text/plain": [
       "<module 'parse_impala.parse_impala' from 'parse_impala/parse_impala.pyc'>"
      ]
     },
     "execution_count": 47,
     "metadata": {},
     "output_type": "execute_result"
    }
   ],
   "source": [
    "reload(pimp)"
   ]
  },
  {
   "cell_type": "code",
   "execution_count": 109,
   "metadata": {
    "collapsed": true
   },
   "outputs": [],
   "source": [
    "# rename 'geno' to 'gt' for vcf output\n",
    "nbs_df = nbs_df.rename(columns = {'geno':'gt'})\n",
    "\n",
    "vcf_header = \"\"\"##fileformat=VCFv4.0\n",
    "##fileDate={}\n",
    "##reference=grch37v47\n",
    "\"\"\".format(time.strftime(\"%y%m%d\"))\n",
    "\n",
    "vcf = nbs_df[['chrom', 'pos', 'var_id', 'ref', 'alt', 'qual', 'filter']]\n",
    "vcf['INFO'] = '.'\n",
    "vcf['FORMAT'] = 'GT'\n",
    "vcf['GT'] = nbs_df['gt']\n",
    "vcf.columns = ['#CHROM', 'POS', 'ID', 'REF', 'ALT', 'QUAL', 'FILTER', 'INFO', 'FORMAT', 'GT']\n",
    "\n",
    "f = open('test.vcf', 'wb') \n",
    "f.write(vcf_header)\n",
    "f.close()\n",
    "\n",
    "vcf.head().to_csv('test.vcf', sep='\\t', mode='a', index=False)"
   ]
  },
  {
   "cell_type": "code",
   "execution_count": 58,
   "metadata": {
    "collapsed": false
   },
   "outputs": [
    {
     "name": "stdout",
     "output_type": "stream",
     "text": [
      "global name 'args' is not defined\n"
     ]
    }
   ],
   "source": [
    "# rename 'geno' to 'gt' for vcf output\n",
    "nbs_df = nbs_df.rename(columns = {'geno':'gt'})\n",
    "\n",
    "# run function on query results\n",
    "try:\n",
    "    pimp.df_to_snpeff(nbs_df, snpeff_path, out_name)\n",
    "except Exception, e: \n",
    "    print str(e)"
   ]
  },
  {
   "cell_type": "markdown",
   "metadata": {},
   "source": [
    "Coding consequence predictions were read back into Python, parsed and matched with the each respective variant data frame. "
   ]
  },
  {
   "cell_type": "code",
   "execution_count": 60,
   "metadata": {
    "collapsed": false
   },
   "outputs": [
    {
     "name": "stdout",
     "output_type": "stream",
     "text": [
      "259407 variants annotated for coding consequences.\n"
     ]
    }
   ],
   "source": [
    "# match coding consequences with nbs variants \n",
    "nbs_annot = pimp.parse_snpeff(with_tx, '{}_snpeff.vcf'.format(out_name))\n",
    "\n",
    "\n",
    "print str(len(nbs_annot)) + \" coding consequences found for this set of variants.\""
   ]
  },
  {
   "cell_type": "markdown",
   "metadata": {},
   "source": [
    "## Filtering for potentially pathogenic mutations"
   ]
  },
  {
   "cell_type": "markdown",
   "metadata": {},
   "source": [
    "dbNFSP variant table was used to add the following additional measures of possible pathogenicity.\n",
    "\n",
    "If a variant was labeled as pathogenic in ClinVar, or was considered rare with a Kaviar frequency less than .03 and contained any of the following parameters, it was marked as pathogenic.\n",
    "\n",
    "- SnpEff effect = High  \n",
    "- sift_pred = D  \n",
    "- polyphen2_ hdiv _pred = D  \n",
    "- polyphen2_ hvar _pred= D  \n",
    "- mutation_ taster _pred= D  \n",
    "- mutation_ assessor _pred = H  \n",
    "- fathmm_ pred = D  \n",
    "- provean_ pred = D  \n",
    "- cadd_ raw = provided for reference only  \n",
    "- dann_ score = above user-specified cutoff  \n",
    "- exac_ af = provided for reference only  "
   ]
  },
  {
   "cell_type": "code",
   "execution_count": 71,
   "metadata": {
    "collapsed": false
   },
   "outputs": [
    {
     "data": {
      "text/plain": [
       "<module 'parse_impala.parse_impala' from 'parse_impala\\parse_impala.py'>"
      ]
     },
     "execution_count": 71,
     "metadata": {},
     "output_type": "execute_result"
    }
   ],
   "source": [
    "reload(pimp)"
   ]
  },
  {
   "cell_type": "code",
   "execution_count": 62,
   "metadata": {
    "collapsed": false
   },
   "outputs": [
    {
     "name": "stdout",
     "output_type": "stream",
     "text": [
      "36429 variants labeled as predictive.\n"
     ]
    }
   ],
   "source": [
    "# label variants considered pathogenic \n",
    "pimp.label_predictive(nbs_annot)\n",
    " \n",
    "print str(len(nbs_annot[(nbs_annot['predictive'] == True)])) + \" variants labeled as predictive.\""
   ]
  },
  {
   "cell_type": "markdown",
   "metadata": {},
   "source": [
    "## Finding newborns predicted to have NBS conditions"
   ]
  },
  {
   "cell_type": "markdown",
   "metadata": {},
   "source": [
    "The dataframe was separated into mother, father and newborn predictive het variants to search for compound hertozygosity."
   ]
  },
  {
   "cell_type": "code",
   "execution_count": 68,
   "metadata": {
    "collapsed": true
   },
   "outputs": [],
   "source": [
    "mom_hets, dad_hets, nb_het1, nb_het2, nb_het3 = pimp.find_AR_cands(nbs_annot)"
   ]
  },
  {
   "cell_type": "markdown",
   "metadata": {},
   "source": [
    "### Finding Dominant and Homozygous Recessive Disorders"
   ]
  },
  {
   "cell_type": "markdown",
   "metadata": {},
   "source": [
    "The newborn and parent variants were subset to report:  \n",
    "- All variants in regions of dominant disorders  \n",
    "- All homozygous recessive variants in regions of autosomal recessive disorders"
   ]
  },
  {
   "cell_type": "code",
   "execution_count": 72,
   "metadata": {
    "collapsed": true
   },
   "outputs": [],
   "source": [
    "nb_dominant = pimp.find_dominant_nb(nbs_annot)\n",
    "\n",
    "nb_hom_recessive = pimp.find_hom_rec(nbs_annot)"
   ]
  },
  {
   "cell_type": "markdown",
   "metadata": {},
   "source": [
    "### Looking for compunt heterozygosity"
   ]
  },
  {
   "cell_type": "markdown",
   "metadata": {},
   "source": [
    "Newborn heterozygous variants were subset to look for compound heterozygosity. This analysis was only performed on newborns where both parents were also sequenced."
   ]
  },
  {
   "cell_type": "code",
   "execution_count": 114,
   "metadata": {
    "collapsed": true
   },
   "outputs": [],
   "source": [
    "# function to find matching parent variants\n",
    "def find_parent_vars(nb_df, parent_df):\n",
    "    # merge dataframes on by variant position\n",
    "    merged_df = pd.merge(nb_df, parent_df, on=['chrom', 'pos', 'ref', 'alt'], how='inner')\n",
    "    # rename parent sample_id column to avoid dropping when removing '_y' cols\n",
    "    merged_df.rename(columns = {'member_y':'from_parent'}, inplace=True)\n",
    "    # drop extra y columns from merge with fathers\n",
    "    drop_y(merged_df)\n",
    "    #remove _x from colnames\n",
    "    merged_df.rename(columns=lambda x: x.replace('_x', ''), inplace=True)\n",
    "    return merged_df\n",
    "    \n",
    "# run function for each group of newborns\n",
    "def match_parents(nb_df):\n",
    "    if (len(mom_hets) > 0) and (len(dad_hets) > 0):\n",
    "        nb_and_mom = find_parent_vars(nb_df, mom_hets)\n",
    "        nb_and_dad = find_parent_vars(nb_df, dad_hets)\n",
    "        # merge variants found in either mother or father\n",
    "        het_cands = pd.concat([nb_and_mom,nb_and_dad]).drop_duplicates().reset_index(drop=True)\n",
    "        # group variants by gene name\n",
    "        by_gene = het_cands.groupby(['gene_name', 'family_id'])\n",
    "        return by_gene\n",
    "    else:\n",
    "        print \"No compound het variants\"\n",
    "        \n",
    "# run function for each group of newborns\n",
    "het1_grouped = match_parents(nb_het1)\n",
    "het2_grouped = match_parents(nb_het2)\n",
    "het3_grouped = match_parents(nb_het3)"
   ]
  },
  {
   "cell_type": "markdown",
   "metadata": {},
   "source": [
    "After grouping the variants by gene and family, the variants will be filtered to keep only variants with at least one different variant coming from the mother and one from the father."
   ]
  },
  {
   "cell_type": "code",
   "execution_count": 115,
   "metadata": {
    "collapsed": true
   },
   "outputs": [],
   "source": [
    "# function to find compound hets\n",
    "def find_comphets(gene_group, comphet_list_name):\n",
    "    for name, group in gene_group:\n",
    "        # if there is a variant in more than one position\n",
    "        if group.pos.nunique() > 1:\n",
    "            # and there are more than one variants from both parents\n",
    "            if len(group[group['from_parent'] == 'M'] > 1) and len(group[group['from_parent'] == 'F'] > 1):\n",
    "                comphet_list_name.append(group)\n",
    "            # or if there is only one variant from each parent\n",
    "            elif len(group[group['from_parent'] == 'M'] == 1) and len(group[group['from_parent'] == 'F'] == 1):\n",
    "                # and those variants are different\n",
    "                if len(group[group['from_parent'] == 'M'].pos - group[group['from_parent'] == 'F']) > 0:\n",
    "                        comphet_list_name.append(group)\n",
    "\n",
    "# create empty list to store comp_hets\n",
    "comp_hets = []\n",
    "\n",
    "het1_df = find_comphets(het1_grouped, comp_hets)     \n",
    "het2_df = find_comphets(het2_grouped, comp_hets)\n",
    "het3_df = find_comphets(het3_grouped, comp_hets)\n",
    "\n",
    "# check if comphets found\n",
    "def comphet_check(df):\n",
    "    if df:\n",
    "        comp_hets.append(df)\n",
    "\n",
    "# check for each nb df\n",
    "comphet_check(het1_df)\n",
    "comphet_check(het2_df)\n",
    "comphet_check(het3_df)\n",
    "\n",
    "# if any comp  hets were found, append to list and convert to df\n",
    "if len(comp_hets) > 0:\n",
    "    comphet_df = pd.concat(comp_hets)\n",
    "    comphet_df.name = 'comp_het'\n",
    "else:\n",
    "    print 'No comp hets found.'\n",
    "    comphet_df = pd.DataFrame()\n",
    "    comphet_df.name = 'comp_het'"
   ]
  },
  {
   "cell_type": "markdown",
   "metadata": {},
   "source": [
    "## QA"
   ]
  },
  {
   "cell_type": "code",
   "execution_count": 154,
   "metadata": {
    "collapsed": true
   },
   "outputs": [],
   "source": [
    "review_these = []\n",
    "\n",
    "# make sure all dominant variants are inherited as AD\n",
    "if len(nb_dominant[(~nb_dominant['inheritance'].isin(['AD']))]) > 0:\n",
    "     review_these.append(group)\n",
    "\n",
    "# make sure all homozygous recessive are homozygous alt and AR\n",
    "if len(nb_hom_recessive[(~nb_hom_recessive['inheritance'].isin(['AR'])) & (nb_hom_recessive['gt'] != '1/1')]) > 0:\n",
    "    review_these.append(group)\n",
    "\n",
    "# make sure all compound hets are het and AR \n",
    "if len(comphet_df[(~comphet_df['inheritance'].isin(['AR'])) | (comphet_df['gt'] != '0/1')]) > 0:\n",
    "     review_these.append(group)\n",
    "\n",
    "# check that there is more than one variant per gene\n",
    "het_groupy = comphet_df.groupby(['gene'])\n",
    "\n",
    "for name, group in het_groupy:\n",
    "        # check that there is a variant in more than one position\n",
    "        if group.pos.nunique() < 1:\n",
    "            review_these.append(group)\n",
    "        # check that there is at least one variant from the mother\n",
    "        if len(group[group['from_parent'] == 'M']) == 0:\n",
    "            review_these.append(group)\n",
    "        # check that there is at least one variant from the father\n",
    "        if len(group[group['from_parent'] == 'F']) == 0:\n",
    "            review_these.append(group)\n",
    "        # check that there is at least one different variant from each parent\n",
    "        if len(group[(group['from_parent'] == 'M')].pos - group[(group['from_parent'] == 'F')].pos)  == 0:\n",
    "            review_these.append(group)"
   ]
  },
  {
   "cell_type": "markdown",
   "metadata": {},
   "source": [
    "## Results"
   ]
  },
  {
   "cell_type": "code",
   "execution_count": null,
   "metadata": {
    "collapsed": true
   },
   "outputs": [],
   "source": [
    "reload(pimp)"
   ]
  },
  {
   "cell_type": "code",
   "execution_count": 117,
   "metadata": {
    "collapsed": false
   },
   "outputs": [
    {
     "name": "stdout",
     "output_type": "stream",
     "text": [
      "Variants found:\n",
      "28 dominant variants found.\n",
      "Condition: \n",
      "Hypothyroidism: congenital: nongoitrous 2    16\n",
      "Pallister-Hall syndrome 2                    12\n",
      "dtype: int64 \n",
      "\n",
      "Affected gene(s): \n",
      "['PAX8' 'GLI2'] \n",
      "\n",
      "580 hom_recessive variants found.\n",
      "Condition: \n",
      "Hyperprolinemia: type I                                         400\n",
      "Severe combined immunodeficiency: autosomal recessive: T-cell negative: B-cell positive: NK cell positive     60\n",
      "Adrenal hyperplasia: congenital: due to 21-hydroxylase deficiency: Hyperandrogenism: nonclassic type: due to 21-hydroxylase deficiency     60\n",
      "Tyrosinemia: type III                                            32\n",
      "Maple syrup urine disease: type II                               18\n",
      "Severe combined immunodeficiency                                 10\n",
      "dtype: int64 \n",
      "\n",
      "Affected gene(s): \n",
      "['IL7R' 'HPD' 'PRODH' 'CYP21A2' 'MTHFD1' 'DBT'] \n",
      "\n",
      "251 comp_het variants found.\n",
      "Condition: \n",
      "Severe combined immunodeficiency: autosomal recessive: T-cell negative: B-cell positive: NK cell positive    90\n",
      "Cystic fibrosis                                                 85\n",
      "Adrenal hyperplasia: congenital: due to 21-hydroxylase deficiency: Hyperandrogenism: nonclassic type: due to 21-hydroxylase deficiency    58\n",
      "LIG4 syndrome: Severe combined immunodeficiency with sensitivity to ionizing radiation    18\n",
      "dtype: int64 \n",
      "\n",
      "Affected gene(s): \n",
      "['CFTR' 'CYP21A2' 'IL7R' 'LIG4'] \n",
      "\n",
      "\n",
      "\n"
     ]
    }
   ],
   "source": [
    "# report variant counts\n",
    "def report_result_counts(results_df):\n",
    "    if len(results_df) > 0:\n",
    "        print str(len(results_df)) + ' {} variants found.'.format(results_df.name)\n",
    "        condition = results_df['condition'].value_counts()\n",
    "        genes = results_df['gene'].unique()\n",
    "        print 'Condition: \\n', condition, '\\n'\n",
    "        print 'Affected gene(s): \\n', genes, '\\n'\n",
    "    else:\n",
    "         print \"No {} variants found. \\n\".format(results_df.name)\n",
    "        \n",
    "print \"Variants found:\"\n",
    "report_result_counts(nb_dominant)\n",
    "report_result_counts(nb_hom_recessive)\n",
    "report_result_counts(comphet_df)\n",
    "print \"\\n\""
   ]
  },
  {
   "cell_type": "markdown",
   "metadata": {},
   "source": [
    "## Saving Output"
   ]
  },
  {
   "cell_type": "code",
   "execution_count": 155,
   "metadata": {
    "collapsed": false
   },
   "outputs": [
    {
     "name": "stdout",
     "output_type": "stream",
     "text": [
      "Saving 28 dominant variants to current working directory\n",
      "Saving 580 hom_recessive variants to current working directory\n",
      "Saving 251 comp_het variants to current working directory\n"
     ]
    }
   ],
   "source": [
    "# add from_parent column to dom and hom_rec so we can keep info for comp_het\n",
    "nb_dominant['from_parent'] = 'NA'\n",
    "nb_hom_recessive['from_parent'] = 'NA'\n",
    "\n",
    "# merge and mark predicted variants\n",
    "def merge_predictors(df, out_list):\n",
    "    if len(df) > 0:\n",
    "        df['var_type'] = df.name\n",
    "        out_list.append(df)\n",
    "        print \"Saving {} {} variants to current working directory\".format(len(df), df.name)\n",
    "    else:\n",
    "        print \"No {} variants to save.\".format(df.name)\n",
    "\n",
    "# list to store patho output\n",
    "predict_list = []            \n",
    "\n",
    "merge_predictors(nb_dominant, predict_list)\n",
    "merge_predictors(nb_hom_recessive, predict_list)\n",
    "merge_predictors(comphet_df, predict_list)\n",
    "\n",
    "# merge results\n",
    "merged_patho = pd.concat(predict_list, axis=0)\n",
    "\n",
    "# put the columns back in order because pandas\n",
    "cols = ['sample_id', 'chrom', 'pos', 'id', 'ref', 'alt', 'gt', 'gene',  'gene_id', 'allele_freq', \n",
    "        'condition','inheritance', 'clin_sig', 'clin_dbn', 'transcript_id', 'strand',   \n",
    "        'impact', 'effect', 'dbnfsp_predicted', 'dann_score', 'cadd_raw', 'qual', 'filter', \n",
    "        'clin_hgvs', 'omim_phenotype', 'va_name', 'allelic_conditions', 'comments', 'level',\n",
    "        'aa_alt', 'sift_score', 'sift_pred', 'polyphen2_hdiv_score', 'polyphen2_hdiv_pred', \n",
    "        'polyphen2_hvar_score', 'polyphen2_hvar_pred', 'fathmm_score', 'fathmm_pred',  \n",
    "        'mutation_taster_pred', 'mutation_assessor_score', 'mutation_assessor_pred', 'provean_score', 'provean_pred', \n",
    "        'interpro_domain', 'exac_af', 'rank', 'hgvs_c', 'hgvs_p', 'from_parent', 'var_type',   \n",
    "        'member','family_id', 'feature_type', 'gene_name','id']\n",
    "\n",
    "merged_out = merged_patho[cols]\n",
    "\n",
    "# remove unnecessary columns\n",
    "merged_out.drop(merged_out.columns[[50, 51, 52, 52,53,54]], axis=1, inplace=True)\n",
    "\n",
    "# save to file\n",
    "merged_out.to_csv('predicted_NBS_{}.tsv'.format(time.strftime(\"%y%m%d\")), sep= '\\t', header=True, encoding='utf-8', \\\n",
    "                                                                                                    index=False)\n",
    "\n",
    "if len(review_these) > 0:\n",
    "    print 'Some variants were flagged for review and saved to nbs_{)_review.tsv'.format(time.strftime(\"%y%m%d\"))\n",
    "    for_review = pd.DataFrame(review_these)\n",
    "    for_review.to_csv('nbs_{)_review.tsv'.format(time.strftime(\"%y%m%d\")), sep='\\t', header=True, encoding='utf-8', \n",
    "                                                 index=False)"
   ]
  },
  {
   "cell_type": "markdown",
   "metadata": {},
   "source": [
    "## To Do"
   ]
  },
  {
   "cell_type": "code",
   "execution_count": null,
   "metadata": {
    "collapsed": true
   },
   "outputs": [],
   "source": []
  },
  {
   "cell_type": "markdown",
   "metadata": {},
   "source": [
    "- make package\n",
    "- change location of tab2vcf.py function according to location in package\n",
    "- report only nb vars\n",
    "- mark with variant type\n",
    "- why is sample id _22 showing up? "
   ]
  },
  {
   "cell_type": "code",
   "execution_count": null,
   "metadata": {
    "collapsed": true
   },
   "outputs": [],
   "source": []
  }
 ],
 "metadata": {
  "kernelspec": {
   "display_name": "Python 2",
   "language": "python",
   "name": "python2"
  },
  "language_info": {
   "codemirror_mode": {
    "name": "ipython",
    "version": 2
   },
   "file_extension": ".py",
   "mimetype": "text/x-python",
   "name": "python",
   "nbconvert_exporter": "python",
   "pygments_lexer": "ipython2",
   "version": "2.7.9"
  }
 },
 "nbformat": 4,
 "nbformat_minor": 0
}
