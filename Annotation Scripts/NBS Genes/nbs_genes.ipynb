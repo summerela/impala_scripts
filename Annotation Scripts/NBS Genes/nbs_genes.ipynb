{
 "worksheets": [
  {
   "cells": [
    {
     "cell_type": "heading",
     "metadata": {},
     "level": 1,
     "source": [
      "NBS Gene Annotation"
     ]
    },
    {
     "cell_type": "heading",
     "metadata": {},
     "level": 2,
     "source": [
      "Purpose"
     ]
    },
    {
     "cell_type": "markdown",
     "metadata": {},
     "source": [
      "For the following newborns:   \n",
      "\n",
      "102-07005-03  \n",
      "102-00997-03  \n",
      "102-00996-03  \n",
      "102-02001-03  \n",
      "102-00961-03  \n",
      "102-07009-03  \n",
      "102-00932-03  \n",
      "102-00979-03  \n",
      "102-01532-03  \n",
      "102-00974-03  \n",
      "\n",
      "Variants were annotated with the NBS gene table provided by Ben Solomon at ITMI. Variants located in NBS gene regions were filtered, keeping only variants with a Kaviar frequency less than 1%. Candidate variants were then annotated with ClinVar and coding consequence predictions. Results were reported for Dominant, homozygous recessive and compound heterozygotes. "
     ]
    },
    {
     "cell_type": "heading",
     "metadata": {},
     "level": 2,
     "source": [
      "Transform of NBS Gene Table"
     ]
    },
    {
     "cell_type": "markdown",
     "metadata": {},
     "source": [
      "The NBS Gene Table provided by ITMI was transformed as follows and uploaded to impala:   \n",
      "\n",
      "- A 'level' column was added to represent the color coding found in the file, with the following options: red, yellow, null  \n",
      "- All commas were replaced with colons to prevent errors while importing csv file  \n",
      "- All semicolons were replaced with colons for consistency of data  \n",
      "- Spaces in column names were replaced with underscores  \n",
      "- Special characters were removed from column names"
     ]
    },
    {
     "cell_type": "heading",
     "metadata": {},
     "level": 2,
     "source": [
      "Query"
     ]
    },
    {
     "cell_type": "markdown",
     "metadata": {},
     "source": [
      "The following query was run on impala to annotate variants with the ensemble genes table and return only variants with a kaviar frequency of less than .01: \n",
      "\n",
      "\n",
      "    WITH annot AS (\n",
      "       SELECT bv.sample_id, bv.chr, bv.pos, bv.id, bv.ref, bv.alt, bv.qual, bv.filter, bv.gt,\n",
      "         ens.chromosome, ens.feature, ens.start, ens.stop, ens.gene_name, ens.transcript_name\n",
      "      FROM p7_platform.brady_variant bv\n",
      "      LEFT JOIN public_hg19.ensembl_genes ens \n",
      "          ON bv.chr = ens.chromosome\n",
      "         AND (bv.pos BETWEEN ens.start and ens.stop)\n",
      "    WHERE (bv.sample_id LIKE '%01' OR bv.sample_id LIKE '%02' OR bv.sample_id LIKE '%01')\n",
      ")\n",
      "  \n",
      "    SELECT annot.sample_id, annot.chr, annot.pos, annot.id as rs_id, annot.ref, annot.alt, annot.qual, \n",
      "    annot.filter, annot.gt, annot.feature, annot.gene_name, annot.transcript_name, kav.alle_freq as kav_freq\n",
      "    FROM annot \n",
      "    LEFT JOIN /* +SHUFFLE */ public_hg19.kaviar kav\n",
      "        ON annot.chr = kav.chromosome\n",
      "        AND annot.pos = kav.pos\n",
      "        AND annot.ref = kav.ref\n",
      "        AND annot.alt = kav.alt\n",
      "    WHERE (kav.alle_freq < .01 or kav.alle_freq IS NULL)\n",
      "\n",
      "\n",
      "\n",
      "\n",
      "\n",
      "\n",
      "\n",
      "\n",
      "\n",
      "\n",
      "\n",
      "\n",
      "\n",
      "\n",
      "\n",
      "\n"
     ]
    }
   ]
  }
 ],
 "cells": [],
 "metadata": {},
 "nbformat": 3,
 "nbformat_minor": 0
}