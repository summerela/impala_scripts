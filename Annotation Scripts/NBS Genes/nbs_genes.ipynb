{
 "worksheets": [
  {
   "cells": [
    {
     "cell_type": "heading",
     "metadata": {},
     "level": 1,
     "source": [
      "NBS Gene Annotation"
     ]
    },
    {
     "cell_type": "heading",
     "metadata": {},
     "level": 2,
     "source": [
      "Purpose"
     ]
    },
    {
     "cell_type": "markdown",
     "metadata": {},
     "source": [
      "For the following newborns:   \n",
      "\n",
      "102-07005-03  \n",
      "102-00997-03  \n",
      "102-00996-03  \n",
      "102-02001-03  \n",
      "102-00961-03  \n",
      "102-07009-03  \n",
      "102-00932-03  \n",
      "102-00979-03  \n",
      "102-01532-03  \n",
      "102-00974-03  \n",
      "\n",
      "Variants were annotated with the NBS gene table provided by Ben Solomon at ITMI. Variants located in NBS gene regions were filtered, keeping only variants with a Kaviar frequency less than 1%. Candidate variants were then annotated with ClinVar and coding consequence predictions. Results were reported for Dominant, homozygous recessive and compound heterozygotes. "
     ]
    },
    {
     "cell_type": "heading",
     "metadata": {},
     "level": 2,
     "source": [
      "Transform of NBS Gene Table"
     ]
    },
    {
     "cell_type": "markdown",
     "metadata": {},
     "source": [
      "The NBS Gene Table provided by ITMI was transformed as follows and uploaded to impala:   \n",
      "\n",
      "- A 'level' column was added to represent the color coding found in the file, with the following options: red, yellow, null  \n",
      "- All commas were replaced with colons to prevent errors while importing csv file  \n",
      "- All semicolons were replaced with colons for consistency of data  \n",
      "- Spaces in column names were replaced with underscores  \n",
      "- Special characters were removed from column names"
     ]
    },
    {
     "cell_type": "heading",
     "metadata": {},
     "level": 2,
     "source": [
      "Reducing Input Variant Set"
     ]
    },
    {
     "cell_type": "markdown",
     "metadata": {},
     "source": [
      "To reduce the number of variants input into downstream queries and analysis, all trio variants were annotated with kaviar frequencies to reduce the number of variants input into downstream analysis. \n",
      "\n",
      "         WITH bv AS (\n",
      "             SELECT bv.sample_id, bv.chr, bv.pos, bv.id, bv.ref, bv.alt, bv.qual, bv.filter, bv.gt\n",
      "             FROM p7_platform.brady_variant bv\n",
      "             WHERE (bv.sample_id LIKE '%03' OR bv.sample_id LIKE '%02' OR bv.sample_id LIKE '%01')\n",
      "          )\n",
      "  \n",
      "          SELECT bv.*, k.alle_freq\n",
      "          FROM bv\n",
      "          LEFT JOIN /* +SHUFFLE */ public_hg19.kaviar k\n",
      "               ON bv.chr = k.chromosome\n",
      "               AND bv.pos = k.pos\n",
      "               AND bv.ref = k.ref\n",
      "               AND bv.alt = k.alt\n",
      "         WHERE (k.alle_freq < .01 OR k.alle_freq IS NULL)\n",
      "\n",
      "Query Statements:   \n",
      "- Queries were limited to trio members, excluding more distant relatives  \n",
      "- Keep only variants with a kaviar frequency less than .01, or variants not listed in the kaviar table. \n",
      "\n",
      "Results were saved to an hdfs table named bv_kaviar. "
     ]
    },
    {
     "cell_type": "heading",
     "metadata": {},
     "level": 2,
     "source": [
      "Annotating with ClinVar and Ensembl"
     ]
    },
    {
     "cell_type": "markdown",
     "metadata": {},
     "source": [
      "After the initial set of variants was filtered by kaviar frequency, the variants were annotated with ensembl, returning only variants with ensembl entries for matching with nbs_gene list. \n",
      "\n",
      "The ensembl_genes table was subset for only distinct gene names, to avoid duplicated results for every different transcript and exon of each gene. \n",
      "\n",
      "         WITH ens AS (\n",
      "             SELECT DISTINCT ens.chromosome, ens.start, ens.stop, ens.gene_name, ens.feature\n",
      "             FROM public_hg19.ensembl_genes ens\n",
      "          )\n",
      "\n",
      "         SELECT bv.chr, bv.pos, bv.alt, bv.ref, bv.id as rs_id, bv.qual, bv.filter, bv.gt, bv.alle_freq as kav_freq, \n",
      "         ens.feature, ens.gene_name\n",
      "         FROM public_hg19.bv_kaviar bv, ens\n",
      "         WHERE bv.chr = ens.chromosome\n",
      "         AND bv.pos BETWEEN ens.start and ens.stop"
     ]
    },
    {
     "cell_type": "code",
     "execution_count": null,
     "metadata": {},
     "outputs": [
      {
       "output_type": "stream",
       "stream": "stdout",
       "text": [
        "      sample_id chr      pos alt ref rs_id    qual  filter   gt  kav_freq  \\\n0  102-00932-01  11  9664235   G  GA  None  225.00    PASS  0/1  0.000059   \n1  102-00996-01  11  9664235   G  GA  None  274.00    PASS  0/1  0.000059   \n2  102-07005-01  11  9664235   G  GA  None  216.00    PASS  0/1  0.000059   \n3  102-01532-02  11  9664235   G  GA  None  295.00    PASS  0/1  0.000059   \n4  102-00979-03  11  9664235   G  GA  None  659.00  LowGQX  1/1  0.000059   \n\n  feature gene_name  \n0    None      None  \n1    None      None  \n2    None      None  \n3    None      None  \n4    None      None  \n"
       ]
      }
     ],
     "input": [
      "from impala.dbapi import connect\n",
      "from impala.util import as_pandas\n",
      "\n",
      "# create connection to impala database\n",
      "conn=connect(host='glados19', port=21050)\n",
      "\n",
      "# create a cursor object to interact with the db\n",
      "cur = conn.cursor()\n",
      "\n",
      "ens_query = \"WITH ens AS (SELECT DISTINCT ens.chromosome, ens.start, ens.stop, ens.gene_name, ens.feature \\\n",
      "FROM public_hg19.ensembl_genes ens )\\\n",
      "SELECT bv.sample_id, bv.chr, bv.pos, bv.alt, bv.ref, bv.id as rs_id, bv.qual, bv.filter, bv.gt, bv.alle_freq as kav_freq, \\\n",
      "ens.feature, ens.gene_name \\\n",
      "FROM public_hg19.bv_kaviar bv, ens \n",
      "WHERE bv.chr = ens.chromosome \\\n",
      "AND bv.pos BETWEEN ens.start and ens.stop\"\n",
      "\n",
      "#annotate variants with ensembl\n",
      "cur.execute(ens_query)\n",
      "\n",
      "#save to pandas table\n",
      "ens_annots = as_pandas(cur)\n",
      "\n",
      "#preview results to make sure all looks well\n",
      "print ens_annots.head(5)"
     ],
     "language": "python",
     "prompt_number": 5
    },
    {
     "cell_type": "heading",
     "metadata": {},
     "level": 2,
     "source": [
      "Locate Variants in NBS Gene List"
     ]
    },
    {
     "cell_type": "code",
     "execution_count": null,
     "metadata": {},
     "outputs": [],
     "input": [
      "Now that the variants have gene annotations"
     ],
     "language": "python"
    },
    {
     "cell_type": "markdown",
     "metadata": {},
     "source": [
      ""
     ]
    }
   ]
  }
 ],
 "cells": [],
 "metadata": {},
 "nbformat": 3,
 "nbformat_minor": 0
}