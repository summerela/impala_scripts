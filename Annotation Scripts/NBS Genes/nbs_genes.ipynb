{
 "worksheets": [
  {
   "cells": [
    {
     "cell_type": "heading",
     "metadata": {},
     "level": 1,
     "source": [
      "NBS Gene Annotation"
     ]
    },
    {
     "cell_type": "heading",
     "metadata": {},
     "level": 2,
     "source": [
      "Purpose"
     ]
    },
    {
     "cell_type": "markdown",
     "metadata": {},
     "source": [
      "For the following newborns:   \n",
      "\n",
      "102-07005-03  \n",
      "102-00997-03  \n",
      "102-00996-03  \n",
      "102-02001-03  \n",
      "102-00961-03  \n",
      "102-07009-03  \n",
      "102-00932-03  \n",
      "102-00979-03  \n",
      "102-01532-03  \n",
      "102-00974-03  \n",
      "\n",
      "Variants were annotated with the NBS gene table provided by Ben Solomon at ITMI. Variants located in NBS gene regions were filtered, keeping only variants with a Kaviar frequency less than 1%. Candidate variants were then annotated with ClinVar and coding consequence predictions. Results were reported for Dominant, homozygous recessive and compound heterozygotes. "
     ]
    },
    {
     "cell_type": "heading",
     "metadata": {},
     "level": 2,
     "source": [
      "Transform of NBS Gene Table"
     ]
    },
    {
     "cell_type": "markdown",
     "metadata": {},
     "source": [
      "The NBS Gene Table provided by ITMI was transformed as follows and uploaded to impala:   \n",
      "\n",
      "- A 'level' column was added to represent the color coding found in the file, with the following options: red, yellow, null  \n",
      "- All commas were replaced with colons to prevent errors while importing csv file  \n",
      "- All semicolons were replaced with colons for consistency of data  \n",
      "- Spaces in column names were replaced with underscores  \n",
      "- Special characters were removed from column names"
     ]
    },
    {
     "cell_type": "heading",
     "metadata": {},
     "level": 2,
     "source": [
      "Finding rare variants with Kaviar"
     ]
    },
    {
     "cell_type": "markdown",
     "metadata": {},
     "source": [
      "To reduce the number of variants input into downstream queries and analysis, all trio variants were annotated with kaviar frequencies, Keep only variants with a kaviar frequency less than .01, or variants not listed in the kaviar table.  \n",
      "\n",
      "         WITH bv AS (\n",
      "             SELECT bv.sample_id, bv.chr, bv.pos, bv.id, bv.ref, bv.alt, bv.qual, bv.filter, bv.gt\n",
      "             FROM p7_platform.brady_variant bv\n",
      "             WHERE (bv.sample_id LIKE '%03' OR bv.sample_id LIKE '%02' OR bv.sample_id LIKE '%01')\n",
      "          )\n",
      "  \n",
      "          SELECT bv.*, k.alle_freq\n",
      "          FROM bv\n",
      "          LEFT JOIN /* +SHUFFLE */ public_hg19.kaviar k\n",
      "               ON bv.chr = k.chromosome\n",
      "               AND bv.pos = k.pos\n",
      "               AND bv.ref = k.ref\n",
      "               AND bv.alt = k.alt\n",
      "         WHERE (k.alle_freq < .01 OR k.alle_freq IS NULL)\n",
      "\n",
      "Query Statements:   \n",
      "- Queries were limited to trio members, excluding more distant relatives  \n",
      "- Keep only variants with a kaviar frequency less than .01, or variants not listed in the kaviar table. \n",
      "\n",
      "Results were saved to an hdfs table named bv_kaviar. "
     ]
    },
    {
     "cell_type": "heading",
     "metadata": {},
     "level": 2,
     "source": [
      "Adding positional information to the NBS gene list"
     ]
    },
    {
     "cell_type": "markdown",
     "metadata": {},
     "source": [
      "Chromosome, start and stop positions were added to the NBS Gene list by joining it with the ensembl_genes table using gene name. This resulted in mulitple listings per gene for each exon, allowing for more precise matches. \n",
      "\n",
      "        CREATE TABLE users_selasady.nbs_positional AS SELECT nbs.gene, nbs.entrez_gene_id as entrez_id, ens.gene_id AS ensembl_id, \n",
      "        ens.chromosome as chrom, ens.start, ens.stop, nbs.condition, nbs.omim_phenotype, nbs.va_name, nbs.inheritance, \n",
      "        nbs.allelic_condition, nbs.in_pgb, nbs.level, ens.feature, ens.transcript_name, ens.transcript_id, ens.exon_number, ens.exon_id, \n",
      "        ens.gene_biotype, nbs.comments\n",
      "        FROM users_selasady.nbs_genes nbs\n",
      "        LEFT JOIN\n",
      "                 public_hg19.ensembl_genes ens\n",
      "                ON nbs.gene = ens.gene_name\n",
      "\n",
      "The results were saved as users _ selasady.nbs _ ensembl containing 20872 rows. "
     ]
    },
    {
     "cell_type": "heading",
     "metadata": {},
     "level": 2,
     "source": [
      "Locate rare variants in the NBS gene list"
     ]
    },
    {
     "cell_type": "markdown",
     "metadata": {},
     "source": [
      "Next the Kaviar-filtered variants were joined with nbs _ ensembl using chromosome, start and stop positions, returning rare variants in the nbs_gene list, and annotated those with ClinVar. \n",
      "\n",
      "        CREATE TABLE users_selasady.nbs_annotated AS \n",
      "            WITH nbs AS (\n",
      "            SELECT bv.sample_id, bv.chr as chrom, bv.pos, bv.id as rs_id, bv.ref, bv.alt, bv.qual, bv.filter,bv.gt, \n",
      "            bv.alle_freq AS kav_freq,nbs.gene, nbs.entrez_id, nbs.ensembl_id, nbs.condition, nbs.omim_phenotype, \n",
      "            nbs.va_name, nbs.inheritance, nbs.allelic_condition,nbs.in_pgb, nbs.level, nbs.feature, \n",
      "            nbs.transcript_name, nbs.transcript_id, nbs.exon_number, nbs.exon_id, nbs.gene_biotype, nbs.comments\n",
      "            FROM public_hg19.bv_kaviar bv, users_selasady.nbs_ensembl nbs\n",
      "            WHERE bv.chr = nbs.chrom\n",
      "            AND bv.pos BETWEEN nbs.start and nbs.stop\n",
      "            )\n",
      "  \n",
      "           SELECT nbs.*, clin.clin_hgvs, clin.clin_sig, clin.clin_dbn, clin.clin_acc \n",
      "           FROM nbs\n",
      "           LEFT JOIN public_hg19.clinvar clin\n",
      "               ON nbs.rs_id = clin.id\n",
      "\n",
      "6927 rows were returned, the table was saved as users _ selasady.nbs_annotated. "
     ]
    },
    {
     "cell_type": "heading",
     "metadata": {},
     "level": 2,
     "source": [
      "Add functional annotation"
     ]
    },
    {
     "cell_type": "markdown",
     "metadata": {},
     "source": [
      "Coding consequences for each variant were predictedusing ensembl VEP. \n",
      "\n",
      "VEP requires input in either VCF format or a tab-delimieted file of chromosomal location and ref and alt alleles. Results from the NBS gene list were read into python. "
     ]
    },
    {
     "cell_type": "code",
     "execution_count": null,
     "metadata": {},
     "outputs": [],
     "input": [
      "#################\n",
      "# load modules  #\n",
      "#################\n",
      "import pandas as pd\n",
      "from impala.dbapi import connect\n",
      "from impala.util import as_pandas\n",
      "\n",
      "#create database connection\n",
      "conn = connect(host='glados19', port=21050)\n",
      "cur = conn.cursor()\n",
      "\n",
      "#########################\n",
      "# Run Query on Impala ##\n",
      "#########################\n",
      "query = \"SELECT * FROM users_selasady.nbs_annotated\"\n",
      "cur.execute(query)\n",
      "\n",
      "#store results as pandas data frame\n",
      "nbs_df = as_pandas(cur)"
     ],
     "language": "python",
     "prompt_number": 2
    },
    {
     "cell_type": "markdown",
     "metadata": {},
     "source": [
      "The dataframe was separated into mother, father and newborn for downstream analysis. "
     ]
    },
    {
     "cell_type": "code",
     "execution_count": null,
     "metadata": {},
     "outputs": [],
     "input": [
      "newborns = nbs_df[nbs_df['sample_id'].str.endswith('03')]\n",
      "mothers = nbs_df[nbs_df['sample_id'].str.endswith('01')]\n",
      "fathers = nbs_df[nbs_df['sample_id'].str.endswith('02')]"
     ],
     "language": "python",
     "prompt_number": 3
    },
    {
     "cell_type": "markdown",
     "metadata": {},
     "source": [
      "The newborn set was annotated with coding consequences for rows containing rsID's, using ensembl's VEP version 81 for grch37 (ftp://ftp.ensembl.org/pub/release-81/variation/VEP/homo_sapiens_vep_81_GRCh37.tar.gz) "
     ]
    },
    {
     "cell_type": "code",
     "execution_count": null,
     "metadata": {},
     "outputs": [],
     "input": [
      ""
     ],
     "language": "python",
     "prompt_number": 71
    },
    {
     "cell_type": "heading",
     "metadata": {},
     "level": 2,
     "source": [
      "Reporting dominant and homozygous recessive variants"
     ]
    },
    {
     "cell_type": "markdown",
     "metadata": {},
     "source": [
      "The newborn subset was split into dominant and homozygous recessive disorders and output to tsv files. "
     ]
    },
    {
     "cell_type": "code",
     "execution_count": null,
     "metadata": {},
     "outputs": [],
     "input": [
      "nb_dominant = newborns[(newborns['inheritance'] == 'AD')]\n",
      "nb_hom_recessive = newborns[((newborns['inheritance'] == 'AR') & (newborns['gt'] == '1/1'))]"
     ],
     "language": "python",
     "prompt_number": 4
    },
    {
     "cell_type": "heading",
     "metadata": {},
     "level": 2,
     "source": [
      "Reporting heterozygous recessive variants"
     ]
    },
    {
     "cell_type": "markdown",
     "metadata": {},
     "source": [
      "Heterozygous recessive variants were examined for compound heterozygosity and output as a tsv file. \n",
      "    "
     ]
    },
    {
     "cell_type": "code",
     "execution_count": null,
     "metadata": {},
     "outputs": [
      {
       "output_type": "stream",
       "stream": "stdout",
       "text": [
        "    sample_id_x chrom        pos rs_id_x    ref alt  qual_x      filter_x  \\\n0  102-07009-03     2  211539204    None  AAACC   A  639.00          PASS   \n1  102-07009-03     2  211539204    None  AAACC   A  639.00          PASS   \n2  102-07005-03     1  100654909    None      A   T  104.00  HighDPFRatio   \n3  102-07005-03     1  100654909    None      A   T  104.00  HighDPFRatio   \n4  102-07005-03     1  100654909    None      A   T  104.00  HighDPFRatio   \n5  102-07005-03     1  100654909    None      A   T  104.00  HighDPFRatio   \n6  102-07005-03     1  100654909    None      A   T  104.00  HighDPFRatio   \n7  102-07005-03     1  100654909    None      A   T  104.00  HighDPFRatio   \n8  102-07005-03     1  100654909    None      A   T  104.00  HighDPFRatio   \n9  102-07005-03     1  100654909    None      A   T  104.00  HighDPFRatio   \n\n  gt_x  kav_freq_x   ...    transcript_name    transcript_id exon_number  \\\n0  0/1    0.000059   ...           CPS1-004  ENST00000479988           1   \n1  0/1    0.000059   ...           CPS1-004  ENST00000479988           1   \n2  0/1    0.001548   ...            DBT-001  ENST00000370132          11   \n3  0/1    0.001548   ...            DBT-001  ENST00000370132          11   \n4  0/1    0.001548   ...            DBT-001  ENST00000370132          11   \n5  0/1    0.001548   ...            DBT-001  ENST00000370132          11   \n6  0/1    0.001548   ...            DBT-001  ENST00000370132          11   \n7  0/1    0.001548   ...            DBT-001  ENST00000370132          11   \n8  0/1    0.001548   ...            DBT-001  ENST00000370132          11   \n9  0/1    0.001548   ...            DBT-001  ENST00000370132          11   \n\n           exon_id    gene_biotype comments clin_hgvs clin_sig clin_dbn  \\\n0  ENSE00001836494  protein_coding               None     None     None   \n1  ENSE00001836494  protein_coding               None     None     None   \n2  ENSE00001451905  protein_coding               None     None     None   \n3  ENSE00001451905  protein_coding               None     None     None   \n4  ENSE00001451905  protein_coding               None     None     None   \n5  ENSE00001451905  protein_coding               None     None     None   \n6  ENSE00001451905  protein_coding               None     None     None   \n7  ENSE00001451905  protein_coding               None     None     None   \n8  ENSE00001451905  protein_coding               None     None     None   \n9  ENSE00001451905  protein_coding               None     None     None   \n\n  clin_acc  \n0     None  \n1     None  \n2     None  \n3     None  \n4     None  \n5     None  \n6     None  \n7     None  \n8     None  \n9     None  \n\n[10 rows x 85 columns]\n"
       ]
      }
     ],
     "input": [
      "# subset het newborns\n",
      "nb_het = newborns[((newborns['inheritance'] == 'AR') & (newborns['gt'] == '0/1'))]\n",
      "\n",
      "# merge het newborns with matching variants from mother and father\n",
      "# parent variants will only be included if they match with a newborn variant\n",
      "nb_and_mom = pd.merge(nb_het, mothers, on=['chrom', 'pos', 'ref', 'alt'], how='inner')\n",
      "trio = pd.merge(nb_and_mom, fathers, on=['chrom', 'pos', 'ref', 'alt'], how='inner')\n",
      "\n",
      "# group variants by gene name\n",
      "# by_gene = trio.groupby('gene')\n",
      "\n",
      "# comp_hets = []\n",
      "# \n",
      "# \n",
      "# for name, group in by_gene:\n",
      "#     #for each gene, if there is a nb variant at more than on position\n",
      "#     if group[(group['sample_id'].str.endswith('03'))].pos.nunique() > 1:\n",
      "#         # # pull out mom and dad positions\n",
      "#         # mom_pos = group[(group['sample_id'].str.endswith('01'))].pos \n",
      "#         # dad_pos = group[(group['sample_id'].str.endswith('02'))].pos\n",
      "#         # # if there are variants from each parent\n",
      "#         # if len(mom_pos.isin(group[(group['sample_id'].str.endswith('03'))].pos) > 0) & \\\n",
      "#         #         len(dad_pos.isin(group[(group['sample_id'].str.endswith('02'))].pos) > 0):\n",
      "#         #     # and those variants are not the same\n",
      "#         #     if len(mom_pos[(mom_pos.isin(group[(group['sample_id'].str.endswith('03'))].pos))] -\n",
      "#         #     dad_pos[(dad_pos.isin(group[(group['sample_id'].str.endswith('03'))].pos))]) > 0:\n",
      "#         #         #add that gene to comp_hets list\n",
      "#                 comp_hets.append(group)\n",
      "\n",
      "print trio.head(10)"
     ],
     "language": "python",
     "prompt_number": 162
    },
    {
     "cell_type": "markdown",
     "metadata": {},
     "source": [
      ""
     ]
    },
    {
     "cell_type": "markdown",
     "metadata": {},
     "source": [
      "To DO: rename columns in merged data frame"
     ]
    }
   ]
  }
 ],
 "cells": [],
 "metadata": {},
 "nbformat": 3,
 "nbformat_minor": 0
}