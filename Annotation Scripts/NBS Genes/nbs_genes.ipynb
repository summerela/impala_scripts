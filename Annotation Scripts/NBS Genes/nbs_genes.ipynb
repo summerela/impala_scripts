{
 "worksheets": [
  {
   "cells": [
    {
     "cell_type": "heading",
     "metadata": {},
     "level": 1,
     "source": [
      "NBS Gene Annotation"
     ]
    },
    {
     "cell_type": "heading",
     "metadata": {},
     "level": 2,
     "source": [
      "Purpose"
     ]
    },
    {
     "cell_type": "markdown",
     "metadata": {},
     "source": [
      "For the following newborns:   \n",
      "\n",
      "102-07005-03  \n",
      "102-00997-03  \n",
      "102-00996-03  \n",
      "102-02001-03  \n",
      "102-00961-03  \n",
      "102-07009-03  \n",
      "102-00932-03  \n",
      "102-00979-03  \n",
      "102-01532-03  \n",
      "102-00974-03  \n",
      "\n",
      "Variants were annotated with the NBS gene table provided by Ben Solomon at ITMI. Variants located in NBS gene regions were filtered, keeping only variants with a Kaviar frequency less than 1%. Candidate variants were then annotated with ClinVar and coding consequence predictions. Results were reported for Dominant, homozygous recessive and compound heterozygotes. "
     ]
    },
    {
     "cell_type": "heading",
     "metadata": {},
     "level": 2,
     "source": [
      "Transform of NBS Gene Table"
     ]
    },
    {
     "cell_type": "markdown",
     "metadata": {},
     "source": [
      "The NBS Gene Table provided by ITMI was transformed as follows and uploaded to impala:   \n",
      "\n",
      "- A 'level' column was added to represent the color coding found in the file, with the following options: red, yellow, null  \n",
      "- All commas were replaced with colons to prevent errors while importing csv file  \n",
      "- All semicolons were replaced with colons for consistency of data  \n",
      "- Spaces in column names were replaced with underscores  \n",
      "- Special characters were removed from column names"
     ]
    },
    {
     "cell_type": "heading",
     "metadata": {},
     "level": 2,
     "source": [
      "Finding rare variants with Kaviar"
     ]
    },
    {
     "cell_type": "markdown",
     "metadata": {},
     "source": [
      "To reduce the number of variants input into downstream queries and analysis, all trio variants were annotated with kaviar frequencies, Keep only variants with a kaviar frequency less than .01, or variants not listed in the kaviar table.  \n",
      "\n",
      "         WITH bv AS (\n",
      "             SELECT bv.sample_id, bv.chr, bv.pos, bv.id, bv.ref, bv.alt, bv.qual, bv.filter, bv.gt\n",
      "             FROM p7_platform.brady_variant bv\n",
      "             WHERE (bv.sample_id LIKE '%03' OR bv.sample_id LIKE '%02' OR bv.sample_id LIKE '%01')\n",
      "          )\n",
      "  \n",
      "          SELECT bv.*, k.alle_freq\n",
      "          FROM bv\n",
      "          LEFT JOIN /* +SHUFFLE */ public_hg19.kaviar k\n",
      "               ON bv.chr = k.chromosome\n",
      "               AND bv.pos = k.pos\n",
      "               AND bv.ref = k.ref\n",
      "               AND bv.alt = k.alt\n",
      "         WHERE (k.alle_freq < .01 OR k.alle_freq IS NULL)\n",
      "\n",
      "Query Statements:   \n",
      "- Queries were limited to trio members, excluding more distant relatives  \n",
      "- Keep only variants with a kaviar frequency less than .01, or variants not listed in the kaviar table. \n",
      "\n",
      "Results were saved to an hdfs table named bv_kaviar. "
     ]
    },
    {
     "cell_type": "heading",
     "metadata": {},
     "level": 2,
     "source": [
      "Adding positional information to the NBS gene list"
     ]
    },
    {
     "cell_type": "markdown",
     "metadata": {},
     "source": [
      "Chromosome, start and stop positions were added to the NBS Gene list by joining it with the \n",
      "ensembl_genes table using gene name. This resulted in mulitple listings per gene for each exon, \n",
      "allowing for more precise matches. \n",
      "\n",
      "        CREATE TABLE users_selasady.nbs_positional AS SELECT nbs.gene, \n",
      "        nbs.entrez_gene_id as entrez_id, ens.gene_id AS ensembl_id, ens.chromosome as chrom, \n",
      "        ens.start, ens.stop, nbs.condition, nbs.omim_phenotype, nbs.va_name, nbs.inheritance, \n",
      "        nbs.allelic_condition, nbs.in_pgb, nbs.level, ens.feature, ens.transcript_name, \n",
      "        ens.transcript_id, ens.exon_number, ens.exon_id, ens.gene_biotype, nbs.comments\n",
      "        FROM users_selasady.nbs_genes nbs\n",
      "        LEFT JOIN\n",
      "                 public_hg19.ensembl_genes ens\n",
      "                ON nbs.gene = ens.gene_name\n",
      "\n",
      "The results were saved as users _ selasady.nbs _ ensembl containing 20872 rows. "
     ]
    },
    {
     "cell_type": "heading",
     "metadata": {},
     "level": 2,
     "source": [
      "Locate rare variants in the NBS gene list"
     ]
    },
    {
     "cell_type": "markdown",
     "metadata": {},
     "source": [
      "Next the Kaviar-filtered variants were joined with nbs _ ensembl using chromosome, start and stop positions, returning rare variants in the nbs_gene list, and annotated those with ClinVar. \n",
      "\n",
      "\n",
      "        CREATE TABLE users_selasady.nbs_annotated AS \n",
      "            WITH nbs AS (\n",
      "            SELECT bv.sample_id, bv.chr as chrom, bv.pos, bv.id as rs_id, bv.ref, bv.alt, bv.qual, bv.filter,bv.gt, \n",
      "            bv.alle_freq AS kav_freq,nbs.gene, nbs.entrez_id, nbs.ensembl_id, nbs.condition, nbs.omim_phenotype, \n",
      "            nbs.va_name, nbs.inheritance, nbs.allelic_condition,nbs.in_pgb, nbs.level, nbs.feature, \n",
      "            nbs.transcript_name, nbs.transcript_id, nbs.exon_number, nbs.exon_id, nbs.gene_biotype, nbs.comments\n",
      "            FROM public_hg19.bv_kaviar bv, users_selasady.nbs_ensembl nbs\n",
      "            WHERE bv.chr = nbs.chrom\n",
      "            AND bv.pos BETWEEN nbs.start and nbs.stop\n",
      "            )\n",
      "  \n",
      "           SELECT nbs.*, clin.clin_hgvs, clin.clin_sig, clin.clin_dbn, clin.clin_acc \n",
      "           FROM nbs\n",
      "           LEFT JOIN public_hg19.clinvar clin\n",
      "               ON nbs.rs_id = clin.id\n",
      "\n",
      "6927 rows were returned, the table was saved as users _ selasady.nbs_annotated. "
     ]
    },
    {
     "cell_type": "heading",
     "metadata": {},
     "level": 2,
     "source": [
      "Add functional annotation"
     ]
    },
    {
     "cell_type": "markdown",
     "metadata": {},
     "source": [
      "Coding consequences for each variant were predictedusing ensembl VEP. \n",
      "\n",
      "VEP requires input in either VCF format or a tab-delimieted file of chromosomal location and ref and alt alleles. Results from the NBS gene list were read into python. "
     ]
    },
    {
     "cell_type": "code",
     "execution_count": null,
     "metadata": {},
     "outputs": [],
     "input": [
      "#################\n",
      "# load modules  #\n",
      "#################\n",
      "import pandas as pd\n",
      "from impala.dbapi import connect\n",
      "from impala.util import as_pandas\n",
      "\n",
      "#create database connection\n",
      "conn = connect(host='glados19', port=21050)\n",
      "cur = conn.cursor()\n",
      "\n",
      "#########################\n",
      "# Run Query on Impala ##\n",
      "#########################\n",
      "query = \"SELECT * FROM users_selasady.nbs_annotated\"\n",
      "cur.execute(query)\n",
      "\n",
      "#store results as pandas data frame\n",
      "nbs_df = as_pandas(cur)"
     ],
     "language": "python",
     "prompt_number": 1
    },
    {
     "cell_type": "markdown",
     "metadata": {},
     "source": [
      "The dataframe was separated into mother, father and newborn for downstream analysis. "
     ]
    },
    {
     "cell_type": "code",
     "execution_count": null,
     "metadata": {},
     "outputs": [],
     "input": [
      "newborns = nbs_df[nbs_df['sample_id'].str.endswith('03')]\n",
      "mothers = nbs_df[nbs_df['sample_id'].str.endswith('01')]\n",
      "fathers = nbs_df[nbs_df['sample_id'].str.endswith('02')]"
     ],
     "language": "python",
     "prompt_number": 2
    },
    {
     "cell_type": "markdown",
     "metadata": {},
     "source": [
      "The newborn set was output to a modified version of Plink's tab2vcf script and annotated with coding consequences using ensembl's VEP version 81 for grch37 (ftp://ftp.ensembl.org/pub/release-81/variation/VEP/homo_sapiens_vep_81_GRCh37.tar.gz). "
     ]
    },
    {
     "cell_type": "code",
     "execution_count": null,
     "metadata": {},
     "outputs": [
      {
       "output_type": "stream",
       "stream": "stdout",
       "text": [
        "newborns.tsv\n0 1 2 3 6 7 9 4 5 8\n"
       ]
      }
     ],
     "input": [
      "import os\n",
      "import sys\n",
      "\n",
      "# output columns to vcf file using a modified version of anntools tab2vcf.py\n",
      "nb_to_vcf = newborns[['chrom','pos', 'ref', 'alt', 'qual', 'filter','rs_id', 'sample_id', 'gt','gene']]\n",
      "# rename rsid column\n",
      "nb_to_vcf = nb_to_vcf.rename(columns = {'rs_id':'id'})\n",
      "# add unique variant id to rows that have no rsid\n",
      "nb_to_vcf['id'].fillna(nb_to_vcf.apply(lambda x:'{}:{}:{}:{}'.format(x['chrom'],x['pos'], x['ref'], x['alt']),axis=1), inplace=True)\n",
      "\n",
      "# write to file for conversion to vcf\n",
      "nb_to_vcf.to_csv('{}/newborns.tsv'.format(os.getcwd()), header=True, encoding='utf-8', sep=\"\\t\", index=False)\n",
      "\n",
      "# run tab2vcf.py script\n",
      "try:\n",
      "    %run ./tab2vcf.py newborns.tsv\n",
      "except Exception,e: print str(e)"
     ],
     "language": "python",
     "prompt_number": 3
    },
    {
     "cell_type": "code",
     "execution_count": null,
     "metadata": {},
     "outputs": [
      {
       "output_type": "stream",
       "stream": "stderr",
       "text": [
        "ERROR: Cache directory /.vep/homo_sapiens not found\n"
       ]
      }
     ],
     "input": [
      "#run VEP on newborn vcf file (update location of VEP script before running)\n",
      "!perl D:\\Documents\\tools\\ensembl-tools-release-81\\ensembl-tools-release-81\\scripts\\variant_effect_predictor\\variant_effect_predictor.pl -i newborns.vcf --cache \\home\\summer\\.vep/ --port 3337 --everything"
     ],
     "language": "python",
     "prompt_number": 24
    },
    {
     "cell_type": "heading",
     "metadata": {},
     "level": 2,
     "source": [
      "Reporting dominant and homozygous recessive variants"
     ]
    },
    {
     "cell_type": "markdown",
     "metadata": {},
     "source": [
      "The newborn subset was split into dominant, homozygous recessive and heterozygous variants for downstream analysis. \n",
      "\n",
      "A variant id composed of chrom:pos:ref:alt was added for matching nb comp_het variants with parent variants.  "
     ]
    },
    {
     "cell_type": "code",
     "execution_count": null,
     "metadata": {},
     "outputs": [],
     "input": [
      "nb_dominant = newborns[(newborns['inheritance'] == 'AD')]\n",
      "nb_hom_recessive = newborns[((newborns['inheritance'] == 'AR') & (newborns['gt'] == '1/1'))]\n",
      "nb_het = newborns[((newborns['inheritance'] == 'AR') & (newborns['gt'] == '0/1'))]\n",
      "\n",
      "# add variant id's to simplify variant matching\n",
      "nb_het['var_id'] = nb_het.apply(lambda x:'{}:{}:{}:{}'.format(x['chrom'],x['pos'], x['ref'], x['alt']),axis=1)\n",
      "mothers['var_id'] = mothers.apply(lambda x:'{}:{}:{}:{}'.format(x['chrom'],x['pos'], x['ref'], x['alt']),axis=1)\n",
      "fathers['var_id'] = fathers.apply(lambda x:'{}:{}:{}:{}'.format(x['chrom'],x['pos'], x['ref'], x['alt']),axis=1)"
     ],
     "language": "python",
     "prompt_number": 4
    },
    {
     "cell_type": "heading",
     "metadata": {},
     "level": 2,
     "source": [
      "Reporting heterozygous recessive variants"
     ]
    },
    {
     "cell_type": "markdown",
     "metadata": {},
     "source": [
      "Heterozygous recessive variants were examined for compound heterozygosity and output as a tsv file. \n",
      "    "
     ]
    },
    {
     "cell_type": "code",
     "execution_count": null,
     "metadata": {},
     "outputs": [
      {
       "output_type": "stream",
       "stream": "stdout",
       "text": [
        "        sample_id chrom      pos      rs_id ref               alt    qual  \\\n96   102-00961-03    17  7123240  rs6145976   T  TGGGCGTGCAGGACGC  401.00   \n97   102-00961-03    17  7123240  rs6145976   T  TGGGCGTGCAGGACGC  401.00   \n98   102-00961-03    17  7123240  rs6145976   T  TGGGCGTGCAGGACGC  401.00   \n99   102-00961-03    17  7123240  rs6145976   T  TGGGCGTGCAGGACGC  401.00   \n100  102-00961-03    17  7123240  rs6145976   T  TGGGCGTGCAGGACGC  401.00   \n\n    filter   gt  kav_freq              ...                  transcript_id  \\\n96    PASS  0/1  0.000119              ...                ENST00000577191   \n97    PASS  0/1  0.000119              ...                ENST00000584103   \n98    PASS  0/1  0.000119              ...                ENST00000577857   \n99    PASS  0/1  0.000119              ...                ENST00000582056   \n100   PASS  0/1  0.000119              ...                ENST00000580263   \n\n    exon_number          exon_id    gene_biotype comments clin_hgvs clin_sig  \\\n96            1  ENSE00002696271  protein_coding               None     None   \n97            1  ENSE00002721019  protein_coding               None     None   \n98            1  ENSE00002687373  protein_coding               None     None   \n99            1  ENSE00002687373  protein_coding               None     None   \n100           1  ENSE00002687373  protein_coding               None     None   \n\n    clin_dbn clin_acc                         var_id  \n96      None     None  17:7123240:T:TGGGCGTGCAGGACGC  \n97      None     None  17:7123240:T:TGGGCGTGCAGGACGC  \n98      None     None  17:7123240:T:TGGGCGTGCAGGACGC  \n99      None     None  17:7123240:T:TGGGCGTGCAGGACGC  \n100     None     None  17:7123240:T:TGGGCGTGCAGGACGC  \n\n[5 rows x 32 columns]\n"
       ]
      }
     ],
     "input": [
      "# # rename mother's sample id column\n",
      "# nb_and_mom.rename(columns = {'sample_id_y':'sample_id_m'}, inplace=True)\n",
      "# \n",
      "# # merge het newborns with matching variants from mother \n",
      "# nb_and_dad = pd.merge(nb_het, fathers, on=['chrom', 'pos', 'ref', 'alt'], how='inner')\n",
      "# # rename father's sample id column\n",
      "# nb_and_dad.rename(columns = {'sample_id_y':'sample_id_f'}, inplace=True)\n",
      "# \n",
      "# # drop extra columns ending in _y from merge\n",
      "# def drop_y(df):\n",
      "#     for col in df:\n",
      "#         if col.endswith('_y'):\n",
      "#             df.drop(col, axis=1, inplace=True)\n",
      "# \n",
      "# drop_y(nb_and_mom)\n",
      "# drop_y(nb_and_dad)\n",
      "\n",
      "#combine variants that match with parents\n",
      "# trio = nb_and_mom.append(pd.DataFrame(data=nb_and_dad),ignore_index=True)\n",
      "# \n",
      "# print trio.head()\n",
      "\n",
      "\n",
      "# trio = pd.merge(nb_and_mom, fathers, on=['chrom', 'pos', 'ref', 'alt'], how='inner')\n",
      "\n",
      "# \n",
      "# for name, group in by_gene:\n",
      "#     #for each gene, if there is a nb variant at more than on position\n",
      "#     if group[(group['sample_id'].str.endswith('03'))].pos.nunique() > 1:\n",
      "#         # # pull out mom and dad positions\n",
      "#         # mom_pos = group[(group['sample_id'].str.endswith('01'))].pos \n",
      "#         # dad_pos = group[(group['sample_id'].str.endswith('02'))].pos\n",
      "#         # # if there are variants from each parent\n",
      "#         # if len(mom_pos.isin(group[(group['sample_id'].str.endswith('03'))].pos) > 0) & \\\n",
      "#         #         len(dad_pos.isin(group[(group['sample_id'].str.endswith('02'))].pos) > 0):\n",
      "#         #     # and those variants are not the same\n",
      "#         #     if len(mom_pos[(mom_pos.isin(group[(group['sample_id'].str.endswith('03'))].pos))] -\n",
      "#         #     dad_pos[(dad_pos.isin(group[(group['sample_id'].str.endswith('03'))].pos))]) > 0:\n",
      "#         #         #add that gene to comp_hets list\n",
      "#                 comp_hets.append(group)\n",
      "# \n",
      "# print comp_hets\n",
      "\n",
      "\n",
      "\n",
      "# #rename columns in merged table\n",
      "# # trio.rename(columns = {'sample_id_x':'sample_id', 'rs_id_x':'rs_id', 'qual_x':'qual',\n",
      "# #                               'filter_x':'filter', 'gt_x':'gt', 'kav_freq_x':'kav_freq'}, inplace=True)\n",
      "# \n",
      "# # create members column for downstream analysis\n",
      "# def label_member(row):\n",
      "#     if row[(row['sample_id_x'].endswith('03'))]:\n",
      "#         return 'NB'\n",
      "#     elif row[(row['sample_id_x'].endswith('01'))]:\n",
      "#         return 'M'\n",
      "#     elif row[(row['sample_id_x'].endswith('02'))]:\n",
      "#         return 'F'\n",
      "#     else:\n",
      "#         return ''\n",
      "#  \n",
      "# # add member label to trio data frame\n",
      "# trio['member'] = trio.apply (lambda row: label_member(row),axis=1)   \n",
      "# \n",
      "# print trio[(trio['member'] == 'M')]\n",
      "\n",
      "# group variants by gene name\n",
      "#by_gene = trio.groupby('gene')"
     ],
     "language": "python",
     "prompt_number": 8
    },
    {
     "cell_type": "code",
     "execution_count": null,
     "metadata": {},
     "outputs": [],
     "input": [
      "comp_hets = []\n",
      "\n",
      "for name, group in by_gene:\n",
      "    # if a gene has nb variants at different positions and a variant from each parent\n",
      "    if (group[(group['member'] == 'NB')].pos.nunique() > 1) & len(group[(group['member'] == 'M')]) > 0 & \\\n",
      "            len(group[(group['member'] == 'F')]) > 0:\n",
      "        print group\n",
      "        \n",
      "\n",
      "        #if there are variants from each parent\n",
      "        #     # and those variants are not the same\n",
      "        #     if len(mom_pos[(mom_pos.isin(nb_pos))] - dad_pos[(dad_pos.isin(nb_pos))]) > 0:\n",
      "        #         #add that gene to comp_hets list\n",
      "        #         comp_hets.append(group)"
     ],
     "language": "python",
     "prompt_number": 11
    },
    {
     "cell_type": "code",
     "execution_count": null,
     "metadata": {},
     "outputs": [],
     "input": [
      ""
     ],
     "language": "python"
    }
   ]
  }
 ],
 "cells": [],
 "metadata": {},
 "nbformat": 3,
 "nbformat_minor": 0
}