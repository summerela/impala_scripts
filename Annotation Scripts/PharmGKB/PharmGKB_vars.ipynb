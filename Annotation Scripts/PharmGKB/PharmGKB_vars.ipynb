{
 "worksheets": [
  {
   "cells": [
    {
     "cell_type": "heading",
     "metadata": {},
     "level": 1,
     "source": [
      "PharmGKB annotations"
     ]
    },
    {
     "cell_type": "heading",
     "metadata": {},
     "level": 2,
     "source": [
      "Purpose"
     ]
    },
    {
     "cell_type": "markdown",
     "metadata": {},
     "source": [
      "Variants for each of the following trios were annotated using the PharmGKB variants table provide by Ben Solomon at ITMI:   \n",
      "\n",
      "- 102-07005  \n",
      "- 102-0099  \n",
      "- 102-00996  \n",
      "- 102-02001  \n",
      "- 102-00961  \n",
      "- 102-07009  \n",
      "- 102-00932  \n",
      "- 102-00979  \n",
      "- 102-01532  \n",
      "- 102-00974  \n",
      "\n",
      "Variants categorized with a 1a evidence level were reported for Mother, Father and Newborn and marked as either heterozygous or homozygous. Kaviar frequencies and coding consequences were added for reference. \n"
     ]
    },
    {
     "cell_type": "heading",
     "metadata": {},
     "level": 2,
     "source": [
      "Transform of PharmGKB table"
     ]
    },
    {
     "cell_type": "markdown",
     "metadata": {},
     "source": [
      "The PharmGKB table was transformed as follows and loaded into impala:   \n",
      "- 'level of evidence' column was renamed 'evidence'  \n",
      "- 'variant' column was split into 'rsid' and 'variant'   \n",
      "- all commas were replaced by colons to avoid errors in ETL of csv file  "
     ]
    },
    {
     "cell_type": "code",
     "execution_count": null,
     "metadata": {},
     "outputs": [
      {
       "output_type": "stream",
       "stream": "stdout",
       "text": [
        "                                           variant     gene  \\\n0                                        rs4149056  SLCO1B1   \n1                                       rs28399504  CYP2C19   \n2                                        rs4244285  CYP2C19   \n3  CYP2C19 *1: CYP2C19 *17: CYP2C19 *2: CYP2C19 *3  CYP2C19   \n4                                        rs3892097   CYP2D6   \n\n                    type evidence  \\\n0           Toxicity/ADR       1A   \n1               Efficacy       1A   \n2               Efficacy       1A   \n3  Efficacy:Toxicity/ADR       1A   \n4    Dosage:Toxicity/ADR       1A   \n\n                                               drugs  \\\n0                                        simvastatin   \n1                                        clopidogrel   \n2                                      amitriptyline   \n3                                      amitriptyline   \n4  amitriptyline:antidepressants:clomipramine:des...   \n\n                                          diseases  \\\n0         Muscular Diseases:Myopathy: Central Core   \n1  Acute coronary syndrome:Cardiovascular Diseases   \n2                                              NaN   \n3                                              NaN   \n4                                       Depression   \n\n                                            allele        rsid  \n0                                              NaN   rs4149056  \n1                                              NaN  rs28399504  \n2                                              NaN   rs4244285  \n3  CYP2C19 *1: CYP2C19 *17: CYP2C19 *2: CYP2C19 *3         NaN  \n4                                              NaN   rs3892097  \n"
       ]
      }
     ],
     "input": [
      "import pandas as pd\n",
      "pharm_gkb = pd.read_csv(\"./Annotation Scripts/PharmGKB/pharmGKB_edit.csv\")\n",
      "\n",
      "# split rsid column into rsid and variant\n",
      "pharm_gkb.ix[~pharm_gkb['variant'].str.startswith(\"rs\"), 'allele'] = pharm_gkb['variant']; pharm_gkb\n",
      "pharm_gkb.ix[pharm_gkb['variant'].str.startswith(\"rs\"), 'rsid'] = pharm_gkb['variant']; pharm_gkb\n",
      "\n",
      "print pharm_gkb.head()"
     ],
     "language": "python",
     "prompt_number": 100
    },
    {
     "cell_type": "code",
     "execution_count": null,
     "metadata": {},
     "outputs": [],
     "input": [
      "pharm_gkb_genes = open(\"pharmgkb_list.txt\", \"w\")\n",
      "pharm_gkb_genes.write(str(pharm_gkb['gene'].value_counts()))\n",
      "pharm_gkb_genes.close()"
     ],
     "language": "python",
     "prompt_number": 103
    },
    {
     "cell_type": "code",
     "execution_count": null,
     "metadata": {},
     "outputs": [],
     "input": [
      "import os\n",
      "print os.getcwd()"
     ],
     "language": "python"
    },
    {
     "cell_type": "code",
     "execution_count": null,
     "metadata": {},
     "outputs": [],
     "input": [
      ""
     ],
     "language": "python"
    }
   ]
  }
 ],
 "cells": [],
 "metadata": {},
 "nbformat": 3,
 "nbformat_minor": 0
}