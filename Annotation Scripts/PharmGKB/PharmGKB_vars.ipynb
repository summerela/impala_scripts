{
 "worksheets": [
  {
   "cells": [
    {
     "cell_type": "heading",
     "metadata": {},
     "level": 1,
     "source": [
      "PharmGKB annotations"
     ]
    },
    {
     "cell_type": "heading",
     "metadata": {},
     "level": 2,
     "source": [
      "Purpose"
     ]
    },
    {
     "cell_type": "heading",
     "metadata": {},
     "level": 2,
     "source": [
      "Variants for each of the following trios were annotated using the PharmGKB variants table provide by Ben Solomon at ITMI:   \n",
      "102-07005  \n",
      "102-0099  \n",
      "102-00996  \n",
      "102-02001  \n",
      "102-00961  \n",
      "102-07009  \n",
      "102-00932  \n",
      "102-00979  \n",
      "102-01532  \n",
      "102-00974  \n",
      "\n",
      "Variants categorized with a 1a evidence level were reported for Mother, Father and Newborn and marked as either heterozygous or homozygous. Kaviar frequencies and coding consequences were added for reference. \n"
     ]
    },
    {
     "cell_type": "heading",
     "metadata": {},
     "level": 2,
     "source": [
      "Transform of PharmGKB table"
     ]
    },
    {
     "cell_type": "markdown",
     "metadata": {},
     "source": [
      "The PharmGKB table provided by Ben was transformed as follows and loaded into impala:   \n",
      "- 'level of evidence' column was renamed 'evidence_level'  \n",
      "- 'variant' column was split into 'rsid' and 'variant'   \n",
      "- all commas were replaced by colons to avoid errors in ETL of csv file  \n",
      "- all \"*\" wildcards were replaces with SQL wildcard '&'\n",
      "- 'variant' column renamed to 'transcript_name'"
     ]
    },
    {
     "cell_type": "code",
     "execution_count": null,
     "metadata": {},
     "outputs": [],
     "input": [
      ""
     ],
     "language": "python"
    }
   ]
  }
 ],
 "cells": [],
 "metadata": {},
 "nbformat": 3,
 "nbformat_minor": 0
}