{
 "cells": [
  {
   "cell_type": "markdown",
   "metadata": {},
   "source": [
    "## Connecting to Imapala"
   ]
  },
  {
   "cell_type": "markdown",
   "metadata": {},
   "source": [
    "### Python"
   ]
  },
  {
   "cell_type": "markdown",
   "metadata": {},
   "source": [
    "Connect to impala using the Python DB-API, more info at: \n",
    "http://www.tutorialspoint.com/python/python_database_access.htm"
   ]
  },
  {
   "cell_type": "code",
   "execution_count": 17,
   "metadata": {
    "collapsed": false
   },
   "outputs": [],
   "source": [
    "from impala.dbapi import connect\n",
    "\n",
    "#connect to impala\n",
    "conn=connect(host='glados19', port=21050)\n",
    "\n",
    "#connect to specific database\n",
    "#conn=connect(host='glados19', port=21050, database=\"public_hg19\")\n",
    "\n",
    "#create a cursor object to interact with db\n",
    "cur = conn.cursor()"
   ]
  },
  {
   "cell_type": "code",
   "execution_count": 12,
   "metadata": {
    "collapsed": false
   },
   "outputs": [
    {
     "name": "stdout",
     "output_type": "stream",
     "text": [
      "[('_impala_builtins',), ('default',), ('p7_ptb',), ('p7dev',), ('public_hg19',)]\n"
     ]
    }
   ],
   "source": [
    "#view databases\n",
    "cur.execute('SHOW DATABASES')\n",
    "#fetch results of cur.execute\n",
    "print cur.fetchall()\n"
   ]
  },
  {
   "cell_type": "code",
   "execution_count": 19,
   "metadata": {
    "collapsed": false
   },
   "outputs": [
    {
     "name": "stdout",
     "output_type": "stream",
     "text": [
      "[('feature_fm',), ('featurematrix',), ('features',), ('fmx_ptb_df4_clinical',), ('mastervar',), ('ptb_illumina_all',), ('ptb_illumina_variants',), ('ptb_samples',), ('samples',)]\n"
     ]
    }
   ],
   "source": [
    "#view tables\n",
    "cur.execute('SHOW TABLES')\n",
    "print cur.fetchall()"
   ]
  },
  {
   "cell_type": "markdown",
   "metadata": {},
   "source": [
    "## R: Connect to impala using Impala ODBC Driver"
   ]
  },
  {
   "cell_type": "markdown",
   "metadata": {},
   "source": [
    "This is far less fun to setup than Python. \n",
    "\n",
    "The RImpala package connects to impala, but the queries don't work, so its useless. \n",
    "\n",
    "(Instructions based on mac, other OS, click here: \n",
    "http://www.cloudera.com/content/support/en/downloads/download-components/download-products/downloads-listing/connectors/cloudera-odbc-drivers.html)"
   ]
  },
  {
   "cell_type": "markdown",
   "metadata": {},
   "source": [
    "### Install unixODBC drivers"
   ]
  },
  {
   "cell_type": "markdown",
   "metadata": {},
   "source": [
    "brew install unixodbc"
   ]
  },
  {
   "cell_type": "markdown",
   "metadata": {},
   "source": [
    "### Install the Impala ODBC Driver  "
   ]
  },
  {
   "cell_type": "markdown",
   "metadata": {},
   "source": [
    "Downlad and install the Impala ODBC driver from http://www.cloudera.com/content/cloudera/en/downloads/connectors/impala/odbc/impala-odbc-v2-5-23.html"
   ]
  },
  {
   "cell_type": "markdown",
   "metadata": {},
   "source": [
    "#### Install mac ODBC manager"
   ]
  },
  {
   "cell_type": "markdown",
   "metadata": {},
   "source": [
    "I tried this from the command line, but finally gave up and went with this: \n",
    "\n",
    "1. Download file from http://www.odbcmanager.net/\n",
    "2. Once installed, open the program from Applications/Utilities\n",
    "3. Click on \"Drivers\" and then \"Add\"\n",
    "4. Browse to the impala driver, default location is: \n",
    "/opt/cloudera/impalaodbc/lib/universal/libclouderaimpalaodbc.dylib\n",
    "5. Next, add a System DSN\n",
    "6. Add a DSN Name, then click on \"Add\"\n",
    "7. Add the following two key-value pairs: \n",
    "    * HOST glados19\n",
    "    * PORT 21050\n",
    "8. Click on \"OK\""
   ]
  },
  {
   "cell_type": "markdown",
   "metadata": {},
   "source": [
    "### From the command line"
   ]
  },
  {
   "cell_type": "markdown",
   "metadata": {},
   "source": [
    "If you prefer to do things the hard way:  "
   ]
  },
  {
   "cell_type": "code",
   "execution_count": null,
   "metadata": {
    "collapsed": true
   },
   "outputs": [],
   "source": [
    "Download and install the Impala ODBC driver from http://www.cloudera.com/content/cloudera/en/downloads/connectors/impala/odbc/impala-odbc-v2-5-23.html"
   ]
  },
  {
   "cell_type": "code",
   "execution_count": null,
   "metadata": {
    "collapsed": true
   },
   "outputs": [],
   "source": [
    "brew install unixodbc\n",
    "odbcinst -j \n",
    "\n",
    "unixODBC 2.3.2\n",
    "DRIVERS............: /usr/local/etc/odbcinst.ini\n",
    "SYSTEM DATA SOURCES: /usr/local/etc/odbc.ini\n",
    "FILE DATA SOURCES..: /usr/local/etc/ODBCDataSources\n",
    "USER DATA SOURCES..: /Users/summerrae/.odbc.ini\n",
    "SQLULEN Size.......: 8\n",
    "SQLLEN Size........: 8\n",
    "SQLSETPOSIROW Size.: 8"
   ]
  },
  {
   "cell_type": "markdown",
   "metadata": {},
   "source": [
    "Pointed the DYLD library path variable:"
   ]
  },
  {
   "cell_type": "code",
   "execution_count": null,
   "metadata": {
    "collapsed": true
   },
   "outputs": [],
   "source": [
    "export DYLD_LIBRARY_PATH=$DYLD_LIBRARY_PATH:/opt/cloudera/impalaodbc/lib/universal\n",
    "echo \"export DYLD_LIBRARY_PATH=$DYLD_LIBRARY_PATH:/opt/cloudera/impalaodbc/lib/universal/\" >> ~/.bashrc"
   ]
  },
  {
   "cell_type": "markdown",
   "metadata": {},
   "source": [
    "Edited /usr/local/etc/odbc.ini:"
   ]
  },
  {
   "cell_type": "code",
   "execution_count": null,
   "metadata": {
    "collapsed": true
   },
   "outputs": [],
   "source": [
    "[ODBC Data Sources]\n",
    "# Use this name in your connection string \n",
    "Impala DSN=Impala ODBC Driver\n",
    "[Impala DSN]\n",
    "# Driver: The location where the ODBC driver is installed to. \n",
    "Driver=/opt/cloudera/impalaodbc/lib/universal/libclouderaimpalaodbc.dylib\n",
    "# Values for HOST, PORT, Database \n",
    "HOST=myhost (changed name here for security)\n",
    "PORT=21050"
   ]
  },
  {
   "cell_type": "markdown",
   "metadata": {},
   "source": [
    "Edited /user/local/etc/odbcinst.ini: "
   ]
  },
  {
   "cell_type": "code",
   "execution_count": null,
   "metadata": {
    "collapsed": true
   },
   "outputs": [],
   "source": [
    "[ODBC Drivers]\n",
    "Impala ODBC Driver=Installed\n",
    "[Impala ODBC Driver]\n",
    "Description=Impala ODBC Driver\n",
    "Driver=/opt/cloudera/impalaodbc/lib/universal/libclouderaimpalaodbc.dylib"
   ]
  },
  {
   "cell_type": "markdown",
   "metadata": {},
   "source": [
    "Edited /opt/cloudera/impalaodbc/lib/universal/cloudera.impalaodbc.ini:"
   ]
  },
  {
   "cell_type": "code",
   "execution_count": null,
   "metadata": {
    "collapsed": true
   },
   "outputs": [],
   "source": [
    "[Driver]\n",
    "## - Note that this default DriverManagerEncoding of UTF-15 \n",
    "## is for unixODBC. \n",
    "DriverManagerEncoding=UTF-16\n",
    "ErrorMessagesPath=/opt/cloudera/impalaodbc/ErrorMessages/\n",
    "LogLevel=0\n",
    "LogPath=\n",
    "\n",
    "## - Note that the path to your ODBC Driver Manager \n",
    "## must be specified in DYLD_LIBRARY_PATH.\n",
    "# unixODBC \n",
    "ODBCInstLib=libiodbcinst.dylib"
   ]
  },
  {
   "cell_type": "markdown",
   "metadata": {},
   "source": [
    "Exported path variables to ~/.bashrc:"
   ]
  },
  {
   "cell_type": "code",
   "execution_count": null,
   "metadata": {
    "collapsed": true
   },
   "outputs": [],
   "source": [
    "#add full path to odbc.ini and add to bashrc\n",
    "export ODBCINI=/usr/local/etc/odbc.ini\n",
    "echo \"export ODBCINI=/etc/odbc.ini\" >> ~/.bashrc\n",
    "\n",
    "#add directory path to odbcinst.ini and add to bashrc\n",
    "export ODBCSYSINI=/usr/local/etc/\n",
    "echo \"export ODBCSYSINI=/etc/odbcinst.ini\" >> ~/.bashrc\n",
    "\n",
    "#add full path to cloudera.impalaodbc.ini and add to bashrc\n",
    "export CLOUDERAIMPALAINI=/opt/cloudera/impalaodbc/lib/universal/cloudera.impalaodbc.ini\n",
    "echo \"export CLOUDERAIMPALAINI=/opt/cloudera/impalaodbc/lib/universal/cloudera.impalaodbc.ini\" >> ~/.bashrc"
   ]
  },
  {
   "cell_type": "markdown",
   "metadata": {},
   "source": [
    "### R:"
   ]
  },
  {
   "cell_type": "code",
   "execution_count": null,
   "metadata": {
    "collapsed": true
   },
   "outputs": [],
   "source": [
    "install.packages(\"RODBC\")\n",
    "library(RODBC)\n",
    "#connect using impala DSN\n",
    "conn <- odbcConnect(\"Impala DSN\")"
   ]
  }
 ],
 "metadata": {
  "kernelspec": {
   "display_name": "Python 2",
   "language": "python",
   "name": "python2"
  },
  "language_info": {
   "codemirror_mode": {
    "name": "ipython",
    "version": 2
   },
   "file_extension": ".py",
   "mimetype": "text/x-python",
   "name": "python",
   "nbconvert_exporter": "python",
   "pygments_lexer": "ipython2",
   "version": "2.7.9"
  }
 },
 "nbformat": 4,
 "nbformat_minor": 0
}
