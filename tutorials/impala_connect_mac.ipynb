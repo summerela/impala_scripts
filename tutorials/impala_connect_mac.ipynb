{
 "metadata": {
  "name": "",
  "signature": "sha256:31e467e3ff9f55608286a8b0bf7d54a8e67c3ae0e809d4415d8164dfd4a5d175"
 },
 "nbformat": 3,
 "nbformat_minor": 0,
 "worksheets": [
  {
   "cells": [
    {
     "cell_type": "heading",
     "level": 2,
     "metadata": {},
     "source": [
      "Connecting to impala on a mac"
     ]
    },
    {
     "cell_type": "markdown",
     "metadata": {},
     "source": [
      "This is a little more complicated than connecting with Python and requires the use of ODBC drivers.\n",
      "\n",
      "**Note: The RImpala package connects to impala, but the queries don't work, so its useless.\n",
      "\n",
      "<a href = \"https://ilyawiki.systemsbiology.net/display/ISBInova/Connecting+to+impala+with+R%3A+windows\", target=\"blank\">Click here to connect on windows. </a> \n"
     ]
    },
    {
     "cell_type": "heading",
     "level": 3,
     "metadata": {},
     "source": [
      "Install unixODBC drivers"
     ]
    },
    {
     "cell_type": "code",
     "collapsed": false,
     "input": [
      "brew install unixodbc"
     ],
     "language": "python",
     "metadata": {},
     "outputs": []
    },
    {
     "cell_type": "heading",
     "level": 3,
     "metadata": {},
     "source": [
      "Install the Impala ODBC Driver\u00b6"
     ]
    },
    {
     "cell_type": "markdown",
     "metadata": {},
     "source": [
      "Downlad and install the <a href=\"http://www.cloudera.com/content/cloudera/en/downloads/connectors/impala/odbc/impala-odbc-v2-5-23.html\", target=\"blank\">Impala ODBC driver</a>"
     ]
    },
    {
     "cell_type": "heading",
     "level": 3,
     "metadata": {},
     "source": [
      "Install iODBC drivers from source"
     ]
    },
    {
     "cell_type": "markdown",
     "metadata": {},
     "source": [
      "<a href=\"http://www.iodbc.org/downloads/iODBC/libiodbc-3.52.7.tar.gz\", target=\"blank\">Download and install the iODBC drivers from source.</a> \n",
      "\n",
      "Once installed, copy the sql.h and sqlext.h files to /usr/include directory. "
     ]
    },
    {
     "cell_type": "heading",
     "level": 3,
     "metadata": {},
     "source": [
      "Find your ODBC driver installations and edit configuration files"
     ]
    },
    {
     "cell_type": "code",
     "collapsed": false,
     "input": [
      "odbcinst -j"
     ],
     "language": "python",
     "metadata": {},
     "outputs": [
      {
       "output_type": "stream",
       "stream": "stdout",
       "text": [
        "unixODBC 2.3.2\r\n",
        "DRIVERS............: /usr/local/Cellar/unixodbc/2.3.2_1/etc/odbcinst.ini\r\n",
        "SYSTEM DATA SOURCES: /usr/local/Cellar/unixodbc/2.3.2_1/etc/odbc.ini\r\n",
        "FILE DATA SOURCES..: /usr/local/Cellar/unixodbc/2.3.2_1/etc/ODBCDataSources\r\n",
        "USER DATA SOURCES..: /Users/selasady/.odbc.ini\r\n",
        "SQLULEN Size.......: 8\r\n",
        "SQLLEN Size........: 8\r\n",
        "SQLSETPOSIROW Size.: 8\r\n"
       ]
      }
     ],
     "prompt_number": 1
    },
    {
     "cell_type": "heading",
     "level": 4,
     "metadata": {},
     "source": [
      "Edit odbcinst.ini in the location shown above, as follows: "
     ]
    },
    {
     "cell_type": "code",
     "collapsed": false,
     "input": [
      "[ODBC Drivers]\n",
      "Impala ODBC Driver=Installed\n",
      "[Impala ODBC Driver]\n",
      "Description=Impala ODBC Driver\n",
      "Driver=/opt/cloudera/impalaodbc/lib/universal/libclouderaimpalaodbc.dylib"
     ],
     "language": "python",
     "metadata": {},
     "outputs": []
    },
    {
     "cell_type": "heading",
     "level": 4,
     "metadata": {},
     "source": [
      "Edit the odbc.ini file in the location shown above, as follows: "
     ]
    },
    {
     "cell_type": "code",
     "collapsed": false,
     "input": [
      "[ODBC Data Sources]\n",
      "# Use this name in your connection string \n",
      "Impala DSN=Impala ODBC Driver\n",
      "[Impala DSN]\n",
      "# Driver: The location where the ODBC driver is installed to. \n",
      "Driver=/opt/cloudera/impalaodbc/lib/universal/libclouderaimpalaodbc.dylib\n",
      "# Values for HOST, PORT, Database \n",
      "HOST=glados19\n",
      "PORT=21050"
     ],
     "language": "python",
     "metadata": {},
     "outputs": []
    },
    {
     "cell_type": "markdown",
     "metadata": {},
     "source": [
      "If you have an odbc.ini file listed under \"USER DATA SOURCES\" make it identical to the odbc.ini above.  "
     ]
    },
    {
     "cell_type": "heading",
     "level": 3,
     "metadata": {},
     "source": [
      "Export paths"
     ]
    },
    {
     "cell_type": "code",
     "collapsed": false,
     "input": [
      "#add directory path to impala univeral drivers and add to your .bashrc or .bash_profile\n",
      "export DYLD_LIBRARY_PATH=$DYLD_LIBRARY_PATH:/opt/cloudera/impalaodbc/lib/universal\n",
      "echo \"export DYLD_LIBRARY_PATH=$DYLD_LIBRARY_PATH:/opt/cloudera/impalaodbc/lib/universal/\" >> ~/.bashrc\n",
      "\n",
      "#add full path to odbc.ini and add to bashrc\n",
      "export ODBCINI=/usr/local/etc/odbc.ini\n",
      "echo \"export ODBCINI=/etc/odbc.ini\" >> ~/.bashrc\n",
      "\n",
      "#add directory path to odbcinst.ini and add to bashrc\n",
      "export ODBCSYSINI=/usr/local/etc/\n",
      "echo \"export ODBCSYSINI=/etc/odbcinst.ini\" >> ~/.bashrc"
     ],
     "language": "python",
     "metadata": {},
     "outputs": []
    },
    {
     "cell_type": "heading",
     "level": 3,
     "metadata": {},
     "source": [
      "Install mac ODBC Manager"
     ]
    },
    {
     "cell_type": "markdown",
     "metadata": {},
     "source": [
      "- Download the installation file from http://www.odbcmanager.net/ \n",
      "- Once installed, open ODBC manager from Applications/Utilities\n",
      "- Click on \"Drivers\", then \"Add\"\n",
      "- Browse to the impala driver to make sure its installed. The default location is: /opt/cloudera/impalaodbc/lib/universal/libclouderaimpalaodbc.dylib\n",
      "- Click on the \"System DSN\" tab\n",
      "- Click on \"Add\"\n",
      "- Scroll up to select the impala driver\n",
      "- Add the following two key-value pairs: \n",
      "    - HOST glados19 \n",
      "    - PORT 21050\n",
      "- Click on \"OK\""
     ]
    },
    {
     "cell_type": "heading",
     "level": 3,
     "metadata": {},
     "source": [
      "Install RODBC Package"
     ]
    },
    {
     "cell_type": "markdown",
     "metadata": {},
     "source": [
      "In R, type the following commands: "
     ]
    },
    {
     "cell_type": "code",
     "collapsed": false,
     "input": [
      "install.packages(\"RODBC\",type = \"source\")\n",
      "\n",
      "library(RODBC)\n",
      "\n",
      "#connect using the DSN name you created on your machine\n",
      "conn <- odbcConnect(\"Impala DSN\")"
     ],
     "language": "python",
     "metadata": {},
     "outputs": []
    },
    {
     "cell_type": "heading",
     "level": 3,
     "metadata": {},
     "source": [
      "Interacting with Impala"
     ]
    },
    {
     "cell_type": "markdown",
     "metadata": {},
     "source": [
      "RODBC uses a collection of sql based functions to perform queries and interact with impala. \n",
      "\n",
      "To learn more about creating impala queries, <a href=\"https://ilyawiki.systemsbiology.net/display/ISBInova/Creating+impala+queries\", target=\"blank\">click here</a>. "
     ]
    },
    {
     "cell_type": "heading",
     "level": 4,
     "metadata": {},
     "source": [
      "View available databases"
     ]
    },
    {
     "cell_type": "markdown",
     "metadata": {},
     "source": [
      "To view which databases are available in impala, we use the sqlQuery() function on the connection object, and then add a SQL 'SHOW DATABASES' statment:\n"
     ]
    },
    {
     "cell_type": "code",
     "collapsed": false,
     "input": [
      "sqlQuery(conn, 'SHOW DATABASES')\n",
      "\n",
      "              name\n",
      "1 _impala_builtins\n",
      "2          default\n",
      "3           p7_ptb\n",
      "4            p7dev\n",
      "5      public_hg19"
     ],
     "language": "python",
     "metadata": {},
     "outputs": []
    },
    {
     "cell_type": "heading",
     "level": 4,
     "metadata": {},
     "source": [
      "View available tables"
     ]
    },
    {
     "cell_type": "markdown",
     "metadata": {},
     "source": [
      "To available all available talbes, use the sqlTables() function on your connection object.\n",
      "\n",
      "The TABLE_SCHEM column shows you which database the table is located in, and the TABLE_NAME column shows you the tables in each database."
     ]
    },
    {
     "cell_type": "code",
     "collapsed": false,
     "input": [
      "sqlTables(conn)\n",
      "\n",
      "    TABLE_CAT TABLE_SCHEM            TABLE_NAME TABLE_TYPE REMARKS\n",
      "1     Impala     default            feature_fm      TABLE    <NA>\n",
      "2     Impala     default         featurematrix      TABLE    <NA>\n",
      "3     Impala     default              features      TABLE    <NA>\n",
      "4     Impala     default  fmx_ptb_df4_clinical      TABLE    <NA>\n",
      "5     Impala     default             mastervar      TABLE    <NA>\n",
      "6     Impala     default      ptb_illumina_all      TABLE    <NA>\n",
      "7     Impala     default ptb_illumina_variants      TABLE    <NA>\n",
      "8     Impala     default           ptb_samples      TABLE    <NA>\n",
      "9     Impala     default               samples      TABLE    <NA>\n",
      "10    Impala      p7_ptb        comgen_variant      TABLE    <NA>\n",
      "11    Impala      p7_ptb      illumina_variant      TABLE    <NA>\n",
      "12    Impala      p7_ptb       variant_summary      TABLE    <NA>\n",
      "13    Impala       p7dev        refseq_map_tsv      TABLE    <NA>\n",
      "14    Impala       p7dev     refseq_map_tsv_gz      TABLE    <NA>\n",
      "15    Impala public_hg19               clinvar      TABLE    <NA>\n",
      "16    Impala public_hg19       clinvar_summary      TABLE    <NA>\n",
      "17    Impala public_hg19              cytoband      TABLE    <NA>\n",
      "18    Impala public_hg19                 dbsnp      TABLE    <NA>\n",
      "19    Impala public_hg19         ensembl_genes      TABLE    <NA>\n",
      "20    Impala public_hg19            esp_exomes      TABLE    <NA>\n",
      "21    Impala public_hg19                kaviar      TABLE    <NA>\n",
      "22    Impala public_hg19               mirbase      TABLE    <NA>\n",
      "23    Impala public_hg19            pfam_clans      TABLE    <NA>\n",
      "24    Impala public_hg19          pfam_regions      TABLE    <NA>\n",
      "25    Impala public_hg19                refseq      TABLE    <NA>\n",
      "26    Impala public_hg19            refseq_map      TABLE    <NA>\n",
      "27    Impala public_hg19          repeatmasker      TABLE    <NA>\n",
      "28    Impala public_hg19                  ucsc      TABLE    <NA>\n",
      "29    Impala public_hg19           ucsc_segdup      TABLE    <NA>"
     ],
     "language": "python",
     "metadata": {},
     "outputs": []
    },
    {
     "cell_type": "heading",
     "level": 4,
     "metadata": {},
     "source": [
      "Viewing more information about a table"
     ]
    },
    {
     "cell_type": "markdown",
     "metadata": {},
     "source": [
      "Before pulling information from tables, its helpful to take a look at columns and data types available in each table. We can do this using SQL DESCRIBE statement:"
     ]
    },
    {
     "cell_type": "code",
     "collapsed": false,
     "input": [
      "#use the format 'database.table' to select a particular table\n",
      "sqlQuery(conn, 'DESCRIBE public_hg19.cytoband')\n",
      "\n",
      "        name   type                   comment\n",
      "1      chrom string         Chromosome number\n",
      "2 chromstart    int Start position in genoSeq\n",
      "3   chromend    int   End position in genoSeq\n",
      "4       name string  Name of cytogenetic band\n",
      "5   giestain string      Giesma stain results"
     ],
     "language": "python",
     "metadata": {},
     "outputs": []
    },
    {
     "cell_type": "markdown",
     "metadata": {},
     "source": [
      "To learn more about building queries, <a href=\"https://ilyawiki.systemsbiology.net/display/ISBInova/Creating+impala+queries\", target=\"blank\">here</a>."
     ]
    },
    {
     "cell_type": "code",
     "collapsed": false,
     "input": [
      "!which python"
     ],
     "language": "python",
     "metadata": {},
     "outputs": [
      {
       "output_type": "stream",
       "stream": "stdout",
       "text": [
        "/Users/selasady/anaconda/bin/python\r\n"
       ]
      }
     ],
     "prompt_number": 3
    }
   ],
   "metadata": {}
  }
 ]
}