{
 "worksheets": [
  {
   "cells": [
    {
     "cell_type": "heading",
     "metadata": {},
     "level": 1,
     "source": [
      "Locating Potentially Pathogenic Variants with ClinVar"
     ]
    },
    {
     "cell_type": "heading",
     "metadata": {},
     "level": 2,
     "source": [
      "Intro"
     ]
    },
    {
     "cell_type": "markdown",
     "metadata": {},
     "source": [
      "The ClinVar database was used to locate potentially pathogenic variants. \n",
      "\n",
      "Clinvar variants whose clinical significance has been marked as 4 or 5, but never 2 or 3, were mapped against the variants of interest by chromosome, position, reference allele and alterneate allele.\n",
      "\n",
      "The following parameters were used for this study: \n"
     ]
    },
    {
     "cell_type": "code",
     "execution_count": null,
     "metadata": {},
     "outputs": [],
     "input": [
      "#enter your user args as a comma-separated list with no spaces, or as 'all'\n",
      "#enter values that work with LIKE statement\n",
      "args = {'sample_id':'%M,%F,%NB', \n",
      "        'genes': 'all', \n",
      "        'chr': 'all', \n",
      "        'gt':'1/1,0/1', # enter as 'gt' for illumina and 'zygosity' for cgi\n",
      "        'platform':'illumina'\n",
      "        }"
     ],
     "language": "python",
     "prompt_number": 3
    },
    {
     "cell_type": "heading",
     "metadata": {},
     "level": 2,
     "source": [
      "Creating the impala query"
     ]
    },
    {
     "cell_type": "heading",
     "metadata": {},
     "level": 3,
     "source": [
      "Process user arguments"
     ]
    },
    {
     "cell_type": "markdown",
     "metadata": {},
     "source": [
      "Provided user arguments were parsed into statments and passed in as restrictions for the impala query. If a user argument was given a value of 'all', no restriction statement was created. "
     ]
    },
    {
     "cell_type": "code",
     "execution_count": null,
     "metadata": {},
     "outputs": [
      {
       "output_type": "stream",
       "stream": "stdout",
       "text": [
        "The following user arguments will be used to query impala: \n\n AND vcf.gt LIKE ('1/1') OR vcf.gt LIKE ('0/1')  \n AND vcf.sample_id LIKE ('%M') OR vcf.sample_id LIKE ('%F') OR vcf.sample_id LIKE ('%NB') \n"
       ]
      }
     ],
     "input": [
      "# create empty list to store query conditions\n",
      "conditionals = []\n",
      "\n",
      "# function to process user args\n",
      "def process_args(arg, val):\n",
      "    # if arg is not 'all' and there are more than one argument\n",
      "    if val != 'all' and (',' in val):\n",
      "        conditionals.append(\" vcf.{0} LIKE ('\".format(arg) + \"') OR vcf.{0} LIKE ('\".join(val.split(',')).format(\n",
      "                arg) +  \"') \")\n",
      "    # if arg is not 'all' but there is only one arg\n",
      "    elif val!= 'all' and  (',' not in val):\n",
      "        conditionals.append(\" vcf.{0} = '{1}'\".format(arg,val))\n",
      "    #if arg is 'all' leave blank\n",
      "    elif val == 'all':\n",
      "        pass\n",
      "    #if arg not any of above, error and halt\n",
      "    else:\n",
      "        sys.exit(\"Check that your command line args are properly formatted and try again.\")\n",
      "\n",
      "# run process_args on user args\n",
      "for key, value in args.items():\n",
      "    #dont add the platform argument to the query\n",
      "    if key != 'platform':\n",
      "        process_args(key, value)\n",
      "\n",
      "# if there is more than one user argument\n",
      "if len(conditionals) > 0:\n",
      "    #first argument gets 'WHERE' and the rest get 'AND'\n",
      "    query_conditions = ['AND' + s for s in conditionals]\n",
      "    query_args = \" \".join(map(str, query_conditions))\n",
      "# if there is only one user arg, it gets surrounded by quotes\n",
      "else:\n",
      "    query_args = ['AND' + conditionals]\n",
      "\n",
      "print \"The following user arguments will be used to query impala: \" + \"\\n\" + \\\n",
      "      query_args.replace(\"AND\", \"\\n AND\")"
     ],
     "language": "python",
     "prompt_number": 30
    },
    {
     "cell_type": "heading",
     "metadata": {},
     "level": 3,
     "source": [
      "Build impala query"
     ]
    },
    {
     "cell_type": "markdown",
     "metadata": {},
     "source": [
      "An impala query was created specific to the platform specified above. The variant table was joined with the ClinVar table, returning variants where a ClinVar variant with clinical significance of 4 or 5 fell on the same chromosome, between the start and stop position of the variant. "
     ]
    },
    {
     "cell_type": "code",
     "execution_count": null,
     "metadata": {},
     "outputs": [
      {
       "output_type": "stream",
       "stream": "stdout",
       "text": [
        "The following query was run on impala:\n\nWITH clin as (\n  SELECT vcf.sample_id, vcf.chr, vcf.pos, vcf.id as rsID, vcf.ref, vcf.alt, vcf.qual, vcf.filter,\n  vcf.gt, clin.gene, clin.accession, clin.clin_acc, clin.clin_sig, clin.clin_hgvs, clin.clin_dbn\n  FROM p7_platform.brady_variant as vcf, public_hg19.clinvar AS clin\n  WHERE (clin_sig NOT REGEXP '3|2[^5]|2$'\n  AND clin_sig REGEXP '4|[^25]5|^5')\n  AND clin.chrom = vcf.chr\n  AND clin.ref = vcf.ref\n  AND clin.alt = vcf.alt\n  AND clin.pos = vcf.pos\n  \n AND vcf.gt LIKE ('1/1') OR vcf.gt LIKE ('0/1')  \n AND vcf.sample_id LIKE ('%M') OR vcf.sample_id LIKE ('%F') OR vcf.sample_id LIKE ('%NB') \n  )\n  \nSELECT clin.*, (kav.alle_freq * 100) as kav_freq\n   FROM clin\n   LEFT JOIN public_hg19.kaviar kav\n   ON clin.rsid = kav.id\n   AND clin.chr = kav.chromosome\n   AND clin.pos = kav.pos\n   AND clin.ref = kav.ref\n   AND clin.alt = kav.alt\n\n"
       ]
      }
     ],
     "input": [
      "if args['platform'] == 'cgi':\n",
      "    query = \"\"\"\n",
      "SELECT vcf.sample_id, vcf.chr, vcf.start, vcf.stop, vcf.ref, vcf.allele1seq, vcf.allele2seq,\n",
      "vcf.allele1varquality, vcf.allele2varquality, vcf.totalreadcount, vcf.zygosity, clin.id AS rsid,\n",
      "clin.gene, clin.accession, clin.clin_sig, clin.clin_hgvs, clin.clin_dbn, \n",
      "CASE \n",
      "  WHEN (clin.alt = cgi.allele1seq AND clin.alt = allele2seq) THEN 'hom_alt'\n",
      "  WHEN (clin.alt <> cgi.allele1seq AND clin.alt <> allele2seq) THEN 'hom_ref'\n",
      "  WHEN (clin.alt <> cgi.allele1seq AND clin.alt = allele2seq) THEN 'het'\n",
      "  WHEN (clin.alt = cgi.allele1seq AND clin.alt <> allele2seq) THEN 'het'\n",
      "  WHEN (clin.alt = cgi.allele1seq AND clin.alt = allele2seq) THEN 'hom_ref'\n",
      "  ELSE 'other'\n",
      "  END as alt_call     \n",
      "FROM p7_platform.wgs_comgen_variant AS vcf, public_hg19.clinvar AS clin\n",
      "WHERE (clin_sig NOT REGEXP '3|2[^5]|2$'\n",
      "AND clin_sig REGEXP '4|[^25]5|^5')\n",
      "{0}\n",
      "AND clin.chrom = vcf.chr\n",
      "AND clin.ref = vcf.ref\n",
      "AND (clin.pos BETWEEN vcf.start and vcf.stop)\n",
      "AND (clin.alt = vcf.allele1seq OR clin.alt = vcf.allele2seq) \"\"\".format(query_args.replace(\"AND\", \"\\n AND\"))\n",
      "elif args['platform'] == 'illumina':\n",
      "    query = \"\"\"\n",
      "WITH clin as (\n",
      "  SELECT vcf.sample_id, vcf.chr, vcf.pos, vcf.id as rsID, vcf.ref, vcf.alt, vcf.qual, vcf.filter,\n",
      "  vcf.gt, clin.gene, clin.accession, clin.clin_acc, clin.clin_sig, clin.clin_hgvs, clin.clin_dbn\n",
      "  FROM p7_platform.brady_variant as vcf, public_hg19.clinvar AS clin\n",
      "  WHERE (clin_sig NOT REGEXP '3|2[^5]|2$'\n",
      "  AND clin_sig REGEXP '4|[^25]5|^5')\n",
      "  AND clin.chrom = vcf.chr\n",
      "  AND clin.ref = vcf.ref\n",
      "  AND clin.alt = vcf.alt\n",
      "  AND clin.pos = vcf.pos\n",
      "  {0}\n",
      "  )\n",
      "  \n",
      "SELECT clin.*, (kav.alle_freq * 100) as kav_freq\n",
      "   FROM clin\n",
      "   LEFT JOIN public_hg19.kaviar kav\n",
      "   ON clin.rsid = kav.id\n",
      "   AND clin.chr = kav.chromosome\n",
      "   AND clin.pos = kav.pos\n",
      "   AND clin.ref = kav.ref\n",
      "   AND clin.alt = kav.alt\n",
      "\"\"\".format(query_args.replace(\"AND\", \"\\n AND\"))\n",
      "else:\n",
      "    print \"Did you select illumina or cgi as your platform? Please check and try again.\"\n",
      "    \n",
      "print 'The following query was run on impala:' + '\\n' + query"
     ],
     "language": "python",
     "prompt_number": 47
    },
    {
     "cell_type": "heading",
     "metadata": {},
     "level": 3,
     "source": [
      "Running query on impala"
     ]
    },
    {
     "cell_type": "markdown",
     "metadata": {},
     "source": [
      "Once the query was created, the python impyla module used an ODBC connection to connect to impala and run the query, pulling in the results as a pandas data frame. "
     ]
    },
    {
     "cell_type": "code",
     "execution_count": null,
     "metadata": {},
     "outputs": [],
     "input": [
      "#################\n",
      "# load modules  #\n",
      "#################\n",
      "import argparse\n",
      "import sys\n",
      "import pandas as pd\n",
      "from impala.dbapi import connect\n",
      "from impala.util import as_pandas\n",
      "import time\n",
      "\n",
      "#create database connection\n",
      "conn = connect(host='glados19', port=21050)\n",
      "cur = conn.cursor()\n",
      "\n",
      "#########################\n",
      "# Run Query on Impala ##\n",
      "#########################\n",
      "cur.execute(query)\n",
      "\n",
      "#store results as pandas data frame\n",
      "query_df = as_pandas(cur)"
     ],
     "language": "python",
     "prompt_number": 48
    },
    {
     "cell_type": "code",
     "execution_count": null,
     "metadata": {},
     "outputs": [],
     "input": [
      "if len(query_df) > 0: \n",
      "    print \"There were \" + str(len(query_df)) + \" variants found. Here's a preview:\"\n",
      "    print query_df.head(5)\n",
      "    #save to csv\n",
      "    csv_name = \"clinvar_results_\" + time.strftime(\"%Y%m%d\") + \".csv\"\n",
      "    query_df.to_csv(csv_name, header=True, encoding='utf-8', index=False)\n",
      "    print \"\\n Results saved to current working directory as \" + csv_name\n",
      "else: \n",
      "    print \"No results found.\""
     ],
     "language": "python",
     "prompt_number": 54
    },
    {
     "cell_type": "code",
     "execution_count": null,
     "metadata": {},
     "outputs": [
      {
       "output_type": "stream",
       "stream": "stderr",
       "text": [
        "'python' is not recognized as an internal or external command,\noperable program or batch file.\n"
       ]
      }
     ],
     "input": [
      "!ipython nbconvert clinvar_pathogenic.ipynb"
     ],
     "language": "python",
     "prompt_number": 4
    }
   ]
  }
 ],
 "cells": [],
 "metadata": {},
 "nbformat": 3,
 "nbformat_minor": 0
}