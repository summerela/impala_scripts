{
 "worksheets": [
  {
   "cells": [
    {
     "cell_type": "heading",
     "metadata": {},
     "level": 1,
     "source": [
      "Locating Potentially Pathogenic Variants with ClinVar"
     ]
    },
    {
     "cell_type": "heading",
     "metadata": {},
     "level": 2,
     "source": [
      "Intro"
     ]
    },
    {
     "cell_type": "markdown",
     "metadata": {},
     "source": [
      "The ClinVar database was used to locate potentially pathogenic variants. \n",
      "\n",
      "Clinvar variants whose clinical significance has been marked as 4 or 5, but never 2 or 3, were mapped against the variants of interest by chromosome, start and stop position.If a clinvar variant fell within the start and stop site of a variant of interest, that variant was retained and output for for further analysis.   \n",
      "\n",
      "The following parameters were used for this study: \n"
     ]
    },
    {
     "cell_type": "code",
     "execution_count": null,
     "metadata": {},
     "outputs": [],
     "input": [
      "#enter your user args as a comma-separated list with no spaces, or as 'all'\n",
      "args = {'member':'all', # this option not functional until Joe adds member column to variant tables\n",
      "        'genes': 'all', \n",
      "        'sample_id':'all', \n",
      "        'chr':'8', \n",
      "        'zygosity':'hom', # this option not functional in illumina until Joe adds column\n",
      "        'platform':'cgi'\n",
      "        }"
     ],
     "language": "python",
     "prompt_number": 37
    },
    {
     "cell_type": "heading",
     "metadata": {},
     "level": 2,
     "source": [
      "Creating the impala query"
     ]
    },
    {
     "cell_type": "heading",
     "metadata": {},
     "level": 3,
     "source": [
      "Process user arguments"
     ]
    },
    {
     "cell_type": "markdown",
     "metadata": {},
     "source": [
      "Provided user arguments were parsed into statments and passed in as restrictions for the impala query. If a user argument was given a value of 'all', no restriction statement was created. "
     ]
    },
    {
     "cell_type": "code",
     "execution_count": null,
     "metadata": {},
     "outputs": [
      {
       "output_type": "stream",
       "stream": "stdout",
       "text": [
        "The following user arguments will be used to query impala: \n\n AND vcf.zygosity = 'hom' \n AND vcf.chr = '8'\n"
       ]
      }
     ],
     "input": [
      "# create empty list to store query conditions\n",
      "conditionals = []\n",
      "\n",
      "# function to process user args\n",
      "def process_args(arg, val):\n",
      "    # if arg is not 'all' and there are more than one argument\n",
      "    if val != 'all' and (',' in val):\n",
      "        conditionals.append(\" vcf.{0} IN ('\".format(arg) + \"','\".join(val.split(',')) + \"')\")\n",
      "    # if arg is not 'all' but there is only one arg\n",
      "    elif val!= 'all' and  (',' not in val):\n",
      "        conditionals.append(\" vcf.{0} = '{1}'\".format(arg,val))\n",
      "    #if arg is 'all' leave blank\n",
      "    elif val == 'all':\n",
      "        pass\n",
      "    #if arg not any of above, error and halt\n",
      "    else:\n",
      "        sys.exit(\"Check that your command line args are properly formatted and try again.\")\n",
      "\n",
      "# run process_args on user args\n",
      "for key, value in args.items():\n",
      "    #dont add the platform argument to the query\n",
      "    if key != 'platform':\n",
      "        process_args(key, value)\n",
      "\n",
      "# if there is more than one user argument\n",
      "if len(conditionals) > 0:\n",
      "    #first argument gets 'WHERE' and the rest get 'AND'\n",
      "    query_conditions = ['AND' + s for s in conditionals]\n",
      "    query_args = \" \".join(map(str, query_conditions))\n",
      "# if there is only one user arg, it gets surrounded by quotes\n",
      "else:\n",
      "    query_args = ['AND' + conditionals]\n",
      "\n",
      "print \"The following user arguments will be used to query impala: \" + \"\\n\" + \\\n",
      "      query_args.replace(\"AND\", \"\\n AND\")"
     ],
     "language": "python",
     "prompt_number": 38
    },
    {
     "cell_type": "heading",
     "metadata": {},
     "level": 3,
     "source": [
      "Build impala query"
     ]
    },
    {
     "cell_type": "markdown",
     "metadata": {},
     "source": [
      "An impala query was created specific to the platform specified above. The variant table was joined with the ClinVar table, returning variants where a ClinVar variant with clinical significance of 4 or 5 fell on the same chromosome, between the start and stop position of the variant. "
     ]
    },
    {
     "cell_type": "code",
     "execution_count": null,
     "metadata": {},
     "outputs": [
      {
       "output_type": "stream",
       "stream": "stdout",
       "text": [
        "The following query was run on impala:\n\nSELECT vcf.chr, vcf.start, vcf.stop, vcf.ref, vcf.allele1seq as alt1, vcf.allele2seq as alt2, vcf.zygosity, vcf.vartype,\nvcf.allele1varquality as alt1_qual, vcf.allele2varquality as alt2_qual, vcf.totalreadcount, vcf.sample_id,\nclin.rsid, clin.rspos, clin.geneinfo, clin.dbsnpbuildid as dbsnp_build, clin.hgvs, clin.clin_sig\n    FROM public_hg19.clinvar_grch37 AS clin\n    JOIN p7_platform.wgs_comgen_variant AS vcf\n    ON clin.chr = vcf.chr\n    AND clin.ref = vcf.ref\n    AND clin.pos BETWEEN vcf.start and vcf.stop\n    AND (clin.alt = vcf.allele1seq or clin.alt = vcf.allele2seq)\nWHERE ((FIND_IN_SET('4', clin.clin_sig) > 0) OR (FIND_IN_SET('5', clin.clin_sig)>0)\n    AND\n       (FIND_IN_SET('3', clin.clin_sig)=0 AND FIND_IN_SET('2', clin.clin_sig)=0))\n\n AND vcf.zygosity = 'hom' \n AND vcf.chr = '8'\n             \n"
       ]
      }
     ],
     "input": [
      "if args['platform'] == 'cgi':\n",
      "    query = \"\"\"\n",
      "SELECT vcf.chr, vcf.start, vcf.stop, vcf.ref, vcf.allele1seq as alt1, vcf.allele2seq as alt2, vcf.zygosity, vcf.vartype,\n",
      "vcf.allele1varquality as alt1_qual, vcf.allele2varquality as alt2_qual, vcf.totalreadcount, vcf.sample_id,\n",
      "clin.rsid, clin.rspos, clin.geneinfo, clin.dbsnpbuildid as dbsnp_build, clin.hgvs, clin.clin_sig\n",
      "    FROM public_hg19.clinvar_grch37 AS clin\n",
      "    JOIN p7_platform.wgs_comgen_variant AS vcf\n",
      "    ON clin.chr = vcf.chr\n",
      "    AND clin.ref = vcf.ref\n",
      "    AND clin.pos BETWEEN vcf.start and vcf.stop\n",
      "    AND (clin.alt = vcf.allele1seq or clin.alt = vcf.allele2seq)\n",
      "WHERE ((FIND_IN_SET('4', clin.clin_sig) > 0) OR (FIND_IN_SET('5', clin.clin_sig)>0)\n",
      "    AND\n",
      "       (FIND_IN_SET('3', clin.clin_sig)=0 AND FIND_IN_SET('2', clin.clin_sig)=0))\n",
      "{0:s}\n",
      "             \"\"\".format(query_args.replace(\"AND\", \"\\n AND\"))\n",
      "elif args['platform'] == 'illumina':\n",
      "    query = \"\"\"\n",
      "SELECT vcf.chr, vcf.pos, vcf.ref, vcf.alt, vcf.qual, vcf.filter, vcf.gt, vcf.zygosity, vcf.sample_id,\n",
      "clin.rsid, clin.rspos, clin.geneinfo, clin.dbsnpbuildid as dbsnp_build, clin.hgvs, clin.clin_sig\n",
      " FROM public_hg19.clinvar_grch37 AS clin\n",
      " JOIN p7_platform.wgs_illumina_variant AS vcf\n",
      "    ON clin.chr = vcf.chr\n",
      "    AND clin.ref = vcf.ref\n",
      "    AND clin.pos = vcf.pos\n",
      "    AND clin.alt = vcf.alt\n",
      "WHERE ((FIND_IN_SET('4', clin.clin_sig) > 0) OR (FIND_IN_SET('5', clin.clin_sig)>0)\n",
      "    AND\n",
      "       (FIND_IN_SET('3', clin.clin_sig)=0 AND FIND_IN_SET('2', clin.clin_sig)=0))\n",
      "{0:s}\n",
      "            \"\"\".format(query_args.replace(\"AND\", \"\\n AND\"))\n",
      "else:\n",
      "    print \"Did you select illumina or cgi as your platform? Please check and try again.\"\n",
      "print 'The following query was run on impala:' + '\\n' + query"
     ],
     "language": "python",
     "prompt_number": 39
    },
    {
     "cell_type": "heading",
     "metadata": {},
     "level": 3,
     "source": [
      "Running query on impala"
     ]
    },
    {
     "cell_type": "markdown",
     "metadata": {},
     "source": [
      "Once the query was created, the python impyla module used an ODBC connection to connect to impala and run the query, pulling in the results as a pandas data frame. "
     ]
    },
    {
     "cell_type": "code",
     "execution_count": null,
     "metadata": {},
     "outputs": [],
     "input": [
      "#################\n",
      "# load modules  #\n",
      "#################\n",
      "import argparse\n",
      "import sys\n",
      "import pandas as pd\n",
      "from impala.dbapi import connect\n",
      "from impala.util import as_pandas\n",
      "import time\n",
      "\n",
      "#create database connection\n",
      "conn = connect(host='glados19', port=21050)\n",
      "cur = conn.cursor()\n",
      "\n",
      "#########################\n",
      "# Run Query on Impala ##\n",
      "#########################\n",
      "cur.execute(query)\n",
      "\n",
      "#store results as pandas data frame\n",
      "query_df = as_pandas(cur)"
     ],
     "language": "python",
     "prompt_number": 33
    },
    {
     "cell_type": "code",
     "execution_count": null,
     "metadata": {},
     "outputs": [
      {
       "output_type": "stream",
       "stream": "stdout",
       "text": [
        "There were 77 variants found. Here's a preview:\n  chr      start       stop ref alt1 alt2 zygosity vartype alt1_qual  \\\n0   8   19813529   19813530   A    G    G      hom     snp    VQHIGH   \n1   8  143994266  143994267   A    G    G      hom     snp    VQHIGH   \n2   8  143994266  143994267   A    G    G      hom     snp    VQHIGH   \n3   8   21976710   21976711   T    C    C      hom     snp    VQHIGH   \n4   8   67091182   67091183   G    T    T      hom     snp    VQHIGH   \n\n  alt2_qual  totalreadcount  sample_id        rsid      rspos      geneinfo  \\\n0    VQHIGH              68  101-264-M       rs268   19813529      LPL:4023   \n1    VQHIGH              29  101-589-M  rs61757294  143994266  CYP11B2:1585   \n2    VQHIGH              29  101-589-M  rs61757294  143994266  CYP11B2:1585   \n3    VQHIGH              22  101-013-F   rs7014851   21976710      HR:55806   \n4    VQHIGH              54  101-180-M  rs12721510   67091182      CRH:1392   \n\n   dbsnp_build                         hgvs clin_sig  \n0           36   NC_000008.10:g.19813529A>G        5  \n1          129  NC_000008.10:g.143994266A>G        5  \n2          129  NC_000008.10:g.143994266A>G        5  \n3          116   NC_000008.10:g.21976710T>C        5  \n4          127   NC_000008.10:g.67091182G>T        5  \n\n Results saved to current working directory as clinvar_results_20150623.csv\n"
       ]
      }
     ],
     "input": [
      "if len(query_df) > 0: \n",
      "    print \"There were \" + str(len(query_df)) + \" variants found. Here's a preview:\"\n",
      "    print query_df.head(5)\n",
      "    #save to csv\n",
      "    csv_name = \"clinvar_results_\" + time.strftime(\"%Y%m%d\") + \".csv\"\n",
      "    query_df.to_csv(csv_name, header=True, encoding='utf-8', index=False)\n",
      "    print \"\\n Results saved to current working directory as \" + csv_name\n",
      "else: \n",
      "    print \"No results found.\""
     ],
     "language": "python",
     "prompt_number": 54
    },
    {
     "cell_type": "heading",
     "metadata": {},
     "level": 2,
     "source": [
      "To Do"
     ]
    },
    {
     "cell_type": "markdown",
     "metadata": {},
     "source": [
      "- clinvar needs to be re-rolled to not separate each row by comma\n",
      "- member id added to variant tables\n",
      "- genotype info added to illumina variants table\n",
      "- masked zygosity column added to illumina variants table\n",
      "- rewrite as needed for changes listed above\n",
      "- figure out how to export and distribute this"
     ]
    },
    {
     "cell_type": "code",
     "execution_count": null,
     "metadata": {},
     "outputs": [
      {
       "output_type": "stream",
       "stream": "stderr",
       "text": [
        "'python' is not recognized as an internal or external command,\noperable program or batch file.\n"
       ]
      }
     ],
     "input": [
      "!ipython nbconvert clinvar_pathogenic.ipynb"
     ],
     "language": "python",
     "prompt_number": 4
    }
   ]
  }
 ],
 "cells": [],
 "metadata": {},
 "nbformat": 3,
 "nbformat_minor": 0
}