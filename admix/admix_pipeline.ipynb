{
 "cells": [
  {
   "cell_type": "markdown",
   "metadata": {},
   "source": [
    "# Run ADMIXTURE"
   ]
  },
  {
   "cell_type": "markdown",
   "metadata": {},
   "source": [
    "ADMIXTURE is a software tool for estimating maximum likelihood estimation of individual ancestries from multi-locus SNP genotype datasets. It uses the same statistical model as STRUCTURE, but calculates estimates much more rapidly using a fast numerical optimization algorithm."
   ]
  },
  {
   "cell_type": "code",
   "execution_count": 1,
   "metadata": {
    "collapsed": true
   },
   "outputs": [],
   "source": [
    "###################\n",
    "## set variables ##\n",
    "###################\n",
    "\n",
    "# specify file name prefix\n",
    "in_name = 'admix'\n",
    "\n",
    "# specify path to 1000g vcf files\n",
    "ref_dir = '/users/selasady/my_titan_itmi/impala_scripts/annotation/admix/1000g_vcf/'\n",
    "\n",
    "# specify desired output directory\n",
    "out_dir = '/users/selasady/my_titan_itmi/impala_scripts/annotation/admix/'\n",
    "\n",
    "# set file paths to exectuables\n",
    "plink_path = '/users/selasady/my_titan_itmi/tools/plink/plink --noweb'\n",
    "tabix_path = '/users/selasady/my_titan_itmi/tools/tabix-0.2.6/tabix'\n",
    "vcftools_path = '/titan/ITMI1/workspaces/users/selasady/tools/vcftools_0.1.13/bin/vcftools'\n",
    "java_path = '/tools/java/jdk1.7/bin/java'\n",
    "gatk_path = '/users/selasady/my_titan_itmi/tools/GenomeAnalysisTK.jar'\n",
    "\n",
    "# import required modules\n",
    "import os\n",
    "import subprocess as sp\n",
    "import pandas as pd"
   ]
  },
  {
   "cell_type": "markdown",
   "metadata": {},
   "source": [
    "## 1000 genomes phase 3 Marker Set"
   ]
  },
  {
   "cell_type": "markdown",
   "metadata": {},
   "source": [
    "The 1000 genomes project created a marker file for running admixture on their phase 3 genomes using the following pipeline: \n",
    "\n",
    "http://ftp.1000genomes.ebi.ac.uk/vol1/ftp/release/20130502/supporting/admixture_files/README.admixture_20141217\n",
    "\n",
    "The PED file created in this pipeline was used for the creation of a marker set for running admixture on our own variant files, as follows: \n",
    "\n",
    "- VCFtools to filter 1000 Genomes call set, retaining only bialleleic, non-singelton SNV sites that are a minimum of 2kb apart with the following command:   \n",
    "\n",
    "      ./vcftools --gzvcf\n",
    "      ALL.chr1.phase3_shapeit2_mvncall_integrated_v4.20130502.genotypes.vcf.gz\n",
    "      --thin 2000 --min-alleles 2 --max-alleles 2 --non-ref-ac 2 --plink --chr 1 --out ALL.chr1.phase3_shapeit2_filtered.20141217  \n",
    "\n",
    "\n",
    "- The resulting Plink PED and MAP files were used for the creation of a marker set for running admixture on INOVA genomes. \n",
    "\n",
    "- Files downloaded from: \n",
    "\n",
    "    - PED file: http://ftp.1000genomes.ebi.ac.uk/vol1/ftp/release/20130502/supporting/admixture_files/ALL.wgs.phase3_shapeit2_filtered.20141217.maf0.05.ped\n",
    "    - MAP file: http://ftp.1000genomes.ebi.ac.uk/vol1/ftp/release/20130502/supporting/admixture_files/ALL.wgs.phase3_shapeit2_filtered.20141217.maf0.05.map"
   ]
  },
  {
   "cell_type": "markdown",
   "metadata": {},
   "source": [
    "### Filtering on minor allele frequencey (MAF) and Linkage Disequilibrium (LD)"
   ]
  },
  {
   "cell_type": "markdown",
   "metadata": {},
   "source": [
    "The 1000 genomes PED file was filtered to retain: \n",
    "- Variants with MAF between .05 and .5  \n",
    "- LD pruning to inactivate first marker of pair within 50 marker window, having CHM R^2 value > 0.5, steps of 5 according to documentation at http://pngu.mgh.harvard.edu/~purcell/plink/summary.shtml#prune\n",
    "- A pruned set was output using the following command: \n",
    "\n",
    "      \"{} --file {} --out all_chroms_100g_maf_ld --maf 0.05 --max-maf .5 --indep-pairwise 50 5 0.5\".format(plink_path, plink_file)\n",
    "      \n",
    "- Variants matching the pruned set were extracted from the PED file and the output was converted to a binary BED/BIM/FAM file set using the following command: \n",
    "\n",
    "       ped2bed_cmd = '{} --file {} --extract {} --make-bed --out all_chroms_1000g_pruned'.format(plink_path, plink_file, pruned_file)"
   ]
  },
  {
   "cell_type": "markdown",
   "metadata": {},
   "source": [
    "### Create .POP File Needed for running ADMIXTURE in supervised mode\n",
    "\n",
    "Admixture requires a .pop file for running admixture in supervised mode; allowing the algorithm to use variants of known admix to better estimate admixture on input samples. \n",
    "\n",
    "The .pop file should correspond to each subject listed in the .fam file containing only one line showing the admix code for known subjects, and a dash for subjects with unknown adxmiture: \n",
    "\n",
    "CEU  \n",
    "YRI  \n",
    "\\-   \n",
    "CEU  "
   ]
  },
  {
   "cell_type": "code",
   "execution_count": null,
   "metadata": {
    "collapsed": true
   },
   "outputs": [],
   "source": [
    "# read in .fam file and original 1000g ped file specifying ancestry\n",
    "map_file = pd.read_csv('/users/selasady/my_titan_itmi/impala_scripts/annotation/admix/1000g_vcf/integrated_call_samples_v2.20130502.ALL.ped', sep='\\t')\n",
    "fam_cols = ['family', 'subject', 'paternal', 'maternal', 'sex','affection']\n",
    "fam_file = pd.read_csv('/users/selasady/my_titan_itmi/impala_scripts/annotation/admix/1000g_vcf/all_chroms_1000g_pruned.fam', sep=' ', names = fam_cols)\n",
    "\n",
    "# match .fam file with 1000g  integrated_call_samples_v2.20130502.ALL.ped by subject id\n",
    "pop_df = fam_file.merge(map_file, left_on='subject', right_on='Individual ID', how = 'left')\n",
    "\n",
    "# keep just the population column and save to file\n",
    "pop_out = pop_df['Population']\n",
    "pop_out.to_csv('/users/selasady/my_titan_itmi/impala_scripts/annotation/admix/1000g_vcf/all_chroms_1000g_pruned.pop', header=False, index=False)"
   ]
  },
  {
   "cell_type": "markdown",
   "metadata": {},
   "source": [
    "## Extract Marker Regions from VCF Files"
   ]
  },
  {
   "cell_type": "code",
   "execution_count": null,
   "metadata": {
    "collapsed": true
   },
   "outputs": [],
   "source": []
  },
  {
   "cell_type": "code",
   "execution_count": null,
   "metadata": {
    "collapsed": true
   },
   "outputs": [],
   "source": []
  },
  {
   "cell_type": "code",
   "execution_count": null,
   "metadata": {
    "collapsed": true
   },
   "outputs": [],
   "source": []
  },
  {
   "cell_type": "code",
   "execution_count": null,
   "metadata": {
    "collapsed": true
   },
   "outputs": [],
   "source": []
  },
  {
   "cell_type": "markdown",
   "metadata": {},
   "source": [
    "### Convert the binary BED file to a readable map file for extracting matching regions from INOVA VCF files"
   ]
  },
  {
   "cell_type": "markdown",
   "metadata": {},
   "source": [
    "    /users/selasady/my_titan_itmi/tools/plink/plink --noweb --bfile all_chroms_1000g_pruned --recode --out all_chroms_1000g_pruned_exported"
   ]
  },
  {
   "cell_type": "markdown",
   "metadata": {},
   "source": [
    "##### head all_chroms_1000g_pruned_exported\n",
    "\n",
    "1\t1:76838\t0\t76838  \n",
    "1\t1:83084\t0\t83084  \n",
    "1\t1:91581\t0\t91581  \n",
    "1\t1:158006\t0\t158006  \n",
    "1\t1:173052\t0\t173052  \n",
    "1\t1:521578\t0\t521578  \n",
    "1\t1:636285\t0\t636285  \n",
    "1\t1:662414\t0\t662414  \n",
    "1\t1:712762\t0\t712762  \n",
    "1\t1:746189\t0\t746189  "
   ]
  },
  {
   "cell_type": "code",
   "execution_count": null,
   "metadata": {
    "collapsed": true
   },
   "outputs": [],
   "source": []
  },
  {
   "cell_type": "code",
   "execution_count": null,
   "metadata": {
    "collapsed": true
   },
   "outputs": [],
   "source": []
  },
  {
   "cell_type": "code",
   "execution_count": null,
   "metadata": {
    "collapsed": true
   },
   "outputs": [],
   "source": []
  },
  {
   "cell_type": "markdown",
   "metadata": {},
   "source": [
    "### Connect to Impala "
   ]
  },
  {
   "cell_type": "code",
   "execution_count": 183,
   "metadata": {
    "collapsed": true
   },
   "outputs": [],
   "source": [
    "import ibis\n",
    "import os\n",
    "\n",
    "# connect to impala with ibis\n",
    "hdfs_port = os.environ.get('glados20', 50070)\n",
    "hdfs = ibis.hdfs_connect(host='glados20', port=hdfs_port, user='selasady')\n",
    "con = ibis.impala.connect(host='glados19', port=21050, timeout=120)\n",
    "\n",
    "# enable interactive mode\n",
    "ibis.options.interactive = True"
   ]
  },
  {
   "cell_type": "markdown",
   "metadata": {},
   "source": [
    "### Upload admix tsv file to hdfs"
   ]
  },
  {
   "cell_type": "code",
   "execution_count": 199,
   "metadata": {
    "collapsed": false
   },
   "outputs": [
    {
     "name": "stderr",
     "output_type": "stream",
     "text": [
      "WARNING:requests.packages.urllib3.connectionpool:Connection pool is full, discarding connection: glados18.systemsbiology.net\n"
     ]
    },
    {
     "data": {
      "text/plain": [
       "'/user/selasady/master_admix.csv'"
      ]
     },
     "execution_count": 199,
     "metadata": {},
     "output_type": "execute_result"
    }
   ],
   "source": [
    "path = '/user/selasady/'\n",
    "file_name = 'master_admix.csv'\n",
    "admix_file = path + '/' + file_name\n",
    "\n",
    "# upload admix file\n",
    "hdfs.put(path, file_name, verbose=True)"
   ]
  },
  {
   "cell_type": "markdown",
   "metadata": {},
   "source": [
    "### Download csv as ibis object to add sample id"
   ]
  },
  {
   "cell_type": "code",
   "execution_count": 204,
   "metadata": {
    "collapsed": true
   },
   "outputs": [],
   "source": [
    "# define talbe schema for tsv file\n",
    "schema = ibis.schema([\n",
    "    ('pop1', 'float'), \n",
    "    ('pop2', 'float'),\n",
    "    ('pop3', 'float'),\n",
    "    ('pop4', 'float'),\n",
    "    ('pop5', 'float'),\n",
    "    ('pop6', 'float'),\n",
    "    ('pop7', 'float'),\n",
    "    ('pop8', 'float'),\n",
    "    ('pop9', 'float'),\n",
    "    ('pop10', 'float'),\n",
    "    ('pop11', 'float'),\n",
    "    ('pop12', 'float'),\n",
    "    ('pop13', 'float'),\n",
    "    ('pop14', 'float'),\n",
    "    ('vendor_id', 'string')\n",
    "])\n",
    "\n",
    "# create ibis object from admix tsv\n",
    "admix = con.delimited_file(path, schema)\n",
    "\n",
    "# create ibis object from mapping table\n",
    "map_tbl = con.table('gms_metadata', database='p7_itmi')"
   ]
  },
  {
   "cell_type": "code",
   "execution_count": 207,
   "metadata": {
    "collapsed": true
   },
   "outputs": [],
   "source": [
    "# join tables to get sample_id\n",
    "joined = admix.left_join(map_tbl, admix.vendor_id == map_tbl.genome)[admix,map_tbl.subject_id]"
   ]
  },
  {
   "cell_type": "markdown",
   "metadata": {},
   "source": [
    "### Upload admix table + sample id's as an impala table"
   ]
  },
  {
   "cell_type": "code",
   "execution_count": 209,
   "metadata": {
    "collapsed": true
   },
   "outputs": [],
   "source": [
    "con.create_table('admix_test', joined, database='users_selasady')"
   ]
  }
 ],
 "metadata": {
  "kernelspec": {
   "display_name": "Python 3",
   "language": "python",
   "name": "python3"
  },
  "language_info": {
   "codemirror_mode": {
    "name": "ipython",
    "version": 3
   },
   "file_extension": ".py",
   "mimetype": "text/x-python",
   "name": "python",
   "nbconvert_exporter": "python",
   "pygments_lexer": "ipython3",
   "version": "3.5.1"
  }
 },
 "nbformat": 4,
 "nbformat_minor": 0
}
