{
 "cells": [
  {
   "cell_type": "markdown",
   "metadata": {},
   "source": [
    "## Test 1: Tables vs Views: join distinct chrom, pos, ref, alt from cg and illumina tables for chromosome 1"
   ]
  },
  {
   "cell_type": "markdown",
   "metadata": {},
   "source": [
    "### Quering Tables"
   ]
  },
  {
   "cell_type": "markdown",
   "metadata": {},
   "source": [
    "#### Create tables of distinct chrom, pos, ref, alt"
   ]
  },
  {
   "cell_type": "markdown",
   "metadata": {},
   "source": [
    "-- create table of distinct chrom, pos, ref, alt from illumina\n",
    "create table p7_product.illumina_distinct\n",
    "   (pos int,\n",
    "   ref string,\n",
    "   alt string\n",
    "    )\n",
    "partitioned by (chrom string, pos_block int)\n",
    "\n",
    "\n",
    "-- create table of distinct chrom, pos, ref, alt from cg\n",
    "create table p7_product.comgen_distinct\n",
    "   (pos int,\n",
    "   ref string,\n",
    "   alt string\n",
    "    )\n",
    "partitioned by (chrom string, pos_block int)"
   ]
  },
  {
   "cell_type": "markdown",
   "metadata": {},
   "source": [
    "#### Join tables"
   ]
  },
  {
   "cell_type": "code",
   "execution_count": null,
   "metadata": {
    "collapsed": true
   },
   "outputs": [],
   "source": [
    "-- join variants\n",
    "select count(1) from (\n",
    "-- taking distinct here in case variants appear in both tables\n",
    "SELECT distinct CAST(coalesce(t0.pos, t1.pos) AS int) AS pos,\n",
    "       coalesce(t0.ref, t1.ref) AS ref,\n",
    "       coalesce(t0.alt, t1.alt) AS alt,\n",
    "       coalesce(t0.chrom, t1.chrom) AS chrom\n",
    "FROM p7_product.illumina_distinct t0\n",
    "FULL OUTER JOIN p7_product.comgen_distinct t1\n",
    "    ON t0.chrom = t1.chrom\n",
    "    AND t0.pos = t1.pos\n",
    "    AND t0.ref = t1.ref\n",
    "    AND t0.alt = t1.alt\n",
    "WHERE t0.chrom = '1'\n",
    "AND t1.chrom = '1'\n",
    "  ) as test; "
   ]
  },
  {
   "cell_type": "code",
   "execution_count": null,
   "metadata": {
    "collapsed": true
   },
   "outputs": [],
   "source": [
    "Result 1: Fetched 1 row(s) in 6.03s\n",
    "Result 2: Fetched 1 row(s) in 6.15s\n",
    "Result 3: Fetched 1 row(s) in 5.98s\n",
    "Average time: 6.05s"
   ]
  },
  {
   "cell_type": "markdown",
   "metadata": {},
   "source": [
    "### Querying Views"
   ]
  },
  {
   "cell_type": "code",
   "execution_count": null,
   "metadata": {
    "collapsed": true
   },
   "outputs": [],
   "source": [
    "-- create view of distinct chrom, pos, ref, alt from illumina\n",
    "create view p7_product.illumina_view as\n",
    "   (select * from p7_product.illumina_distinct)\n",
    "\n",
    "-- create table of distinct chrom, pos, ref, alt from cg\n",
    "create view p7_product.comgen_view as\n",
    "   (select * from p7_product.comgen_distinct)"
   ]
  },
  {
   "cell_type": "code",
   "execution_count": null,
   "metadata": {
    "collapsed": true
   },
   "outputs": [],
   "source": [
    "select count(1) from (\n",
    "-- taking distinct here in case variants appear in both tables\n",
    "SELECT distinct CAST(coalesce(t0.pos, t1.pos) AS int) AS pos,\n",
    "       coalesce(t0.ref, t1.ref) AS ref,\n",
    "       coalesce(t0.alt, t1.alt) AS alt,\n",
    "       coalesce(t0.chrom, t1.chrom) AS chrom\n",
    "FROM p7_product.illumina_view t0\n",
    "FULL OUTER JOIN p7_product.comgen_view t1\n",
    "    ON t0.chrom = t1.chrom\n",
    "    AND t0.pos = t1.pos\n",
    "    AND t0.ref = t1.ref\n",
    "    AND t0.alt = t1.alt\n",
    "WHERE t0.chrom = '1'\n",
    "AND t1.chrom = '1'\n",
    "  ) as test; "
   ]
  },
  {
   "cell_type": "code",
   "execution_count": null,
   "metadata": {
    "collapsed": true
   },
   "outputs": [],
   "source": [
    "Result 1: Fetched 1 row(s) in 5.89s\n",
    "Result 2: Fetched 1 row(s) in 6.20s\n",
    "Result 3: Fetched 1 row(s) in 5.92s\n",
    "Average time: 6.00s"
   ]
  },
  {
   "cell_type": "markdown",
   "metadata": {},
   "source": [
    "## Test 2: Querying a View that includes a Join"
   ]
  },
  {
   "cell_type": "code",
   "execution_count": null,
   "metadata": {
    "collapsed": true
   },
   "outputs": [],
   "source": [
    "create view p7_product.test_view as\n",
    "\n",
    "SELECT distinct CAST(coalesce(t0.pos, t1.pos) AS int) AS pos,\n",
    "       coalesce(t0.ref, t1.ref) AS ref,\n",
    "       coalesce(t0.alt, t1.alt) AS alt,\n",
    "       coalesce(t0.chrom, t1.chrom) AS chrom\n",
    "FROM p7_product.illumina_distinct t0\n",
    "FULL OUTER JOIN p7_product.comgen_distinct t1\n",
    "    ON t0.chrom = t1.chrom\n",
    "    AND t0.pos = t1.pos\n",
    "    AND t0.ref = t1.ref\n",
    "    AND t0.alt = t1.alt;\n",
    "\n",
    "select count(1) from (\n",
    "select * \n",
    "from p7_product.test_view \n",
    "WHERE chrom = '1'\n",
    "    )\n",
    "as test;  \n"
   ]
  },
  {
   "cell_type": "code",
   "execution_count": null,
   "metadata": {
    "collapsed": true
   },
   "outputs": [],
   "source": [
    "Result 1: Fetched 1 row(s) in 132.55s\n",
    "Result 2: Fetched 1 row(s) in 130.79s\n",
    "Result 3: Fetched 1 row(s) in 137.28s\n",
    "Average Time: 133.54s"
   ]
  },
  {
   "cell_type": "markdown",
   "metadata": {},
   "source": [
    "## Test 3: Creating View using WHERE clause"
   ]
  },
  {
   "cell_type": "code",
   "execution_count": null,
   "metadata": {
    "collapsed": true
   },
   "outputs": [],
   "source": [
    "create view p7_product.test_view_chr1 as\n",
    "\n",
    "SELECT distinct CAST(coalesce(t0.pos, t1.pos) AS int) AS pos,\n",
    "       coalesce(t0.ref, t1.ref) AS ref,\n",
    "       coalesce(t0.alt, t1.alt) AS alt,\n",
    "       coalesce(t0.chrom, t1.chrom) AS chrom\n",
    "FROM p7_product.illumina_distinct t0\n",
    "FULL OUTER JOIN p7_product.comgen_distinct t1\n",
    "    ON t0.chrom = t1.chrom\n",
    "    AND t0.pos = t1.pos\n",
    "    AND t0.ref = t1.ref\n",
    "    AND t0.alt = t1.alt\n",
    "WHERE t0.chrom = '1'\n",
    "AND t1.chrom = '1';\n",
    "\n",
    "select count(1) from (\n",
    "select * \n",
    "from p7_product.test_view_chr1 \n",
    "    )\n",
    "as test; "
   ]
  },
  {
   "cell_type": "code",
   "execution_count": null,
   "metadata": {
    "collapsed": true
   },
   "outputs": [],
   "source": [
    "Result 1: Fetched 1 row(s) in 10.98s\n",
    "Result 2: Fetched 1 row(s) in 9.99s\n",
    "Result 3: Fetched 1 row(s) in 9.18s\n",
    "Average Time: 10.05s"
   ]
  }
 ],
 "metadata": {
  "kernelspec": {
   "display_name": "Python 2",
   "language": "python",
   "name": "python2"
  },
  "language_info": {
   "codemirror_mode": {
    "name": "ipython",
    "version": 2
   },
   "file_extension": ".py",
   "mimetype": "text/x-python",
   "name": "python",
   "nbconvert_exporter": "python",
   "pygments_lexer": "ipython2",
   "version": "2.7.10"
  }
 },
 "nbformat": 4,
 "nbformat_minor": 0
}
