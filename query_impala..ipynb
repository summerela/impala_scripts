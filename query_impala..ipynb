{
 "worksheets": [
  {
   "cells": [
    {
     "cell_type": "heading",
     "metadata": {},
     "level": 1,
     "source": [
      "Impala Variant Query Template"
     ]
    },
    {
     "cell_type": "markdown",
     "metadata": {},
     "source": [
      "Use the following template to query impala and save the results as either a tsv file or an impala table for futher analysis.  "
     ]
    },
    {
     "cell_type": "heading",
     "metadata": {},
     "level": 2,
     "source": [
      "Query Parameters"
     ]
    },
    {
     "cell_type": "markdown",
     "metadata": {},
     "source": [
      "To search for all variables in a field without restrictions, use 'all' as your argument, otherwise: "
     ]
    },
    {
     "cell_type": "heading",
     "metadata": {},
     "level": 2,
     "source": [
      "'members'"
     ]
    },
    {
     "cell_type": "markdown",
     "metadata": {},
     "source": [
      "This option is platform specific. \n",
      "\n",
      "Illumina:   \n",
      "\n",
      "- To search in all family members, including extended family, enter 'all'  \n",
      "- To search for all NB, enter '%NB'  \n",
      "- To search for all Mothers, enter '%M'  \n",
      "- To search for all Fathers, enter '%F'  \n",
      "- To search only in nuclear trios, enter '%M,%F,%NB'  \n",
      "\n",
      "CGI:  \n",
      "\n",
      "- To search for all family members including extended family, enter 'all'  \n",
      "- To search for all NB, enter '%03'  \n",
      "- To search for all Mothers, enter '%01'  \n",
      "- To search for all Fathers, enter '%02'  \n",
      "- To search only in nuclear trios, enter '%01,%02,%03'  \n",
      "\n",
      "Example:  \n",
      "\n",
      "'members': '%M,%F,%NB'   \n",
      "'members':'%01,%02,%03'   "
     ]
    },
    {
     "cell_type": "code",
     "execution_count": null,
     "metadata": {},
     "outputs": [],
     "input": [
      "args = {\n",
      "    'members':'%M,%F,%NB'\n",
      "}"
     ],
     "language": "python",
     "prompt_number": 31
    },
    {
     "cell_type": "heading",
     "metadata": {},
     "level": 2,
     "source": [
      "'subject_id'"
     ]
    },
    {
     "cell_type": "markdown",
     "metadata": {},
     "source": [
      "This option is platform specific; make sure to enter subject id's in the format that matches your specfiied platform. \n",
      "\n",
      "- For all subjects in Study 101, enter '101%'  \n",
      "- For all subjects in Study 102, enter '102%'  \n",
      "- For all subjects in Study 103, enter '103%'  \n",
      "- For all studies, enter 'all'  \n",
      "\n",
      "Example:\n",
      "- 'subject_id':'101%'\n",
      "- 'subject_id':'all\""
     ]
    },
    {
     "cell_type": "code",
     "execution_count": null,
     "metadata": {},
     "outputs": [],
     "input": [
      "#uncomment this line to enter a list of sample id's\n",
      "args['subject_id'] = 'all'\n",
      "\n",
      "#uncomment the following lines and edit the file path to upload txt\n",
      "#subject_file = open('list_of_subjects', 'r').readlines()\n",
      "#subject_id = map(str.strip, subject_file)"
     ],
     "language": "python",
     "prompt_number": 5
    },
    {
     "cell_type": "heading",
     "metadata": {},
     "level": 2,
     "source": [
      "'genes'"
     ]
    },
    {
     "cell_type": "markdown",
     "metadata": {},
     "source": [
      "To enter a list of genes:   \n",
      "- Enter as comma-separaterd list with no spaces: 'GENE1,GENE2,GENE3'  \n",
      "\n",
      "To upload a text file of genes:   \n",
      "- Save genes as a .txt file containing one gene per line    \n",
      "- Enter full path and file name below\n",
      "\n",
      "To search for all genes:   \n",
      "- Enter 'all'  \n",
      "\n",
      "Example:  \n",
      "'genes':'HOX%,TRT1'"
     ]
    },
    {
     "cell_type": "code",
     "execution_count": null,
     "metadata": {},
     "outputs": [],
     "input": [
      "#uncomment this line to enter a list of genes\n",
      "args['genes'] = 'BRCA1,TRT1,SON%,HOX%'\n",
      "\n",
      "#uncomment the following lines and edit the file path to upload txt\n",
      "#gene_file = open('list_of_genes', 'r').readlines()\n",
      "#genes = map(str.strip, gene_file)"
     ],
     "language": "python",
     "prompt_number": 6
    },
    {
     "cell_type": "heading",
     "metadata": {},
     "level": 2,
     "source": [
      "'gt'"
     ]
    },
    {
     "cell_type": "markdown",
     "metadata": {},
     "source": [
      "This option is platform specific. Enter your genotpe(s) of interest.   \n",
      "\n",
      "lllumina:   \n",
      "- Homozygous reference = '0/0'  \n",
      "- Homozygous alternate = '1/1'  \n",
      "- Heterozygous = '0/1'  \n",
      "- All genotypes = 'all'   \n",
      "\n",
      "Example:  \n",
      "'gt':'0/0'  \n",
      "\n",
      "CGI:   \n",
      "- Homozygous  = 'hom'  \n",
      "- Heterozygous = 'het-ref' and 'het-alt'  \n",
      "- All genotypes = 'all'  \n",
      "\n",
      "Example:  \n",
      "'gt':'hom'"
     ]
    },
    {
     "cell_type": "code",
     "execution_count": null,
     "metadata": {},
     "outputs": [],
     "input": [
      "args['gt'] = 'hom'"
     ],
     "language": "python",
     "prompt_number": 7
    },
    {
     "cell_type": "heading",
     "metadata": {},
     "level": 2,
     "source": [
      "'chrom'"
     ]
    },
    {
     "cell_type": "markdown",
     "metadata": {},
     "source": [
      "If your search is restricted to a certain chromosome, enter it here. Narrowing your search to specific chromosomes will reduce the amount of time it takes to complete your query. \n",
      "\n",
      "Examples:  \n",
      "'chrom':'8'  \n",
      "'chrom':'8,9'  "
     ]
    },
    {
     "cell_type": "code",
     "execution_count": null,
     "metadata": {},
     "outputs": [],
     "input": [
      "args['chrom'] = '8'"
     ],
     "language": "python",
     "prompt_number": 8
    },
    {
     "cell_type": "heading",
     "metadata": {},
     "level": 2,
     "source": [
      "'platform'"
     ]
    },
    {
     "cell_type": "markdown",
     "metadata": {},
     "source": [
      "Available options:  \n",
      "\n",
      "'platform':'cgi'  \n",
      "'platform':'illumina'  "
     ]
    },
    {
     "cell_type": "code",
     "execution_count": null,
     "metadata": {},
     "outputs": [],
     "input": [
      "args['platform'] = 'cgi'"
     ],
     "language": "python",
     "prompt_number": 9
    },
    {
     "cell_type": "heading",
     "metadata": {},
     "level": 2,
     "source": [
      "'search_db'"
     ]
    },
    {
     "cell_type": "markdown",
     "metadata": {},
     "source": [
      "Enter the database where your genomes/variants of interest are located as databaseName.tableName format. \n",
      "\n",
      "Example:  \n",
      "'search_db':'p7_platform.wgs_comgen_variant'\n",
      "\n",
      "Choose from one of the following tables: "
     ]
    },
    {
     "cell_type": "code",
     "execution_count": null,
     "metadata": {},
     "outputs": [
      {
       "output_type": "stream",
       "stream": "stdout",
       "text": [
        "('brady_variant',)\n('illumina_450k_crystal',)\n('itmi_102_puzzle',)\n('itmi_450k_crystal',)\n('itmi_mapping',)\n('variant_summary',)\n('wgs_comgen_variant',)\n('wgs_illumina_variant',)\n"
       ]
      }
     ],
     "input": [
      "from impala.dbapi import connect\n",
      "\n",
      "# to connect to specific database, use the database argument\n",
      "conn=connect(host='glados19', port=21050, database=\"p7_platform\")\n",
      "\n",
      "# create a cursor object to interact with the db\n",
      "cur = conn.cursor()\n",
      "\n",
      "# view tables in selected database \n",
      "# if no db is selected, you will see tables in default db\n",
      "cur.execute('SHOW TABLES')\n",
      "for db in cur.fetchall():\n",
      "    print db"
     ],
     "language": "python",
     "prompt_number": 45
    },
    {
     "cell_type": "code",
     "execution_count": null,
     "metadata": {},
     "outputs": [],
     "input": [
      "args['search_db'] = 'p7_platform.wgs_comgen_variant'"
     ],
     "language": "python",
     "prompt_number": 11
    },
    {
     "cell_type": "heading",
     "metadata": {},
     "level": 2,
     "source": [
      "'search_db_cols'"
     ]
    },
    {
     "cell_type": "markdown",
     "metadata": {},
     "source": [
      "Enter the columns to return from the search database ('search_db'). Reducing the number of columns return will speed up your query, so this is recommended for larger queries. \n",
      "\n",
      "Example:  \n",
      "'search_ db _ cols':''chrom,start,stop,ref,alt,subject_id'  \n",
      "'search_ db _ cols':'all\"\n"
     ]
    },
    {
     "cell_type": "code",
     "execution_count": null,
     "metadata": {},
     "outputs": [],
     "input": [
      "args['search_db_cols'] = 'all'"
     ],
     "language": "python",
     "prompt_number": 12
    },
    {
     "cell_type": "heading",
     "metadata": {},
     "level": 2,
     "source": [
      "'annot_db'"
     ]
    },
    {
     "cell_type": "markdown",
     "metadata": {},
     "source": [
      "Enter the annotation source you would like to use as databaseName.tableName format. Choose from the following list: \n",
      "\n",
      "Example:  \n",
      "\n",
      "'annot_db':'clinvar'"
     ]
    },
    {
     "cell_type": "code",
     "execution_count": null,
     "metadata": {},
     "outputs": [
      {
       "output_type": "stream",
       "stream": "stdout",
       "text": [
        "('bv_ensembl',)\n('bv_genes',)\n('clinvar',)\n('clinvar_summary',)\n('cytoband',)\n('dann',)\n('dbsnp',)\n('ensembl_genes',)\n('esp_exomes',)\n('go_goa',)\n('kaviar',)\n('mirbase',)\n('nbs_candidates',)\n('pfam_clans',)\n('pfam_regions',)\n('refseq',)\n('refseq_map',)\n('repeatmasker',)\n('ucsc_genomicsuperdups',)\n('ucsc_kgxref',)\n('ucsc_knowngene',)\n('uniprot',)\n"
       ]
      }
     ],
     "input": [
      "# select a particular database to use\n",
      "cur.execute('USE public_hg19')\n",
      "# view tables in selected database \n",
      "# if no db is selected, you will see tables in default db\n",
      "cur.execute('SHOW TABLES')\n",
      "for db in cur.fetchall():\n",
      "    print db"
     ],
     "language": "python",
     "prompt_number": 13
    },
    {
     "cell_type": "code",
     "execution_count": null,
     "metadata": {},
     "outputs": [],
     "input": [
      "args['annot_db'] = 'public_hg19.ensembl_genes'"
     ],
     "language": "python",
     "prompt_number": 14
    },
    {
     "cell_type": "heading",
     "metadata": {},
     "level": 2,
     "source": [
      "'annot_db_cols'"
     ]
    },
    {
     "cell_type": "markdown",
     "metadata": {},
     "source": [
      "Enter the columns to return from the annotation database ('annot_db'). Reducing the number of columns return will speed up your query, so this is recommended for larger queries. \n",
      "\n",
      "Example:  \n",
      "'annot_ db_ cols':''gene_name'  \n",
      "'annot_ db_ cols':'all\""
     ]
    },
    {
     "cell_type": "code",
     "execution_count": null,
     "metadata": {},
     "outputs": [],
     "input": [
      "args['annot_db_cols'] = 'gene_name'"
     ],
     "language": "python",
     "prompt_number": 15
    },
    {
     "cell_type": "heading",
     "metadata": {},
     "level": 2,
     "source": [
      "'query_type'"
     ]
    },
    {
     "cell_type": "markdown",
     "metadata": {},
     "source": [
      "Specify whether you want to use annot_db to filter or annotate your data set. \n",
      "\n",
      "If filtering, only results from your data set that have hits the annot_db will be returned. If annotating, your results will contain all of your data set with anntoations from the annot_db where they exist. \n",
      "\n",
      "Options:  \n",
      "'query_type':'annotation'  \n",
      "'query_type':'filter'  "
     ]
    },
    {
     "cell_type": "code",
     "execution_count": null,
     "metadata": {},
     "outputs": [],
     "input": [
      "args['query_type'] = 'annot'"
     ],
     "language": "python",
     "prompt_number": 16
    },
    {
     "cell_type": "heading",
     "metadata": {},
     "level": 2,
     "source": [
      "Additional parameters"
     ]
    },
    {
     "cell_type": "markdown",
     "metadata": {},
     "source": [
      "Certain tables, such as kaviar, require additional custom parameters that you may enter here. Uncomment relevant arguments, if you would like to use additional arguments that are not listed here, please contact me (Summer) at selasady@systemsbiology.org. "
     ]
    },
    {
     "cell_type": "code",
     "execution_count": null,
     "metadata": {},
     "outputs": [],
     "input": [
      "#specify kaviar frequency cutoff as '10' for 10%\n",
      "#kaviar = '10'\n",
      "\n",
      "#keep only non-conflicted significant clinvar variants\n",
      "#this will keep clinvar variants rated 4 or 5, but never 2 or 3\n",
      "#clinvar = 'significant'"
     ],
     "language": "python"
    },
    {
     "cell_type": "heading",
     "metadata": {},
     "level": 2,
     "source": [
      "'output'"
     ]
    },
    {
     "cell_type": "markdown",
     "metadata": {},
     "source": [
      "Results of your query are automatically downloaded into a pandas table. If you would also like to save your output to impala as a table or as a tsv file, select from the following options. \n",
      "\n",
      "Options:  \n",
      "'output':'tsv'  \n",
      "'output':'impala_table'  "
     ]
    },
    {
     "cell_type": "code",
     "execution_count": null,
     "metadata": {},
     "outputs": [],
     "input": [
      "args['output'] = 'impala_table'\n",
      "\n",
      "#if saving as file, enter desired output file name as file_name.csv\n",
      "#and uncomment the following line\n",
      "output_file_name = \"test_results.csv\"\n",
      "\n",
      "#if saving as impala table, enter desired table name as database_name.table_name \n",
      "#and uncomment the following line\n",
      "output_db_name = \"users_selasady.test_results\""
     ],
     "language": "python",
     "prompt_number": 41
    },
    {
     "cell_type": "heading",
     "metadata": {},
     "level": 2,
     "source": [
      "Process User Arguments"
     ]
    },
    {
     "cell_type": "code",
     "execution_count": null,
     "metadata": {},
     "outputs": [],
     "input": [
      "############################\n",
      "## Process user arguments ##\n",
      "############################\n",
      "\n",
      "# separate wildcards from args\n",
      "def find_wildcards(user_arg):\n",
      "    user_args = []\n",
      "    wildcards = []\n",
      "    #seperate user args by comma\n",
      "    arg_list = user_arg.replace(\"'\", \"\").split(',')\n",
      "    for arg in arg_list:\n",
      "        if arg.endswith('%'):\n",
      "            wildcards.append(arg)\n",
      "        else:\n",
      "            user_args.append(arg)\n",
      "    return user_args, wildcards\n",
      "\n",
      "# function to turn arg_list and wild_list into statements\n",
      "def process_args(arg_list, wild_list, name_arg, arg_db):\n",
      "    # if there is only one user arg\n",
      "    if (len(arg_list) == 1 and len(wild_list) == 0):\n",
      "        query_args = \"AND {}.{} = '{}'\".format(arg_db, name_arg, ', '.join(str(e) for e in arg_list))\n",
      "    # if there are more than one user arguments\n",
      "    elif (len(arg_list) > 1 and len(wild_list) == 0):\n",
      "        query_args = \"AND ({})\".format(\" OR \".join(\"{}.{} = '{}'\".format(arg_db, name_arg, s) for s in arg_list))\n",
      "    # if there is only one wildcard\n",
      "    elif (len(wild_list) == 1 and len(arg_list) == 0):\n",
      "         query_args = \"AND {}.{} LIKE '{}'\".format(arg_db, name_arg, ', '.join(str(e) for e in wild_list))\n",
      "    # if there are more than one wildcards\n",
      "    elif (len(wild_list) > 1 and len(arg_list) == 0):\n",
      "        query_args = \"AND ({})\".format(\" OR \".join(\"{}.{} LIKE '{}'\".format(arg_db, name_arg, s) for s in wild_list))\n",
      "    # if there are more than one wildcard and more than one user arg\n",
      "    elif (len(arg_list) > 1 and len(wild_list) > 1):\n",
      "        reg_args = \"AND ({})\".format(\" OR \".join(\"{}.{} = '{}'\".format(arg_db, name_arg, s) for s in arg_list))\n",
      "        wild_args = \"AND ({})\".format(\" OR \".join(\"{}.{} LIKE '{}'\".format(arg_db, name_arg, s) for s in wild_list))\n",
      "        query_args = (reg_args + \" \" + wild_args).replace(' AND ', ' OR ', 2) + \")\"\n",
      "    # if there is one of each\n",
      "    elif (len(arg_list) == 1 and len(wild_list) == 1):\n",
      "        reg_args = \"AND {}.{} = '{}'\".format(arg_db, name_arg, ', '.join(str(e) for e in arg_list))\n",
      "        wild_args = \"AND {}.{} LIKE '{}'\".format(arg_db, name_arg, ', '.join(str(e) for e in wild_list))\n",
      "        query_args = (reg_args + \" \" + wild_args).replace(') AND (', ' OR ', 1)\n",
      "    else:\n",
      "        print \"Length of arg_list = \" + str(len(arg_list))\n",
      "        print \"Length of wild_list = \" + str(len(wild_list))\n",
      "        print \"Check your {0} argument and try again.\".format(name_arg)\n",
      "    return query_args\n",
      "\n",
      "# run above function on user args\n",
      "def create_query(argument, arg_name, arg_db):\n",
      "    if argument != 'all':\n",
      "        arg_list, wild_list = find_wildcards(argument)\n",
      "        arg_query = process_args(arg_list, wild_list, arg_name, arg_db)\n",
      "    else:\n",
      "        arg_query = ''\n",
      "    return arg_query"
     ],
     "language": "python",
     "prompt_number": 18
    },
    {
     "cell_type": "heading",
     "metadata": {},
     "level": 3,
     "source": [
      "Create combined user argument"
     ]
    },
    {
     "cell_type": "code",
     "execution_count": null,
     "metadata": {},
     "outputs": [
      {
       "output_type": "stream",
       "stream": "stdout",
       "text": [
        "WHERE (p7_platform.wgs_comgen_variant.sample_id = '%M' OR p7_platform.wgs_comgen_variant.sample_id = '%F' OR p7_platform.wgs_comgen_variant.sample_id = '%NB') AND (public_hg19.ensembl_genes.gene_name = 'BRCA1' OR public_hg19.ensembl_genes.gene_name = 'TRT1') OR (public_hg19.ensembl_genes.gene_name LIKE 'SON%' OR public_hg19.ensembl_genes.gene_name LIKE 'HOX%')) AND p7_platform.wgs_comgen_variant.gt = 'hom' AND p7_platform.wgs_comgen_variant.chrom = '8'\n"
       ]
      }
     ],
     "input": [
      "# assign user args to a variable\n",
      "locals().update(args)\n",
      "\n",
      "# create members argument\n",
      "member_query = create_query(members,\"sample_id\", search_db)\n",
      "\n",
      "# create subject_id argument\n",
      "subject_query = create_query(subject_id,\"sample_id\", search_db)\n",
      "\n",
      "# create genes argument\n",
      "genes_query = create_query(genes,\"gene_name\", annot_db)\n",
      "\n",
      "# create genotype argument\n",
      "gt_query = create_query(gt,\"gt\", search_db)\n",
      "\n",
      "# create chromosome argument\n",
      "chrom_query = create_query(chrom,\"chrom\", search_db)\n",
      "\n",
      "# list to store final query object\n",
      "final_query = []\n",
      "\n",
      "# merge query arguments\n",
      "def merge_query(query_arg, merge_list):\n",
      "    if query_arg:\n",
      "        merge_list.append(query_arg)\n",
      "    impala_query= ' '.join(merge_list).replace('AND', 'WHERE', 1)\n",
      "    return impala_query\n",
      " \n",
      "# create list to apply function on   \n",
      "query_list = [member_query, subject_query, genes_query, gt_query,chrom_query]\n",
      "\n",
      "# apply function to list of query statements\n",
      "for query in query_list:\n",
      "    merge_query(query, final_query)\n",
      "\n",
      "print impala_query\n"
     ],
     "language": "python",
     "prompt_number": 50
    },
    {
     "cell_type": "heading",
     "metadata": {},
     "level": 1,
     "source": [
      "Create Query"
     ]
    },
    {
     "cell_type": "code",
     "execution_count": null,
     "metadata": {},
     "outputs": [
      {
       "output_type": "stream",
       "stream": "stdout",
       "text": [
        "SELECT p7_platform.wgs_comgen_variant.*, public_hg19.ensembl_genes.gene_name FROM p7_platform.wgs_comgen_variant LEFT JOIN public_hg19.ensembl_genes USING (start,stop) WHERE (p7_platform.wgs_comgen_variant.start >= public_hg19.ensembl_genes.start AND p7_platform.wgs_comgen_variant.stop <= public_hg19.ensembl_genes.stop) AND (p7_platform.wgs_comgen_variant.sample_id = '%M' OR p7_platform.wgs_comgen_variant.sample_id = '%F' OR p7_platform.wgs_comgen_variant.sample_id = '%NB') AND (public_hg19.ensembl_genes.gene_name = 'BRCA1' OR public_hg19.ensembl_genes.gene_name = 'TRT1') OR (public_hg19.ensembl_genes.gene_name LIKE 'SON%' OR public_hg19.ensembl_genes.gene_name LIKE 'HOX%')) AND p7_platform.wgs_comgen_variant.gt = 'hom' AND p7_platform.wgs_comgen_variant.chrom = '8'\n"
       ]
      }
     ],
     "input": [
      "# function to create list of columns to return\n",
      "def get_cols(db, col_arg):\n",
      "    '''\n",
      "    :param db: name of database to return columns from (search_db or annot_db)\n",
      "    :param col_arg: name of variable containing a list of column names to return\n",
      "    :return: list of columns to add to a SELECT columns FROM statement\n",
      "    '''\n",
      "    if col_arg == 'all':\n",
      "        col_query = '{0}.*'.format(db)\n",
      "    else:\n",
      "        col_list = col_arg.replace(\"'\", \"\").split(',')\n",
      "        if col_list:\n",
      "            for col in col_list:\n",
      "                cols = [\"{0}.\".format(db) + s for s in col_list]\n",
      "                col_query = \",\".join(map(str, cols))\n",
      "        elif len(col_list) == 1:\n",
      "            col_query = \"{0}.\".format(db) + \",\".join(map(str, col_list))\n",
      "        else:\n",
      "            print \"Check your search_db_cols and annot_db_cols arguments and try again please.\"\n",
      "            col_query = ''\n",
      "    return col_query\n",
      "\n",
      "# merge all query statements \n",
      "col_statement = get_cols(search_db, search_db_cols) + \", \" + get_cols(annot_db, annot_db_cols)\n",
      "\n",
      "\n",
      "# check if tables contain start/stop or pos, and ref columns\n",
      "def check_colnames(cursor, table_name, print_out=True):\n",
      "    cur.execute('DESCRIBE {0}'.format(table_name))\n",
      "    info = cur.fetchall()\n",
      "    cols = []\n",
      "    for col in info:\n",
      "         cols.append(col[0])\n",
      "    return cols\n",
      "\n",
      "# list columns in selected databases\n",
      "annot_cols = check_colnames(cur, annot_db, print_out=True)\n",
      "platform_cols = check_colnames(cur, search_db, print_out=True)\n",
      "\n",
      "# function to match cgi with annot_db\n",
      "def join_annot_to_cgi(annot_db):\n",
      "    # check for ref columns\n",
      "    if 'ref' in annot_cols:\n",
      "        # if there is a start column \n",
      "        if 'start' in annot_cols:\n",
      "            # if there is a stop position reported\n",
      "            if 'stop' in annot_cols:\n",
      "                using_statement = \"USING (start,stop,ref,alt)\"\n",
      "                match_statement = \" AND {0}.start = {1}.start AND {0}.stop = {1}.stop AND {0}.ref = {1}.ref AND { \\\n",
      "                                  0}.alt = {1}.alt \".format(search_db, annot_db)\n",
      "            # there is start but no stop position\n",
      "            else:\n",
      "                using_statement = \"USING (start,ref,alt)\"\n",
      "                match_statement = \" AND {0}.start = {1}.start AND {0}.ref = {1}.ref AND { \\\n",
      "                                  0}.alt = {1}.alt \".format(search_db, annot_db)\n",
      "        # there is pos column instead of start\n",
      "        elif 'pos' in annot_cols:\n",
      "            using_statement = \"USING (pos,ref,alt)\"\n",
      "            match_statement = \" AND ({1}.pos BETWEEN {0}.start AND {0}.stop) AND {0}.ref = {1}.ref \\\n",
      "            AND {0}.alt = {1}.alt \".format(search_db, annot_db)\n",
      "    elif 'ref' not in annot_cols:\n",
      "        # if there is a start column \n",
      "        if 'start' in annot_cols:\n",
      "            # if there is a stop position reported\n",
      "            if 'stop' in annot_cols:\n",
      "                using_statement = \"USING (start,stop)\"\n",
      "                match_statement = \" AND ({0}.start >= {1}.start AND {0}.stop <= {1}.stop) \".format(search_db, annot_db)\n",
      "            # there is start but no stop position\n",
      "            else:\n",
      "                using_statement = \"USING (start)\"\n",
      "                match_statement = \" AND {0}.start = {1}.start \".format(search_db, annot_db)\n",
      "        # there is pos column instead of start\n",
      "        elif 'pos' in annot_cols:\n",
      "            using_statement = \"USING (pos)\"\n",
      "            match_statement = \" AND ({1}.pos BETWEEN {0}.start AND {0}.stop) \".format(search_db, annot_db)\n",
      "    # if no start, stop or pos, match on gene name\n",
      "    elif 'gene_name' in annot_cols:\n",
      "        using_statement = \"USING (gene_name)\"\n",
      "        match_statement = \" AND {0}.gene_name = {1}.gene_name \".format(search_db, annot_db)\n",
      "    else:\n",
      "        print \"Cannot find method for joining tables.\"\n",
      "    return using_statement,match_statement\n",
      "\n",
      "# function to match illumina with annot_db\n",
      "def join_annot_to_illumina(annot_db):\n",
      "    # check for ref columns\n",
      "    if 'ref' in annot_cols:\n",
      "        # if there is a start column \n",
      "        if 'start' in annot_cols:\n",
      "            # if there is a stop position reported\n",
      "            if 'stop' in annot_cols:\n",
      "                using_statement = \"USING (start,stop,ref,alt)\"\n",
      "                match_statement = \" AND ({0}.pos BETWEEN {1}.start AND {1}.stop) AND {0}.ref = {1}.ref \\\n",
      "                                  AND {0}.alt = {1}.alt \".format(search_db, annot_db)\n",
      "            # there is start but no stop position\n",
      "            else:\n",
      "                using_statement = \"USING (start,ref,alt)\"\n",
      "                match_statement = \" AND {0}.pos = {1}.start AND {0}.ref = {1}.ref AND { \\\n",
      "                                  0}.alt = {1}.alt \".format(search_db, annot_db)\n",
      "        # there is pos column instead of start\n",
      "        elif 'pos' in annot_cols:\n",
      "            using_statement = \"USING (pos,ref,alt)\"\n",
      "            match_statement = \" AND {0}.pos = {1}.pos AND {0}.ref = {1}.ref \\\n",
      "            AND {0}.alt = {1}.alt \".format(search_db, annot_db)\n",
      "    elif 'ref' not in annot_cols:\n",
      "        # if there is a start column \n",
      "        if 'start' in annot_cols:\n",
      "            # if there is a stop position reported\n",
      "            if 'stop' in annot_cols:\n",
      "                using_statement = \"USING (start,stop)\"\n",
      "                match_statement = \" AND ({0}.pos BETWEEN {1}.start AND {1}.stop) \".format(search_db,annot_db)\n",
      "            # there is start but no stop position\n",
      "            else:\n",
      "                using_statement = \"\"\n",
      "                match_statement = \" AND {0}.pos = {1}.start \".format(search_db, annot_db)\n",
      "        # there is pos column instead of start\n",
      "        elif 'pos' in annot_cols:\n",
      "            using_statement = \"USING (pos)\"\n",
      "            match_statement = \" AND {0}.pos = {1}.pos \".format(search_db, annot_db)\n",
      "    # if no start, stop or pos, match on gene name\n",
      "    elif 'gene_name' in annot_cols:\n",
      "        using_statement = \"USING (gene_name)\"\n",
      "        match_statement = \" AND {0}.gene_name = {1}.gene_name \".format(search_db, annot_db)\n",
      "    else:\n",
      "        print \"Cannot find method for joining tables.\"\n",
      "        using_statement = \"\" \n",
      "        match_statement = \"\"\n",
      "    return using_statement, match_statement\n",
      "\n",
      "if platform == 'cgi':\n",
      "    using_match, table_match= join_annot_to_cgi(annot_db)\n",
      "elif platform == 'illumina':\n",
      "    using_match, table_match= join_annot_to_illumina(annot_db)\n",
      "else:\n",
      "    \"Check your arguments for search_db, annot_db and platform.\"\n",
      "\n",
      "# create inner or left join query\n",
      "if query_type == 'annot':\n",
      "    frankenquery = \"SELECT {} FROM {} LEFT JOIN {} \".format(col_statement, search_db, annot_db) + using_match + table_match.replace('AND', \"WHERE\", 1) + \\\n",
      "                impala_query.replace(\"WHERE\", \"AND\", 1)\n",
      "if query_type == 'filter':\n",
      "    frankenquery = \"SELECT {} FROM {}, {} \".format(col_statement, search_db, annot_db) + impala_query + table_match\n",
      "    \n",
      "print frankenquery"
     ],
     "language": "python",
     "prompt_number": 46
    },
    {
     "cell_type": "heading",
     "metadata": {},
     "level": 2,
     "source": [
      "Run Query on impala"
     ]
    },
    {
     "cell_type": "code",
     "execution_count": null,
     "metadata": {},
     "outputs": [
      {
       "output_type": "stream",
       "stream": "stdout",
       "text": [
        "testing\n"
       ]
      }
     ],
     "input": [
      "import os\n",
      "import datetime\n",
      "from pandas.io import sql\n",
      "from impala.util import as_pandas\n",
      "# execute query\n",
      "# cur.execute(query_and_join)\n",
      "# \n",
      "# # store results as pandas table\n",
      "# query_results = as_pandas(cur)\n",
      "\n",
      "\n",
      "test_query = \"SELECT * FROM public_hg19.clinvar LIMIT 5\"\n",
      "cur.execute(test_query)\n",
      "query_results = as_pandas(cur)"
     ],
     "language": "python",
     "prompt_number": 38
    },
    {
     "cell_type": "heading",
     "metadata": {},
     "level": 2,
     "source": [
      "Save Results"
     ]
    },
    {
     "cell_type": "code",
     "execution_count": null,
     "metadata": {},
     "outputs": [],
     "input": [
      "if output == 'tsv':\n",
      "    print \"Saving results to a tsv file as {}/{}\".format(os.getcwd(), output_file_name)\n",
      "    query_results.to_csv(\"{}/{}\".format(os.getcwd(), output_file_name), sep='\\t', index=False)\n",
      "elif output == 'impala_table':\n",
      "    print \"Saving results to an impala table called {}\".format(output_db_name)\n",
      "    cur.execute(\"CREATE TABLE {} AS {}\".format(output_db_name, test_query))\n",
      "elif output == 'both':\n",
      "    print \"Saving results to a tsv file as {}/{}\".format(os.getcwd(), output_file_name)\n",
      "    query_results.to_csv(\"{}/{}\".format(os.getcwd(), output_file_name), sep='\\t', index=False)\n",
      "    print \"Saving results to an impala table called {}\".format(output_db_name)\n",
      "    cur.execute(\"CREATE TABLE {} AS {}\".format(output_db_name, test_query))\n",
      "else: \n",
      "    print \"Check your argument(s) for 'output' and try again.\""
     ],
     "language": "python"
    },
    {
     "cell_type": "markdown",
     "metadata": {},
     "source": [
      "TO DO:  \n"
     ]
    },
    {
     "cell_type": "markdown",
     "metadata": {},
     "source": [
      "- Add additional filters/annotations such as kaviar pct\n",
      "- Test with text files for subject and gene\n",
      "- Test with different parameters\n",
      "- Add to __main__module and clean up layout\n",
      "- Test again"
     ]
    },
    {
     "cell_type": "code",
     "execution_count": null,
     "metadata": {},
     "outputs": [],
     "input": [
      "cur.close()"
     ],
     "language": "python",
     "prompt_number": 241
    },
    {
     "cell_type": "code",
     "execution_count": null,
     "metadata": {},
     "outputs": [],
     "input": [
      ""
     ],
     "language": "python"
    }
   ]
  }
 ],
 "cells": [],
 "metadata": {},
 "nbformat": 3,
 "nbformat_minor": 0
}