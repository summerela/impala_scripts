{
 "worksheets": [
  {
   "cells": [
    {
     "cell_type": "heading",
     "metadata": {},
     "level": 1,
     "source": [
      "Impala Variant Query Template"
     ]
    },
    {
     "cell_type": "markdown",
     "metadata": {},
     "source": [
      "Use the following template to query impala and save the results as either a tsv file or an impala table for futher analysis.  "
     ]
    },
    {
     "cell_type": "heading",
     "metadata": {},
     "level": 2,
     "source": [
      "Query Parameters"
     ]
    },
    {
     "cell_type": "markdown",
     "metadata": {},
     "source": [
      "To search for all variables in a field without restrictions, use 'all' as your argument, otherwise: "
     ]
    },
    {
     "cell_type": "heading",
     "metadata": {},
     "level": 2,
     "source": [
      "'members'"
     ]
    },
    {
     "cell_type": "markdown",
     "metadata": {},
     "source": [
      "This option is platform specific. \n",
      "\n",
      "Illumina:   \n",
      "\n",
      "- To search in all family members, including extended family, enter 'all'  \n",
      "- To search for all NB, enter '%NB'  \n",
      "- To search for all Mothers, enter '%M'  \n",
      "- To search for all Fathers, enter '%F'  \n",
      "- To search only in nuclear trios, enter '%M,%F,%NB'  \n",
      "\n",
      "CGI:  \n",
      "\n",
      "- To search for all family members including extended family, enter 'all'  \n",
      "- To search for all NB, enter '%03'  \n",
      "- To search for all Mothers, enter '%01'  \n",
      "- To search for all Fathers, enter '%02'  \n",
      "- To search only in nuclear trios, enter '%01,%02,%03'  \n",
      "\n",
      "Example:  \n",
      "\n",
      "'members': '%M,%F,%NB'   \n",
      "'members':'%01,%02,%03'   "
     ]
    },
    {
     "cell_type": "code",
     "execution_count": null,
     "metadata": {},
     "outputs": [
      {
       "output_type": "stream",
       "stream": "stdout",
       "text": [
        "{'members': '%M,%F,%NB'}\n"
       ]
      }
     ],
     "input": [
      "args = {\n",
      "    'members':'%M,%F,%NB'\n",
      "}"
     ],
     "language": "python",
     "prompt_number": 31
    },
    {
     "cell_type": "heading",
     "metadata": {},
     "level": 2,
     "source": [
      "'subject_id'"
     ]
    },
    {
     "cell_type": "markdown",
     "metadata": {},
     "source": [
      "This option is platform specific; make sure to enter subject id's in the format that matches your specfiied platform. \n",
      "\n",
      "- For all subjects in Study 101, enter '101%'  \n",
      "- For all subjects in Study 102, enter '102%'  \n",
      "- For all subjects in Study 103, enter '103%'  \n",
      "- For all studies, enter 'all'  \n",
      "\n",
      "Example:\n",
      "- 'subject_id':'101%'\n",
      "- 'subject_id':'all\""
     ]
    },
    {
     "cell_type": "code",
     "execution_count": null,
     "metadata": {},
     "outputs": [],
     "input": [
      "args['subject_id'] = 'all'"
     ],
     "language": "python",
     "prompt_number": 33
    },
    {
     "cell_type": "heading",
     "metadata": {},
     "level": 2,
     "source": [
      "'genes'"
     ]
    },
    {
     "cell_type": "markdown",
     "metadata": {},
     "source": [
      "- List of genes, enter as comma-separaterd list with no spaces: 'GENE1,GENE2,GENE3'  \n",
      "- Text file of genes of interest: enter file path and name to text file containing one gene per line  \n",
      "- For all genes, enter 'all'  \n",
      "\n",
      "Example:  \n",
      "'genes':'HOX%,TRT1'"
     ]
    },
    {
     "cell_type": "code",
     "execution_count": null,
     "metadata": {},
     "outputs": [],
     "input": [
      "args['genes'] = 'BRCA1,TRT1,SON%,HOX%'"
     ],
     "language": "python",
     "prompt_number": 38
    },
    {
     "cell_type": "heading",
     "metadata": {},
     "level": 2,
     "source": [
      "'gt'"
     ]
    },
    {
     "cell_type": "markdown",
     "metadata": {},
     "source": [
      "This option is platform specific. Enter your genotpe(s) of interest.   \n",
      "\n",
      "lllumina:   \n",
      "- Homozygous reference = '0/0'  \n",
      "- Homozygous alternate = '1/1'  \n",
      "- Heterozygous = '0/1'  \n",
      "- All genotypes = 'all'   \n",
      "\n",
      "Example:  \n",
      "'gt':'0/0'  \n",
      "\n",
      "CGI:   \n",
      "- Homozygous  = 'hom'  \n",
      "- Heterozygous = 'het-ref' and 'het-alt'  \n",
      "- All genotypes = 'all'  \n",
      "\n",
      "Example:  \n",
      "'gt':'hom'"
     ]
    },
    {
     "cell_type": "code",
     "execution_count": null,
     "metadata": {},
     "outputs": [
      {
       "output_type": "stream",
       "stream": "stdout",
       "text": [
        "{'gt': 'hom', 'subject_id': 'all', 'genes': 'BRCA1,TRT1,SON%,HOX%', 'members': '%M,%F,%NB'}\n"
       ]
      }
     ],
     "input": [
      "args['gt'] = 'hom'"
     ],
     "language": "python",
     "prompt_number": 47
    },
    {
     "cell_type": "heading",
     "metadata": {},
     "level": 2,
     "source": [
      "'chrom'"
     ]
    },
    {
     "cell_type": "markdown",
     "metadata": {},
     "source": [
      "If your search is restricted to a certain chromosome, enter it here.    \n",
      "\n",
      "Examples:  \n",
      "'chrom':'8'  \n",
      "'chrom':'8,9'  "
     ]
    },
    {
     "cell_type": "code",
     "execution_count": null,
     "metadata": {},
     "outputs": [],
     "input": [
      "args['chrom'] = '8'"
     ],
     "language": "python",
     "prompt_number": 50
    },
    {
     "cell_type": "heading",
     "metadata": {},
     "level": 2,
     "source": [
      "'platform'"
     ]
    },
    {
     "cell_type": "markdown",
     "metadata": {},
     "source": [
      "Available options:  \n",
      "\n",
      "'platform':'cgi'  \n",
      "'platform':'illumina'  "
     ]
    },
    {
     "cell_type": "code",
     "execution_count": null,
     "metadata": {},
     "outputs": [],
     "input": [
      "args['platform'] = 'cgi'"
     ],
     "language": "python",
     "prompt_number": 55
    },
    {
     "cell_type": "heading",
     "metadata": {},
     "level": 2,
     "source": [
      "'search_db'"
     ]
    },
    {
     "cell_type": "markdown",
     "metadata": {},
     "source": [
      "Enter the database where your genomes/variants of interest are located as databaseName.tableName format. \n",
      "\n",
      "Example:  \n",
      "'search_db':'p7_platform.wgs_comgen_variant'\n",
      "\n",
      "Choose from one of the following tables: "
     ]
    },
    {
     "cell_type": "code",
     "execution_count": null,
     "metadata": {},
     "outputs": [
      {
       "output_type": "stream",
       "stream": "stdout",
       "text": [
        "('brady_variant',)\n('illumina_450k_crystal',)\n('itmi_102_puzzle',)\n('itmi_450k_crystal',)\n('itmi_mapping',)\n('variant_summary',)\n('wgs_comgen_variant',)\n('wgs_illumina_variant',)\n"
       ]
      }
     ],
     "input": [
      "from impala.dbapi import connect\n",
      "\n",
      "# to connect to specific database, use the database argument\n",
      "conn=connect(host='glados19', port=21050, database=\"public_hg19\")\n",
      "\n",
      "# create a cursor object to interact with the db\n",
      "cur = conn.cursor()\n",
      "\n",
      "# select a particular database to use\n",
      "cur.execute('USE p7_platform')\n",
      "# view tables in selected database \n",
      "# if no db is selected, you will see tables in default db\n",
      "cur.execute('SHOW TABLES')\n",
      "for db in cur.fetchall():\n",
      "    print db"
     ],
     "language": "python",
     "prompt_number": 62
    },
    {
     "cell_type": "code",
     "execution_count": null,
     "metadata": {},
     "outputs": [],
     "input": [
      "args['search_db'] = 'p7_platform.wgs_comgen_variant'"
     ],
     "language": "python",
     "prompt_number": 63
    },
    {
     "cell_type": "heading",
     "metadata": {},
     "level": 2,
     "source": [
      "'search_db_cols'"
     ]
    },
    {
     "cell_type": "markdown",
     "metadata": {},
     "source": [
      "Enter the columns to return from the search database ('search_db'). Reducing the number of columns return will speed up your query, so this is recommended for larger queries. \n",
      "\n",
      "Example:  \n",
      "'search_ db _ cols':''chrom,start,stop,ref,alt,subject_id'  \n",
      "'search_ db _ cols':'all\"\n"
     ]
    },
    {
     "cell_type": "code",
     "execution_count": null,
     "metadata": {},
     "outputs": [],
     "input": [
      "args['search_db_cols'] = 'all'"
     ],
     "language": "python",
     "prompt_number": 263
    },
    {
     "cell_type": "heading",
     "metadata": {},
     "level": 2,
     "source": [
      "'annot_db'"
     ]
    },
    {
     "cell_type": "markdown",
     "metadata": {},
     "source": [
      "Enter the annotation source you would like to use as databaseName.tableName format. Choose from the following list: \n",
      "\n",
      "Example:  \n",
      "\n",
      "'annot_db':'clinvar'"
     ]
    },
    {
     "cell_type": "code",
     "execution_count": null,
     "metadata": {},
     "outputs": [
      {
       "output_type": "stream",
       "stream": "stdout",
       "text": [
        "('clinvar',)\n('clinvar_summary',)\n('cytoband',)\n('dann',)\n('dbsnp',)\n('ensembl_genes',)\n('esp_exomes',)\n('go_goa',)\n('kaviar',)\n('mirbase',)\n('pfam_clans',)\n('pfam_regions',)\n('refseq',)\n('refseq_map',)\n('repeatmasker',)\n('ucsc_genomicsuperdups',)\n('ucsc_kgxref',)\n('ucsc_knowngene',)\n('uniprot',)\n"
       ]
      }
     ],
     "input": [
      "# select a particular database to use\n",
      "cur.execute('USE public_hg19')\n",
      "# view tables in selected database \n",
      "# if no db is selected, you will see tables in default db\n",
      "cur.execute('SHOW TABLES')\n",
      "for db in cur.fetchall():\n",
      "    print db"
     ],
     "language": "python",
     "prompt_number": 65
    },
    {
     "cell_type": "code",
     "execution_count": null,
     "metadata": {},
     "outputs": [],
     "input": [
      "args['annot_db'] = 'public_hg19.ensembl_genes'"
     ],
     "language": "python",
     "prompt_number": 265
    },
    {
     "cell_type": "heading",
     "metadata": {},
     "level": 2,
     "source": [
      "'annot_db_cols'"
     ]
    },
    {
     "cell_type": "markdown",
     "metadata": {},
     "source": [
      "Enter the columns to return from the annotation database ('annot_db'). Reducing the number of columns return will speed up your query, so this is recommended for larger queries. \n",
      "\n",
      "Example:  \n",
      "'annot_ db_ cols':''gene_name'  \n",
      "'annot_ db_ cols':'all\""
     ]
    },
    {
     "cell_type": "code",
     "execution_count": null,
     "metadata": {},
     "outputs": [],
     "input": [
      "args['annot_db_cols'] = 'gene_name'"
     ],
     "language": "python",
     "prompt_number": 67
    },
    {
     "cell_type": "heading",
     "metadata": {},
     "level": 2,
     "source": [
      "'query_type'"
     ]
    },
    {
     "cell_type": "markdown",
     "metadata": {},
     "source": [
      "Specify whether you want to use annot_db to filter or annotate your data set. \n",
      "\n",
      "If filtering, only results from your data set that have hits the annot_db will be returned. If annotating, your results will contain all of your data set with anntoations from the annot_db where they exist. \n",
      "\n",
      "Options:  \n",
      "'query_type':'annotation'  \n",
      "'query_type':'filter'  "
     ]
    },
    {
     "cell_type": "code",
     "execution_count": null,
     "metadata": {},
     "outputs": [],
     "input": [
      "args['query_type'] = 'annot'"
     ],
     "language": "python",
     "prompt_number": 267
    },
    {
     "cell_type": "heading",
     "metadata": {},
     "level": 2,
     "source": [
      "'output'"
     ]
    },
    {
     "cell_type": "markdown",
     "metadata": {},
     "source": [
      "Results of your query are automatically downloaded into a pandas table. If you would also like to save your output to impala as a table or as a tsv file, select from the following options. \n",
      "\n",
      "Options:  \n",
      "'output':'tsv'  \n",
      "'output':'impala_table'  "
     ]
    },
    {
     "cell_type": "code",
     "execution_count": null,
     "metadata": {},
     "outputs": [
      {
       "output_type": "stream",
       "stream": "stdout",
       "text": [
        "{'gt': 'hom', 'search_db_cols': 'all', 'search_db': 'p7_platform.wgs_comgen_variant', 'subject_id': 'all', 'genes': 'BRCA1,TRT1,SON%,HOX%', 'output': 'impala_table', 'platform': 'cgi', 'members': '%M,%F,%NB', 'query_type': 'annot', 'annot_db_cols': 'gene_name', 'annot_db': 'public_hg19.ensembl_genes', 'chrom': '8'}\n"
       ]
      }
     ],
     "input": [
      "args['output'] = 'impala_table'"
     ],
     "language": "python",
     "prompt_number": 86
    },
    {
     "cell_type": "heading",
     "metadata": {},
     "level": 2,
     "source": [
      "Process User Arguments"
     ]
    },
    {
     "cell_type": "code",
     "execution_count": null,
     "metadata": {},
     "outputs": [],
     "input": [
      "############################\n",
      "## Process user arguments ##\n",
      "############################\n",
      "\n",
      "# separate wildcards from args\n",
      "def find_wildcards(user_arg):\n",
      "    user_args = []\n",
      "    wildcards = []\n",
      "    #seperate user args by comma\n",
      "    arg_list = user_arg.replace(\"'\", \"\").split(',')\n",
      "    for arg in arg_list:\n",
      "        if arg.endswith('%'):\n",
      "            wildcards.append(arg)\n",
      "        else:\n",
      "            user_args.append(arg)\n",
      "    return user_args, wildcards\n",
      "\n",
      "# function to turn arg_list and wild_list into statements\n",
      "def process_args(arg_list, wild_list, name_arg, arg_db):\n",
      "    # if there is only one user arg\n",
      "    if (len(arg_list) == 1 and len(wild_list) == 0):\n",
      "        query_args = \"AND {}.{} = '{}'\".format(arg_db, name_arg, ', '.join(str(e) for e in arg_list))\n",
      "    # if there are more than one user arguments\n",
      "    elif (len(arg_list) > 1 and len(wild_list) == 0):\n",
      "        query_args = \"AND ({})\".format(\" OR \".join(\"{}.{} = '{}'\".format(arg_db, name_arg, s) for s in arg_list))\n",
      "    # if there is only one wildcard\n",
      "    elif (len(wild_list) == 1 and len(arg_list) == 0):\n",
      "         query_args = \"AND {}.{} LIKE '{}'\".format(arg_db, name_arg, ', '.join(str(e) for e in wild_list))\n",
      "    # if there are more than one wildcards\n",
      "    elif (len(wild_list) > 1 and len(arg_list) == 0):\n",
      "        query_args = \"AND ({})\".format(\" OR \".join(\"{}.{} LIKE '{}'\".format(arg_db, name_arg, s) for s in wild_list))\n",
      "    # if there are more than one wildcard and more than one user arg\n",
      "    elif (len(arg_list) > 1 and len(wild_list) > 1):\n",
      "        reg_args = \"AND ({})\".format(\" OR \".join(\"{}.{} = '{}'\".format(arg_db, name_arg, s) for s in arg_list))\n",
      "        wild_args = \"AND ({})\".format(\" OR \".join(\"{}.{} LIKE '{}'\".format(arg_db, name_arg, s) for s in wild_list))\n",
      "        query_args = (reg_args + \" \" + wild_args).replace(' AND ', ' OR ', 2) + \")\"\n",
      "    # if there is one of each\n",
      "    elif (len(arg_list) == 1 and len(wild_list) == 1):\n",
      "        reg_args = \"AND {}.{} = '{}'\".format(arg_db, name_arg, ', '.join(str(e) for e in arg_list))\n",
      "        wild_args = \"AND {}.{} LIKE '{}'\".format(arg_db, name_arg, ', '.join(str(e) for e in wild_list))\n",
      "        query_args = (reg_args + \" \" + wild_args).replace(') AND (', ' OR ', 1)\n",
      "    else:\n",
      "        print \"Length of arg_list = \" + str(len(arg_list))\n",
      "        print \"Length of wild_list = \" + str(len(wild_list))\n",
      "        print \"Check your {0} argument and try again.\".format(name_arg)\n",
      "    return query_args\n",
      "\n",
      "# run above function on user args\n",
      "def create_query(argument, arg_name, arg_db):\n",
      "    if argument != 'all':\n",
      "        arg_list, wild_list = find_wildcards(argument)\n",
      "        arg_query = process_args(arg_list, wild_list, arg_name, arg_db)\n",
      "    else:\n",
      "        arg_query = ''\n",
      "    return arg_query"
     ],
     "language": "python",
     "prompt_number": 70
    },
    {
     "cell_type": "heading",
     "metadata": {},
     "level": 3,
     "source": [
      "Create combined user argument"
     ]
    },
    {
     "cell_type": "code",
     "execution_count": null,
     "metadata": {},
     "outputs": [],
     "input": [
      "# assign user args to a variable\n",
      "locals().update(args)\n",
      "\n",
      "# create members argument\n",
      "member_query = create_query(members,\"sample_id\", search_db)\n",
      "\n",
      "# create subject_id argument\n",
      "subject_query = create_query(subject_id,\"sample_id\", search_db)\n",
      "\n",
      "# create genes argument\n",
      "genes_query = create_query(genes,\"gene_name\", annot_db)\n",
      "\n",
      "# create genotype argument\n",
      "gt_query = create_query(gt,\"gt\", search_db)\n",
      "\n",
      "# create chromosome argument\n",
      "chrom_query = create_query(chrom,\"chrom\", search_db)\n",
      "\n",
      "# list to store final query object\n",
      "final_query = []\n",
      "\n",
      "# merge query arguments\n",
      "def merge_query(query_arg):\n",
      "    if query_arg:\n",
      "        final_query.append(query_arg)\n",
      " \n",
      "# create list to apply function on   \n",
      "query_list = [member_query, subject_query, genes_query, gt_query,chrom_query]\n",
      "\n",
      "# apply function to list of query statements\n",
      "for query in query_list:\n",
      "    merge_query(query)\n",
      "\n",
      "# create final impala query, replacing first item with WHERE instead of AND\n",
      "impala_query= ' '.join(final_query).replace('AND', 'WHERE', 1)"
     ],
     "language": "python",
     "prompt_number": 91
    },
    {
     "cell_type": "heading",
     "metadata": {},
     "level": 1,
     "source": [
      "Create Query"
     ]
    },
    {
     "cell_type": "code",
     "execution_count": null,
     "metadata": {},
     "outputs": [],
     "input": [
      "# function to create list of columns to return\n",
      "def get_cols(db, col_arg):\n",
      "    if col_arg == 'all':\n",
      "        col_query = '{0}.*'.format(db)\n",
      "    else:\n",
      "        col_list = col_arg.replace(\"'\", \"\").split(',')\n",
      "        if col_list:\n",
      "            for col in col_list:\n",
      "                cols = [\"{0}.\".format(db) + s for s in col_list]\n",
      "                col_query = \",\".join(map(str, cols))\n",
      "        elif len(col_list) == 1:\n",
      "            col_query = \"{0}.\".format(db) + \",\".join(map(str, col_list))\n",
      "        else:\n",
      "            print \"Check your search_db_cols and annot_db_cols arguments and try again please.\"\n",
      "            col_query = ''\n",
      "    return col_query\n",
      "\n",
      "# merge all query statements \n",
      "col_statement = get_cols(search_db, search_db_cols) + \", \" + get_cols(annot_db, annot_db_cols)\n",
      "\n",
      "# write beginning of query\n",
      "inner_start = \"SELECT {} FROM {}, {} \".format(col_statement, search_db, annot_db)\n",
      "left_start = \"SELECT {} FROM {} LEFT JOIN {} \".format(col_statement, search_db, annot_db)\n",
      "\n",
      "# check if tables contain start/stop or pos, and ref columns\n",
      "def get_colnames(cursor, table_name, print_out=True):\n",
      "    cur.execute('DESCRIBE {0}'.format(table_name))\n",
      "    info = cur.fetchall()\n",
      "    cols = []\n",
      "    for col in info:\n",
      "         cols.append(col[0])\n",
      "    return cols\n",
      "\n",
      "# list columns in selected databases\n",
      "annot_cols = get_colnames(cur, annot_db, print_out=True)\n",
      "platform_cols = get_colnames(cur, search_db, print_out=True)\n",
      "\n",
      "# function to match cgi with annot_db\n",
      "def join_annot_to_cgi(annot_db):\n",
      "    # check for ref columns\n",
      "    if 'ref' in annot_cols:\n",
      "        # if there is a start column \n",
      "        if 'start' in annot_cols:\n",
      "            # if there is a stop position reported\n",
      "            if 'stop' in annot_cols:\n",
      "                using_statement = \"USING (start,stop,ref,alt)\"\n",
      "                match_statement = \" AND {0}.start = {1}.start AND {0}.stop = {1}.stop AND {0}.ref = {1}.ref AND { \\\n",
      "                                  0}.alt = {1}.alt \".format(search_db, annot_db)\n",
      "            # there is start but no stop position\n",
      "            else:\n",
      "                using_statement = \"USING (start,ref,alt)\"\n",
      "                match_statement = \" AND {0}.start = {1}.start AND {0}.ref = {1}.ref AND { \\\n",
      "                                  0}.alt = {1}.alt \".format(search_db, annot_db)\n",
      "        # there is pos column instead of start\n",
      "        elif 'pos' in annot_cols:\n",
      "            using_statement = \"USING (pos,ref,alt)\"\n",
      "            match_statement = \" AND ({1}.pos BETWEEN {0}.start AND {0}.stop) AND {0}.ref = {1}.ref \\\n",
      "            AND {0}.alt = {1}.alt \".format(search_db, annot_db)\n",
      "    elif 'ref' not in annot_cols:\n",
      "        # if there is a start column \n",
      "        if 'start' in annot_cols:\n",
      "            # if there is a stop position reported\n",
      "            if 'stop' in annot_cols:\n",
      "                using_statement = \"USING (start,stop)\"\n",
      "                match_statement = \" AND ({0}.start >= {1}.start AND {0}.stop <= {1}.stop) \".format(search_db, annot_db)\n",
      "            # there is start but no stop position\n",
      "            else:\n",
      "                using_statement = \"USING (start)\"\n",
      "                match_statement = \" AND {0}.start = {1}.start \".format(search_db, annot_db)\n",
      "        # there is pos column instead of start\n",
      "        elif 'pos' in annot_cols:\n",
      "            using_statement = \"USING (pos)\"\n",
      "            match_statement = \" AND ({1}.pos BETWEEN {0}.start AND {0}.stop) \".format(search_db, annot_db)\n",
      "    # if no start, stop or pos, match on gene name\n",
      "    elif 'gene_name' in annot_cols:\n",
      "        using_statement = \"USING (gene_name)\"\n",
      "        match_statement = \" AND {0}.gene_name = {1}.gene_name \".format(search_db, annot_db)\n",
      "    else:\n",
      "        print \"Cannot find method for joining tables.\"\n",
      "    return using_statement,match_statement\n",
      "\n",
      "# function to match illumina with annot_db\n",
      "def join_annot_to_illumina(annot_db):\n",
      "    # check for ref columns\n",
      "    if 'ref' in annot_cols:\n",
      "        # if there is a start column \n",
      "        if 'start' in annot_cols:\n",
      "            # if there is a stop position reported\n",
      "            if 'stop' in annot_cols:\n",
      "                using_statement = \"USING (start,stop,ref,alt)\"\n",
      "                match_statement = \" AND ({0}.pos BETWEEN {1}.start AND {1}.stop) AND {0}.ref = {1}.ref \\\n",
      "                                  AND {0}.alt = {1}.alt \".format(search_db, annot_db)\n",
      "            # there is start but no stop position\n",
      "            else:\n",
      "                using_statement = \"USING (start,ref,alt)\"\n",
      "                match_statement = \" AND {0}.pos = {1}.start AND {0}.ref = {1}.ref AND { \\\n",
      "                                  0}.alt = {1}.alt \".format(search_db, annot_db)\n",
      "        # there is pos column instead of start\n",
      "        elif 'pos' in annot_cols:\n",
      "            using_statement = \"USING (pos,ref,alt)\"\n",
      "            match_statement = \" AND {0}.pos = {1}.pos AND {0}.ref = {1}.ref \\\n",
      "            AND {0}.alt = {1}.alt \".format(search_db, annot_db)\n",
      "    elif 'ref' not in annot_cols:\n",
      "        # if there is a start column \n",
      "        if 'start' in annot_cols:\n",
      "            # if there is a stop position reported\n",
      "            if 'stop' in annot_cols:\n",
      "                using_statement = \"USING (start,stop)\"\n",
      "                match_statement = \" AND ({0}.pos BETWEEN {1}.start AND {1}.stop) \".format(search_db,annot_db)\n",
      "            # there is start but no stop position\n",
      "            else:\n",
      "                using_statement = \"\"\n",
      "                match_statement = \" AND {0}.pos = {1}.start \".format(search_db, annot_db)\n",
      "        # there is pos column instead of start\n",
      "        elif 'pos' in annot_cols:\n",
      "            using_statement = \"USING (pos)\"\n",
      "            match_statement = \" AND {0}.pos = {1}.pos \".format(search_db, annot_db)\n",
      "    # if no start, stop or pos, match on gene name\n",
      "    elif 'gene_name' in annot_cols:\n",
      "        using_statement = \"USING (gene_name)\"\n",
      "        match_statement = \" AND {0}.gene_name = {1}.gene_name \".format(search_db, annot_db)\n",
      "    else:\n",
      "        print \"Cannot find method for joining tables.\"\n",
      "        using_statement = \"\" \n",
      "        match_statement = \"\"\n",
      "    return using_statement, match_statement\n",
      "\n",
      "if platform == 'cgi':\n",
      "    using_match, table_match= join_annot_to_cgi(annot_db)\n",
      "elif platform == 'illumina':\n",
      "    using_match, table_match= join_annot_to_illumina(annot_db)\n",
      "else:\n",
      "    \"Check your arguments for search_db, annot_db and platform.\"\n",
      "\n",
      "# create innor or left join query\n",
      "if query_type == 'annot':\n",
      "    query_and_join = left_start + using_match + table_match.replace('AND', \"WHERE\", 1) + \\\n",
      "                impala_query.replace(\"WHERE\", \"AND\", 1)\n",
      "if query_type == 'filter':\n",
      "    query_and_join = inner_start + impala_query + table_match"
     ],
     "language": "python",
     "prompt_number": 270
    },
    {
     "cell_type": "heading",
     "metadata": {},
     "level": 2,
     "source": [
      "Run Query on impala"
     ]
    },
    {
     "cell_type": "code",
     "execution_count": null,
     "metadata": {},
     "outputs": [
      {
       "output_type": "stream",
       "stream": "stdout",
       "text": [
        "testing\n"
       ]
      },
      {
       "output_type": "stream",
       "stream": "stderr",
       "text": [
        "/usr/local/lib/python2.7/site-packages/pandas/io/sql.py:588: FutureWarning: The 'mysql' flavor with DBAPI connection is deprecated and will be removed in future versions. MySQL will be further supported with SQLAlchemy engines.\n  warnings.warn(_MYSQL_WARNING, FutureWarning)\n"
       ]
      },
      {
       "ename": "AttributeError",
       "evalue": "'HiveServer2Cursor' object has no attribute 'cursor'",
       "output_type": "pyerr",
       "traceback": [
        "\u001b[0;31m---------------------------------------------------------------------------\u001b[0m",
        "\u001b[0;31mAttributeError\u001b[0m                            Traceback (most recent call last)",
        "\u001b[0;32m<ipython-input-92-2cffa877efb3>\u001b[0m in \u001b[0;36m<module>\u001b[0;34m()\u001b[0m\n\u001b[1;32m     19\u001b[0m \u001b[0;32melif\u001b[0m \u001b[0moutput\u001b[0m \u001b[0;34m==\u001b[0m \u001b[0;34m'impala_table'\u001b[0m\u001b[0;34m:\u001b[0m\u001b[0;34m\u001b[0m\u001b[0m\n\u001b[1;32m     20\u001b[0m     \u001b[0;32mprint\u001b[0m \u001b[0;34m\"testing\"\u001b[0m\u001b[0;34m\u001b[0m\u001b[0m\n\u001b[0;32m---> 21\u001b[0;31m     \u001b[0mquery_results\u001b[0m\u001b[0;34m.\u001b[0m\u001b[0mto_sql\u001b[0m\u001b[0;34m(\u001b[0m\u001b[0;34m\"users_selasady.testing\"\u001b[0m\u001b[0;34m,\u001b[0m \u001b[0mcur\u001b[0m\u001b[0;34m,\u001b[0m \u001b[0mflavor\u001b[0m\u001b[0;34m=\u001b[0m\u001b[0;34m'mysql'\u001b[0m\u001b[0;34m,\u001b[0m \u001b[0mif_exists\u001b[0m\u001b[0;34m=\u001b[0m\u001b[0;34m'fail'\u001b[0m\u001b[0;34m)\u001b[0m\u001b[0;34m\u001b[0m\u001b[0m\n\u001b[0m\u001b[1;32m     22\u001b[0m \u001b[0;32melif\u001b[0m \u001b[0moutput\u001b[0m \u001b[0;34m==\u001b[0m \u001b[0;34m'both'\u001b[0m\u001b[0;34m:\u001b[0m\u001b[0;34m\u001b[0m\u001b[0m\n\u001b[1;32m     23\u001b[0m     \u001b[0;32mprint\u001b[0m \u001b[0;34m\"both\"\u001b[0m\u001b[0;34m\u001b[0m\u001b[0m\n",
        "\u001b[0;32m/usr/local/lib/python2.7/site-packages/pandas/core/generic.pyc\u001b[0m in \u001b[0;36mto_sql\u001b[0;34m(self, name, con, flavor, schema, if_exists, index, index_label, chunksize, dtype)\u001b[0m\n\u001b[1;32m    964\u001b[0m             \u001b[0mself\u001b[0m\u001b[0;34m,\u001b[0m \u001b[0mname\u001b[0m\u001b[0;34m,\u001b[0m \u001b[0mcon\u001b[0m\u001b[0;34m,\u001b[0m \u001b[0mflavor\u001b[0m\u001b[0;34m=\u001b[0m\u001b[0mflavor\u001b[0m\u001b[0;34m,\u001b[0m \u001b[0mschema\u001b[0m\u001b[0;34m=\u001b[0m\u001b[0mschema\u001b[0m\u001b[0;34m,\u001b[0m \u001b[0mif_exists\u001b[0m\u001b[0;34m=\u001b[0m\u001b[0mif_exists\u001b[0m\u001b[0;34m,\u001b[0m\u001b[0;34m\u001b[0m\u001b[0m\n\u001b[1;32m    965\u001b[0m             \u001b[0mindex\u001b[0m\u001b[0;34m=\u001b[0m\u001b[0mindex\u001b[0m\u001b[0;34m,\u001b[0m \u001b[0mindex_label\u001b[0m\u001b[0;34m=\u001b[0m\u001b[0mindex_label\u001b[0m\u001b[0;34m,\u001b[0m \u001b[0mchunksize\u001b[0m\u001b[0;34m=\u001b[0m\u001b[0mchunksize\u001b[0m\u001b[0;34m,\u001b[0m\u001b[0;34m\u001b[0m\u001b[0m\n\u001b[0;32m--> 966\u001b[0;31m             dtype=dtype)\n\u001b[0m\u001b[1;32m    967\u001b[0m \u001b[0;34m\u001b[0m\u001b[0m\n\u001b[1;32m    968\u001b[0m     \u001b[0;32mdef\u001b[0m \u001b[0mto_pickle\u001b[0m\u001b[0;34m(\u001b[0m\u001b[0mself\u001b[0m\u001b[0;34m,\u001b[0m \u001b[0mpath\u001b[0m\u001b[0;34m)\u001b[0m\u001b[0;34m:\u001b[0m\u001b[0;34m\u001b[0m\u001b[0m\n",
        "\u001b[0;32m/usr/local/lib/python2.7/site-packages/pandas/io/sql.pyc\u001b[0m in \u001b[0;36mto_sql\u001b[0;34m(frame, name, con, flavor, schema, if_exists, index, index_label, chunksize, dtype)\u001b[0m\n\u001b[1;32m    536\u001b[0m     pandas_sql.to_sql(frame, name, if_exists=if_exists, index=index,\n\u001b[1;32m    537\u001b[0m                       \u001b[0mindex_label\u001b[0m\u001b[0;34m=\u001b[0m\u001b[0mindex_label\u001b[0m\u001b[0;34m,\u001b[0m \u001b[0mschema\u001b[0m\u001b[0;34m=\u001b[0m\u001b[0mschema\u001b[0m\u001b[0;34m,\u001b[0m\u001b[0;34m\u001b[0m\u001b[0m\n\u001b[0;32m--> 538\u001b[0;31m                       chunksize=chunksize, dtype=dtype)\n\u001b[0m\u001b[1;32m    539\u001b[0m \u001b[0;34m\u001b[0m\u001b[0m\n\u001b[1;32m    540\u001b[0m \u001b[0;34m\u001b[0m\u001b[0m\n",
        "\u001b[0;32m/usr/local/lib/python2.7/site-packages/pandas/io/sql.pyc\u001b[0m in \u001b[0;36mto_sql\u001b[0;34m(self, frame, name, if_exists, index, index_label, schema, chunksize, dtype)\u001b[0m\n\u001b[1;32m   1502\u001b[0m                             \u001b[0mif_exists\u001b[0m\u001b[0;34m=\u001b[0m\u001b[0mif_exists\u001b[0m\u001b[0;34m,\u001b[0m \u001b[0mindex_label\u001b[0m\u001b[0;34m=\u001b[0m\u001b[0mindex_label\u001b[0m\u001b[0;34m,\u001b[0m\u001b[0;34m\u001b[0m\u001b[0m\n\u001b[1;32m   1503\u001b[0m                             dtype=dtype)\n\u001b[0;32m-> 1504\u001b[0;31m         \u001b[0mtable\u001b[0m\u001b[0;34m.\u001b[0m\u001b[0mcreate\u001b[0m\u001b[0;34m(\u001b[0m\u001b[0;34m)\u001b[0m\u001b[0;34m\u001b[0m\u001b[0m\n\u001b[0m\u001b[1;32m   1505\u001b[0m         \u001b[0mtable\u001b[0m\u001b[0;34m.\u001b[0m\u001b[0minsert\u001b[0m\u001b[0;34m(\u001b[0m\u001b[0mchunksize\u001b[0m\u001b[0;34m)\u001b[0m\u001b[0;34m\u001b[0m\u001b[0m\n\u001b[1;32m   1506\u001b[0m \u001b[0;34m\u001b[0m\u001b[0m\n",
        "\u001b[0;32m/usr/local/lib/python2.7/site-packages/pandas/io/sql.pyc\u001b[0m in \u001b[0;36mcreate\u001b[0;34m(self)\u001b[0m\n\u001b[1;32m    635\u001b[0m \u001b[0;34m\u001b[0m\u001b[0m\n\u001b[1;32m    636\u001b[0m     \u001b[0;32mdef\u001b[0m \u001b[0mcreate\u001b[0m\u001b[0;34m(\u001b[0m\u001b[0mself\u001b[0m\u001b[0;34m)\u001b[0m\u001b[0;34m:\u001b[0m\u001b[0;34m\u001b[0m\u001b[0m\n\u001b[0;32m--> 637\u001b[0;31m         \u001b[0;32mif\u001b[0m \u001b[0mself\u001b[0m\u001b[0;34m.\u001b[0m\u001b[0mexists\u001b[0m\u001b[0;34m(\u001b[0m\u001b[0;34m)\u001b[0m\u001b[0;34m:\u001b[0m\u001b[0;34m\u001b[0m\u001b[0m\n\u001b[0m\u001b[1;32m    638\u001b[0m             \u001b[0;32mif\u001b[0m \u001b[0mself\u001b[0m\u001b[0;34m.\u001b[0m\u001b[0mif_exists\u001b[0m \u001b[0;34m==\u001b[0m \u001b[0;34m'fail'\u001b[0m\u001b[0;34m:\u001b[0m\u001b[0;34m\u001b[0m\u001b[0m\n\u001b[1;32m    639\u001b[0m                 \u001b[0;32mraise\u001b[0m \u001b[0mValueError\u001b[0m\u001b[0;34m(\u001b[0m\u001b[0;34m\"Table '%s' already exists.\"\u001b[0m \u001b[0;34m%\u001b[0m \u001b[0mself\u001b[0m\u001b[0;34m.\u001b[0m\u001b[0mname\u001b[0m\u001b[0;34m)\u001b[0m\u001b[0;34m\u001b[0m\u001b[0m\n",
        "\u001b[0;32m/usr/local/lib/python2.7/site-packages/pandas/io/sql.pyc\u001b[0m in \u001b[0;36mexists\u001b[0;34m(self)\u001b[0m\n\u001b[1;32m    623\u001b[0m \u001b[0;34m\u001b[0m\u001b[0m\n\u001b[1;32m    624\u001b[0m     \u001b[0;32mdef\u001b[0m \u001b[0mexists\u001b[0m\u001b[0;34m(\u001b[0m\u001b[0mself\u001b[0m\u001b[0;34m)\u001b[0m\u001b[0;34m:\u001b[0m\u001b[0;34m\u001b[0m\u001b[0m\n\u001b[0;32m--> 625\u001b[0;31m         \u001b[0;32mreturn\u001b[0m \u001b[0mself\u001b[0m\u001b[0;34m.\u001b[0m\u001b[0mpd_sql\u001b[0m\u001b[0;34m.\u001b[0m\u001b[0mhas_table\u001b[0m\u001b[0;34m(\u001b[0m\u001b[0mself\u001b[0m\u001b[0;34m.\u001b[0m\u001b[0mname\u001b[0m\u001b[0;34m,\u001b[0m \u001b[0mself\u001b[0m\u001b[0;34m.\u001b[0m\u001b[0mschema\u001b[0m\u001b[0;34m)\u001b[0m\u001b[0;34m\u001b[0m\u001b[0m\n\u001b[0m\u001b[1;32m    626\u001b[0m \u001b[0;34m\u001b[0m\u001b[0m\n\u001b[1;32m    627\u001b[0m     \u001b[0;32mdef\u001b[0m \u001b[0msql_schema\u001b[0m\u001b[0;34m(\u001b[0m\u001b[0mself\u001b[0m\u001b[0;34m)\u001b[0m\u001b[0;34m:\u001b[0m\u001b[0;34m\u001b[0m\u001b[0m\n",
        "\u001b[0;32m/usr/local/lib/python2.7/site-packages/pandas/io/sql.pyc\u001b[0m in \u001b[0;36mhas_table\u001b[0;34m(self, name, schema)\u001b[0m\n\u001b[1;32m   1512\u001b[0m         \u001b[0mquery\u001b[0m \u001b[0;34m=\u001b[0m \u001b[0mflavor_map\u001b[0m\u001b[0;34m.\u001b[0m\u001b[0mget\u001b[0m\u001b[0;34m(\u001b[0m\u001b[0mself\u001b[0m\u001b[0;34m.\u001b[0m\u001b[0mflavor\u001b[0m\u001b[0;34m)\u001b[0m\u001b[0;34m\u001b[0m\u001b[0m\n\u001b[1;32m   1513\u001b[0m \u001b[0;34m\u001b[0m\u001b[0m\n\u001b[0;32m-> 1514\u001b[0;31m         \u001b[0;32mreturn\u001b[0m \u001b[0mlen\u001b[0m\u001b[0;34m(\u001b[0m\u001b[0mself\u001b[0m\u001b[0;34m.\u001b[0m\u001b[0mexecute\u001b[0m\u001b[0;34m(\u001b[0m\u001b[0mquery\u001b[0m\u001b[0;34m)\u001b[0m\u001b[0;34m.\u001b[0m\u001b[0mfetchall\u001b[0m\u001b[0;34m(\u001b[0m\u001b[0;34m)\u001b[0m\u001b[0;34m)\u001b[0m \u001b[0;34m>\u001b[0m \u001b[0;36m0\u001b[0m\u001b[0;34m\u001b[0m\u001b[0m\n\u001b[0m\u001b[1;32m   1515\u001b[0m \u001b[0;34m\u001b[0m\u001b[0m\n\u001b[1;32m   1516\u001b[0m     \u001b[0;32mdef\u001b[0m \u001b[0mget_table\u001b[0m\u001b[0;34m(\u001b[0m\u001b[0mself\u001b[0m\u001b[0;34m,\u001b[0m \u001b[0mtable_name\u001b[0m\u001b[0;34m,\u001b[0m \u001b[0mschema\u001b[0m\u001b[0;34m=\u001b[0m\u001b[0mNone\u001b[0m\u001b[0;34m)\u001b[0m\u001b[0;34m:\u001b[0m\u001b[0;34m\u001b[0m\u001b[0m\n",
        "\u001b[0;32m/usr/local/lib/python2.7/site-packages/pandas/io/sql.pyc\u001b[0m in \u001b[0;36mexecute\u001b[0;34m(self, *args, **kwargs)\u001b[0m\n\u001b[1;32m   1403\u001b[0m             \u001b[0mcur\u001b[0m \u001b[0;34m=\u001b[0m \u001b[0mself\u001b[0m\u001b[0;34m.\u001b[0m\u001b[0mcon\u001b[0m\u001b[0;34m\u001b[0m\u001b[0m\n\u001b[1;32m   1404\u001b[0m         \u001b[0;32melse\u001b[0m\u001b[0;34m:\u001b[0m\u001b[0;34m\u001b[0m\u001b[0m\n\u001b[0;32m-> 1405\u001b[0;31m             \u001b[0mcur\u001b[0m \u001b[0;34m=\u001b[0m \u001b[0mself\u001b[0m\u001b[0;34m.\u001b[0m\u001b[0mcon\u001b[0m\u001b[0;34m.\u001b[0m\u001b[0mcursor\u001b[0m\u001b[0;34m(\u001b[0m\u001b[0;34m)\u001b[0m\u001b[0;34m\u001b[0m\u001b[0m\n\u001b[0m\u001b[1;32m   1406\u001b[0m         \u001b[0;32mtry\u001b[0m\u001b[0;34m:\u001b[0m\u001b[0;34m\u001b[0m\u001b[0m\n\u001b[1;32m   1407\u001b[0m             \u001b[0;32mif\u001b[0m \u001b[0mkwargs\u001b[0m\u001b[0;34m:\u001b[0m\u001b[0;34m\u001b[0m\u001b[0m\n",
        "\u001b[0;31mAttributeError\u001b[0m: 'HiveServer2Cursor' object has no attribute 'cursor'"
       ]
      }
     ],
     "input": [
      "import os\n",
      "import datetime\n",
      "\n",
      "from impala.util import as_pandas\n",
      "# execute query\n",
      "# cur.execute(query_and_join)\n",
      "# \n",
      "# # store results as pandas table\n",
      "# query_results = as_pandas(cur)\n",
      "\n",
      "\n",
      "test_query = \"SELECT * FROM public_hg19.clinvar LIMIT 5\"\n",
      "cur.execute(test_query)\n",
      "query_results = as_pandas(cur)\n",
      "\n",
      "if output == 'tsv':\n",
      "    print \"Saving results to a tsv file as {}/{}\".format(os.getcwd(), \"query_results_{}.tsv\".format(datetime.date.today().strftime(\"%m%d%y\")))\n",
      "    query_results.to_csv(\"{}/{}\".format(os.getcwd(), \"query_results_{}.tsv\".format(datetime.date.today().strftime(\"%m%d%y\"))), sep='\\t', index=False)\n",
      "elif output == 'impala_table':\n",
      "    print \"testing\"\n",
      "    query_results.to_sql(\"users_selasady.testing\", conn, if_exists='fail')\n",
      "elif output == 'both':\n",
      "    print \"both\"\n",
      "else: \n",
      "    print \"Check your argument for 'output' and try again.\""
     ],
     "language": "python",
     "prompt_number": 92
    },
    {
     "cell_type": "heading",
     "metadata": {},
     "level": 2,
     "source": [
      "Save Results"
     ]
    },
    {
     "cell_type": "code",
     "execution_count": null,
     "metadata": {},
     "outputs": [],
     "input": [
      ""
     ],
     "language": "python"
    },
    {
     "cell_type": "markdown",
     "metadata": {},
     "source": [
      "TO DO:  \n"
     ]
    },
    {
     "cell_type": "markdown",
     "metadata": {},
     "source": [
      "- save as file,table or both\n",
      "- Upload text file instead of arg\n",
      "- Add additional filters/annotations such as kaviar pct"
     ]
    },
    {
     "cell_type": "code",
     "execution_count": null,
     "metadata": {},
     "outputs": [],
     "input": [
      "cur.close()"
     ],
     "language": "python",
     "prompt_number": 241
    }
   ]
  }
 ],
 "cells": [],
 "metadata": {},
 "nbformat": 3,
 "nbformat_minor": 0
}