{
 "worksheets": [
  {
   "cells": [
    {
     "cell_type": "heading",
     "metadata": {},
     "level": 1,
     "source": [
      "Impala Variant Query Template"
     ]
    },
    {
     "cell_type": "markdown",
     "metadata": {},
     "source": [
      "Use the following template to query impala and save the results as either a tsv file or an impala table for futher analysis.  "
     ]
    },
    {
     "cell_type": "heading",
     "metadata": {},
     "level": 2,
     "source": [
      "Query Parameters"
     ]
    },
    {
     "cell_type": "heading",
     "metadata": {},
     "level": 2,
     "source": [
      "'member'"
     ]
    },
    {
     "cell_type": "markdown",
     "metadata": {},
     "source": [
      "This option is platform specific. \n",
      "\n",
      "Illumina:   \n",
      "\n",
      "- To search in all family members, including extended family, enter 'all'  \n",
      "- To search for all NB, enter '%NB'  \n",
      "- To search for all Mothers, enter '%M'  \n",
      "- To search for all Fathers, enter '%F'  \n",
      "- To search only in nuclear trios, enter '%M,%F,%NB'  \n",
      "\n",
      "CGI:  \n",
      "\n",
      "- To search for all family members including extended family, enter 'all'  \n",
      "- To search for all NB, enter '%03'  \n",
      "- To search for all Mothers, enter '%01'  \n",
      "- To search for all Fathers, enter '%02'  \n",
      "- To search only in nuclear trios, enter '%01,%02,%03'  \n",
      "\n",
      "Example:  \n",
      "\n",
      "'members': '%M,%F,%NB'   \n",
      "'members':'%01,%02,%03'   "
     ]
    },
    {
     "cell_type": "heading",
     "metadata": {},
     "level": 2,
     "source": [
      "'subject_id'"
     ]
    },
    {
     "cell_type": "markdown",
     "metadata": {},
     "source": [
      "This option is platform specific; make sure to enter subject id's in the format that matches your specfiied platform. \n",
      "\n",
      "- For all subjects in Study 101, enter '101%'  \n",
      "- For all subjects in Study 102, enter '102%'  \n",
      "- For all subjects in Study 103, enter '103%'  \n",
      "- For all studies, enter 'all'  \n",
      "\n",
      "Example:\n",
      "- 'subject_id':'101%'\n",
      "- 'subject_id':'all\""
     ]
    },
    {
     "cell_type": "heading",
     "metadata": {},
     "level": 2,
     "source": [
      "'genes'"
     ]
    },
    {
     "cell_type": "markdown",
     "metadata": {},
     "source": [
      "- List of genes, enter as comma-separaterd list with no spaces: 'GENE1,GENE2,GENE3'  \n",
      "- Text file of genes of interest: enter file path and name to text file containing one gene per line  \n",
      "- For all genes, enter 'all'  \n",
      "\n",
      "Example:  \n",
      "'genes':'HOX%,TRT1'"
     ]
    },
    {
     "cell_type": "heading",
     "metadata": {},
     "level": 2,
     "source": [
      "'gt'"
     ]
    },
    {
     "cell_type": "markdown",
     "metadata": {},
     "source": [
      "This option is platform specific. Enter your genotpe(s) of interest.   \n",
      "\n",
      "lllumina:   \n",
      "- Homozygous reference = '0/0'  \n",
      "- Homozygous alternate = '1/1'  \n",
      "- Heterozygous = '0/1'  \n",
      "- All genotypes = 'all'   \n",
      "\n",
      "Example:  \n",
      "'gt':'0/0'  \n",
      "\n",
      "CGI:   \n",
      "- Homozygous  = 'hom'  \n",
      "- Heterozygous = 'het-ref' and 'het-alt'  \n",
      "- All genotypes = 'all'  \n",
      "\n",
      "Example:  \n",
      "'gt':'hom'"
     ]
    },
    {
     "cell_type": "heading",
     "metadata": {},
     "level": 2,
     "source": [
      "'chrom'"
     ]
    },
    {
     "cell_type": "markdown",
     "metadata": {},
     "source": [
      "If your search is restricted to a certain chromosome, enter it here.    \n",
      "\n",
      "Examples:  \n",
      "'chrom':'8'  \n",
      "'chrom':'8,9'  "
     ]
    },
    {
     "cell_type": "heading",
     "metadata": {},
     "level": 2,
     "source": [
      "'platform'"
     ]
    },
    {
     "cell_type": "markdown",
     "metadata": {},
     "source": [
      "Available options:  \n",
      "\n",
      "'platform':'cgi'  \n",
      "'platform':'illumina'  "
     ]
    },
    {
     "cell_type": "heading",
     "metadata": {},
     "level": 2,
     "source": [
      "'search_db'"
     ]
    },
    {
     "cell_type": "markdown",
     "metadata": {},
     "source": [
      "Enter the database where your genomes/variants of interest are located as databaseName.tableName format. \n",
      "\n",
      "Example:  \n",
      "'search_db':'p7_platform.wgs_comgen_variant'\n",
      "\n",
      "Choose from one of the following tables: "
     ]
    },
    {
     "cell_type": "code",
     "execution_count": null,
     "metadata": {},
     "outputs": [
      {
       "output_type": "stream",
       "stream": "stdout",
       "text": [
        "('brady_variant',)\n('illumina_450k_crystal',)\n('itmi_102_puzzle',)\n('itmi_450k_crystal',)\n('itmi_mapping',)\n('variant_summary',)\n('wgs_comgen_variant',)\n('wgs_illumina_variant',)\n"
       ]
      }
     ],
     "input": [
      "from impala.dbapi import connect\n",
      "\n",
      "#create a connection \n",
      "conn=connect(host='glados19', port=21050)\n",
      "\n",
      "#to connect to specific database, use the database argument\n",
      "#conn=connect(host='glados19', port=21050, database=\"public_hg19\")\n",
      "\n",
      "#create a cursor object to interact with the db\n",
      "cur = conn.cursor()\n",
      "\n",
      "#select a particular database to use\n",
      "cur.execute('USE p7_platform')\n",
      "#view tables in selected database \n",
      "#if no db is selected, you will see tables in default db\n",
      "cur.execute('SHOW TABLES')\n",
      "for db in cur.fetchall():\n",
      "    print db"
     ],
     "language": "python",
     "prompt_number": 197
    },
    {
     "cell_type": "heading",
     "metadata": {},
     "level": 2,
     "source": [
      "'search_db_cols'"
     ]
    },
    {
     "cell_type": "markdown",
     "metadata": {},
     "source": [
      "Enter the columns to return from the search database ('search_db'). Reducing the number of columns return will speed up your query, so this is recommended for larger queries. \n",
      "\n",
      "Example:  \n",
      "'search_ db _ cols':''chrom,start,stop,ref,alt,subject_id'  \n",
      "'search_ db _ cols':'all\"\n"
     ]
    },
    {
     "cell_type": "heading",
     "metadata": {},
     "level": 2,
     "source": [
      "'annot_db'"
     ]
    },
    {
     "cell_type": "markdown",
     "metadata": {},
     "source": [
      "Enter the annotation source you would like to use as databaseName.tableName format. Choose from the following list: \n",
      "\n",
      "Example:  \n",
      "\n",
      "'annot_db':'clinvar'"
     ]
    },
    {
     "cell_type": "code",
     "execution_count": null,
     "metadata": {},
     "outputs": [
      {
       "output_type": "stream",
       "stream": "stdout",
       "text": [
        "('clinvar',)\n('clinvar_summary',)\n('cytoband',)\n('dann',)\n('dbsnp',)\n('ensembl_genes',)\n('esp_exomes',)\n('go_goa',)\n('kaviar',)\n('mirbase',)\n('pfam_clans',)\n('pfam_regions',)\n('refseq',)\n('refseq_map',)\n('repeatmasker',)\n('ucsc_genomicsuperdups',)\n('ucsc_kgxref',)\n('ucsc_knowngene',)\n('uniprot',)\n"
       ]
      }
     ],
     "input": [
      "#select a particular database to use\n",
      "cur.execute('USE public_hg19')\n",
      "#view tables in selected database \n",
      "#if no db is selected, you will see tables in default db\n",
      "cur.execute('SHOW TABLES')\n",
      "for db in cur.fetchall():\n",
      "    print db"
     ],
     "language": "python",
     "prompt_number": 198
    },
    {
     "cell_type": "heading",
     "metadata": {},
     "level": 2,
     "source": [
      "'annot_db_cols'"
     ]
    },
    {
     "cell_type": "markdown",
     "metadata": {},
     "source": [
      "Enter the columns to return from the annotation database ('annot_db'). Reducing the number of columns return will speed up your query, so this is recommended for larger queries. \n",
      "\n",
      "Example:  \n",
      "'annot_ db_ cols':''gene_name'  \n",
      "'annot_ db_ cols':'all\""
     ]
    },
    {
     "cell_type": "heading",
     "metadata": {},
     "level": 2,
     "source": [
      "'query_type'"
     ]
    },
    {
     "cell_type": "markdown",
     "metadata": {},
     "source": [
      "Specify whether you want to use annot_db to filter or annotate your data set. \n",
      "\n",
      "If filtering, only results from your data set that have hits the annot_db will be returned. If annotating, your results will contain all of your data set with anntoations from the annot_db where they exist. \n",
      "\n",
      "Options:  \n",
      "'query_type':'annotation'  \n",
      "'query_type':'filter'  "
     ]
    },
    {
     "cell_type": "code",
     "execution_count": null,
     "metadata": {},
     "outputs": [],
     "input": [
      "args = {\n",
      "    'members':'all',\n",
      "    'subject_id':'all',\n",
      "    'genes':'BRCA1,TRT1,SON%,HOX%',\n",
      "    'gt':'hom',\n",
      "    'chrom':'8',\n",
      "    'platform': 'illumina',\n",
      "    'search_db':'p7_platform.wgs_illumina_variant', \n",
      "    'search_db_cols':'all',\n",
      "    'annot_db':'public_hg19.clinvar',\n",
      "    'annot_db_cols':'gene_name',\n",
      "    'query_type':'annot'\n",
      "}"
     ],
     "language": "python",
     "prompt_number": 239
    },
    {
     "cell_type": "heading",
     "metadata": {},
     "level": 2,
     "source": [
      "Process User Arguments"
     ]
    },
    {
     "cell_type": "code",
     "execution_count": null,
     "metadata": {},
     "outputs": [],
     "input": [
      "############################\n",
      "## Process user arguments ##\n",
      "############################\n",
      "\n",
      "#separate wildcards from args\n",
      "def find_wildcards(x):\n",
      "    user_args = []\n",
      "    wildcards = []\n",
      "    #seperate user args by comma\n",
      "    arg_list= x.replace(\"'\", \"\").split(',')\n",
      "    for arg in arg_list:\n",
      "        if arg.endswith('%'):\n",
      "            wildcards.append(arg) \n",
      "        else:\n",
      "            user_args.append(arg)\n",
      "    return user_args, wildcards         \n",
      "\n",
      "#function to turn arg_list and wild_list into statements\n",
      "def process_args(arg_list, wild_list, name_arg, arg_db):\n",
      "    # if there is only one user arg\n",
      "    if (len(arg_list) == 1 and len(wild_list) < 1):\n",
      "        query_args =  'AND {0}.{1} = '.format(arg_db,name_arg) + \"'\" + \", \".join(str(e) for e in arg_list) + \"'\"\n",
      "    #if there are more than one user arguments\n",
      "    elif (len(arg_list) > 1 and len(wild_list) < 1):\n",
      "        conditions = ['{0}.{1} = '.format(arg_db,name_arg) + \"'\" + s + \"'\" for s in arg_list]\n",
      "        query_args = \"AND (\" + \" OR \".join(map(str, conditions)) + \")\"\n",
      "    # if there is only one wildcard\n",
      "    if (len(wild_list) == 1 and len(arg_list) < 1):\n",
      "        query_args =  'AND {0}.{1} LIKE '.format(arg_db,name_arg) + \"'\" + \", \".join(str(e) for e in wild_list) + \"'\"\n",
      "    #if there are more than one wildcard\n",
      "    elif (len(wild_list) > 1 and len(arg_list) < 1):\n",
      "        conditions = ['{0}.{1} LIKE '.format(arg_db,name_arg) + \"'\" + s + \"'\" for s in wild_list]\n",
      "        query_args = \"AND (\" + \" OR \".join(map(str, conditions)) + \")\"\n",
      "    #if there are more than one wildcard and more than one user arg\n",
      "    elif (len(arg_list) > 1 and len(wild_list) > 1):\n",
      "        reg_conditions = ['{0}.{1} = '.format(arg_db,name_arg) + \"'\" + s + \"'\" for s in arg_list]\n",
      "        reg_args = \"AND ((\" + \" OR \".join(map(str, reg_conditions)) + \")\"\n",
      "        wild_conditions = ['{0}.{1} LIKE '.format(arg_db,name_arg) + \"'\" + s + \"'\" for s in wild_list]\n",
      "        wild_args = \"AND (\" + \" OR \".join(map(str, wild_conditions)) + \")\"\n",
      "        query_args =  (reg_args + \" \" + wild_args).replace(' AND ', ' OR ', 2) + \")\"\n",
      "    #if there is one of each\n",
      "    elif (len(arg_list) == 1 and len(wild_list) == 1):\n",
      "        reg_conditions = ['{0}.{1} = '.format(arg_db,name_arg) + \"'\" + s + \"'\" for s in arg_list]\n",
      "        reg_args = \"AND (\" + \" OR \".join(map(str, reg_conditions)) + \")\"\n",
      "        wild_conditions = ['{0}.{1} LIKE '.format(arg_db,name_arg) + \"'\" + s + \"'\" for s in wild_list]\n",
      "        wild_args = \"AND (\" + \" OR \".join(map(str, wild_conditions)) + \")\"\n",
      "        query_args =  (reg_args + \" \" + wild_args).replace(') AND (', ' OR ', 1)\n",
      "    return query_args\n",
      "\n",
      "#run above function on user args\n",
      "def create_query(argument, arg_name, arg_db):\n",
      "    if argument != 'all':\n",
      "        arg_list, wild_list = find_wildcards(argument)\n",
      "        arg_query = process_args(arg_list, wild_list, arg_name, arg_db)\n",
      "    elif argument == 'all':\n",
      "        arg_query = ''\n",
      "    return arg_query"
     ],
     "language": "python",
     "prompt_number": 255
    },
    {
     "cell_type": "heading",
     "metadata": {},
     "level": 3,
     "source": [
      "Run function on user arguments"
     ]
    },
    {
     "cell_type": "code",
     "execution_count": null,
     "metadata": {},
     "outputs": [],
     "input": [
      "#assign user args to a variable\n",
      "locals().update(args)\n",
      "\n",
      "#create members argument\n",
      "member_query = create_query(members,\"sample_id\", search_db)\n",
      "\n",
      "#create subject_id argument\n",
      "subject_query = create_query(subject_id,\"sample_id\", search_db)\n",
      "\n",
      "#create genes argument\n",
      "genes_query = create_query(genes,\"gene_name\", annot_db)\n",
      "\n",
      "#create genotype argument\n",
      "gt_query = create_query(gt,\"gt\", search_db)\n",
      "\n",
      "#create chromosome argument\n",
      "chrom_query = create_query(chrom,\"chrom\", search_db)"
     ],
     "language": "python",
     "prompt_number": 264
    },
    {
     "cell_type": "heading",
     "metadata": {},
     "level": 1,
     "source": [
      "Create Query"
     ]
    },
    {
     "cell_type": "code",
     "execution_count": null,
     "metadata": {},
     "outputs": [
      {
       "output_type": "stream",
       "stream": "stdout",
       "text": [
        "[\"WHERE ((public_hg19.clinvar.gene_name = 'BRCA1' OR public_hg19.clinvar.gene_name = 'TRT1') OR (public_hg19.clinvar.gene_name LIKE 'SON%' OR public_hg19.clinvar.gene_name LIKE 'HOX%'))\", \"WHERE p7_platform.wgs_illumina_variant.gt = 'hom'\", \"WHERE p7_platform.wgs_illumina_variant.chrom = '8'\"]\n"
       ]
      }
     ],
     "input": [
      "# For all query arguments that are not empty \n",
      "# add to query\n",
      "# first one gets \"WHERE\" instead of \"AND\"\n",
      "# check annot_db to see if pos or start/stop\n",
      "# return specified columns\n",
      "# either left join or inner join\n",
      "\n",
      "#list to store final query object\n",
      "final_query = []\n",
      "\n",
      "#merge query arguments\n",
      "def merge_query(query_arg):\n",
      "    if len(query_arg) > 0:\n",
      "        final_query.append(query_arg)\n",
      " \n",
      "#create list to apply function on   \n",
      "query_list = [member_query, subject_query, genes_query, gt_query,chrom_query]\n",
      "\n",
      "#apply function to list of query statements\n",
      "for query in query_list:\n",
      "    merge_query(query)\n",
      "\n",
      "#create final impala query, replacing first item with WHERE instead of AND\n",
      "impala_query = [query.replace('AND', 'WHERE', 1) for query in final_query]   \n",
      "print impala_query"
     ],
     "language": "python",
     "prompt_number": 278
    }
   ]
  }
 ],
 "cells": [],
 "metadata": {},
 "nbformat": 3,
 "nbformat_minor": 0
}