{
 "worksheets": [
  {
   "cells": [
    {
     "cell_type": "heading",
     "metadata": {},
     "level": 1,
     "source": [
      "Impala Variant Query Template"
     ]
    },
    {
     "cell_type": "markdown",
     "metadata": {},
     "source": [
      "Use the following template to query impala and save the results as either a tsv file or an impala table for futher analysis.  "
     ]
    },
    {
     "cell_type": "heading",
     "metadata": {},
     "level": 2,
     "source": [
      "Query Parameters"
     ]
    },
    {
     "cell_type": "markdown",
     "metadata": {},
     "source": [
      "Platform:   \n",
      "\n",
      "- Enter either 'cgi' or 'illumina'  \n",
      "- Searching across both platforms simultaneously would be too slow and is not recommended\n",
      "\n",
      "Search Database:  \n",
      "Enter the database to search for variants in using database.table_name format:\n",
      "\n",
      "- For illumina variants, p7_platform.wgs_illumina_variants  \n",
      "- For CGI variants, p7_platform.wgs_comgen_variants  \n",
      "- You can also enter any other database, such as a custom database, that follows the platform you selected above  \n",
      "\n",
      "Members:  \n",
      "This option is platform specific. \n",
      "\n",
      "Illumina:   \n",
      "\n",
      "- To search in all family members, including extended family, enter 'all'  \n",
      "- To search for all NB, enter '%NB'  \n",
      "- To search for all Mothers, enter '%M'  \n",
      "- To search for all Fathers, enter '%F'  \n",
      "- To search only in nuclear trios, enter '%M,%F,%NB'  \n",
      "\n",
      "CGI:  \n",
      "\n",
      "- To search for all family members including extended family, enter 'all'  \n",
      "- To search for all NB, enter '%03'  \n",
      "- To search for all Mothers, enter '%01'  \n",
      "- To search for all Fathers, enter '%02'  \n",
      "- To search only in nuclear trios, enter '%01,%02,%03'  \n",
      "\n",
      "Subject ID:   \n",
      "This option is platform specific; make sure to enter subject id's in the format that matches your specfiied platform. \n",
      "\n",
      "- For all subjects in Study 101, enter '101%'  \n",
      "- For all subjects in Study 102, enter '102%'  \n",
      "- For all subjects in Study 103, enter '103%'  \n",
      "- For all studies, enter 'all'  \n",
      "\n",
      "Annotation Sources:   \n",
      "Select which of the following annotation sources you would like to use. \n",
      "\n",
      "- 'clinvar'  \n",
      "- 'acmg'\n",
      "- 'dbsnp'\n",
      "\n",
      "Genes:  \n",
      "- List of genes, enter as comma-separaterd list with no spaces: 'GENE1,GENE2,GENE3'  \n",
      "- Text file of genes of interest: enter file path and name to text file containing one gene per line  \n",
      "- For all genes, enter 'all'\n",
      "\n",
      "Genotype:  \n",
      "This option is platform specific. \n",
      "\n",
      "Illumina:   \n",
      "\n",
      "- Homozygous reference = '0/0'\n",
      "- Homozygous alternate = '1/1'\n",
      "- Heterozygous = '0/1'\n",
      "- All genotypes = 'all'  \n",
      "\n",
      "CGI: \n",
      "\n",
      "- Homozygous  = 'hom'\n",
      "- Heterozygous = 'het-ref' and 'het-alt'\n",
      "- All genotypes = 'all'  \n"
     ]
    },
    {
     "cell_type": "code",
     "execution_count": null,
     "metadata": {},
     "outputs": [],
     "input": [
      "args = {\n",
      "    'platform': 'illumina',\n",
      "    'search_db':'p7_platform.wgs_illumina_variant', \n",
      "    'members':'all',\n",
      "    'subject_id':'all',\n",
      "    'annot_db':'public_hg19.clinvar',\n",
      "    'genes':'HOX%,BRCA1,TRT1,SON%',\n",
      "    'gt':'hom'\n",
      "}"
     ],
     "language": "python",
     "prompt_number": 179
    },
    {
     "cell_type": "heading",
     "metadata": {},
     "level": 2,
     "source": [
      "Build Query"
     ]
    },
    {
     "cell_type": "code",
     "execution_count": null,
     "metadata": {},
     "outputs": [
      {
       "ename": "SyntaxError",
       "evalue": "invalid syntax (<ipython-input-190-fa78c26aa137>, line 5)",
       "output_type": "pyerr",
       "traceback": [
        "\u001b[1;36m  File \u001b[1;32m\"<ipython-input-190-fa78c26aa137>\"\u001b[1;36m, line \u001b[1;32m5\u001b[0m\n\u001b[1;33m    arg_list = {]}\u001b[0m\n\u001b[1;37m                ^\u001b[0m\n\u001b[1;31mSyntaxError\u001b[0m\u001b[1;31m:\u001b[0m invalid syntax\n"
       ]
      }
     ],
     "input": [
      "######################\n",
      "# pull out wildcards #\n",
      "######################\n",
      "wildcards = {}\n",
      "arg_list = {]}\n",
      "\n",
      "#separating out wildcards \n",
      "for key, value in args.iteritems(): \n",
      "    #if there is more than one value per arg\n",
      "    if value != 'all' and (',' in value):\n",
      "        #split the arg by comma\n",
      "        value = value.replace(\"'\", \"\").split(',')\n",
      "        #pull out any wildcards\n",
      "        for val in value:\n",
      "            if val.endswith('%'):\n",
      "                wildcards.append({key, value})\n",
      "            else:\n",
      "                arg_list.append({key, value})\n",
      "    #process single value per arg\n",
      "    elif value != all and (',' not in value):\n",
      "        if value.endswith('%'):\n",
      "            wildcards.append({key, value})\n",
      "        else:\n",
      "            arg_list.append({key, value})\n",
      "\n",
      "\n",
      "print wildcards"
     ],
     "language": "python",
     "prompt_number": 190
    },
    {
     "cell_type": "code",
     "execution_count": null,
     "metadata": {},
     "outputs": [],
     "input": [
      ""
     ],
     "language": "python"
    },
    {
     "cell_type": "code",
     "execution_count": null,
     "metadata": {},
     "outputs": [],
     "input": [
      ""
     ],
     "language": "python"
    }
   ]
  }
 ],
 "cells": [],
 "metadata": {},
 "nbformat": 3,
 "nbformat_minor": 0
}