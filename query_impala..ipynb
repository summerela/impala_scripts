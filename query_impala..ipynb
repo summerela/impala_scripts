{
 "worksheets": [
  {
   "cells": [
    {
     "cell_type": "heading",
     "metadata": {},
     "level": 1,
     "source": [
      "Impala Variant Query Template"
     ]
    },
    {
     "cell_type": "markdown",
     "metadata": {},
     "source": [
      "Use the following template to query impala and save the results as either a tsv file or an impala table for futher analysis.  "
     ]
    },
    {
     "cell_type": "heading",
     "metadata": {},
     "level": 2,
     "source": [
      "Query Parameters"
     ]
    },
    {
     "cell_type": "markdown",
     "metadata": {},
     "source": [
      "Platform:   \n",
      "\n",
      "- Enter either 'cgi' or 'illumina'  \n",
      "- Searching across both platforms simultaneously would be too slow and is not recommended\n",
      "\n",
      "Search Database:  \n",
      "Enter the database to search for variants in using database.table_name format:\n",
      "\n",
      "- For illumina variants, p7_platform.wgs_illumina_variants  \n",
      "- For CGI variants, p7_platform.wgs_comgen_variants  \n",
      "- You can also enter any other database, such as a custom database, that follows the platform you selected above  \n",
      "\n",
      "Members:  \n",
      "This option is platform specific. \n",
      "\n",
      "Illumina:   \n",
      "\n",
      "- To search in all family members, including extended family, enter 'all'  \n",
      "- To search for all NB, enter '%NB'  \n",
      "- To search for all Mothers, enter '%M'  \n",
      "- To search for all Fathers, enter '%F'  \n",
      "- To search only in nuclear trios, enter '%M,%F,%NB'  \n",
      "\n",
      "CGI:  \n",
      "\n",
      "- To search for all family members including extended family, enter 'all'  \n",
      "- To search for all NB, enter '%03'  \n",
      "- To search for all Mothers, enter '%01'  \n",
      "- To search for all Fathers, enter '%02'  \n",
      "- To search only in nuclear trios, enter '%01,%02,%03'  \n",
      "\n",
      "Subject ID:   \n",
      "This option is platform specific; make sure to enter subject id's in the format that matches your specfiied platform. \n",
      "\n",
      "- For all subjects in Study 101, enter '101%'  \n",
      "- For all subjects in Study 102, enter '102%'  \n",
      "- For all subjects in Study 103, enter '103%'  \n",
      "- For all studies, enter 'all'  \n",
      "\n",
      "Annotation Sources:   \n",
      "Select which of the following annotation sources you would like to use. \n",
      "\n",
      "- 'clinvar'  \n",
      "- 'acmg'\n",
      "- 'dbsnp'\n",
      "\n",
      "Genes:  \n",
      "- List of genes, enter as comma-separaterd list with no spaces: 'GENE1,GENE2,GENE3'  \n",
      "- Text file of genes of interest: enter file path and name to text file containing one gene per line  \n",
      "- For all genes, enter 'all'\n",
      "\n",
      "Genotype:  \n",
      "This option is platform specific. \n",
      "\n",
      "Illumina:   \n",
      "\n",
      "- Homozygous reference = '0/0'\n",
      "- Homozygous alternate = '1/1'\n",
      "- Heterozygous = '0/1'\n",
      "- All genotypes = 'all'  \n",
      "\n",
      "CGI: \n",
      "\n",
      "- Homozygous  = 'hom'\n",
      "- Heterozygous = 'het-ref' and 'het-alt'\n",
      "- All genotypes = 'all'  \n"
     ]
    },
    {
     "cell_type": "code",
     "execution_count": null,
     "metadata": {},
     "outputs": [],
     "input": [
      "args = {\n",
      "    'platform': 'illumina',\n",
      "    'search_db':'p7_platform.wgs_illumina_variant', \n",
      "    'members':'all',\n",
      "    'subject_id':'all',\n",
      "    'annot_db':'public_hg19.clinvar',\n",
      "    'genes':'BRCA1,TRT1,SON%,HOX%',\n",
      "    'gt':'hom'\n",
      "}"
     ],
     "language": "python",
     "prompt_number": 1
    },
    {
     "cell_type": "heading",
     "metadata": {},
     "level": 2,
     "source": [
      "Build Query"
     ]
    },
    {
     "cell_type": "code",
     "execution_count": null,
     "metadata": {},
     "outputs": [
      {
       "output_type": "stream",
       "stream": "stdout",
       "text": [
        "\n"
       ]
      }
     ],
     "input": [
      "#assign user args to a variable\n",
      "locals().update(args)\n",
      "\n",
      "############################\n",
      "## Process user arguments ##\n",
      "############################\n",
      "\n",
      "#separate wildcards from args\n",
      "def find_wildcards(x):\n",
      "    user_args = []\n",
      "    wildcards = []\n",
      "    #seperate user args by comma\n",
      "    arg_list= x.replace(\"'\", \"\").split(',')\n",
      "    for arg in arg_list:\n",
      "        if arg.endswith('%'):\n",
      "            wildcards.append(arg) \n",
      "        else:\n",
      "            user_args.append(arg)\n",
      "    return user_args, wildcards         \n",
      "\n",
      "#function to turn user args into query statements\n",
      "def process_args(arg_list, name_arg):\n",
      "    # if there is more than one user argument\n",
      "    if len(arg_list) > 1:\n",
      "        print arg_list\n",
      "    #     query_conditions = ['{0}.{1} = '.format(search_db,name_arg) + \"'\" + s + \"'\" for s in arg_list]\n",
      "    #     reg_args = \"AND (\" + \" OR \".join(map(str, query_conditions)) + \")\"\n",
      "    # # if there is only one user arg, and no wildcards\n",
      "    # elif len(arg_list) == 1:\n",
      "    #     single_arg = set(arg_list)\n",
      "    #     reg_args = 'AND {0}.{1} = '.format(search_db,name_arg) + \"'\" + \", \".join(str(e) for e in single_arg) + \"'\"\n",
      "    # else: \n",
      "    #     reg_args = []\n",
      "    #     return reg_args\n",
      " \n",
      " \n",
      "test_args = ['TRT1']\n",
      "\n",
      "testing = process_args(test_args, \"testing\")       \n",
      "print       \n",
      "\n",
      "\n"
     ],
     "language": "python",
     "prompt_number": 116
    }
   ]
  }
 ],
 "cells": [],
 "metadata": {},
 "nbformat": 3,
 "nbformat_minor": 0
}