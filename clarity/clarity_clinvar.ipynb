{
 "worksheets": [
  {
   "cells": [
    {
     "cell_type": "heading",
     "metadata": {},
     "level": 1,
     "source": [
      "Finding ClinVar Pathogenic Variants"
     ]
    },
    {
     "cell_type": "markdown",
     "metadata": {},
     "source": [
      "All variants in the Clarity2 dataset were annotated with ClinVar (version 2/5/15) clinical significance ratings and the ISB internal Kaviar (version 150812) for downstream analysis using the following query to output 106039862 rows:"
     ]
    },
    {
     "cell_type": "markdown",
     "metadata": {},
     "source": [
      "        CREATE TABLE clarity_clinkav AS  \n",
      "        WITH clins AS (\n",
      "            SELECT cl.sample_id, cl.chrom, cl.pos, cl.id, cl.ref, cl.alt, cl.gt, cl.qual, cl.filter, \n",
      "            clin.rs_id, clin.clin_hgvs, clin.clin_sig, clin.clin_dbn\n",
      "            FROM clarity2.wgs_illumina_variant cl\n",
      "         LEFT JOIN p7_ref_grch37.clinvar clin\n",
      "            ON cl.chrom = clin.chrom\n",
      "            AND cl.pos = clin.pos\n",
      "            AND cl.ref = clin.ref\n",
      "            AND cl.alt = clin.alt\n",
      "           )\n",
      "           SELECT clins.*, kav.allele_freq as kav_freq,\n",
      "               CASE\n",
      "                   WHEN clins.gt = '0/1' then 'het'\n",
      "                   WHEN clins.gt = '1/1' then 'hom_alt'\n",
      "                   WHEN clins.gt = '1/2' then 'het'\n",
      "                   WHEN clins.gt = '1' then clins.chrom\n",
      "                   ELSE NULL\n",
      "                   END AS 'geno',\n",
      "               CASE\n",
      "                   WHEN clins.sample_id = \"04-01_PG0001691-BLD\" THEN \"NB1\"\n",
      "                   WHEN clins.sample_id = \"04-04_PG0001689-BLD\" THEN \"NB2\"\n",
      "                   WHEN clins.sample_id = \"04-05_PG0001690-BLD\" THEN \"NB3\"\n",
      "                   WHEN clins.sample_id = \"05-01_PG0003524-BLD\" THEN \"NB1\"\n",
      "                   WHEN clins.sample_id = \"05-02_PG0003573-BLD\" THEN \"M\"\n",
      "                   WHEN clins.sample_id = \"05-03_PG0003565-BLD\" THEN \"F\"\n",
      "                   WHEN clins.sample_id = \"05-04_PG0003562-BLD\" THEN \"NB2\"\n",
      "                   WHEN clins.sample_id = \"06-01_PG0001696-BLD\" THEN \"NB1\"\n",
      "                   WHEN clins.sample_id = \"06-02_PG0001697-BLD\" THEN \"M\"\n",
      "                   WHEN clins.sample_id = \"06-03_PG0001698-BLD\" THEN \"F\"\n",
      "                   WHEN clins.sample_id = \"06-04_PG0001695-BLD\" THEN \"NB2\"\n",
      "                   WHEN clins.sample_id = \"07-01_PG0002918-DNA\" THEN \"NB1\"\n",
      "                   WHEN clins.sample_id = \"07-02_PG0001692-BLD\" THEN \"M\"\n",
      "                   WHEN clins.sample_id = \"07-03_PG0001693-BLD\" THEN \"F\"\n",
      "                   WHEN clins.sample_id = \"07-04_PG0001694-DNA\" THEN \"NB2\"\n",
      "                   WHEN clins.sample_id = \"07-05_PG0002917-DNA\" THEN \"NB3\"\n",
      "                   WHEN clins.sample_id = \"08-01_PG0001705-BLD\" THEN \"M\"\n",
      "                   WHEN clins.sample_id = \"08-04_PG0001704-BLD\" THEN \"F\"\n",
      "                   WHEN clins.sample_id = \"08-05_PG0001706-BLD\" THEN \"NB1\"\n",
      "                   WHEN clins.sample_id = \"08-06_PG0001707-BLD\" THEN \"NB2\"                 \n",
      "                   WHEN clins.sample_id = \"08-07_PG0001708-BLD\" THEN \"NB3\"\n",
      "                END as member\n",
      "            FROM clins\n",
      "            LEFT JOIN p7_ref_grch37.kaviar_isb kav\n",
      "                ON clins.chrom = kav.chrom\n",
      "                AND clins.pos = kav.pos\n",
      "                AND clins.ref = kav.ref\n",
      "                AND clins.alt = kav.alt\n",
      "            "
     ]
    },
    {
     "cell_type": "heading",
     "metadata": {},
     "level": 2,
     "source": [
      "Finding Significant Variants in ClinVar"
     ]
    },
    {
     "cell_type": "markdown",
     "metadata": {},
     "source": [
      "Next, the Clarity2 variants were filtered for variants marked as unconflicted pathogenic in ClinVar  (clinical signifigance rating of 4 or 5, but never 2 or 3). \n",
      "\n",
      "The variants were then annotated with dbNSFP prediction scores (v v3.0b2a)  and ensembl (release 74): "
     ]
    },
    {
     "cell_type": "code",
     "execution_count": null,
     "metadata": {},
     "outputs": [],
     "input": [
      "CREATE TABLE users_selasady.clarity_clinsig AS \n",
      "    WITH clins AS (\n",
      "    SELECT DISTINCT *\n",
      "    FROM clarity_clinkav clins\n",
      "    WHERE (clins.clin_sig NOT REGEXP '3|2[^5]|2 (insert dollar sign here)' AND  clins.clin_sig REGEXP '4|[^25]5|^5') \n",
      "    )\n",
      "    \n",
      "    SELECT clins.*, ens.gene_id, ens.transcript_id, ens.strand, db.aa_alt, \n",
      "               db.sift_score, db.sift_pred, db.polyphen2_hdiv_score,\n",
      "               db.polyphen2_hdiv_pred, db.polyphen2_hvar_score, db.polyphen2_hvar_pred, \n",
      "               db.fathmm_score, db.fathmm_pred, db.cadd_raw, db.dann_score, db.mutation_taster_pred,\n",
      "               db.mutation_assessor_score, mutation_assessor_pred, db.provean_score, db.provean_pred,\n",
      "               db.interpro_domain, db.exac_af,\n",
      "               CASE\n",
      "                   WHEN (db.sift_pred LIKE '%D%' or db.polyphen2_hdiv_pred LIKE '%D%' \n",
      "                         or db.mutation_taster_pred LIKE '%D%'\n",
      "                         or db.mutation_assessor_pred LIKE '%H%' \n",
      "                         or db.fathmm_pred LIKE '%D%' \n",
      "                         or db.provean_pred LIKE '%D%'\n",
      "                         or db.dann_score >= .96) THEN 'Y'\n",
      "                    ELSE 'N'\n",
      "               END as dbnfsp_predicted\n",
      "    FROM clins\n",
      "    LEFT JOIN p7_ref_grch37.ensembl_genes ens\n",
      "        ON clins.chrom = ens.chrom\n",
      "        AND clins.pos BETWEEN ens.start and ens.stop\n",
      "    LEFT JOIN p7_ref_grch37.dbnsfp_variant db \n",
      "        ON clins.chrom = db.chrom\n",
      "        AND clins.pos = db.pos\n",
      "        AND clins.ref = db.ref\n",
      "        AND clins.alt = db.alt"
     ],
     "language": "python"
    },
    {
     "cell_type": "markdown",
     "metadata": {},
     "source": [
      "7033 rows were returned. "
     ]
    },
    {
     "cell_type": "markdown",
     "metadata": {},
     "source": [
      "NOTE: the clinvar regular expression was altered above to exclude the dollar sign, as it would not render properly in ipython notebook."
     ]
    },
    {
     "cell_type": "heading",
     "metadata": {},
     "level": 2,
     "source": [
      "Predict coding consequences using SnpEff"
     ]
    },
    {
     "cell_type": "markdown",
     "metadata": {},
     "source": [
      "SnpEff (version 4.1h build 2015-08-03 with GRCh37.75) was used to annotate the ClinVar variants with predicted coding consequences.   "
     ]
    },
    {
     "cell_type": "heading",
     "metadata": {},
     "level": 3,
     "source": [
      "Import query results from impala"
     ]
    },
    {
     "cell_type": "code",
     "execution_count": null,
     "metadata": {},
     "outputs": [],
     "input": [
      "# load modules to connect to impala\n",
      "from impala.dbapi import connect\n",
      "from impala.util import as_pandas\n",
      "\n",
      "# query to left join nbs_annotated variants with DANN scores\n",
      "nbs_query = \"\"\"\n",
      "    SELECT DISTINCT * FROM users_selasady.clarity_clinsig\n",
      "    \"\"\"\n",
      "# run query on impala\n",
      "conn=connect(host='glados19', port=21050, timeout=120)\n",
      "cur = conn.cursor()\n",
      "cur.execute(nbs_query)\n",
      "\n",
      "# store results as pandas data frame\n",
      "clinvar_df = as_pandas(cur)\n",
      "cur.close()\n",
      "conn.close()"
     ],
     "language": "python",
     "prompt_number": 5
    },
    {
     "cell_type": "code",
     "execution_count": null,
     "metadata": {},
     "outputs": [
      {
       "output_type": "stream",
       "stream": "stdout",
       "text": [
        "4223 clinically pathogenic variants imported from impala.\n"
       ]
      }
     ],
     "input": [
      "print str(len(clinvar_df)) + ' clinically pathogenic variants imported from impala.'"
     ],
     "language": "python",
     "prompt_number": 6
    },
    {
     "cell_type": "heading",
     "metadata": {},
     "level": 3,
     "source": [
      "Output variants as vcf format and run through SnpEff "
     ]
    },
    {
     "cell_type": "markdown",
     "metadata": {},
     "source": [
      ""
     ]
    },
    {
     "cell_type": "code",
     "execution_count": null,
     "metadata": {},
     "outputs": [
      {
       "output_type": "stream",
       "stream": "stdout",
       "text": [
        "java -Xmx4g -jar D:/Documents/tools/snpEff/snpEff.jar -t -v -noStats GRCh37.75 clarity_clinsig.vcf > clarity_clinvar_snpeff.vcf\n"
       ]
      }
     ],
     "input": [
      "import subprocess as subp\n",
      "import os\n",
      "\n",
      "#snpeff_path = '/Users/summerrae/tools/snpEff/snpEff.jar'\n",
      "snpeff_path = 'D:/Documents/tools/snpEff/snpEff.jar'\n",
      "\n",
      "# function to add functional annotation\n",
      "def df_to_snpeff(input_df):\n",
      "    if os.path.exists(snpeff_path):\n",
      "        # these columns are output to vcf file\n",
      "        df = input_df[['chrom', 'pos', 'ref', 'alt', 'qual', 'filter', 'gt']]\n",
      "        # write to file for conversion to vcf\n",
      "        df.to_csv('clarity_clinsig.tsv', header=True, encoding='utf-8', sep=\"\\t\", index=False)\n",
      "        # run tab2vcf and upon success, run snpeff\n",
      "        vcf_process = subp.Popen(['python', './nbs_genes/tab2vcf.py', 'clarity_clinsig.tsv'])\n",
      "        vcf_process.wait()\n",
      "        # command to run snpeff \n",
      "        snpeff_cmd = 'java -Xmx4g -jar {} -t -v -noStats GRCh37.75 clarity_clinsig.vcf > ' \\\n",
      "                     'clarity_clinvar_snpeff.vcf'.format(snpeff_path)\n",
      "        # run snpeff on vcf file\n",
      "        snpeff_process = subp.Popen(snpeff_cmd, shell=True)\n",
      "        snpeff_process.wait()\n",
      "    else:\n",
      "        print \"Make sure you entered the correct path to snpEff.jar\"\n",
      "\n",
      "# run function on query results\n",
      "try:\n",
      "    df_to_snpeff(clinvar_df)\n",
      "except Exception, e: \n",
      "    print str(e)"
     ],
     "language": "python",
     "prompt_number": 61
    },
    {
     "cell_type": "markdown",
     "metadata": {},
     "source": [
      "The functional annotations were read back into Python, parsed and matched back up with the variants by transcript id. If a transcript id was not available, variants were matched by chrom,pos,ref and alt allele. "
     ]
    },
    {
     "cell_type": "code",
     "execution_count": null,
     "metadata": {},
     "outputs": [
      {
       "output_type": "stream",
       "stream": "stdout",
       "text": [
        "4861 variants annotated for coding consequences.\n"
       ]
      }
     ],
     "input": [
      "import numpy as np\n",
      "import pandas as pd\n",
      "\n",
      "# pull out rows that have no transcript id for positional matching\n",
      "no_tx = clinvar_df[clinvar_df['transcript_id'].isnull()]\n",
      "with_tx = clinvar_df[clinvar_df['transcript_id'].notnull()]\n",
      "\n",
      "# function to drop extra columns ending in _y from df merge\n",
      "def drop_y(df):\n",
      "    for col in df:\n",
      "        if col.endswith('_y'):\n",
      "            df.drop(col, axis=1, inplace=True)\n",
      "            \n",
      "def parse_snpeff(input_df, input_vcf):\n",
      "    # read in snpeff vcf file\n",
      "    annot_vcf = pd.read_csv(input_vcf, sep='\\t', skiprows=8)\n",
      "    # split info field into separate rows for each transcript\n",
      "    info_df = pd.Series([j for i in annot_vcf['INFO'].str.split(',') for j in i])\n",
      "    # split each rown into separate columns by the pipe\n",
      "    info_df = pd.DataFrame(list(info_df.str.split('|')))\n",
      "    # drop emtpy/unnecessary columns\n",
      "    info_df = info_df[list(info_df.columns[0:11])]\n",
      "    info_df.columns = ['alt', 'effect', 'impact', 'gene_name', 'gene_id', 'feature_type', 'transcript_id', \n",
      "                     'tx_biotype', 'rank', 'hgvs_c', 'hgvs_p']\n",
      "    # remove the annotation header 'ANN=' from the alt field\n",
      "    info_df['alt'] = info_df['alt'].str.replace('ANN=', '')\n",
      "    # keep only transcript level feature types\n",
      "    info_df = info_df[(info_df['feature_type'] == 'transcript')]\n",
      "    #merge annotations with variant table\n",
      "    df_functional = pd.merge(input_df, info_df, on=['transcript_id', 'alt'], how='left')  \n",
      "    drop_y(df_functional)\n",
      "    # rename columns ending in _x from merge\n",
      "    df_functional.rename(columns=lambda x: x.replace('_x', ''), inplace=True)\n",
      "    df_functional.drop_duplicates(inplace=True)\n",
      "    return df_functional\n",
      "\n",
      "def snpeff_notx(input_df, input_vcf):\n",
      "    # read in snpeff vcf file\n",
      "    annot_vcf = pd.read_csv(input_vcf, sep='\\t', skiprows=8)\n",
      "    # split info field into separate rows for each transcript\n",
      "    info_df = pd.Series([j for i in annot_vcf['INFO'].str.split(',') for j in i])\n",
      "    # split each rown into separate columns by the pipe\n",
      "    info_df = pd.DataFrame(list(info_df.str.split('|')))\n",
      "    # drop emtpy/unnecessary columns\n",
      "    info_df = info_df[list(info_df.columns[0:11])]\n",
      "    info_df.columns = ['alt', 'effect', 'impact', 'gene_name', 'gene_id', 'feature_type', 'transcript_id', \n",
      "                     'tx_biotype', 'rank', 'hgvs_c', 'hgvs_p']\n",
      "    # remove the annotation header 'ANN=' from the alt field\n",
      "    info_df['alt'] = info_df['alt'].str.replace('ANN=', '')\n",
      "    # keep only transcript level feature types\n",
      "    info_df = info_df[(info_df['feature_type'] == 'transcript')]\n",
      "    #merge annotations with variant table\n",
      "    df_functional = pd.merge(input_df, info_df, on=['chrom', 'pos', 'ref', 'alt'], how='left')  \n",
      "    drop_y(df_functional)\n",
      "    # rename columns ending in _x from merge\n",
      "    df_functional.rename(columns=lambda x: x.replace('_x', ''), inplace=True)\n",
      "    df_functional.drop_duplicates(inplace=True)\n",
      "    return df_functional\n",
      "\n",
      "# merge nbs_genes with functional annotations\n",
      "tx_annot = parse_snpeff(with_tx, 'clarity_clinvar_snpeff.vcf')\n",
      "notx_annot = parse_snpeff(no_tx, 'clarity_clinvar_snpeff.vcf')\n",
      "\n",
      "# merge data frames back together\n",
      "clinvar_annot = pd.concat([tx_annot, notx_annot]).drop_duplicates().reset_index(drop=True)\n",
      "\n",
      "print str(len(clinvar_annot)) + \" variants annotated for coding consequences.\""
     ],
     "language": "python",
     "prompt_number": 7
    },
    {
     "cell_type": "heading",
     "metadata": {},
     "level": 2,
     "source": [
      "Search for comp-het variants"
     ]
    },
    {
     "cell_type": "markdown",
     "metadata": {},
     "source": [
      "Newborn het variants were subset for variants inherited from het parents, and then grouped by gene and family: "
     ]
    },
    {
     "cell_type": "code",
     "execution_count": null,
     "metadata": {},
     "outputs": [],
     "input": [
      "# disable erroneous pandas warning\n",
      "pd.options.mode.chained_assignment = None\n",
      "\n",
      "# add a family id column for comp_het analysis\n",
      "clinvar_annot['family_id'] = clinvar_annot['sample_id'].apply(lambda x: x.split('-')[0])\n",
      "\n",
      "#subset for het parent variants\n",
      "mom_hets = clinvar_annot[((clinvar_annot['member'] == 'M') & (clinvar_annot['gt'] == '0/1'))]\n",
      "dad_hets = clinvar_annot[((clinvar_annot['member'] == 'F') & (clinvar_annot['gt'] == '0/1'))]\n",
      "\n",
      "#subset newborn het variants\n",
      "nb_het1 = clinvar_annot[((clinvar_annot['member'] == 'NB1') & (clinvar_annot['gt'] == '0/1'))]\n",
      "nb_het2 = clinvar_annot[((clinvar_annot['member'] == 'NB2') & (clinvar_annot['gt'] == '0/1'))]\n",
      "nb_het3 = clinvar_annot[((clinvar_annot['member'] == 'NB3') & (clinvar_annot['gt'] == '0/1'))]"
     ],
     "language": "python",
     "prompt_number": 8
    },
    {
     "cell_type": "code",
     "execution_count": null,
     "metadata": {},
     "outputs": [],
     "input": [
      "# function to find matching parent variants\n",
      "def find_parent_vars(nb_df, parent_df):\n",
      "    # merge dataframes on by variant position\n",
      "    merged_df = pd.merge(nb_df, parent_df, on=['chrom', 'pos', 'ref', 'alt'], how='inner')\n",
      "    # rename parent sample_id column to avoid dropping when removing '_y' cols\n",
      "    merged_df.rename(columns = {'member_y':'from_parent'}, inplace=True)\n",
      "    # drop extra y columns from merge with fathers\n",
      "    drop_y(merged_df)\n",
      "    #remove _x from colnames\n",
      "    merged_df.rename(columns=lambda x: x.replace('_x', ''), inplace=True)\n",
      "    return merged_df\n",
      "    \n",
      "# run function for each group of newborns\n",
      "def match_parents(nb_df):\n",
      "    if (len(mom_hets) > 0) and (len(dad_hets) > 0):\n",
      "        nb_and_mom = find_parent_vars(nb_df, mom_hets)\n",
      "        nb_and_dad = find_parent_vars(nb_df, dad_hets)\n",
      "        # merge variants found in either mother or father\n",
      "        het_cands = pd.concat([nb_and_mom,nb_and_dad]).drop_duplicates().reset_index(drop=True)\n",
      "        # group variants by gene name\n",
      "        by_gene = het_cands.groupby(['gene_name', 'family_id'])\n",
      "        return by_gene\n",
      "    else:\n",
      "        print \"No compound het variants\"\n",
      "        \n",
      "# run function for each group of newborns\n",
      "het1_grouped = match_parents(nb_het1)\n",
      "het2_grouped = match_parents(nb_het2)\n",
      "het3_grouped = match_parents(nb_het3)"
     ],
     "language": "python",
     "prompt_number": 9
    },
    {
     "cell_type": "markdown",
     "metadata": {},
     "source": [
      "After grouping the variants by gene and family, the variants will be filtered to keep only variants with at least one different variant coming from the mother and one from the father.  "
     ]
    },
    {
     "cell_type": "code",
     "execution_count": null,
     "metadata": {},
     "outputs": [],
     "input": [
      "# function to find compound hets\n",
      "def find_comphets(gene_group, comphet_list_name):\n",
      "    for name, group in gene_group:\n",
      "        # if there is a variant in more than one position\n",
      "        if group.pos.nunique() > 1:\n",
      "            # and there are more than one variants from both parents\n",
      "            if len(group[group['from_parent'] == 'M'] > 1) and len(group[group['from_parent'] == 'F'] > 1):\n",
      "                comphet_list_name.append(group)\n",
      "            # or if there is only one variant from each parent\n",
      "            elif len(group[group['from_parent'] == 'M'] == 1) and len(group[group['from_parent'] == 'F'] == 1):\n",
      "                # and those variants are different\n",
      "                if len(group[group['from_parent'] == 'M'].pos - group[group['from_parent'] == 'F']) > 0:\n",
      "                        comphet_list_name.append(group)\n",
      "\n",
      "# create empty list to store comp_hets\n",
      "comp_hets = []\n",
      "\n",
      "het1_df = find_comphets(het1_grouped, comp_hets)     \n",
      "het2_df = find_comphets(het2_grouped, comp_hets)\n",
      "het3_df = find_comphets(het3_grouped, comp_hets)\n",
      "comphet_df = pd.concat(comp_hets)\n",
      "comphet_df.name = 'comp_hets'"
     ],
     "language": "python",
     "prompt_number": 10
    },
    {
     "cell_type": "heading",
     "metadata": {},
     "level": 2,
     "source": [
      "Results Summary"
     ]
    },
    {
     "cell_type": "code",
     "execution_count": null,
     "metadata": {},
     "outputs": [
      {
       "output_type": "stream",
       "stream": "stdout",
       "text": [
        "Variants found: \n\n1831 hom_alt variants found.\nCondition: \nProline_dehydrogenase_deficiency|Schizophrenia_4|not_provided    357\nNeutrophil-specific_antigens_na1/na2                            152\nBARDET-BIEDL_SYNDROME_2/6\\x2c_DIGENIC                           147\nSkin/hair/eye_pigmentation\\x2c_variation_in\\x2c_5|Malignant_melanoma_of_skin    102\nSevere_combined_immunodeficiency\\x2c_autosomal_recessive\\x2c_T_cell-negative\\x2c_B_cell-positive\\x2c_NK_cell-positive|not_specified     90\nBifunctional_peroxisomal_enzyme_deficiency                       88\nMetachromatic_leukodystrophy|not_specified                       80\n4-Alpha-hydroxyphenylpyruvate_hydroxylase_deficiency             72\nPrekallikrein_deficiency                                         70\nThrombophilia_due_to_factor_V_Leiden|Ischemic_stroke\\x2c_susceptibility_to|Budd-Chiari_syndrome\\x2c_susceptibility_to|Recurrent_abortion     60\n21-hydroxylase_deficiency                                        54\nDihydropyrimidine_dehydrogenase_deficiency                       51\nDebrisoquine\\x2c_ultrarapid_metabolism_of                        50\nUpshaw-Schulman_syndrome                                         36\nDebrisoquine\\x2c_poor_metabolism_of                              35\nKnobloch_syndrome_1                                              30\nCone-rod_dystrophy_13|not_provided                               30\nPulmonary_disease\\x2c_chronic_obstructive\\x2c_rate_of_decline_of_lung_function_in|Epidermolysis_bullosa_dystrophica\\x2c_autosomal_recessive\\x2c_modifier_of|Preterm_premature_rupture_of_membranes     30\nIntermediate_maple_syrup_urine_disease_type_2                    21\nFactor_xiii\\x2c_a_subunit\\x2c_deficiency_of                      19\nSkin/hair/eye_pigmentation\\x2c_variation_in\\x2c_1                18\nFamilial_type_3_hyperlipoproteinemia|ALZHEIMER_DISEASE_2\\x2c_DUE_TO_APOE4_ISOFORM|Familial_type_3_hyperlipoproteinemia|APOE4(-)-FREIBURG|APOE4_VARIANT     16\nSystemic_lupus_erythmatosus\\x2c_association_with                 15\nSkin/hair/eye_pigmentation\\x2c_variation_in\\x2c_10               15\nGastric_cancer_susceptibility_after_h._pylori_infection          14\nObesity\\x2c_age_at_onset_of|Metabolic_syndrome\\x2c_susceptibility_to     14\nGaucher's_disease\\x2c_type_1|Parkinson_disease\\x2c_late-onset\\x2c_susceptibility_to|Dementia\\x2c_Lewy_body\\x2c_susceptibility_to|not_provided     14\nHair_morphology_1\\x2c_hair_thickness                             12\nHomocysteine\\x2c_total_plasma\\x2c_elevated                       12\nBak_platelet-specific_antigen                                    12\nProgressive_familial_heart_block_type_1A|not_specified|not_provided     10\nRetinitis_pigmentosa_35                                          10\nSerum_amyloid_a_variant                                           9\nALPHA-2A_ADRENERGIC_RECEPTOR\\x2c_OVEREXPRESSION_or_TYPE_2_DIABETES_SUSCEPTIBILITY_(safer_to_say_the_former_than_the_latter)      9\nsporadic_abdominal_aortic_aneurysm|not_specified                  8\nCancer_progression_and_tumor_cell_motility                        8\nObesity\\x2c_variation_in                                          8\nC3hex\\x2c_ability_to_smell                                        8\nBietti_crystalline_corneoretinal_dystrophy|not_specified|not_provided      7\nSerum_calcium_level|not_specified                                 6\nSkin/hair/eye_pigmentation\\x2c_variation_in\\x2c_6                 5\nFetal_hemoglobin_quantitative_trait_locus_5                       5\nAge-related_macular_degeneration_11                               3\nSkin/hair/eye_pigmentation\\x2c_variation_in\\x2c_4                 3\nLactase_persistence                                               3\nLucey-Driscoll_syndrome                                           3\nObesity\\x2c_association_with                                      2\nHypertension\\x2c_diastolic\\x2c_resistance_to                      2\nProstate_cancer\\x2c_hereditary\\x2c_13                             2\nOdontoonychodermal_dysplasia|Tooth_agenesis\\x2c_selective\\x2c_4      1\nCYP2E1*6_ALLELE                                                   1\nTyrosinase-negative_oculocutaneous_albinism|not_provided          1\nCorticosterone_methyloxidase_type_2_deficiency|Corticosterone_methyloxidase_type_1_deficiency      1\nLength: 53, dtype: int64 \n\nAffected gene(s): \n['SLC45A2' 'KLKB1' 'FCGR3B' 'BBS2' 'COL18A1' 'HPD' 'PRODH' 'DPYD' 'DGCR6'\n 'ARSA' 'CTH' 'BANK1' 'GHRL' 'CYP2D6' 'CYP21A2' 'F5' 'RPGRIP1' 'IL1B'\n 'FGFR4' 'EDAR' 'HSD17B4' 'ADAMTS13' 'SEMA4A' 'TPCN2' 'IL7R' 'GBA' 'ITGA2B'\n 'DBT' 'APOE' 'ADRA2A' 'OR2J3' 'FTL' 'SLC24A5' 'CST3' 'PPARGC1B' 'TYR'\n 'SAA1' 'CYP4V2' 'CASR' 'SCN5A' 'KCNMB1' 'WNT10A' 'SDC3' 'CYP11B2' nan] \n\n120 comp_hets variants found.\nCondition: \nDebrisoquine\\x2c_ultrarapid_metabolism_of             84\nSkin/hair/eye_pigmentation\\x2c_variation_in\\x2c_10    14\nABO_BLOOD_GROUP_SYSTEM\\x2c_B(A)_PHENOTYPE              8\nDebrisoquine\\x2c_poor_metabolism_of                    8\nC3hex\\x2c_ability_to_smell                             6\ndtype: int64 \n\nAffected gene(s): \n['CYP2D6' 'OR2J3' 'TPCN2' 'ABO'] \n\n\n\n"
       ]
      }
     ],
     "input": [
      "# subset clinvar_annot by zygosity\n",
      "hom_alt = clinvar_annot[(clinvar_annot['gt'] == '1/1')]\n",
      "hom_alt.name = 'hom_alt'\n",
      "\n",
      "# report variant counts\n",
      "def report_result_counts(results_df):\n",
      "    if len(results_df) > 0:\n",
      "        print str(len(results_df)) + ' {} variants found.'.format(results_df.name)\n",
      "        condition = results_df['clin_dbn'].value_counts()\n",
      "        genes = results_df['gene_name'].unique()\n",
      "        print 'Condition: \\n', condition, '\\n'\n",
      "        print 'Affected gene(s): \\n', genes, '\\n'\n",
      "    else:\n",
      "         print \"No {} variants found. \\n\".format(results_df.name)\n",
      "        \n",
      "print \"Variants found: \\n\"\n",
      "report_result_counts(hom_alt)\n",
      "report_result_counts(comphet_df)\n",
      "print \"\\n\""
     ],
     "language": "python",
     "prompt_number": 11
    },
    {
     "cell_type": "heading",
     "metadata": {},
     "level": 2,
     "source": [
      "Save Results"
     ]
    },
    {
     "cell_type": "code",
     "execution_count": null,
     "metadata": {},
     "outputs": [
      {
       "output_type": "stream",
       "stream": "stdout",
       "text": [
        "Saving 1831 hom_alt variants to current working directory\nSaving 120 comp_hets variants to current working directory\n"
       ]
      }
     ],
     "input": [
      "# add from_parent column to dom and hom_rec so we can keep info for comp_het\n",
      "hom_alt['from_parent'] = 'NA'\n",
      "\n",
      "# merge and mark predicted variants\n",
      "def merge_predictors(df, out_list):\n",
      "    if len(df) > 0:\n",
      "        df['var_type'] = df.name\n",
      "        out_list.append(df)\n",
      "        print \"Saving {} {} variants to current working directory\".format(len(df), df.name)\n",
      "    else:\n",
      "        print \"No {} variants to save.\".format(df.name)\n",
      "\n",
      "# list to store patho output\n",
      "sig_list = []            \n",
      "\n",
      "merge_predictors(hom_alt, sig_list)\n",
      "merge_predictors(comphet_df, sig_list)\n",
      "\n",
      "# merge results\n",
      "merged_clinsig = pd.concat(sig_list, axis=0)\n",
      "\n",
      "# save to file\n",
      "merged_clinsig.to_csv('clarity_clinsig.tsv', header=True, encoding='utf-8', index=False, sep='\\t')"
     ],
     "language": "python",
     "prompt_number": 12
    },
    {
     "cell_type": "code",
     "execution_count": null,
     "metadata": {},
     "outputs": [],
     "input": [
      ""
     ],
     "language": "python"
    }
   ]
  }
 ],
 "cells": [],
 "metadata": {},
 "nbformat": 3,
 "nbformat_minor": 0
}