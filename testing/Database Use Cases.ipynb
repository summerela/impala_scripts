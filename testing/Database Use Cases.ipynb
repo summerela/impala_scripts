{
 "cells": [
  {
   "cell_type": "markdown",
   "metadata": {},
   "source": [
    "# Database Use Cases"
   ]
  },
  {
   "cell_type": "markdown",
   "metadata": {},
   "source": [
    "## Test 1: Calculate Allele Frequency"
   ]
  },
  {
   "cell_type": "code",
   "execution_count": null,
   "metadata": {
    "collapsed": true
   },
   "outputs": [],
   "source": [
    "with t AS  \n",
    "      (  \n",
    "      SELECT COUNT(DISTINCT subject_id) * 2 AS n_total FROM p7_staging.two_row_varid  \n",
    "      ),  \n",
    "   -- group variants in subset by position using var_id and  \n",
    "   -- count number of times each variant occurs  \n",
    "   vars AS  \n",
    "      (  \n",
    "        SELECT var_id, count(var_id) as var_count  \n",
    "        FROM p7_staging.two_row_varid  \n",
    "        GROUP BY var_id  \n",
    "      )  \n",
    "   -- divide the number of times each variant occurs  \n",
    "   -- by the total number of samples  \n",
    "SELECT vars.*, vars.var_count/t.n_total AS freq \n",
    "  FROM vars, t  "
   ]
  },
  {
   "cell_type": "markdown",
   "metadata": {},
   "source": [
    "Results: 10 rows in 2 seconds"
   ]
  },
  {
   "cell_type": "markdown",
   "metadata": {},
   "source": [
    "## Test 2: Extract all variants in Exon 5 of BRCA1 transcript."
   ]
  },
  {
   "cell_type": "code",
   "execution_count": null,
   "metadata": {
    "collapsed": true
   },
   "outputs": [],
   "source": [
    "-- create view with annotations for all brca1 genes  \n",
    "create view p7_product.brca1 as   \n",
    "select *   \n",
    "from p7_product.dbnsfp_vars   \n",
    "where gene_name LIKE '%BRCA1%'  \n",
    "and chrom = '17'  \n",
    "and pos_block = 41;  "
   ]
  },
  {
   "cell_type": "markdown",
   "metadata": {},
   "source": [
    "Results: .04 seconds"
   ]
  },
  {
   "cell_type": "markdown",
   "metadata": {},
   "source": [
    "### Find all Illumina Variants in BRCA1 exon 5"
   ]
  },
  {
   "cell_type": "code",
   "execution_count": null,
   "metadata": {
    "collapsed": true
   },
   "outputs": [],
   "source": [
    "-- find all illumina variants in brca1 exon 5\n",
    "select ill.subject_id, b.*\n",
    "from p7_platform.wgs_illumina_variant ill, p7_product.brca1 b\n",
    "where ill.chrom = b.chrom\n",
    "and ill.pos = b.pos\n",
    "and ill.ref = b.ref\n",
    "and ill.alt = b.alt\n",
    "and ill.chrom = '17'\n",
    "and b.chrom = '17'\n",
    "and b.exon_number = 5"
   ]
  },
  {
   "cell_type": "markdown",
   "metadata": {},
   "source": [
    "Results:  4.72s  \n",
    "View Creation + Query = 4.76 seconds  \n",
    "Expected = 60 seconds  \n",
    "Time under expected = 55.24  "
   ]
  },
  {
   "cell_type": "markdown",
   "metadata": {},
   "source": [
    "## Test 3: Extract all PPC variants in BRCA2 with HGMD and ClinVar annotations"
   ]
  },
  {
   "cell_type": "code",
   "execution_count": null,
   "metadata": {
    "collapsed": true
   },
   "outputs": [],
   "source": [
    "-- create table of all PPC BRCA2 variants with annotations\n",
    "create table p7_product.ppc_brca2 as   \n",
    "select *   \n",
    "from p7_product.dbnsfp_vars   \n",
    "where gene_name LIKE '%BRCA2%'  \n",
    "and chrom = '13'  \n",
    "and pos_block = 32\n",
    "and ppc = 'nonsynonymous' or ppc = 'frameshift_nonsynonymous';  \n",
    "\n",
    "-- find all ppc illumina variants in brca2 with clinvar annotations\n",
    "select ill.subject_id, b.*\n",
    "from p7_platform.wgs_illumina_variant ill, p7_product.ppc_brca2 b\n",
    "where ill.chrom = b.chrom\n",
    "and ill.pos = b.pos\n",
    "and ill.ref = b.ref\n",
    "and ill.alt = b.alt\n",
    "and ill.chrom = '13'; \n"
   ]
  },
  {
   "cell_type": "code",
   "execution_count": null,
   "metadata": {
    "collapsed": true
   },
   "outputs": [],
   "source": [
    "Results: "
   ]
  },
  {
   "cell_type": "markdown",
   "metadata": {},
   "source": [
    "## Test 4: Find all variants in BRCA2 that are in ClinVar or HGMD."
   ]
  },
  {
   "cell_type": "code",
   "execution_count": 70,
   "metadata": {
    "collapsed": false
   },
   "outputs": [],
   "source": [
    "-- create table with annotations for all brca2 genes  \n",
    "create table p7_product.brca2 as   \n",
    "select *   \n",
    "from p7_product.dbnsfp_vars   \n",
    "where gene_name LIKE '%BRCA2%'  \n",
    "and chrom = '13'  \n",
    "and pos_block = 32;  \n",
    "\n",
    ".04s\n",
    "\n",
    "-- find all illumina variants in brca2 with clinvar annotations\n",
    "select ill.subject_id, b.*\n",
    "from p7_platform.wgs_illumina_variant ill, p7_product.brca2 b\n",
    "where ill.chrom = b.chrom\n",
    "and ill.pos = b.pos\n",
    "and ill.ref = b.ref\n",
    "and ill.alt = b.alt\n",
    "and ill.chrom = '13'\n",
    "and (b.clin_sig = '4' or b.clin_sig = '5'); \n",
    "\n"
   ]
  },
  {
   "cell_type": "code",
   "execution_count": null,
   "metadata": {
    "collapsed": true
   },
   "outputs": [],
   "source": [
    "Results: 3.8 seconds"
   ]
  }
 ],
 "metadata": {
  "kernelspec": {
   "display_name": "Python 2",
   "language": "python",
   "name": "python2"
  },
  "language_info": {
   "codemirror_mode": {
    "name": "ipython",
    "version": 2
   },
   "file_extension": ".py",
   "mimetype": "text/x-python",
   "name": "python",
   "nbconvert_exporter": "python",
   "pygments_lexer": "ipython2",
   "version": "2.7.10"
  }
 },
 "nbformat": 4,
 "nbformat_minor": 0
}
