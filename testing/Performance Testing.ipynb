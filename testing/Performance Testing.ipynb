{
 "cells": [
  {
   "cell_type": "markdown",
   "metadata": {},
   "source": [
    "# Test 1: Tables vs Views: join distinct chrom, pos, ref, alt from cg and illumina tables for chromosome 1"
   ]
  },
  {
   "cell_type": "markdown",
   "metadata": {},
   "source": [
    "## Querying Tables"
   ]
  },
  {
   "cell_type": "markdown",
   "metadata": {},
   "source": [
    "### Create tables of distinct chrom, pos, ref, alt "
   ]
  },
  {
   "cell_type": "markdown",
   "metadata": {},
   "source": [
    "– create table of distinct chrom, pos, ref, alt from illumina   \n",
    "\n",
    "    create table p7 product.illumina distinct   \n",
    "    (pos int, ref string, alt string )   \n",
    "    partitioned by (chrom string, pos block int)  \n",
    "    \n",
    "– create table of distinct chrom, pos, ref, alt from cg   \n",
    "\n",
    "    create table p7 product.comgen distinct  \n",
    "    (pos int, ref string, alt string )   \n",
    "    partitioned by (chrom string, pos block int)  "
   ]
  },
  {
   "cell_type": "markdown",
   "metadata": {},
   "source": [
    "### Join tables"
   ]
  },
  {
   "cell_type": "markdown",
   "metadata": {},
   "source": [
    "-- join variants  \n",
    "    select count(1) from (  \n",
    "    \n",
    "        SELECT distinct CAST(coalesce(t0.pos, t1.pos) AS int) AS pos,  \n",
    "            coalesce(t0.ref, t1.ref) AS ref,  \n",
    "            coalesce(t0.alt, t1.alt) AS alt,  \n",
    "            coalesce(t0.chrom, t1.chrom) AS chrom  \n",
    "        FROM p7_product.illumina_distinct t0  \n",
    "        FULL OUTER JOIN p7_product.comgen_distinct t1  \n",
    "            ON t0.chrom = t1.chrom  \n",
    "            AND t0.pos = t1.pos  \n",
    "            AND t0.ref = t1.ref  \n",
    "            AND t0.alt = t1.alt  \n",
    "        WHERE t0.chrom = ’1’  \n",
    "        AND t1.chrom = ’1’  \n",
    "    ) as test;  "
   ]
  },
  {
   "cell_type": "markdown",
   "metadata": {},
   "source": [
    "### Explain Plan"
   ]
  },
  {
   "cell_type": "markdown",
   "metadata": {},
   "source": [
    "Estimated Per-Host Requirements: Memory=3.83GB VCores=2  \n",
    "\n",
    "\n",
    "10:AGGREGATE [FINALIZE]  \n",
    "|  output: count:merge(1)  \n",
    "|  \n",
    "09:EXCHANGE [UNPARTITIONED]  \n",
    "|  \n",
    "04:AGGREGATE  \n",
    "|  output: count(1)  \n",
    "|  \n",
    "08:AGGREGATE [FINALIZE]  \n",
    "|  group by: CAST(coalesce(t0.pos, t1.pos) AS INT), coalesce(t0.ref, t1.ref), coalesce(t0.alt, t1.alt),   coalesce(t0.chrom, t1.chrom)  \n",
    "|  \n",
    "07:EXCHANGE [HASH(CAST(coalesce(t0.pos, t1.pos) AS INT),coalesce(t0.ref, t1.ref),coalesce(t0.alt,   t1.alt),coalesce(t0.chrom, t1.chrom))]  \n",
    "|  \n",
    "03:AGGREGATE  \n",
    "|  group by: CAST(coalesce(t0.pos, t1.pos) AS INT), coalesce(t0.ref, t1.ref), coalesce(t0.alt, t1.alt),   coalesce(t0.chrom, t1.chrom)  \n",
    "|  \n",
    "02:HASH JOIN [FULL OUTER JOIN, PARTITIONED]  \n",
    "|  hash predicates: t1.chrom = t0.chrom, t1.pos = t0.pos, t1.ref = t0.ref, t1.alt = t0.alt  \n",
    "|  other predicates: t0.chrom = '1', t1.chrom = '1'  \n",
    "|  \n",
    "|--06:EXCHANGE [HASH(t0.chrom,t0.pos,t0.ref,t0.alt)]  \n",
    "|  |  \n",
    "|  00:SCAN HDFS [p7_product.illumina_distinct t0]  \n",
    "|     partitions=230/2916 files=230 size=210.14MB  \n",
    "|  \n",
    "05:EXCHANGE [HASH(t1.chrom,t1.pos,t1.ref,t1.alt)]  \n",
    "|  \n",
    "01:SCAN HDFS [p7_product.comgen_distinct t1]  \n",
    "   partitions=230/2916 files=460 size=326.15MB  "
   ]
  },
  {
   "cell_type": "markdown",
   "metadata": {},
   "source": [
    "Result 1: Fetched 1 row(s) in 6.03s  \n",
    "Result 2: Fetched 1 row(s) in 6.15s  \n",
    "Result 3: Fetched 1 row(s) in 5.98s  \n",
    "Average time: 6.05s  "
   ]
  },
  {
   "cell_type": "markdown",
   "metadata": {},
   "source": [
    "## Querying Views"
   ]
  },
  {
   "cell_type": "markdown",
   "metadata": {},
   "source": [
    "-- create view of distinct chrom, pos, ref, alt from illumina  \n",
    "\n",
    "    create view p7_product.illumina_view as  \n",
    "        (select * from p7_product.illumina_distinct)  \n",
    "        \n",
    "-- create table of distinct chrom, pos, ref, alt from cg  \n",
    "\n",
    "    create view p7_product.comgen_view as  \n",
    "        (select * from p7_product.comgen_distinct)"
   ]
  },
  {
   "cell_type": "markdown",
   "metadata": {},
   "source": [
    "select count(1) from (    \n",
    "\n",
    "    SELECT distinct CAST(coalesce(t0.pos, t1.pos) AS int) AS pos,  \n",
    "        coalesce(t0.ref, t1.ref) AS ref,   \n",
    "        coalesce(t0.alt, t1.alt) AS alt,  \n",
    "        coalesce(t0.chrom, t1.chrom) AS chrom  \n",
    "    FROM p7_product.illumina_view t0  \n",
    "    FULL OUTER JOIN p7_product.comgen_view t1  \n",
    "        ON t0.chrom = t1.chrom  \n",
    "        AND t0.pos = t1.pos  \n",
    "        AND t0.ref = t1.ref  \n",
    "        AND t0.alt = t1.alt  \n",
    "    WHERE t0.chrom = ’1’  \n",
    "    AND t1.chrom = ’1’  \n",
    "    ) as test;"
   ]
  },
  {
   "cell_type": "markdown",
   "metadata": {},
   "source": [
    "Result 1: Fetched 1 row(s) in 5.89s  \n",
    "Result 2: Fetched 1 row(s) in 6.20s  \n",
    "Result 3: Fetched 1 row(s) in 5.92s  \n",
    "Average time: 6.00s  "
   ]
  },
  {
   "cell_type": "markdown",
   "metadata": {},
   "source": [
    "# Test 2: Querying a View that includes a Join"
   ]
  },
  {
   "cell_type": "markdown",
   "metadata": {},
   "source": [
    "-- create the view\n",
    "\n",
    "    create view p7_product.test_view as (\n",
    "    SELECT distinct CAST(coalesce(t0.pos, t1.pos) AS int) AS pos,  \n",
    "        coalesce(t0.ref, t1.ref) AS ref,  \n",
    "        coalesce(t0.alt, t1.alt) AS alt,  \n",
    "        coalesce(t0.chrom, t1.chrom) AS chrom  \n",
    "    FROM p7_product.illumina_distinct t0  \n",
    "    FULL OUTER JOIN p7_product.comgen_distinct t1  \n",
    "        ON t0.chrom = t1.chrom   \n",
    "        AND t0.pos = t1.pos  \n",
    "        AND t0.ref = t1.ref  \n",
    "        AND t0.alt = t1.alt;  \n",
    " \n",
    "-- query the view  \n",
    "\n",
    "    select count(1) from (  \n",
    "        select *  \n",
    "        from p7_product.test_view  \n",
    "        WHERE chrom = ’1’  \n",
    "    )  \n",
    "    as test;"
   ]
  },
  {
   "cell_type": "markdown",
   "metadata": {},
   "source": [
    "### Explain Plan"
   ]
  },
  {
   "cell_type": "markdown",
   "metadata": {},
   "source": [
    "Estimated Per-Host Requirements: Memory=65.27GB VCores=2  \n",
    "    \n",
    "08:EXCHANGE [UNPARTITIONED]    \n",
    "|  \n",
    "07:AGGREGATE [FINALIZE]  \n",
    "|  group by: CAST(coalesce(t0.pos, t1.pos) AS INT), coalesce(t0.ref, t1.ref), coalesce(t0.alt, t1.alt), coalesce(t0.chrom, t1.chrom)  \n",
    "|  \n",
    "06:EXCHANGE [HASH(CAST(coalesce(t0.pos, t1.pos) AS INT),coalesce(t0.ref, t1.ref),coalesce(t0.alt, t1.alt),coalesce(t0.chrom, t1.chrom))]  \n",
    "|  \n",
    "03:AGGREGATE  \n",
    "|  group by: CAST(coalesce(t0.pos, t1.pos) AS INT), coalesce(t0.ref, t1.ref), coalesce(t0.alt, t1.alt), coalesce(t0.chrom, t1.chrom)  \n",
    "|  \n",
    "02:HASH JOIN [FULL OUTER JOIN, PARTITIONED]  \n",
    "|  hash predicates: t1.chrom = t0.chrom, t1.pos = t0.pos, t1.ref = t0.ref, t1.alt = t0.alt  \n",
    "|  \n",
    "|--05:EXCHANGE [HASH(t0.chrom,t0.pos,t0.ref,t0.alt)]  \n",
    "|  |  \n",
    "|  00:SCAN HDFS [p7_product.illumina_distinct t0]  \n",
    "|     partitions=2916/2916 files=2928 size=2.67GB  \n",
    "|  \n",
    "04:EXCHANGE [HASH(t1.chrom,t1.pos,t1.ref,t1.alt)]  \n",
    "|  \n",
    "01:SCAN HDFS [p7_product.comgen_distinct t1]  \n",
    "   partitions=2916/2916 files=5828 size=4.12GB  "
   ]
  },
  {
   "cell_type": "markdown",
   "metadata": {},
   "source": [
    "Result 1: Fetched 1 row(s) in 132.55s  \n",
    "Result 2: Fetched 1 row(s) in 130.79s  \n",
    "Result 3: Fetched 1 row(s) in 137.28s  \n",
    "Average Time: 133.54s  "
   ]
  },
  {
   "cell_type": "markdown",
   "metadata": {},
   "source": [
    "# Test 3: Creating View using WHERE clause"
   ]
  },
  {
   "cell_type": "markdown",
   "metadata": {},
   "source": [
    "    create view p7_product.test_view_chr1 as  \n",
    "    \n",
    "         SELECT distinct CAST(coalesce(t0.pos, t1.pos) AS int) AS pos,  \n",
    "              coalesce(t0.ref, t1.ref) AS ref,  \n",
    "              coalesce(t0.alt, t1.alt) AS alt,  \n",
    "              coalesce(t0.chrom, t1.chrom) AS chrom  \n",
    "         FROM p7_product.illumina_distinct t0  \n",
    "         FULL OUTER JOIN p7_product.comgen_distinct t1  \n",
    "             ON t0.chrom = t1.chrom  \n",
    "             AND t0.pos = t1.pos  \n",
    "             AND t0.ref = t1.ref  \n",
    "             AND t0.alt = t1.alt  \n",
    "        WHERE t0.chrom = ’1’  \n",
    "        AND t1.chrom = ’1’;   \n",
    "        \n",
    "    select count(1) from (  \n",
    "        select *  \n",
    "        from p7_product.test_view_chr1  \n",
    "    )\n",
    "    as test;  "
   ]
  },
  {
   "cell_type": "markdown",
   "metadata": {},
   "source": [
    "Estimated Per-Host Requirements: Memory=65.27GB VCores=2  \n",
    "  \n",
    "08:EXCHANGE [UNPARTITIONED]  \n",
    "|  \n",
    "07:AGGREGATE [FINALIZE]  \n",
    "|  group by: CAST(coalesce(t0.pos, t1.pos) AS INT), coalesce(t0.ref, t1.ref), coalesce(t0.alt, t1.alt),   coalesce(t0.chrom, t1.chrom)  \n",
    "|  \n",
    "06:EXCHANGE [HASH(CAST(coalesce(t0.pos, t1.pos) AS INT),coalesce(t0.ref, t1.ref),coalesce(t0.alt,   t1.alt),coalesce(t0.chrom, t1.chrom))]  \n",
    "|  \n",
    "03:AGGREGATE  \n",
    "|  group by: CAST(coalesce(t0.pos, t1.pos) AS INT), coalesce(t0.ref, t1.ref), coalesce(t0.alt, t1.alt),   coalesce(t0.chrom, t1.chrom)  \n",
    "|  \n",
    "02:HASH JOIN [FULL OUTER JOIN, PARTITIONED]  \n",
    "|  hash predicates: t1.chrom = t0.chrom, t1.pos = t0.pos, t1.ref = t0.ref, t1.alt = t0.alt  \n",
    "|  \n",
    "|--05:EXCHANGE [HASH(t0.chrom,t0.pos,t0.ref,t0.alt)]  \n",
    "|  |  \n",
    "|  00:SCAN HDFS [p7_product.illumina_distinct t0]  \n",
    "|     partitions=2916/2916 files=2928 size=2.67GB  \n",
    "|  \n",
    "04:EXCHANGE [HASH(t1.chrom,t1.pos,t1.ref,t1.alt)]  \n",
    "|  \n",
    "01:SCAN HDFS [p7_product.comgen_distinct t1]  \n",
    "   partitions=2916/2916 files=5828 size=4.12GB  "
   ]
  },
  {
   "cell_type": "markdown",
   "metadata": {},
   "source": [
    "Result 1: Fetched 1 row(s) in 10.98s  \n",
    "Result 2: Fetched 1 row(s) in 9.99s  \n",
    "Result 3: Fetched 1 row(s) in 9.18s  \n",
    "Average Time: 10.05s  "
   ]
  },
  {
   "cell_type": "code",
   "execution_count": null,
   "metadata": {
    "collapsed": true
   },
   "outputs": [],
   "source": [
    ""
   ]
  }
 ],
 "metadata": {
  "kernelspec": {
   "display_name": "Python 2",
   "language": "python",
   "name": "python2"
  },
  "language_info": {
   "codemirror_mode": {
    "name": "ipython",
    "version": 2.0
   },
   "file_extension": ".py",
   "mimetype": "text/x-python",
   "name": "python",
   "nbconvert_exporter": "python",
   "pygments_lexer": "ipython2",
   "version": "2.7.10"
  }
 },
 "nbformat": 4,
 "nbformat_minor": 0
}