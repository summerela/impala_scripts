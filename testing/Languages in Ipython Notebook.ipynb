{
 "cells": [
  {
   "cell_type": "markdown",
   "metadata": {
    "collapsed": true
   },
   "source": [
    "# Jupyter Notebook with multiple languages"
   ]
  },
  {
   "cell_type": "markdown",
   "metadata": {},
   "source": [
    "## Bash"
   ]
  },
  {
   "cell_type": "code",
   "execution_count": 22,
   "metadata": {
    "collapsed": false
   },
   "outputs": [
    {
     "name": "stdout",
     "output_type": "stream",
     "text": [
      "total 1168\r\n",
      "-rw-r--r--  1 selasady  ISB\\Domain Users    3533 Apr 19 16:37 Languages in Ipython Notebook.ipynb\r\n",
      "-rw-r--r--  1 selasady  ISB\\Domain Users  222231 Feb 26  2015 cg_test.vcf.gz\r\n",
      "-rw-r--r--  1 selasady  ISB\\Domain Users    2356 Mar 25  2015 parse_uniprot_dat.py\r\n",
      "-rw-r--r--  1 selasady  ISB\\Domain Users  276684 Nov 30 15:41 sample.txt\r\n",
      "-rw-r--r--  1 selasady  ISB\\Domain Users       0 Mar 18  2015 selected.dat\r\n",
      "-rw-r--r--  1 selasady  ISB\\Domain Users       0 Mar 19  2015 uniprot_converted.tsv\r\n",
      "-rw-r--r--  1 selasady  ISB\\Domain Users   79257 Mar 18  2015 uniprot_test.xml\r\n",
      "-rw-r--r--  1 selasady  ISB\\Domain Users     578 Mar 19  2015 xml_parsing.py\r\n"
     ]
    }
   ],
   "source": [
    "#let's see if we have a test file in this directory using bash\n",
    "!ls -l"
   ]
  },
  {
   "cell_type": "markdown",
   "metadata": {},
   "source": [
    "## Python"
   ]
  },
  {
   "cell_type": "code",
   "execution_count": 23,
   "metadata": {
    "collapsed": false
   },
   "outputs": [
    {
     "name": "stdout",
     "output_type": "stream",
     "text": [
      "  chrom       pos           id ref alt\n",
      "0     7  84213012  rs374919063  AT   A\n",
      "1     9  38099122  rs139480627   G   A\n",
      "2    16  20972837  rs544545312   A   T\n",
      "3    10  74260998  rs182424094   G   C\n",
      "4    14  52335444  rs572942845   A   T\n"
     ]
    }
   ],
   "source": [
    "import pandas as pd\n",
    "\n",
    "# read in text as dataframe with python/pandas\n",
    "test_df = pd.read_csv(\"/Users/selasady/testing/sample.txt\", sep='\\t', names=['chrom', 'pos', 'id', 'ref', 'alt'])\n",
    "print(test_df.head(5))"
   ]
  },
  {
   "cell_type": "markdown",
   "metadata": {},
   "source": [
    "# Magic"
   ]
  },
  {
   "cell_type": "code",
   "execution_count": 47,
   "metadata": {
    "collapsed": false
   },
   "outputs": [],
   "source": [
    "# first run 'pip install rpy2' or 'pip3 install rpy2' then...\n",
    "\n",
    "# first we must load the ability to use magic commands\n",
    "%load_ext rpy2.ipython\n",
    "import rpy2.ipython as rpy2"
   ]
  },
  {
   "cell_type": "markdown",
   "metadata": {},
   "source": [
    "## R"
   ]
  },
  {
   "cell_type": "code",
   "execution_count": 88,
   "metadata": {
    "collapsed": false
   },
   "outputs": [
    {
     "data": {
      "text/html": [
       "<div>\n",
       "<table border=\"1\" class=\"dataframe\">\n",
       "  <thead>\n",
       "    <tr style=\"text-align: right;\">\n",
       "      <th></th>\n",
       "      <th>Chrom</th>\n",
       "      <th>Pos</th>\n",
       "      <th>Id</th>\n",
       "      <th>Ref</th>\n",
       "      <th>Alt</th>\n",
       "    </tr>\n",
       "  </thead>\n",
       "  <tbody>\n",
       "    <tr>\n",
       "      <th>0</th>\n",
       "      <td>7</td>\n",
       "      <td>84213012</td>\n",
       "      <td>rs374919063</td>\n",
       "      <td>AT</td>\n",
       "      <td>A</td>\n",
       "    </tr>\n",
       "    <tr>\n",
       "      <th>1</th>\n",
       "      <td>9</td>\n",
       "      <td>38099122</td>\n",
       "      <td>rs139480627</td>\n",
       "      <td>G</td>\n",
       "      <td>A</td>\n",
       "    </tr>\n",
       "    <tr>\n",
       "      <th>2</th>\n",
       "      <td>16</td>\n",
       "      <td>20972837</td>\n",
       "      <td>rs544545312</td>\n",
       "      <td>A</td>\n",
       "      <td>T</td>\n",
       "    </tr>\n",
       "    <tr>\n",
       "      <th>3</th>\n",
       "      <td>10</td>\n",
       "      <td>74260998</td>\n",
       "      <td>rs182424094</td>\n",
       "      <td>G</td>\n",
       "      <td>C</td>\n",
       "    </tr>\n",
       "    <tr>\n",
       "      <th>4</th>\n",
       "      <td>14</td>\n",
       "      <td>52335444</td>\n",
       "      <td>rs572942845</td>\n",
       "      <td>A</td>\n",
       "      <td>T</td>\n",
       "    </tr>\n",
       "    <tr>\n",
       "      <th>5</th>\n",
       "      <td>3</td>\n",
       "      <td>79500880</td>\n",
       "      <td>rs144742418</td>\n",
       "      <td>G</td>\n",
       "      <td>A</td>\n",
       "    </tr>\n",
       "  </tbody>\n",
       "</table>\n",
       "</div>"
      ],
      "text/plain": [
       "  Chrom       Pos           Id Ref Alt\n",
       "0     7  84213012  rs374919063  AT   A\n",
       "1     9  38099122  rs139480627   G   A\n",
       "2    16  20972837  rs544545312   A   T\n",
       "3    10  74260998  rs182424094   G   C\n",
       "4    14  52335444  rs572942845   A   T\n",
       "5     3  79500880  rs144742418   G   A"
      ]
     },
     "execution_count": 88,
     "metadata": {},
     "output_type": "execute_result"
    }
   ],
   "source": [
    "# lets see if we can pass this dataframe to R\n",
    "%R -i test_df  -o test_df\n",
    "%R proper=function(x) paste0(toupper(substr(x, 1, 1)), tolower(substring(x, 2)))\n",
    "%R colnames(test_df) = proper(colnames(test_df))\n",
    "%R head(test_df)"
   ]
  },
  {
   "cell_type": "code",
   "execution_count": 82,
   "metadata": {
    "collapsed": false
   },
   "outputs": [
    {
     "name": "stderr",
     "output_type": "stream",
     "text": [
      "Where's the dataframe? No such file or directory at - line 1.\n"
     ]
    }
   ],
   "source": [
    "%%perl\n",
    "open IN, test_df or die \"Where's the dataframe? $!\";\n",
    "my $cnt = 0;\n",
    "while (<IN>) {\n",
    "  print $_;\n",
    "  last if $cnt > 5;\n",
    "  $cnt++\n",
    "}\n",
    "close IN;"
   ]
  },
  {
   "cell_type": "code",
   "execution_count": null,
   "metadata": {
    "collapsed": true
   },
   "outputs": [],
   "source": []
  }
 ],
 "metadata": {
  "kernelspec": {
   "display_name": "Python 3",
   "language": "python",
   "name": "python3"
  },
  "language_info": {
   "codemirror_mode": {
    "name": "ipython",
    "version": 3
   },
   "file_extension": ".py",
   "mimetype": "text/x-python",
   "name": "python",
   "nbconvert_exporter": "python",
   "pygments_lexer": "ipython3",
   "version": "3.5.1"
  }
 },
 "nbformat": 4,
 "nbformat_minor": 0
}
