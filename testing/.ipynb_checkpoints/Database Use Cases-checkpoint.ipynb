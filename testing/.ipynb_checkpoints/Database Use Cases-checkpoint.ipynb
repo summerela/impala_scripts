{
 "cells": [
  {
   "cell_type": "markdown",
   "metadata": {},
   "source": [
    "# Database Use Cases"
   ]
  },
  {
   "cell_type": "markdown",
   "metadata": {},
   "source": [
    "## Test 1: Calculate Allele Frequency"
   ]
  },
  {
   "cell_type": "markdown",
   "metadata": {},
   "source": [
    "with t AS\n",
    "      (\n",
    "      SELECT COUNT(DISTINCT subject_id) * 2 AS n_total FROM p7_staging.two_row_varid\n",
    "      ),\n",
    "   -- group variants in subset by position using var_id and\n",
    "   -- count number of times each variant occurs\n",
    "   vars AS\n",
    "      (\n",
    "        SELECT var_id, count(var_id) as var_count\n",
    "        FROM p7_staging.two_row_varid\n",
    "        GROUP BY var_id\n",
    "      )\n",
    "   -- divide the number of times each variant occurs\n",
    "   -- by the total number of samples\n",
    "SELECT vars.*, vars.var_count/t.n_total AS freq\n",
    "  FROM vars, t"
   ]
  },
  {
   "cell_type": "markdown",
   "metadata": {},
   "source": [
    "Results: "
   ]
  },
  {
   "cell_type": "markdown",
   "metadata": {},
   "source": [
    "## Test 2: Extract all variants in Exon 5 of BRCA1 transcript."
   ]
  },
  {
   "cell_type": "markdown",
   "metadata": {},
   "source": [
    "-- create view with annotations for all brca1 genes\n",
    "create view p7_product.brca1 as \n",
    "select * \n",
    "from p7_product.dbnsfp_vars \n",
    "where gene_name LIKE '%BRCA1%'\n",
    "and chrom = '17'\n",
    "and pos_block = 41;"
   ]
  },
  {
   "cell_type": "markdown",
   "metadata": {},
   "source": [
    "Results: .04 seconds"
   ]
  },
  {
   "cell_type": "markdown",
   "metadata": {},
   "source": [
    "### Find all Illumina Variants in BRCA1 exon 5"
   ]
  },
  {
   "cell_type": "code",
   "execution_count": null,
   "metadata": {
    "collapsed": true
   },
   "outputs": [],
   "source": [
    "-- find all illumina variants in brca1 exon 5\n",
    "select ill.subject_id, b.*\n",
    "from p7_platform.wgs_illumina_variant ill, p7_product.brca1 b\n",
    "where ill.chrom = b.chrom\n",
    "and ill.pos = b.pos\n",
    "and ill.ref = b.ref\n",
    "and ill.alt = b.alt\n",
    "and ill.chrom = '17'\n",
    "and b.chrom = '17'\n",
    "and b.exon_number = 5"
   ]
  },
  {
   "cell_type": "markdown",
   "metadata": {},
   "source": [
    "Results:  4.72s\n",
    "View Creation + Query = 4.76 seconds\n",
    "Expected = 60 seconds\n",
    "Time under expected = 55.24"
   ]
  },
  {
   "cell_type": "markdown",
   "metadata": {},
   "source": [
    "## Test 3: Extract all PPC variants in BRCA2 with HGMD and ClinVar annotations"
   ]
  },
  {
   "cell_type": "code",
   "execution_count": null,
   "metadata": {
    "collapsed": true
   },
   "outputs": [],
   "source": [
    "-- create view of all PPC BRCA2 variants with annotations\n"
   ]
  },
  {
   "cell_type": "markdown",
   "metadata": {},
   "source": [
    "## Test 4: Find all variants in BRCA2 that are in ClinVar or HGMD."
   ]
  },
  {
   "cell_type": "code",
   "execution_count": null,
   "metadata": {
    "collapsed": true
   },
   "outputs": [],
   "source": [
    "import pandas as pd\n",
    "from impala.dbapi import connect\n",
    "import time\n",
    "import csv\n",
    "import subprocess\n",
    "import numpy as np\n",
    "from impala.util import as_pandas\n",
    "import os\n",
    "\n",
    "# disable extraneous pandas warning\n",
    "pd.options.mode.chained_assignment = None\n",
    "\n",
    "## create connection to impala\n",
    "conn=connect(host=impala_host, port=impala_port, timeout=10000, user=impala_user_name)\n",
    "cur = conn.cursor()\n",
    "\n",
    "out_name = 'admix_test'\n",
    "\n",
    "# create vcf header\n",
    "def create_header(outfile_name):\n",
    "   # create vcf header\n",
    "    lines=[]\n",
    "    lines.append('##fileformat=VCFv4.0')\n",
    "    lines.append('##fileDate='+ time.strftime(\"%y%m%d\"))\n",
    "    lines.append('##reference=grch37 v.74')\n",
    "    lines.append('#CHROM\\t' + 'POS\\t' + 'ID\\t' + 'REF\\t' + 'ALT\\t' + 'QUAL\\t' + 'FILTER\\t' + 'INFO\\t' + 'FORMAT\\t' + \\\n",
    "             '102-01122-03\\t' + '\\n')\n",
    "    header = '\\n'.join(lines)\n",
    "    out = open(outfile_name, 'wb')\n",
    "    out.write(header)\n",
    "    out.close()\n",
    "\n",
    "### download variants that are not intergenic\n",
    "def create_vcf(db_name, table_name, chrom_name):\n",
    "    print \"Looking for variants in chromosome {}... \\n\".format(chrom_name)\n",
    "    # create named file for each chromosome\n",
    "    vcf_out = 'chr' + chrom_name + '_' + out_name + '.vcf'\n",
    "    # connect to vars_to_snpeff table\n",
    "    gene_vars = '''\n",
    "    with vars as (\n",
    "    select chrom, pos, id, ref, alt, qual, filter, '.' as info, 'GT:' as 'format', gt as '102-01122-03'\n",
    "    from p7_platform.wgs_illumina_variant\n",
    "    where subject_id = '102-01122-03'\n",
    "    )\n",
    "   select distinct * \n",
    "   from vars\n",
    "   order by rand()\n",
    "   limit 10000 order by pos\"    \n",
    "    ''' \n",
    "    cur.execute(gene_vars)\n",
    "    vars = as_pandas(cur)\n",
    "    # write variants to file\n",
    "    if len(vars) > 0:\n",
    "        print \"Creating VCF files for chromosome {}... \\n\".format(chrom_name)\n",
    "        create_header(vcf_out)\n",
    "        vars.to_csv(vcf_out, sep='\\t', index=None, mode='a', header=False)\n",
    "    else:\n",
    "        print \"No variants found for chromosome {} \\n\".format(chrom_name)\n",
    "        \n",
    "\n"
   ]
  },
  {
   "cell_type": "code",
   "execution_count": null,
   "metadata": {
    "collapsed": true
   },
   "outputs": [],
   "source": []
  }
 ],
 "metadata": {
  "kernelspec": {
   "display_name": "Python 2",
   "language": "python",
   "name": "python2"
  },
  "language_info": {
   "codemirror_mode": {
    "name": "ipython",
    "version": 2
   },
   "file_extension": ".py",
   "mimetype": "text/x-python",
   "name": "python",
   "nbconvert_exporter": "python",
   "pygments_lexer": "ipython2",
   "version": "2.7.10"
  }
 },
 "nbformat": 4,
 "nbformat_minor": 0
}
