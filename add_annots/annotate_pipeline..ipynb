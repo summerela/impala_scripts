{
 "cells": [
  {
   "cell_type": "markdown",
   "metadata": {},
   "source": [
    "# Impala Annotation Pipeline"
   ]
  },
  {
   "cell_type": "markdown",
   "metadata": {},
   "source": [
    "This pipeline begins with the existing table of distcinct variants found on impala and will be modified for adding new variants. "
   ]
  },
  {
   "cell_type": "markdown",
   "metadata": {},
   "source": [
    "## Connect to Required Impala Tables"
   ]
  },
  {
   "cell_type": "code",
   "execution_count": 49,
   "metadata": {
    "collapsed": false
   },
   "outputs": [],
   "source": [
    "from impala.dbapi import connect\n",
    "from impala.util import as_pandas\n",
    "import pandas as pd\n",
    "import sys\n",
    "sys.path.append('/Users/selasady/impala_scripts/parse_impala.py')\n",
    "import time\n",
    "import csv\n",
    "import os\n",
    "import subprocess as subp"
   ]
  },
  {
   "cell_type": "markdown",
   "metadata": {},
   "source": [
    "## Pull down distinct variant table from imapala"
   ]
  },
  {
   "cell_type": "code",
   "execution_count": 4,
   "metadata": {
    "collapsed": true
   },
   "outputs": [],
   "source": [
    "# query to left join nbs_annotated variants with DANN scores\n",
    "distinct_query = \"\"\"\n",
    "    SELECT DISTINCT * FROM users_selasady.distinct_test\n",
    "    \"\"\"\n",
    "# run query on impala\n",
    "conn=connect(host='glados19', port=21050, timeout=120)\n",
    "cur = conn.cursor()\n",
    "cur.execute(distinct_query)\n",
    "\n",
    "# store results as pandas data frame\n",
    "distinct_df = as_pandas(cur)\n",
    "cur.close()\n",
    "conn.close()"
   ]
  },
  {
   "cell_type": "markdown",
   "metadata": {},
   "source": [
    "## Save impala table as VCF"
   ]
  },
  {
   "cell_type": "code",
   "execution_count": 55,
   "metadata": {
    "collapsed": false
   },
   "outputs": [
    {
     "name": "stdout",
     "output_type": "stream",
     "text": [
      "  chrom        pos ref alt           var_id\n",
      "0    15   25207797   C   T  15:25207797:C:T\n",
      "1    16    7162330   A   T   16:7162330:A:T\n",
      "2     4  146853510   C   T  4:146853510:C:T\n",
      "3    13   58314331   G   T  13:58314331:G:T\n",
      "4     1  161484124   A   C  1:161484124:A:C\n"
     ]
    }
   ],
   "source": [
    "# view table structure\n",
    "print distinct_df.head()"
   ]
  },
  {
   "cell_type": "code",
   "execution_count": 52,
   "metadata": {
    "collapsed": false
   },
   "outputs": [],
   "source": [
    "# disable extraneous pandas warning\n",
    "pd.options.mode.chained_assignment = None\n",
    "\n",
    "# create vcf header  \n",
    "pimp.create_header('test.vcf')\n",
    "\n",
    "# crate vcf file\n",
    "pimp.impala_to_vcf(distinct_df, 'test.vcf')"
   ]
  },
  {
   "cell_type": "markdown",
   "metadata": {},
   "source": [
    "## Run VCF Through SnpEff"
   ]
  },
  {
   "cell_type": "code",
   "execution_count": 53,
   "metadata": {
    "collapsed": true
   },
   "outputs": [],
   "source": [
    "# Run VCF through SnpEff\n",
    "def vcf_to_snpeff(input_vcf, snpeff_path, vcf_name, out_name):\n",
    "    if os.path.exists(snpeff_path):\n",
    "        # command to run snpeff\n",
    "        snpeff_cmd = 'java -Xmx4g -jar {}  -t -v -noStats GRCh37.74 {} > {}_snpeff.vcf'.format(\n",
    "            snpeff_path, vcf_name, out_name)\n",
    "        # run snpeff on vcf file\n",
    "        snpeff_process = subp.Popen(snpeff_cmd, shell=True)\n",
    "        snpeff_process.wait()\n",
    "    else:\n",
    "        print \"Make sure you entered the correct path to snpEff.jar\"\n",
    "\n",
    "# path to snpeff jar\n",
    "snpeff_path = '/Users/selasady/tools/snpEff/snpEff.jar'   \n",
    "vcf_to_snpeff(distinct_df, snpeff_path, './test.vcf', 'annotated.vcf')"
   ]
  },
  {
   "cell_type": "markdown",
   "metadata": {},
   "source": [
    "## Convert VCF to BED/BIM/FAM"
   ]
  },
  {
   "cell_type": "code",
   "execution_count": null,
   "metadata": {
    "collapsed": true
   },
   "outputs": [],
   "source": []
  }
 ],
 "metadata": {
  "kernelspec": {
   "display_name": "Python 2",
   "language": "python",
   "name": "python2"
  },
  "language_info": {
   "codemirror_mode": {
    "name": "ipython",
    "version": 2
   },
   "file_extension": ".py",
   "mimetype": "text/x-python",
   "name": "python",
   "nbconvert_exporter": "python",
   "pygments_lexer": "ipython2",
   "version": "2.7.9"
  }
 },
 "nbformat": 4,
 "nbformat_minor": 0
}
