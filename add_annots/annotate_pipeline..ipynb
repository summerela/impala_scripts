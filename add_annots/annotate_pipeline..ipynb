{
 "worksheets": [
  {
   "cells": [
    {
     "cell_type": "heading",
     "metadata": {},
     "level": 1,
     "source": [
      "Impala Annotation Pipeline"
     ]
    },
    {
     "cell_type": "markdown",
     "metadata": {},
     "source": [
      "This pipeline begins with the existing table of distcinct variants found on impala and will be modified for adding new variants. "
     ]
    },
    {
     "cell_type": "heading",
     "metadata": {},
     "level": 2,
     "source": [
      "Read in Distinct Variants"
     ]
    },
    {
     "cell_type": "code",
     "execution_count": null,
     "metadata": {},
     "outputs": [],
     "input": [
      "from impala.dbapi import connect\n",
      "from impala.util import as_pandas"
     ],
     "language": "python",
     "prompt_number": 1
    },
    {
     "cell_type": "code",
     "execution_count": null,
     "metadata": {},
     "outputs": [],
     "input": [
      "# select all distinct variants\n",
      "get_distinct_query = \"\"\"\n",
      "    SELECT * FROM users_selasady.distinct_test\n",
      "    \"\"\"\n",
      "# run query on impala\n",
      "conn=connect(host='glados19', port=21050, timeout=120)\n",
      "cur = conn.cursor()\n",
      "cur.execute(get_distinct_query)\n",
      "\n",
      "# store results as pandas data frame\n",
      "distinct_df = as_pandas(cur)\n",
      "cur.close()\n",
      "conn.close()"
     ],
     "language": "python",
     "prompt_number": 4
    },
    {
     "cell_type": "code",
     "execution_count": null,
     "metadata": {},
     "outputs": [
      {
       "output_type": "stream",
       "stream": "stdout",
       "text": [
        "10000 distinct variants downloaded from impala.\n"
       ]
      }
     ],
     "input": [
      "print str(len(distinct_df)) + ' distinct variants downloaded from impala.'"
     ],
     "language": "python",
     "prompt_number": 9
    },
    {
     "cell_type": "code",
     "execution_count": null,
     "metadata": {},
     "outputs": [
      {
       "output_type": "stream",
       "stream": "stdout",
       "text": [
        "['1' '10' '11' '12' '13' '14' '15' '16' '17' '18' '19' '2' '20' '21' '22'\n '3' '4' '5' '6' '7' '8' '9' 'X' 'Y']\n"
       ]
      }
     ],
     "input": [
      "# sort the dataframe\n",
      "distinct_df.sort(columns=['chrom'], inplace=True)\n",
      "# set the index to chrom\n",
      "distinct_df.set_index(keys=['chrom'], drop=False,inplace=True)\n",
      "# get a list of chromosomes\n",
      "names=distinct_df['chrom'].unique()"
     ],
     "language": "python",
     "prompt_number": 7
    },
    {
     "cell_type": "code",
     "execution_count": null,
     "metadata": {},
     "outputs": [],
     "input": [
      ""
     ],
     "language": "python"
    }
   ]
  }
 ],
 "cells": [],
 "metadata": {},
 "nbformat": 3,
 "nbformat_minor": 0
}